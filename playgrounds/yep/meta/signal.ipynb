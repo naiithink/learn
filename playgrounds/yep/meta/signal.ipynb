{
 "cells": [
  {
   "cell_type": "markdown",
   "metadata": {},
   "source": [
    "```\n",
    "      Name             Default Action       Description\n",
    "1     SIGHUP           terminate process    terminal line hangup\n",
    "2     SIGINT           terminate process    interrupt program\n",
    "3     SIGQUIT          create core image    quit program\n",
    "4     SIGILL           create core image    illegal instruction\n",
    "5     SIGTRAP          create core image    trace trap\n",
    "6     SIGABRT          create core image    abort program (formerly SIGIOT)\n",
    "7     SIGEMT           create core image    emulate instruction executed\n",
    "8     SIGFPE           create core image    floating-point exception\n",
    "9     SIGKILL          terminate process    kill program\n",
    "10    SIGBUS           create core image    bus error\n",
    "11    SIGSEGV          create core image    segmentation violation\n",
    "12    SIGSYS           create core image    non-existent system call invoked\n",
    "13    SIGPIPE          terminate process    write on a pipe with no reader\n",
    "14    SIGALRM          terminate process    real-time timer expired\n",
    "15    SIGTERM          terminate process    software termination signal\n",
    "16    SIGURG           discard signal       urgent condition present on socket\n",
    "17    SIGSTOP          stop process         stop (cannot be caught or ignored)\n",
    "18    SIGTSTP          stop process         stop signal generated from keyboard\n",
    "19    SIGCONT          discard signal       continue after stop\n",
    "20    SIGCHLD          discard signal       child status has changed\n",
    "21    SIGTTIN          stop process         background read attempted from control terminal\n",
    "22    SIGTTOU          stop process         background write attempted to control terminal\n",
    "23    SIGIO            discard signal       I/O is possible on a descriptor (see fcntl(2))\n",
    "24    SIGXCPU          terminate process    cpu time limit exceeded (see setrlimit(2))\n",
    "25    SIGXFSZ          terminate process    file size limit exceeded (see setrlimit(2))\n",
    "26    SIGVTALRM        terminate process    virtual time alarm (see setitimer(2))\n",
    "27    SIGPROF          terminate process    profiling timer alarm (see setitimer(2))\n",
    "28    SIGWINCH         discard signal       Window size change\n",
    "29    SIGINFO          discard signal       status request from keyboard\n",
    "30    SIGUSR1          terminate process    User defined signal 1\n",
    "31    SIGUSR2          terminate process    User defined signal 2\n",
    "```"
   ]
  }
 ],
 "metadata": {
  "language_info": {
   "name": "python"
  },
  "orig_nbformat": 4
 },
 "nbformat": 4,
 "nbformat_minor": 2
}
