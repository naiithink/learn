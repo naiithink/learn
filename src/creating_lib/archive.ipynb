{
    "cells": [
        {
            "cell_type": "markdown",
            "metadata": {},
            "source": [
                "# The `ar(1)` Utility Program"
            ]
        },
        {
            "cell_type": "markdown",
            "metadata": {},
            "source": [
                "### macOS\n",
                "\n",
                "`ar` – create and maintain library archives\n",
                "\n",
                "Useful options:\n",
                "\n",
                "| opt | description |\n",
                "| :-: | :---------- |\n",
                "| `-r` | Replace or add the specified files to the archive.<br />If the archive does not exist a new archive file is created.<br />Files that replace existing files do not change the order of the files within the archive.<br />New files are appended to the archive unless one of the options `-a`, `-b` or `-i` is specified. |\n",
                "| `-m` | Move the specified archive files within the archive.<br />If one of the options `-a`, `-b` or `-i` are specified, the files are moved before or after the position file in the archive.<br />If none of those options are specified, the files are moved to the end of the archive. |\n",
                "| `-a` | A positioning modifier used with the options `-r` and `-m`.<br />The files are entered or moved after the archive member position, which must be specified. |\n",
                "| `-b` | A positioning modifier used with the options `-r` and `-m`.<br />The files are entered or moved before the archive member position, which must be specified. |\n",
                "| `-i` | Identical to the `-b` option. |\n",
                "| `-d` | Delete the specified archive files. |"
            ]
        },
        {
            "cell_type": "markdown",
            "metadata": {},
            "source": [
                "### Linux"
            ]
        },
        {
            "cell_type": "code",
            "execution_count": null,
            "metadata": {},
            "outputs": [],
            "source": []
        }
    ],
    "metadata": {
        "language_info": {
            "name": "c"
        },
        "orig_nbformat": 4
    },
    "nbformat": 4,
    "nbformat_minor": 2
}
