{
 "cells": [
  {
   "cell_type": "code",
   "execution_count": 13,
   "metadata": {},
   "outputs": [
    {
     "name": "stdout",
     "output_type": "stream",
     "text": [
      "Val of 'base.First' is 1\n",
      "ID of 'base.First' is 4344578416\n",
      "ID of 'First' is 4402098992\n",
      "4344578416\n",
      "4342538504\n"
     ]
    }
   ],
   "source": [
    "base = {\n",
    "    \"First\": \"1\",\n",
    "    \"Second\": \"2\",\n",
    "    \"Third\": \"3\"\n",
    "}\n",
    "\n",
    "print(f\"Val of 'base.First' is {base.get(\"First\")}\")\n",
    "print(\"ID of 'base.First' is\", id(base.get(\"First\")))\n",
    "print(\"ID of 'First' is\", id(\"First\"))\n",
    "print(id(\"1\"))\n",
    "print(id(1))"
   ]
  },
  {
   "cell_type": "code",
   "execution_count": 53,
   "metadata": {},
   "outputs": [
    {
     "name": "stdout",
     "output_type": "stream",
     "text": [
      "4480989120\n",
      "4480989120\n",
      "Hello\n",
      "4342538504 0x102d5e108\n",
      "4342538536 0x102d5e128\n",
      "4342538504 0x102d5e108\n",
      "4480987632 0x10b1671f0\n",
      "138449128\n"
     ]
    }
   ],
   "source": [
    "pool = {\":D\": \"Hello\", \";D\": \"World\"}\n",
    "print(id(pool))\n",
    "\n",
    "pool[\":(\"] = \"!\"\n",
    "print(id(pool))\n",
    "\n",
    "popp = pool[\":D\"]\n",
    "\n",
    "word = \"Hello\"\n",
    "\n",
    "print(word)\n",
    "\n",
    "x = 1\n",
    "print(id(x), hex(id(x)))\n",
    "\n",
    "x += 1\n",
    "print(id(x), hex(id(x)))\n",
    "\n",
    "x -= 1\n",
    "print(id(x), hex(id(x)))\n",
    "d = id(x)\n",
    "\n",
    "x = str(x)\n",
    "print(id(x), hex(id(x)))\n",
    "e = id(x)\n",
    "\n",
    "print(e - d)"
   ]
  },
  {
   "cell_type": "code",
   "execution_count": 55,
   "metadata": {},
   "outputs": [
    {
     "name": "stdout",
     "output_type": "stream",
     "text": [
      "['Hello', 'World']\n"
     ]
    }
   ],
   "source": [
    "h = \" Hello World\"\n",
    "print(h.split(\"\"))"
   ]
  }
 ],
 "metadata": {
  "interpreter": {
   "hash": "31f2aee4e71d21fbe5cf8b01ff0e069b9275f58929596ceb00d14d90e3e16cd6"
  },
  "kernelspec": {
   "display_name": "Python 3.8.9 64-bit",
   "name": "python3"
  },
  "language_info": {
   "codemirror_mode": {
    "name": "ipython",
    "version": 3
   },
   "file_extension": ".py",
   "mimetype": "text/x-python",
   "name": "python",
   "nbconvert_exporter": "python",
   "pygments_lexer": "ipython3",
   "version": "3.8.9"
  },
  "orig_nbformat": 4
 },
 "nbformat": 4,
 "nbformat_minor": 2
}
