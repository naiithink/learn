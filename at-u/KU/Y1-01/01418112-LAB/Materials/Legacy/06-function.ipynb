{
 "cells": [
  {
   "cell_type": "markdown",
   "source": [
    "# Function (ฟังก์ชัน) #"
   ],
   "metadata": {
    "collapsed": true,
    "slideshow": {
     "slide_type": "slide"
    }
   }
  },
  {
   "cell_type": "markdown",
   "source": [
    "Function เป็นโปรแกรมย่อยที่มีการทำงานบางอย่างเพื่อช่วยเหลือโปรแกรมหลัก หรือช่วยฟังก์ชันอื่น\n",
    "\n",
    "เราจะเขียนฟังก์ชันเมื่อมีการทำงานที่ต้องการเรียกใช้บ่อย โดยแยกส่วนการทำงานที่ต้องการใช้ซ้ำออกไปเป็นฟังก์ชัน เมื่อโปรแกรมมีการเรียกใช้ฟังก์ชัน โปรแกรมจะกระโดดไปทำฟังก์ชันนั้นจนเสร็จ แล้วกลับมาทำงานต่อจากจุดเดิมที่เรียกฟังก์ชัน\n",
    "\n",
    "การเรียกใช้ฟังก์ชัน อาจมีการส่งค่าบางอย่างไปให้ หรือไม่ส่งค่าก็ได้ \n",
    "\n",
    "การทำงานภายในฟังก์ชันอาจจบในตัวเอง หรือคืนค่าบางอย่างกลับมาก็ได้"
   ],
   "metadata": {
    "slideshow": {
     "slide_type": "slide"
    }
   }
  },
  {
   "cell_type": "markdown",
   "source": [
    "## ประเภทของฟังก์ชัน ##\n",
    "\n",
    "ฟังก์ชันอาจแบ่งได้เป็น 2 ประเภท ดังนี้\n",
    "\n",
    "1. built-in function คือ ฟังก์ชันที่มีอยู่แล้วในตัวภาษา เช่น ฟังก์ชัน `input()`, `int()`, `print()` เป็นต้น\n",
    "2. pre-defined function คือ ฟังก์ชันที่เขียนขึ้นเอง"
   ],
   "metadata": {}
  },
  {
   "cell_type": "markdown",
   "source": [
    "### max() หาค่าที่มากที่สุด ###"
   ],
   "metadata": {}
  },
  {
   "cell_type": "code",
   "execution_count": null,
   "source": [
    "print( max(5, 10, 15) )\r\n",
    "print( max(-1.5, -14.3, 0, -1, 2.8, -6) )"
   ],
   "outputs": [],
   "metadata": {}
  },
  {
   "cell_type": "code",
   "execution_count": null,
   "source": [
    "m = max( 'x', 'c', 'v', 'd', 'j' )\r\n",
    "print(m)"
   ],
   "outputs": [],
   "metadata": {}
  },
  {
   "cell_type": "code",
   "execution_count": null,
   "source": [
    "m = max('Fundamentals', 'Programming', 'Concepts')\r\n",
    "print(m)"
   ],
   "outputs": [],
   "metadata": {}
  },
  {
   "cell_type": "code",
   "execution_count": null,
   "source": [
    "print( max('-1.5', '-14.3', '0', '-1', '2.8', '-6') )"
   ],
   "outputs": [],
   "metadata": {}
  },
  {
   "cell_type": "markdown",
   "source": [
    "### min() หาค่าที่น้อยที่สุด ###"
   ],
   "metadata": {}
  },
  {
   "cell_type": "code",
   "execution_count": null,
   "source": [
    "print( min(5, 10, 15) )\n",
    "print( min(-1.5, -14.3, 0, -1, 2.8, -6) )"
   ],
   "outputs": [],
   "metadata": {}
  },
  {
   "cell_type": "code",
   "execution_count": null,
   "source": [
    "m = min( 'x', 'c', 'v', 'd', 'j' )\n",
    "print(m)"
   ],
   "outputs": [],
   "metadata": {}
  },
  {
   "cell_type": "code",
   "execution_count": null,
   "source": [
    "m = min('Fundamentals', 'Programming', 'Concepts')\n",
    "print(m)"
   ],
   "outputs": [],
   "metadata": {}
  },
  {
   "cell_type": "code",
   "execution_count": null,
   "source": [
    "print( min('-1.5', '-14.3', '0', '-1', '2.8', '-6') )"
   ],
   "outputs": [],
   "metadata": {}
  },
  {
   "cell_type": "markdown",
   "source": [
    "### len() หาความยาวของสตริง ###"
   ],
   "metadata": {}
  },
  {
   "cell_type": "code",
   "execution_count": null,
   "source": [
    "length = len('Fundamentals Programming Concepts')\n",
    "print(length)"
   ],
   "outputs": [],
   "metadata": {}
  },
  {
   "cell_type": "code",
   "execution_count": null,
   "source": [
    "print( len('0123456789' * 10) )"
   ],
   "outputs": [],
   "metadata": {}
  },
  {
   "cell_type": "markdown",
   "source": [
    "## ห้องทดลอง 🔬 ##\n",
    "\n",
    "ถ้านำชื่อฟังก์ชัน มาใช้เป็นชื่อตัวแปร จะเป็นอย่างไร"
   ],
   "metadata": {}
  },
  {
   "cell_type": "markdown",
   "source": [
    "### (Your Turn) 🌱 ###\n",
    "\n",
    "📃 เขียนโปรแกรมเพื่อรับข้อมูลเข้าเป็นสตริง และหยุดรับข้อมูลเมื่อเป็นคำว่า exit แล้วหาว่าสตริงใดที่มีความยาวมากที่สุด แสดงสตริงดังกล่าว"
   ],
   "metadata": {}
  },
  {
   "cell_type": "code",
   "execution_count": null,
   "source": [
    "a = \"\"\n",
    "\n",
    "while True:\n",
    "    s = input()\n",
    "    if s == \"exit\":\n",
    "        break\n",
    "    if len(s) > len(a):\n",
    "        a = s\n",
    "print(a, len(a))\n"
   ],
   "outputs": [],
   "metadata": {}
  },
  {
   "cell_type": "markdown",
   "source": [
    "-----\n",
    "\n",
    "-----"
   ],
   "metadata": {}
  },
  {
   "cell_type": "markdown",
   "source": [
    "## Function Definition (การนิยามฟังก์ชัน) ##\n",
    "\n",
    "```python\n",
    "def function_name(parameter1, parameter2, ..., parameterN):\n",
    "    # Process 1\n",
    "    # Process 2\n",
    "    # ...\n",
    "    # Process N\n",
    "    return some_data\n",
    "```"
   ],
   "metadata": {}
  },
  {
   "cell_type": "markdown",
   "source": [
    "ฟังก์ชันมี Input > Process > Output คล้ายโปรแกรมหลัก\n",
    "\n",
    "* Input คือ parameter ที่รับเข้ามาในวงเล็บหลังชื่อฟังก์ชัน ซึ่งจะมี parameter หรือไม่มีก็ได้ จะมีกี่ตัวก็ได้ ถ้ามีมากกว่า 1 ตัว ให้คั่นด้วย comma (,)\n",
    "* Process คือ การทำงานภายในฟังก์ชัน\n",
    "* Output คือ การคืนค่าด้วย keyword `return` ซึ่งจะมีการคืนค่าหรือไม่ก็ได้"
   ],
   "metadata": {}
  },
  {
   "cell_type": "markdown",
   "source": [
    "### การนิยามฟังก์ชันที่ดี ###\n",
    "\n",
    "* ไม่ควรมีการพิมพ์ (คำสั่ง `print()`) ในฟังก์ชัน\n",
    "    * ใช้วิธีการ `return` ค่า เพื่อไปพิมพ์นอกฟังก์ชัน หรือที่โปรแกรมหลัก\n",
    "    * เว้นแต่การพิมพ์นั้น มีไว้เพื่อการ debug ข้อมูล\n",
    "    > debugging หมายถึง การตรวจสอบค่าของข้อมูลในช่วงการพัฒนาโปรแกรม\n",
    "* ไม่ควรเปลี่ยนแปลงค่าของตัวแปรภายนอกฟังก์ชัน\n",
    "    * ไม่ควรใช้ global\n",
    "    * ค่าที่ต้องการเปลี่ยนแปลง ให้ส่งค่าผ่าน parameter แล้ว return ค่าที่เปลี่ยนแปลงแล้วกลับไป\n",
    "* ภายในฟังก์ชัน ควรทำงานกับตัวแปรที่รับมาผ่าน parameter\n",
    "    * เพื่อแยก scope ของฟังก์ชัน ออกจากโปรแกรมหลัก"
   ],
   "metadata": {}
  },
  {
   "cell_type": "markdown",
   "source": [
    "**ตัวอย่างฟังก์ชันคำนวณพื้นที่สามเหลี่ยม**"
   ],
   "metadata": {}
  },
  {
   "cell_type": "code",
   "execution_count": null,
   "source": [
    "\n",
    "\n",
    "def triangle_area(base, height):  # Input ของ function รับผ่าน parameter\n",
    "    area = (1/2) * base * height  # Process\n",
    "    return area                   # Output ของ function ส่งค่าผ่าน return"
   ],
   "outputs": [],
   "metadata": {}
  },
  {
   "cell_type": "markdown",
   "source": [
    "> * ตัวแปรที่ประกาศขึ้นใหม่ใน function เรียกว่า local variable จะไม่ส่งผลกับตัวแปรที่ชื่อซ้ำกันที่อยู่นอกฟังก์ชัน\n",
    "> * เมื่อจบการทำงานของฟังก์ชัน ตัวแปรที่ประกาศในฟังก์ชัน รวมถึง parameter ที่ประกาศในฟังก์ชัน จะหายไป\n",
    "> * parameter เป็นเหมือนตัวแปรที่มี scope ใช้งานในฟังก์ชันเท่านั้น ถือได้ว่าเป็น local variable ด้วย"
   ],
   "metadata": {}
  },
  {
   "cell_type": "markdown",
   "source": [
    "## Function Calling (การเรียกฟังก์ชัน) ##\n",
    "\n",
    "* เรียกโดยส่งจำนวน Parameter ให้เท่ากับตอนนิยามฟังก์ชัน"
   ],
   "metadata": {}
  },
  {
   "cell_type": "markdown",
   "source": [
    "1\\. แบบส่งค่าไปตรง ๆ"
   ],
   "metadata": {}
  },
  {
   "cell_type": "code",
   "execution_count": null,
   "source": [
    "# Function Definition ของ triangle_area()\n",
    "def triangle_area(base, height):  \n",
    "    area = (1/2) * base * height  \n",
    "    return area \n",
    "\n",
    "\n",
    "# ส่วนโปรแกรมหลัก\n",
    "# เรียกฟังก์ชัน triangle_area() โดยส่ง 40 ไปให้ base และ 50 ไปให้ height\n",
    "# แล้วนำค่าที่ return จาก ฟังก์ชัน triangle_area() ไป assign ให้ ตัวแปร area1\n",
    "area1 = triangle_area(40, 50)\n",
    "\n",
    "print('Triangle Area:', area1)"
   ],
   "outputs": [],
   "metadata": {}
  },
  {
   "cell_type": "code",
   "execution_count": null,
   "source": [
    "# Function Definition ของ triangle_area()\n",
    "def triangle_area(base, height):  \n",
    "    area = (1/2) * base * height  \n",
    "    return area \n",
    "\n",
    "\n",
    "# ส่วนโปรแกรมหลัก\n",
    "# เรียกฟังก์ชัน triangle_area() โดยส่ง 40 ไปให้ base และ 50 ไปให้ height\n",
    "# แล้วนำค่าที่ return จาก ฟังก์ชัน triangle_area() ไปแสดงผล\n",
    "\n",
    "print(\"Triangle Area:\", triangle_area(30, 40))"
   ],
   "outputs": [],
   "metadata": {}
  },
  {
   "cell_type": "markdown",
   "source": [
    "2\\. แบบส่งค่าผ่านตัวแปร"
   ],
   "metadata": {}
  },
  {
   "cell_type": "code",
   "execution_count": null,
   "source": [
    "# Function Definition ของ triangle_area()\n",
    "def triangle_area(base, height):  \n",
    "    area = (1/2) * base * height  \n",
    "    return area \n",
    "\n",
    "\n",
    "# ส่วนโปรแกรมหลัก\n",
    "b = float(input(\"Enter base: \"))\n",
    "h = float(input(\"Enter height: \"))\n",
    "\n",
    "# เรียกฟังก์ชัน triangle_area() โดยส่งค่าในตัวแปร b ไปให้ base และ ค่าในตัวแปร h ไปให้ height\n",
    "# แล้วนำค่าที่ return จาก ฟังก์ชัน triangle_area() ไป assign ให้ ตัวแปร area2\n",
    "\n",
    "area2 = triangle_area(b, h)\n",
    "print(\"Triangle Area:\", area2)\n",
    "\n",
    "# หรือนำค่าที่ return จาก ฟังก์ชัน ไปแสดงผลเลย\n",
    "print(\"Triangle Area:\", triangle_area(b, h))"
   ],
   "outputs": [],
   "metadata": {}
  },
  {
   "cell_type": "code",
   "execution_count": null,
   "source": [
    "# Function Definition ของ triangle_area()\n",
    "def triangle_area(base, height):  \n",
    "    area = (1/2) * base * height  \n",
    "    return area \n",
    "\n",
    "\n",
    "# ส่วนโปรแกรมหลัก\n",
    "# ตัวแปรในส่วนโปรแกรมหลัก อาจมีชื่อซ้ำกับใน function ได้ โดยมี scope (อายุของตัวแปร) ต่างกัน\n",
    "base = 200\n",
    "height = 200\n",
    "area = triangle_area(base, height) \n",
    "print(\"Triangle Area:\", area)"
   ],
   "outputs": [],
   "metadata": {}
  },
  {
   "cell_type": "markdown",
   "source": [
    "## ตัวอย่างฟังก์ชันที่ไม่ส่งกลับค่า ##\n",
    "\n",
    "> จะไม่มี return statement"
   ],
   "metadata": {}
  },
  {
   "cell_type": "code",
   "execution_count": null,
   "source": [
    "# parameter ของ Function จะมี scope ภายใน Function นี้เท่านั้น\n",
    "# การเปลี่ยนแปลงค่าของ parameter จะไม่ส่งผลต่อตัวแปรที่อยู่นอกฟังก์ชัน แม้จะมีชื่อเหมือนกัน\n",
    "def increment_and_print(a):       \n",
    "    a = a + 1       \n",
    "    print(\"a in function:\", a)\n",
    "    # ไม่มีคำสั่งในการคืนค่า\n",
    "    "
   ],
   "outputs": [],
   "metadata": {}
  },
  {
   "cell_type": "code",
   "execution_count": null,
   "source": [
    "# ส่วนของ Main Program\n",
    "a = 10\n",
    "increment_and_print(a)  # เรียกฟังก์ชัน increment_and_print() โดยไม่ต้องมีตัวแปรมารับค่า\n",
    "\n",
    "print(\"a in main:\", a) # สังเกตผลลัพธ์ทั้ง 2 บรรทัด"
   ],
   "outputs": [],
   "metadata": {}
  },
  {
   "cell_type": "markdown",
   "source": [
    "## ตัวอย่างฟังก์ชันที่ไม่ดี ##\n",
    "\n",
    "> ฟังก์ชันมีการใช้งานค่าของตัวแปร ที่ไม่ถูกประกาศในฟังก์ชัน"
   ],
   "metadata": {}
  },
  {
   "cell_type": "code",
   "execution_count": null,
   "source": [
    "def print_double_a():\n",
    "    print(\"double a in function:\", a * 2)\n",
    "    \n",
    "    \n",
    "# ส่วนโปรแกรมหลัก\n",
    "a = 10\n",
    "print_double_a()\n",
    "print(\"a in main:\", a)"
   ],
   "outputs": [],
   "metadata": {}
  },
  {
   "cell_type": "markdown",
   "source": [
    "*** ไม่ดีอย่างไร ***\n",
    "\n",
    "> เมื่อมีการเปลี่ยนค่าในฟังก์ชัน จะเกิดปัญหาว่าตัวแปรนี้ ถูกอ้างถึงไปแล้ว จึง assign ค่าใหม่ไม่ได้"
   ],
   "metadata": {}
  },
  {
   "cell_type": "code",
   "execution_count": null,
   "source": [
    "def increase_and_print_square_a():\n",
    "    a = (a + 1) ** 2     # ปัญหาอยู่ที่ตัวแปร a ใน (a + 1) ไม่รู้ว่าเป็นค่าอะไร และมีการประกาศตัวแปร a ขึ้นมาใหม่\n",
    "    print(\"a in function:\", a)\n",
    "    \n",
    "\n",
    "# ส่วนโปรแกรมหลัก\n",
    "a = 10\n",
    "increase_and_print_square_a()\n",
    "print(\"a in main:\", a)"
   ],
   "outputs": [],
   "metadata": {}
  },
  {
   "cell_type": "markdown",
   "source": [
    "** แก้ไขอย่างไร **\n",
    "1. สร้าง parameter เพื่อรับค่าเสมอ\n",
    "2. ระวังการตั้งชื่อตัวแปรซ้ำใน main program เช่น ตัวแปรนับรอบของ while loop"
   ],
   "metadata": {}
  },
  {
   "cell_type": "code",
   "execution_count": null,
   "source": [
    "def increase_and_print_square(a):   # สร้าง parameter เพื่อรับค่าเสมอ\n",
    "    a = (a + 1) ** 2 \n",
    "    print(\"a in function:\", a)\n",
    "    \n",
    "\n",
    "# ส่วนโปรแกรมหลัก    \n",
    "a = 10\n",
    "increase_and_print_square(a)\n",
    "print(\"a in main:\", a)"
   ],
   "outputs": [],
   "metadata": {}
  },
  {
   "cell_type": "markdown",
   "source": [
    "## คำถามชวนคิด 🤔 ##"
   ],
   "metadata": {}
  },
  {
   "cell_type": "markdown",
   "source": [
    "💭 เมื่อไหร่ที่จะเขียนฟังก์ชันเพื่อใช้งานในโปรแกรม"
   ],
   "metadata": {}
  },
  {
   "cell_type": "markdown",
   "source": [
    "💭 ฟังก์ชันที่เขียนขึ้น ควรจะมีจำนวนพารามิเตอร์เท่าไหร่"
   ],
   "metadata": {}
  }
 ],
 "metadata": {
  "kernelspec": {
   "name": "python3",
   "display_name": "Python 3.9.7 64-bit"
  },
  "language_info": {
   "codemirror_mode": {
    "name": "ipython",
    "version": 3
   },
   "file_extension": ".py",
   "mimetype": "text/x-python",
   "name": "python",
   "nbconvert_exporter": "python",
   "pygments_lexer": "ipython3",
   "version": "3.9.7"
  },
  "interpreter": {
   "hash": "8a1b82e275be85d05d4671e27b4da94cc512c57aa69e7ac1508ad4d61c50efe8"
  }
 },
 "nbformat": 4,
 "nbformat_minor": 2
}