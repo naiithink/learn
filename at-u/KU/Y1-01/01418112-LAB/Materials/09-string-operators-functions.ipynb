{
 "cells": [
  {
   "cell_type": "markdown",
   "source": [
    "# String #"
   ],
   "metadata": {}
  },
  {
   "cell_type": "markdown",
   "source": [
    "## String Data Type ##"
   ],
   "metadata": {}
  },
  {
   "cell_type": "markdown",
   "source": [
    "### 1. Single Quote ###\n",
    "\n",
    "```python\n",
    "str1 = 'Single Quote'\n",
    "print(str1)\n",
    "```"
   ],
   "metadata": {}
  },
  {
   "cell_type": "markdown",
   "source": [
    "### 2. Double Quote ###\n",
    "```python\n",
    "str2 = \"Double Quote\"\n",
    "print(str2)\n",
    "```"
   ],
   "metadata": {}
  },
  {
   "cell_type": "code",
   "execution_count": null,
   "source": [
    "# Escaped String \n",
    "# Single Quote in Single Quote\n",
    "escaped_str1 = 'I don\\'t hate Python.'\n",
    "print(escaped_str1)"
   ],
   "outputs": [],
   "metadata": {}
  },
  {
   "cell_type": "code",
   "execution_count": null,
   "source": [
    "# Escaped String \n",
    "# Double Quote in Double Quote\n",
    "escaped_str2 = \"She said: \\\"I love Python.\\\"\"\n",
    "print(escaped_str2)"
   ],
   "outputs": [],
   "metadata": {}
  },
  {
   "cell_type": "code",
   "execution_count": null,
   "source": [
    "# Single Quote in Double Quote\n",
    "escaped_str3 = \"It can't jump over Python.\"\n",
    "print(escaped_str3)"
   ],
   "outputs": [],
   "metadata": {
    "scrolled": true
   }
  },
  {
   "cell_type": "code",
   "execution_count": null,
   "source": [
    "escaped_str4 = 'Line 1\\nLine 2'\n",
    "print(escaped_str4)\n",
    "print('-' * 20)\n",
    "escaped_str5 = \"Column 1\\tColumn 2\"\n",
    "print(escaped_str5)\n",
    "print('-' * 20)\n",
    "escaped_str6 = \"How can you keep '\\\\n' or '\\\\t' in string\"\n",
    "print(escaped_str6)"
   ],
   "outputs": [],
   "metadata": {}
  },
  {
   "cell_type": "markdown",
   "source": [
    "### 3. Triple Quote ###"
   ],
   "metadata": {}
  },
  {
   "cell_type": "code",
   "execution_count": null,
   "source": [
    "text = '''A string in triple qoutes can extend\n",
    "over multiple lines like this one, \n",
    "or use (\\\\n)\\n will enter a new line\n",
    "and can contain 'single' or \"double\" qoutes.'''\n",
    "print(text)"
   ],
   "outputs": [],
   "metadata": {}
  },
  {
   "cell_type": "markdown",
   "source": [
    "--------------\n",
    "\n",
    "--------------"
   ],
   "metadata": {}
  },
  {
   "cell_type": "markdown",
   "source": [
    "## String Operators ##\n"
   ],
   "metadata": {}
  },
  {
   "cell_type": "markdown",
   "source": [
    "### 1. Concatenation (ต่อ String) ###\n",
    "> operator: `+`"
   ],
   "metadata": {}
  },
  {
   "cell_type": "code",
   "execution_count": null,
   "source": [
    "print(\"Safari\" + \"World\")"
   ],
   "outputs": [],
   "metadata": {}
  },
  {
   "cell_type": "code",
   "execution_count": null,
   "source": [
    "place = \"Safari\" + ' ' + \"World\"\n",
    "print(place)"
   ],
   "outputs": [],
   "metadata": {}
  },
  {
   "cell_type": "markdown",
   "source": [
    "### 2. Repetition ###\n",
    "\n",
    "> operator: `*`"
   ],
   "metadata": {}
  },
  {
   "cell_type": "code",
   "execution_count": null,
   "source": [
    "print('un' * 3)"
   ],
   "outputs": [],
   "metadata": {}
  },
  {
   "cell_type": "code",
   "execution_count": null,
   "source": [
    "print('un' * 3 + 'ium')"
   ],
   "outputs": [],
   "metadata": {}
  },
  {
   "cell_type": "code",
   "execution_count": null,
   "source": [
    "print('un' + 'ium' * 3)"
   ],
   "outputs": [],
   "metadata": {}
  },
  {
   "cell_type": "markdown",
   "source": [
    "### 3. Indexing (Access index of String) ###\n",
    "> operator `[]`\n",
    "\n",
    "Index ของ String เริ่มต้นที่ 0"
   ],
   "metadata": {}
  },
  {
   "cell_type": "code",
   "execution_count": null,
   "source": [
    "print(\"Python\"[0])"
   ],
   "outputs": [],
   "metadata": {}
  },
  {
   "cell_type": "markdown",
   "source": [
    "![String Indexing 1](http://sukreep.cs.sci.ku.ac.th/114/img/StringIndex-front.png \"String Indexing 1\")"
   ],
   "metadata": {}
  },
  {
   "cell_type": "code",
   "execution_count": null,
   "source": [
    "sentence = \"Fundamental Programming Concept\"\n",
    "print(sentence[0], sentence[10])"
   ],
   "outputs": [],
   "metadata": {}
  },
  {
   "cell_type": "markdown",
   "source": [
    "![String Indexing 2](http://sukreep.cs.sci.ku.ac.th/114/img/StringIndex-rear.png \"String Indexing 2\")"
   ],
   "metadata": {}
  },
  {
   "cell_type": "code",
   "execution_count": 1,
   "source": [
    "sentence = \"Fundamental Programming Concept\"\n",
    "print(sentence[-1], sentence[-10])"
   ],
   "outputs": [
    {
     "output_type": "stream",
     "name": "stdout",
     "text": [
      "t n\n"
     ]
    }
   ],
   "metadata": {}
  },
  {
   "cell_type": "markdown",
   "source": [
    "*** String index out of range ***\n",
    "> การ access index ของ String ที่ไม่มี index นั้นอยู่"
   ],
   "metadata": {}
  },
  {
   "cell_type": "code",
   "execution_count": null,
   "source": [
    "sentence = \"Fundamental Programming Concept\"\n",
    "print(sentence[31])"
   ],
   "outputs": [],
   "metadata": {}
  },
  {
   "cell_type": "code",
   "execution_count": null,
   "source": [
    "sentence = \"Fundamental Programming Concept\"\n",
    "print(sentence[-32])"
   ],
   "outputs": [],
   "metadata": {}
  },
  {
   "cell_type": "markdown",
   "source": [
    "### 4. Slicing (หั่น String) ###\n",
    "> operator: `[:]`"
   ],
   "metadata": {}
  },
  {
   "cell_type": "code",
   "execution_count": null,
   "source": [
    "print(\"Python\"[2:4])"
   ],
   "outputs": [],
   "metadata": {
    "scrolled": true
   }
  },
  {
   "cell_type": "markdown",
   "source": [
    "![String Slicing](http://sukreep.cs.sci.ku.ac.th/114/img/StringSlicing.png \"String Slicing\")\n",
    "\n",
    "> [start:end:step]"
   ],
   "metadata": {}
  },
  {
   "cell_type": "code",
   "execution_count": null,
   "source": [
    "sentence = \"Fundamental Programming Concept\"\n",
    "print(1, sentence[12:23])\n",
    "print(2, sentence[-19:-8])"
   ],
   "outputs": [],
   "metadata": {}
  },
  {
   "cell_type": "code",
   "execution_count": null,
   "source": [
    "sentence = \"Fundamental Programming Concept\"\n",
    "print(sentence[0:5], sentence[12: 12 + 4], sentence[-7:])"
   ],
   "outputs": [],
   "metadata": {}
  },
  {
   "cell_type": "code",
   "execution_count": null,
   "source": [
    "# default start is 0\n",
    "sentence = \"Fundamental Programming Concept\"\n",
    "print(1, sentence[:11])\n",
    "print(2, sentence[:23])\n",
    "print(3, sentence[:31])"
   ],
   "outputs": [],
   "metadata": {}
  },
  {
   "cell_type": "code",
   "execution_count": null,
   "source": [
    "# default step is 1\n",
    "sentence = \"Fundamental Programming Concept\"\n",
    "print(1, sentence[12:23:])\n",
    "print(2, sentence[12:23:1])\n",
    "print(3, sentence[12:23:2])\n",
    "print(4, sentence[:])"
   ],
   "outputs": [],
   "metadata": {}
  },
  {
   "cell_type": "code",
   "execution_count": null,
   "source": [
    "# default end is length of string + 1 if step is positive\n",
    "sentence = \"Fundamental Programming Concept\"\n",
    "print(1, sentence[0:])\n",
    "print(2, sentence[12:])\n",
    "print(3, sentence[24:])\n",
    "print(4, sentence[12::3])"
   ],
   "outputs": [],
   "metadata": {}
  },
  {
   "cell_type": "code",
   "execution_count": 2,
   "source": [
    "# default end is before 0 if step is negative\n",
    "sentence = \"Fundamental Programming Concept\"\n",
    "print(1, sentence[0::-1])\n",
    "print(2, sentence[12::-1])\n",
    "print(3, sentence[24::-1])\n",
    "print(4, sentence[12::-2])"
   ],
   "outputs": [
    {
     "output_type": "stream",
     "name": "stdout",
     "text": [
      "1 F\n",
      "2 P latnemadnuF\n",
      "3 C gnimmargorP latnemadnuF\n",
      "4 PlteanF\n"
     ]
    }
   ],
   "metadata": {}
  },
  {
   "cell_type": "markdown",
   "source": [
    "![String Slicing](http://sukreep.cs.sci.ku.ac.th/114/img/StringSlicing.png \"String Slicing\")\n",
    "\n",
    "> [start:end:step]"
   ],
   "metadata": {}
  },
  {
   "cell_type": "code",
   "execution_count": 3,
   "source": [
    "sentence = \"Fundamental Programming Concept\"\n",
    "print(1, sentence[12:23:-1])\n",
    "print(2, sentence[22:11:-1])"
   ],
   "outputs": [
    {
     "output_type": "stream",
     "name": "stdout",
     "text": [
      "1 \n",
      "2 gnimmargorP\n"
     ]
    }
   ],
   "metadata": {}
  },
  {
   "cell_type": "code",
   "execution_count": 4,
   "source": [
    "sentence = \"Fundamental Programming Concept\"\n",
    "print(1, sentence[-1:-7:-1])\n",
    "print(2, sentence[-1:-8:-1])"
   ],
   "outputs": [
    {
     "output_type": "stream",
     "name": "stdout",
     "text": [
      "1 tpecno\n",
      "2 tpecnoC\n"
     ]
    }
   ],
   "metadata": {}
  },
  {
   "cell_type": "markdown",
   "source": [
    "### 5. ตรวจสอบว่ามีใน String ###\n",
    "\n",
    "> ตรวจสอบว่า มี ใช้ operator: `in`\n",
    ">\n",
    "> ตรวจสอบว่า ไม่มี ใช้ operator: `not in`"
   ],
   "metadata": {}
  },
  {
   "cell_type": "code",
   "execution_count": 5,
   "source": [
    "print(\"P\" in \"Python\")\n",
    "print(\"p\" in \"Python\")\n",
    "print(\"T\" in \"Python\")\n",
    "print(\"t\" in \"Python\")"
   ],
   "outputs": [
    {
     "output_type": "stream",
     "name": "stdout",
     "text": [
      "True\n",
      "False\n",
      "False\n",
      "True\n"
     ]
    }
   ],
   "metadata": {}
  },
  {
   "cell_type": "code",
   "execution_count": 6,
   "source": [
    "print(\"P\" not in \"Python\")\n",
    "print(\"p\" not in \"Python\")\n",
    "print(\"T\" not in \"Python\")\n",
    "print(\"t\" not in \"Python\")"
   ],
   "outputs": [
    {
     "output_type": "stream",
     "name": "stdout",
     "text": [
      "False\n",
      "True\n",
      "True\n",
      "False\n"
     ]
    }
   ],
   "metadata": {}
  },
  {
   "cell_type": "code",
   "execution_count": 7,
   "source": [
    "print(not (\"P\" in \"Python\"))\n",
    "print(not (\"p\" in \"Python\"))\n",
    "print(not (\"T\" in \"Python\"))\n",
    "print(not (\"t\" in \"Python\"))"
   ],
   "outputs": [
    {
     "output_type": "stream",
     "name": "stdout",
     "text": [
      "False\n",
      "True\n",
      "True\n",
      "False\n"
     ]
    }
   ],
   "metadata": {}
  },
  {
   "cell_type": "code",
   "execution_count": 10,
   "source": [
    "print(not \"P\" in \"Python\")\n",
    "print(not \"p\" in \"Python\")\n",
    "print(not \"T\" in \"Python\")\n",
    "print(not \"t\" in \"Python\")"
   ],
   "outputs": [
    {
     "output_type": "stream",
     "name": "stdout",
     "text": [
      "False\n",
      "True\n",
      "True\n",
      "False\n"
     ]
    }
   ],
   "metadata": {}
  },
  {
   "cell_type": "markdown",
   "source": [
    "ตรวจสอบอักขระที่รับเข้ามา เป็น A หรือ a"
   ],
   "metadata": {}
  },
  {
   "cell_type": "code",
   "execution_count": 11,
   "source": [
    "choice = input(\"Select menu (A, B): \")\n",
    "if (choice in 'Aa'):\n",
    "    print('This is menu A')\n",
    "elif (choice in 'Bb'):\n",
    "    print('This is menu B')\n",
    "else:\n",
    "    print('Invalid menu: neither A nor B')"
   ],
   "outputs": [
    {
     "output_type": "stream",
     "name": "stdout",
     "text": [
      "Invalid menu: neither A nor B\n"
     ]
    }
   ],
   "metadata": {}
  },
  {
   "cell_type": "markdown",
   "source": [
    "---------\n",
    "\n",
    "---------"
   ],
   "metadata": {}
  },
  {
   "cell_type": "markdown",
   "source": [
    "## `for` *character* `in` *String*  ##"
   ],
   "metadata": {}
  },
  {
   "cell_type": "code",
   "execution_count": null,
   "source": [
    "for letter in 'Python':\n",
    "    print('Current Letter:', letter)"
   ],
   "outputs": [],
   "metadata": {}
  },
  {
   "cell_type": "code",
   "execution_count": null,
   "source": [
    "sentence = \"Fundamental Programming Concept\"\n",
    "for ch in sentence:\n",
    "    print(ch, end='|')"
   ],
   "outputs": [],
   "metadata": {}
  },
  {
   "cell_type": "code",
   "execution_count": null,
   "source": [
    "sentence = \"Fundamental Programming Concept\"\n",
    "for ch in sentence[12:]:\n",
    "    print(ch, end='|')"
   ],
   "outputs": [],
   "metadata": {}
  },
  {
   "cell_type": "code",
   "execution_count": null,
   "source": [
    "sentence = \"Fundamental Programming Concept\"\n",
    "for ch in sentence[12::-1]:\n",
    "    print(ch, end='|')"
   ],
   "outputs": [],
   "metadata": {}
  },
  {
   "cell_type": "markdown",
   "source": [
    "----------\n",
    "\n",
    "----------"
   ],
   "metadata": {}
  },
  {
   "cell_type": "markdown",
   "source": [
    "## Immutable Strings ##\n",
    "* mutate, mutant แปลว่า กลายพันธุ์\n",
    "* im เป็น prefix แปลว่า ไม่\n",
    "* able เป็น subfix แปลว่า สามารถ\n",
    "\n",
    "> อักขระใน String ไม่สามารถเปลี่ยนแปลงค่าได้"
   ],
   "metadata": {}
  },
  {
   "cell_type": "code",
   "execution_count": null,
   "source": [
    "s = \"Strings are immutable!\"\n",
    "s[-1] = '.'\n",
    "# จะเห็นว่าเกิด Error เพราะ String เปลี่ยนแปลงค่าไม่ได้\n",
    "print(s)"
   ],
   "outputs": [],
   "metadata": {
    "scrolled": true
   }
  },
  {
   "cell_type": "code",
   "execution_count": null,
   "source": [
    "s = \"Strings are immutable!\"\n",
    "s = 'Fundamental Programming Concept'\n",
    "# กำหนดค่าใหม่ ให้กับตัวแปร s ทำได้ (ไม่ใช่การแก้ไขค่าใน String เดิม)\n",
    "print(s)"
   ],
   "outputs": [],
   "metadata": {}
  },
  {
   "cell_type": "markdown",
   "source": [
    "------------\n",
    "\n",
    "------------"
   ],
   "metadata": {}
  },
  {
   "cell_type": "markdown",
   "source": [
    "# String Functions #\n",
    "\n",
    "> ฟังก์ชันที่รับ parameter เป็น String ไปทำงาน แล้วคืนค่าบางอย่างกลับมา\n",
    "\n",
    "**functionName(**str**)**"
   ],
   "metadata": {}
  },
  {
   "cell_type": "markdown",
   "source": [
    "## 1. Size (Length) ##\n",
    "ความยาวของ String\n",
    "\n",
    "```python\n",
    "len(string)\n",
    "```"
   ],
   "metadata": {}
  },
  {
   "cell_type": "code",
   "execution_count": null,
   "source": [
    "print( len(\"Python\") )"
   ],
   "outputs": [],
   "metadata": {}
  },
  {
   "cell_type": "code",
   "execution_count": null,
   "source": [
    "sentence = \"Fundamental Programming Concept\"\n",
    "print( len(sentence) )\n",
    "print( sentence[len(sentence) - 1] )  # Index สุดท้ายของ String"
   ],
   "outputs": [],
   "metadata": {}
  },
  {
   "cell_type": "markdown",
   "source": [
    "## 2. Ascii and Character ##\n",
    "```python\n",
    "ascii_code = ord(char)\n",
    "char = chr(ascii_code)\n",
    "```"
   ],
   "metadata": {}
  },
  {
   "cell_type": "code",
   "execution_count": null,
   "source": [
    "print( ord('A') )\n",
    "print( ord('a') )"
   ],
   "outputs": [],
   "metadata": {}
  },
  {
   "cell_type": "code",
   "execution_count": null,
   "source": [
    "print( chr(65) )\n",
    "print( chr(97) )"
   ],
   "outputs": [],
   "metadata": {}
  },
  {
   "cell_type": "code",
   "execution_count": null,
   "source": [
    "print( chr(ord('A') + 3) )"
   ],
   "outputs": [],
   "metadata": {}
  },
  {
   "cell_type": "code",
   "execution_count": 1,
   "source": [
    "sentence = \"Ixqgdphqwdo#Surjudpplqj#Frqfhsw\"\n",
    "for ch in sentence:\n",
    "    print( chr(ord(ch) - 3) , end='')"
   ],
   "outputs": [
    {
     "output_type": "stream",
     "name": "stdout",
     "text": [
      "Fundamental Programming Concept"
     ]
    }
   ],
   "metadata": {}
  },
  {
   "cell_type": "markdown",
   "source": [
    "## 3. Maximum and Minimum ##\n",
    "```python\n",
    "max(string)\n",
    "min(string)\n",
    "```"
   ],
   "metadata": {}
  },
  {
   "cell_type": "code",
   "execution_count": null,
   "source": [
    "print( max(\"ABC\") )\n",
    "print( min(\"ABC\") )"
   ],
   "outputs": [],
   "metadata": {}
  },
  {
   "cell_type": "code",
   "execution_count": null,
   "source": [
    "print( max(\"xyZ\") )\n",
    "print( min(\"xyZ\") )"
   ],
   "outputs": [],
   "metadata": {}
  },
  {
   "cell_type": "markdown",
   "source": [
    "-------------\n",
    "\n",
    "-------------"
   ],
   "metadata": {}
  },
  {
   "cell_type": "markdown",
   "source": [
    "# String Methods 1 #\n",
    "\n",
    "str**.methodName()**"
   ],
   "metadata": {}
  },
  {
   "cell_type": "markdown",
   "source": [
    "## lowercase v.s. UPPERCASE ##"
   ],
   "metadata": {}
  },
  {
   "cell_type": "markdown",
   "source": [
    "1\\. ตรวจสอบว่าเป็นตัวเล็ก `islower()` หรือเป็นตัวใหญ่ `isupper()`\n"
   ],
   "metadata": {}
  },
  {
   "cell_type": "code",
   "execution_count": null,
   "source": [
    "print( 'python'.islower() )"
   ],
   "outputs": [],
   "metadata": {}
  },
  {
   "cell_type": "code",
   "execution_count": null,
   "source": [
    "print( 'PYTHON'.isupper() )"
   ],
   "outputs": [],
   "metadata": {}
  },
  {
   "cell_type": "code",
   "execution_count": null,
   "source": [
    "print( 'Python'.islower() )"
   ],
   "outputs": [],
   "metadata": {}
  },
  {
   "cell_type": "code",
   "execution_count": null,
   "source": [
    "print( 'Python'.isupper() )"
   ],
   "outputs": [],
   "metadata": {}
  },
  {
   "cell_type": "markdown",
   "source": [
    "อักขระอื่นที่ไม่ใช่ตัวอักษร จะไม่ถูกนำมาพิจารณา"
   ],
   "metadata": {}
  },
  {
   "cell_type": "code",
   "execution_count": null,
   "source": [
    "print( '01234 56789'.islower() )"
   ],
   "outputs": [],
   "metadata": {}
  },
  {
   "cell_type": "code",
   "execution_count": null,
   "source": [
    "print( 'python123 456'.islower() )"
   ],
   "outputs": [],
   "metadata": {}
  },
  {
   "cell_type": "code",
   "execution_count": null,
   "source": [
    "print( '01234 56789'.isupper() )"
   ],
   "outputs": [],
   "metadata": {}
  },
  {
   "cell_type": "code",
   "execution_count": null,
   "source": [
    "print( 'PYTHON123 456'.isupper() )"
   ],
   "outputs": [],
   "metadata": {}
  },
  {
   "cell_type": "markdown",
   "source": [
    "2\\. แปลงเป็นตัวเล็ก `lower()` หรือแปลงเป็นตัวใหญ่ `upper()`"
   ],
   "metadata": {}
  },
  {
   "cell_type": "code",
   "execution_count": null,
   "source": [
    "s1 = 'PYTHON'\n",
    "print( s1.lower() )"
   ],
   "outputs": [],
   "metadata": {}
  },
  {
   "cell_type": "code",
   "execution_count": null,
   "source": [
    "s1 = 'PYthon'\n",
    "s2 = s1.lower()\n",
    "print( s1 )\n",
    "print( s2 )"
   ],
   "outputs": [],
   "metadata": {}
  },
  {
   "cell_type": "code",
   "execution_count": null,
   "source": [
    "s1 = 'python'\n",
    "print( s1.upper() )"
   ],
   "outputs": [],
   "metadata": {}
  },
  {
   "cell_type": "code",
   "execution_count": null,
   "source": [
    "s1 = 'PYthon'\n",
    "s2 = s1.upper()\n",
    "print( s1 )\n",
    "print( s2 )"
   ],
   "outputs": [],
   "metadata": {}
  },
  {
   "cell_type": "markdown",
   "source": [
    "อักขระอื่นที่ไม่ใช่ตัวอักษร จะไม่ถูกเปลี่ยนแปลง"
   ],
   "metadata": {}
  },
  {
   "cell_type": "code",
   "execution_count": null,
   "source": [
    "s1 = 'Python123 456'\n",
    "print( s1.lower() )"
   ],
   "outputs": [],
   "metadata": {
    "scrolled": true
   }
  },
  {
   "cell_type": "code",
   "execution_count": null,
   "source": [
    "s1 = 'Python123 456'\n",
    "print( s1.upper() )"
   ],
   "outputs": [],
   "metadata": {}
  }
 ],
 "metadata": {
  "kernelspec": {
   "name": "python3",
   "display_name": "Python 3.8.10 64-bit"
  },
  "language_info": {
   "codemirror_mode": {
    "name": "ipython",
    "version": 3
   },
   "file_extension": ".py",
   "mimetype": "text/x-python",
   "name": "python",
   "nbconvert_exporter": "python",
   "pygments_lexer": "ipython3",
   "version": "3.8.10"
  },
  "interpreter": {
   "hash": "916dbcbb3f70747c44a77c7bcd40155683ae19c65e1c03b4aa3499c5328201f1"
  }
 },
 "nbformat": 4,
 "nbformat_minor": 4
}