{
 "cells": [
  {
   "cell_type": "markdown",
   "metadata": {},
   "source": [
    "# SQL Indexing"
   ]
  },
  {
   "cell_type": "markdown",
   "metadata": {},
   "source": [
    "    sqlite> .timer on\n",
    "    sqlite> SELECT * FROM shows WHERE title = 'The Office';\n",
    "    +----------+------------+------+----------+\n",
    "    |    id    |   title    | year | episodes |\n",
    "    +----------+------------+------+----------+\n",
    "    | 112108   | The Office | 1995 | 6        |\n",
    "    | 290978   | The Office | 2001 | 14       |\n",
    "    | 386676   | The Office | 2005 | 188      |\n",
    "    | 1791001  | The Office | 2010 | 30       |\n",
    "    | 2186395  | The Office | 2012 | 8        |\n",
    "    | 8305218  | The Office | 2019 | 28       |\n",
    "    | 20877972 | The Office | 2022 | 20       |\n",
    "    +----------+------------+------+----------+\n",
    "    Run Time: real 0.020 user 0.019456 sys 0.000467\n",
    "    sqlite> "
   ]
  },
  {
   "cell_type": "markdown",
   "metadata": {},
   "source": [
    "\n",
    "        CREATE INDEX name ON table (column, ...);\n",
    "\n",
    "\n",
    "\n",
    "demo (creating an index for searching shows from its title):\n",
    "\n",
    "    sqlite> CREATE INDEX title_index ON shows (title);\n",
    "    Run Time: real 0.143 user 0.122989 sys 0.014270\n",
    "    sqlite> \n",
    "    sqlite> SELECT * FROM shows WHERE title = 'The Office';\n",
    "    +----------+------------+------+----------+\n",
    "    |    id    |   title    | year | episodes |\n",
    "    +----------+------------+------+----------+\n",
    "    | 112108   | The Office | 1995 | 6        |\n",
    "    | 290978   | The Office | 2001 | 14       |\n",
    "    | 386676   | The Office | 2005 | 188      |\n",
    "    | 1791001  | The Office | 2010 | 30       |\n",
    "    | 2186395  | The Office | 2012 | 8        |\n",
    "    | 8305218  | The Office | 2019 | 28       |\n",
    "    | 20877972 | The Office | 2022 | 20       |\n",
    "    +----------+------------+------+----------+\n",
    "    Run Time: real 0.000 user 0.000181 sys 0.000203\n",
    "    sqlite> \n"
   ]
  }
 ],
 "metadata": {
  "kernelspec": {
   "display_name": "Python 3.10.8 64-bit",
   "language": "python",
   "name": "python3"
  },
  "language_info": {
   "name": "python",
   "version": "3.10.8"
  },
  "orig_nbformat": 4,
  "vscode": {
   "interpreter": {
    "hash": "b0fa6594d8f4cbf19f97940f81e996739fb7646882a419484c72d19e05852a7e"
   }
  }
 },
 "nbformat": 4,
 "nbformat_minor": 2
}
