{
 "cells": [
  {
   "cell_type": "markdown",
   "metadata": {},
   "source": [
    "# SQL Injection Attacks"
   ]
  },
  {
   "cell_type": "markdown",
   "metadata": {},
   "source": [
    "        +=== Sign In =======================================+\n",
    "        |                                                   |\n",
    "        |                                                   |\n",
    "        |    Email Address: ____________________________    |\n",
    "        |                                                   |\n",
    "        |         Password: ____________________________    |\n",
    "        |                                                   |\n",
    "        |                                                   |\n",
    "        |                     _________                     |\n",
    "        +====================| SIGN IN |====================+\n",
    "                              ‾‾‾‾‾‾‾‾‾\n",
    "\n",
    "if a user fills in `me@naiithink.io'--`:\n",
    "\n",
    "        |                                                   |\n",
    "        |    Email Address: me@naiithink.io'--              |\n",
    "        |                                                   |\n",
    "        |         Password: ____________________________    |\n",
    "        |                                                   |\n",
    "\n",
    "> **SQL Comments**\n",
    "> \n",
    "> ```sql\n",
    "> # 1\n",
    "> /* comment */ SELECT * FROM table;\n",
    "> \n",
    "> # 2\n",
    "> SELECT * FROM -- texts are ignored to the right, until a newline or end-of-input is reached -- table;\n",
    "> ```\n",
    "\n",
    "notice an imbalanced comment `'--`  \n",
    "suppose the code for auth:\n",
    "\n",
    "```py\n",
    "    rows = db.execute(f\"SELECT * FROM users WHERE username = '{username}' AND password = '{password}'\")\n",
    "\n",
    "    if rows:\n",
    "        ...\n",
    "```\n",
    "\n",
    "after submitting the form, the evaluated code will be look sort of like this:\n",
    "\n",
    "```py\n",
    "    rows = db.execute(f\"SELECT * FROM users WHERE username = 'me@naiithink.io'--' AND password = '{password}'\")\n",
    "\n",
    "    if rows:\n",
    "        ...\n",
    "```\n",
    "\n",
    "then the real SQL logic executed will be:\n",
    "\n",
    "```sql\n",
    "    SELECT * FROM users WHERE username = 'me@naiithink.io'--' AND password = '{password}'\n",
    "```\n",
    "\n",
    "or effectively this:\n",
    "\n",
    "```sql\n",
    "    SELECT * FROM users WHERE username = 'me@naiithink.io'\n",
    "```\n",
    "\n",
    "### SO THE PASSWORD IS NEVER EVEN CHECKED!\n"
   ]
  },
  {
   "cell_type": "markdown",
   "metadata": {},
   "source": [
    "## What To Do?\n",
    "\n",
    "> Escape any potentially dangerous characters inside of the placeholders.  \n",
    "> DO NOT use `f-Strings`, `%s`  \n",
    "> Use `?` or some libraries\n",
    "\n",
    "```py\n",
    "    rows = db.execute(\"SELECT * FROM users WHERE username = ? AND password = ?\", username, password)\n",
    "\n",
    "    if rows:\n",
    "        ...\n",
    "```\n",
    "\n",
    "so the `'` will no longer be considered a grammatical single quote"
   ]
  },
  {
   "cell_type": "markdown",
   "metadata": {},
   "source": [
    "![sql_injection_car_meme.png](../assets/images/sql_injection_car_meme.png)"
   ]
  },
  {
   "cell_type": "markdown",
   "metadata": {},
   "source": [
    "![sql_injection_bobby_meme.png](../assets/images/sql_injection_bobby_meme.png)\n",
    "\n",
    "### ur now a legit Sequel programmer!"
   ]
  }
 ],
 "metadata": {
  "kernelspec": {
   "display_name": "Python 3.10.8 64-bit",
   "language": "python",
   "name": "python3"
  },
  "language_info": {
   "codemirror_mode": {
    "name": "ipython",
    "version": 3
   },
   "file_extension": ".py",
   "mimetype": "text/x-python",
   "name": "python",
   "nbconvert_exporter": "python",
   "pygments_lexer": "ipython3",
   "version": "3.10.8"
  },
  "orig_nbformat": 4,
  "vscode": {
   "interpreter": {
    "hash": "b0fa6594d8f4cbf19f97940f81e996739fb7646882a419484c72d19e05852a7e"
   }
  }
 },
 "nbformat": 4,
 "nbformat_minor": 2
}
