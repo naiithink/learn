{
 "cells": [
  {
   "cell_type": "markdown",
   "metadata": {},
   "source": [
    "# SQL\n",
    "\n",
    "The Structured Query Language\n",
    "\n",
    "Source: [CS50 2022 - Lecture 7 - SQL](https://youtu.be/zrCLRC3Ci1c)"
   ]
  },
  {
   "cell_type": "markdown",
   "metadata": {},
   "source": [
    "## Relational Database\n",
    "\n",
    "A way of structuring information in tables, rows, and columns[^1].\n",
    "\n",
    "\n",
    "--\n",
    "\n",
    "[^1]: https://cloud.google.com/learn/what-is-a-relational-database#:~:text=A%20relational%20database%20(RDB)%20is,relationship%20between%20various%20data%20points."
   ]
  },
  {
   "cell_type": "markdown",
   "metadata": {},
   "source": [
    "## CRUD\n",
    "\n",
    "```\n",
    "Create              CREATE, INSERT\n",
    "Read                SELECT\n",
    "Update              UPDATE\n",
    "Delete              DELETE, DROP\n",
    "...\n",
    "```\n",
    "\n",
    "### Create\n",
    "\n",
    "    sqlite> CREATE TABLE table (column type, ...);"
   ]
  }
 ],
 "metadata": {
  "kernelspec": {
   "display_name": "Python 3.10.8 64-bit",
   "language": "python",
   "name": "python3"
  },
  "language_info": {
   "name": "python",
   "version": "3.10.8"
  },
  "orig_nbformat": 4,
  "vscode": {
   "interpreter": {
    "hash": "b0fa6594d8f4cbf19f97940f81e996739fb7646882a419484c72d19e05852a7e"
   }
  }
 },
 "nbformat": 4,
 "nbformat_minor": 2
}
