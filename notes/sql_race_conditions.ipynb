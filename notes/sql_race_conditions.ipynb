{
 "cells": [
  {
   "cell_type": "markdown",
   "metadata": {},
   "source": [
    "# SQL Race Conditions"
   ]
  },
  {
   "cell_type": "markdown",
   "metadata": {},
   "source": [
    "## Wrapping Keywords\n",
    "\n",
    "        BEGIN TRANSACTION\n",
    "        COMMIT\n",
    "        ROLLBACK\n",
    "\n",
    "suppose a Python code for updating like counts of an Instagram post:\n",
    "\n",
    "```py\n",
    "rows = db.execute(\"SELECT likes FROM posts WHERE id = ?\", id)\n",
    "likes = rows[0][\"likes\"]\n",
    "db.execute(\"UPDATE posts SET likes = ? WHERE id = ?\", likes + 1, id)\n",
    "```\n",
    "\n",
    "can be fixed by wrapping those logic with `BEGIN TRANSACTION` and `COMMIT`:\n",
    "\n",
    "```py\n",
    "db.execute(\"BEGIN TRANSACTION\")\n",
    "\n",
    "rows = db.execute(\"SELECT likes FROM posts WHERE id = ?\", id)\n",
    "likes = rows[0][\"likes\"]\n",
    "db.execute(\"UPDATE posts SET likes = ? WHERE id = ?\", likes + 1, id)\n",
    "\n",
    "db.execute(\"COMMIT\")\n",
    "```\n",
    "\n",
    "this way, you are making those statements **Atomic**\n"
   ]
  }
 ],
 "metadata": {
  "kernelspec": {
   "display_name": "Python 3.10.8 64-bit",
   "language": "python",
   "name": "python3"
  },
  "language_info": {
   "name": "python",
   "version": "3.10.8"
  },
  "orig_nbformat": 4,
  "vscode": {
   "interpreter": {
    "hash": "b0fa6594d8f4cbf19f97940f81e996739fb7646882a419484c72d19e05852a7e"
   }
  }
 },
 "nbformat": 4,
 "nbformat_minor": 2
}
