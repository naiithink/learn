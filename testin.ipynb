{
 "cells": [
  {
   "cell_type": "code",
   "execution_count": 3,
   "metadata": {},
   "outputs": [
    {
     "name": "stdout",
     "output_type": "stream",
     "text": [
      "/\n",
      "\u001b[0m\u001b[01;34mdocs\u001b[0m  \u001b[01;34missues\u001b[0m  \u001b[01;34mnamespaces\u001b[0m   \u001b[01;32mtest\u001b[0m      test.c   testin.ipynb\n",
      "\u001b[01;34menvs\u001b[0m  \u001b[01;34mlearn\u001b[0m   \u001b[01;34mplaygrounds\u001b[0m  \u001b[01;32mtest.bin\u001b[0m  test.py  \u001b[01;34mzlambda\u001b[0m\n"
     ]
    }
   ],
   "source": [
    "pwd\n",
    "cd /mnt/Git/private/\n",
    "ls"
   ]
  },
  {
   "cell_type": "code",
   "execution_count": 1,
   "metadata": {},
   "outputs": [
    {
     "name": "stdout",
     "output_type": "stream",
     "text": [
      "\n"
     ]
    }
   ],
   "source": [
    "read\n",
    "echo \"\\\n",
    "#include <stdio.h>\n",
    "\n",
    "int main(void)\n",
    "{\n",
    "    char input[10];\n",
    "\n",
    "    fputs(\\\"Enter: \\\", stdout);\n",
    "    fgets(input, 10, stdin);\n",
    "\n",
    "    printf(\\\"%s\\n\\\", input);\n",
    "}\" > \"testin.c\"\n",
    "\n",
    "make testin\n",
    "echo \"hello\" >> /dev/stdin\n",
    "./testin"
   ]
  },
  {
   "cell_type": "code",
   "execution_count": 1,
   "metadata": {},
   "outputs": [
    {
     "name": "stdout",
     "output_type": "stream",
     "text": [
      "hello\n"
     ]
    }
   ],
   "source": [
    "x = input('Enter: ')\n",
    "print(x)"
   ]
  }
 ],
 "metadata": {
  "kernelspec": {
   "display_name": "Bash",
   "language": "bash",
   "name": "bash"
  },
  "language_info": {
   "codemirror_mode": "shell",
   "file_extension": ".sh",
   "mimetype": "text/x-sh",
   "name": "bash"
  },
  "orig_nbformat": 4
 },
 "nbformat": 4,
 "nbformat_minor": 2
}
