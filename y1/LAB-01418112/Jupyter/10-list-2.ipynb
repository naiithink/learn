{
 "cells": [
  {
   "cell_type": "markdown",
   "source": [
    "# 1. List Methods #"
   ],
   "metadata": {}
  },
  {
   "cell_type": "markdown",
   "source": [
    "## 1.1 การเพิ่มข้อมูลใน List ##\n",
    "\n",
    "| List Method |\tคำอธิบาย |\tตัวอย่างการใช้งาน เมื่อ <br>`ls = [1, 2, 3, 4]` |\n",
    "| :---- | :---- | :---- |\n",
    "|`list.append(data)` |\tเพิ่ม data ไปต่อท้าย List |\t`ls.append(10)` |\n",
    "|`list.extend(list)` |\tนำ List ไปต่อท้าย List |\t`ls.extend([10, 20])` |\n",
    "|`list.insert(index, data)`\t| แทรก data ไปใน List ในตำแหน่ง `index` |\t`ls.insert(2, 20)` |"
   ],
   "metadata": {}
  },
  {
   "cell_type": "code",
   "execution_count": null,
   "source": [
    "# append\n",
    "ls = [1, 2, 3, 4]\n",
    "ls.append('|')\n",
    "\n",
    "i = 1\n",
    "while (i <= 10):\n",
    "    ls.append(i)\n",
    "    i += 1\n",
    "print(ls)"
   ],
   "outputs": [],
   "metadata": {}
  },
  {
   "cell_type": "code",
   "execution_count": null,
   "source": [
    "# extend\n",
    "ls = [1, 2, 3, 4]\n",
    "ls.extend([10, 20])\n",
    "print(ls)"
   ],
   "outputs": [],
   "metadata": {}
  },
  {
   "cell_type": "code",
   "execution_count": null,
   "source": [
    "# เปรียบเทียบ extend และ +\n",
    "ls = [1, 2, 3, 4]\n",
    "print(ls + [10, 20])  # ได้ List ใหม่ โดย List เดิมไม่เปลี่ยนแปลง\n",
    "print(ls)"
   ],
   "outputs": [],
   "metadata": {}
  },
  {
   "cell_type": "code",
   "execution_count": null,
   "source": [
    "# append list ไปใน list\n",
    "ls = [1, 2, 3, 4]\n",
    "ls.append([10, 20])\n",
    "print(ls)"
   ],
   "outputs": [],
   "metadata": {}
  },
  {
   "cell_type": "code",
   "execution_count": null,
   "source": [
    "# insert\n",
    "ls = list(range(10))\n",
    "print(ls)\n",
    "ls.insert(4, 'X')\n",
    "print(ls)"
   ],
   "outputs": [],
   "metadata": {}
  },
  {
   "cell_type": "markdown",
   "source": [
    "## 1.2 การลบข้อมูลออกจาก List ##\n",
    "|List Method|คำอธิบาย|ตัวอย่างการใช้งาน เมื่อ <br> `ls = [1, 2, 3, 4]`|\n",
    "|:---------------|:------------|:---------|\n",
    "|`list.pop()`|ดึงข้อมูลตัวสุดท้ายออกไปจาก List <br> และคืนค่าข้อมูลนั้น| `data = ls.pop()`|\n",
    "|`list.pop(index)`|ดึงข้อมูลตำแหน่ง `index` ออกไปจาก List <br> และคืนค่าข้อมูลนั้น| `data = ls.pop(1)`|\n",
    "|`list.remove(data)`|ลบข้อมูล data ตัวแรกที่เจอใน List ออกไปจาก List| `ls.remove(2)`|"
   ],
   "metadata": {}
  },
  {
   "cell_type": "code",
   "execution_count": null,
   "source": [
    "ls = ['Alex', 'Alan', 'Alkine', 'Alkane', 'Alkene', 'Alcohol', 'Alien']\n",
    "the_last = ls.pop()\n",
    "print(\"The last element:\", the_last)\n",
    "print(\"Remaining ls:\", ls)"
   ],
   "outputs": [],
   "metadata": {}
  },
  {
   "cell_type": "code",
   "execution_count": null,
   "source": [
    "ls = ['Alex', 'Alan', 'Alkine', 'Alkane', 'Alkene', 'Alcohol', 'Alien']\n",
    "print(ls.pop(3))\n",
    "print(\"Remaining ls:\", ls)"
   ],
   "outputs": [],
   "metadata": {}
  },
  {
   "cell_type": "code",
   "execution_count": null,
   "source": [
    "ls = ['Alex', 'Alan', 'Alkine', 'Alkane', 'Alkene', 'Alcohol', 'Alien']\n",
    "ls.remove('Alex')\n",
    "print(ls)"
   ],
   "outputs": [],
   "metadata": {}
  },
  {
   "cell_type": "code",
   "execution_count": null,
   "source": [
    "ls = [7, 6, 5, 4, 7, 6, 5, 4, 7, 6, 5, 4]\n",
    "ls.remove(6)  # remove ตัวแรกเท่านั้น\n",
    "print(ls)"
   ],
   "outputs": [],
   "metadata": {}
  },
  {
   "cell_type": "code",
   "execution_count": null,
   "source": [
    "# remove สมาชิกที่ไม่อยู่ใน List จะ Error\n",
    "ls = [7, 6, 5, 4, 7, 6, 5, 4, 7, 6, 5, 4]\n",
    "ls.remove(100)\n",
    "print(ls)"
   ],
   "outputs": [],
   "metadata": {}
  },
  {
   "cell_type": "markdown",
   "source": [
    "## 1.3 การเรียงข้อมูลใน List ##\n",
    "|List Method|คำอธิบาย|ตัวอย่างการใช้งาน เมื่อ <br> `ls = [3, 4, 1, 2]`|\n",
    "|:---------------|:------------|:---------|\n",
    "|`list.sort()`|เรียงลำดับ List ใหม่ จากค่าน้อยไปค่ามาก| `ls.sort()`|\n",
    "|`list.sort(reverse=True)`|เรียงลำดับ List ใหม่ จากค่ามากไปค่าน้อย| `ls.sort(reverse=True)`|\n",
    "|`list.reverse()`|สลับลำดับจากท้ายสุดขึ้นก่อน| `ls.reverse()`|"
   ],
   "metadata": {}
  },
  {
   "cell_type": "code",
   "execution_count": null,
   "source": [
    "ls = [3, 4, 1, 2]\n",
    "print(\"before sort:\", ls)\n",
    "ls.sort()\n",
    "print(\"after sort:\", ls)"
   ],
   "outputs": [],
   "metadata": {}
  },
  {
   "cell_type": "code",
   "execution_count": null,
   "source": [
    "ls = [3, 4, 1, 2]\n",
    "print(\"before sort:\", ls)\n",
    "ls.sort(reverse=True)\n",
    "print(\"after sort:\", ls)"
   ],
   "outputs": [],
   "metadata": {}
  },
  {
   "cell_type": "code",
   "execution_count": null,
   "source": [
    "ls = ['Alex', 'Alan', 'Alkine', 'Alkane', 'Alkene', 'Alcohol', 'Alien']\n",
    "ls.sort()\n",
    "print(\"sort:\", ls)"
   ],
   "outputs": [],
   "metadata": {}
  },
  {
   "cell_type": "code",
   "execution_count": null,
   "source": [
    "# List ที่จะ sort ได้ ต้องมี Type เหมือนกัน\n",
    "ls = [3, 4, 1, 2, '3', '4', '1', '2']\n",
    "ls.sort()\n",
    "print(ls)"
   ],
   "outputs": [],
   "metadata": {}
  },
  {
   "cell_type": "code",
   "execution_count": null,
   "source": [
    "ls = ['Alex', 'Alan', 'Alkine', 'Alkane', 'Alkene', 'Alcohol', 'Alien']\n",
    "ls.reverse()\n",
    "print(\"reverse:\", ls)"
   ],
   "outputs": [],
   "metadata": {}
  },
  {
   "cell_type": "code",
   "execution_count": null,
   "source": [
    "ls = ['Alex', 'Alan', 'Alkine', 'Alkane', 'Alkene', 'Alcohol', 'Alien']\n",
    "# ใช้เป็น chaining ไม่ได้\n",
    "ls.sort().reverse()\n",
    "print(ls)"
   ],
   "outputs": [],
   "metadata": {}
  },
  {
   "cell_type": "code",
   "execution_count": null,
   "source": [
    "ls = ['Alex', 'Alan', 'Alkine', 'Alkane', 'Alkene', 'Alcohol', 'Alien']\n",
    "ls.sort()\n",
    "ls.reverse()\n",
    "print(ls)"
   ],
   "outputs": [],
   "metadata": {}
  },
  {
   "cell_type": "markdown",
   "source": [
    "## 1.4 การค้นหาข้อมูลใน List ##\n",
    "|List Method/Function|คำอธิบาย|ตัวอย่างการใช้งาน เมื่อ <br> `ls = [1, 1, 2, 3, 4]`|\n",
    "|:---------------|:------------|:---------|\n",
    "|`list.count(data)`|คืนค่าจำนวน `data` ใน List| `count = ls.count(1)`|\n",
    "|`len(list)`|คืนค่าจำนวนข้อมูลใน List|`count = len(ls)`|\n",
    "|`list.index(data)`|คืนค่า `index` ของ data ตัวแรก|`index = ls.index(2)`|"
   ],
   "metadata": {}
  },
  {
   "cell_type": "code",
   "execution_count": null,
   "source": [
    "ls = [6, 6, 6, 6, 6, 6, 6, 6, 7, 7, 7, 7, 7, 7, 7, 7, 7, 7]\n",
    "print(\"Total elements in ls:\", len(ls))\n",
    "print(\"Total 6 in ls:\", ls.count(6))\n",
    "print(\"Total 7 in ls:\", ls.count(7))\n",
    "print(\"Total 8 in ls:\", ls.count(8))\n",
    "print(\"ls:\", ls)"
   ],
   "outputs": [],
   "metadata": {}
  },
  {
   "cell_type": "code",
   "execution_count": null,
   "source": [
    "ls = [3, 5, 7, 9]\n",
    "ls.index(3)"
   ],
   "outputs": [],
   "metadata": {}
  },
  {
   "cell_type": "code",
   "execution_count": null,
   "source": [
    "ls = [3, 5, 7, 9]\n",
    "ls.index(10)  # ค้นหา index ของข้อมูลที่ไม่มีใน List => Error"
   ],
   "outputs": [],
   "metadata": {}
  },
  {
   "cell_type": "markdown",
   "source": [
    "-------\n",
    "\n",
    "-------"
   ],
   "metadata": {}
  },
  {
   "cell_type": "markdown",
   "source": [
    "# 2. Sequence Assignment #"
   ],
   "metadata": {}
  },
  {
   "cell_type": "markdown",
   "source": [
    "### 2.1 สามารถนำค่าจาก List มาใส่ตัวแปรใน Sequence ได้\n",
    "* จำนวนตัวแปรต้องเท่ากับจำนวนสมาชิกใน List"
   ],
   "metadata": {}
  },
  {
   "cell_type": "code",
   "execution_count": null,
   "source": [
    "[i, j] = [0, 1]\n",
    "print(\"i:\", i)\n",
    "print(\"j:\", j)"
   ],
   "outputs": [],
   "metadata": {}
  },
  {
   "cell_type": "code",
   "execution_count": null,
   "source": [
    "ls = ['a', 'b', 'c', 'd', 'e', 'f']\n",
    "[i, j] = ls[1:5:2]\n",
    "print(\"i:\", i)\n",
    "print(\"j:\", j)"
   ],
   "outputs": [],
   "metadata": {}
  },
  {
   "cell_type": "markdown",
   "source": [
    "### 2.2 สลับค่าระหว่าง 2 ตัวแปร ###\n",
    "* ในภาษาอื่น ต้องใช้ temp มาช่วย"
   ],
   "metadata": {}
  },
  {
   "cell_type": "code",
   "execution_count": null,
   "source": [
    "x = 300\n",
    "y = 1\n",
    "print(1, 'x:', x, ', y:', y)\n",
    "temp = x\n",
    "x = y\n",
    "y = temp\n",
    "print(2, 'x:', x, ', y:', y)"
   ],
   "outputs": [],
   "metadata": {}
  },
  {
   "cell_type": "markdown",
   "source": [
    "* ในภาษา python ใช้ sequence assignment"
   ],
   "metadata": {}
  },
  {
   "cell_type": "code",
   "execution_count": null,
   "source": [
    "x = 300\n",
    "y = 1\n",
    "print(1, 'x:', x, ', y:', y)\n",
    "[x, y] = [y, x]\n",
    "print(2, 'x:', x, ', y:', y)"
   ],
   "outputs": [],
   "metadata": {}
  },
  {
   "cell_type": "markdown",
   "source": [
    "### 2.3 นำ List มาเปลี่ยนค่าของ Slice ###\n",
    "* มีการเปลี่ยนแปลงใน List เดิม\n",
    "* Slice กับ List ทางขวา ไม่จำเป็นต้องเท่ากัน"
   ],
   "metadata": {}
  },
  {
   "cell_type": "code",
   "execution_count": null,
   "source": [
    "ls = ['a', 'b', 'c', 'd', 'e', 'f']\n",
    "print(1, ls)\n",
    "ls[2:4] = ['x', 'y']\n",
    "print(2, ls)"
   ],
   "outputs": [],
   "metadata": {}
  },
  {
   "cell_type": "code",
   "execution_count": null,
   "source": [
    "ls = ['a', 'b', 'c', 'd', 'e', 'f']\n",
    "print(1, ls)\n",
    "ls[2:3] = []\n",
    "print(2, ls)"
   ],
   "outputs": [],
   "metadata": {}
  },
  {
   "cell_type": "code",
   "execution_count": null,
   "source": [
    "ls = ['a', 'b', 'c', 'd', 'e', 'f']\n",
    "print(1, ls)\n",
    "ls[2:3] = ['w', 'x', 'y', 'z']\n",
    "print(2, ls)"
   ],
   "outputs": [],
   "metadata": {}
  },
  {
   "cell_type": "markdown",
   "source": [
    "---------\n",
    "\n",
    "---------"
   ],
   "metadata": {}
  },
  {
   "cell_type": "markdown",
   "source": [
    "# 3. การเปรียบเทียบ List #"
   ],
   "metadata": {}
  },
  {
   "cell_type": "markdown",
   "source": [
    "###  3.1 เปรียบเทียบมากกว่า น้อยกว่า (`>`, `>=`, `<`, `<=`) ###\n",
    "* เปรียบเทียบทีละคู่ ผลการเปรียบเทียบของคู่แรกที่ต่างกัน จะเป็น ผลการเปรียบเทียบของ List"
   ],
   "metadata": {}
  },
  {
   "cell_type": "code",
   "execution_count": null,
   "source": [
    "list1 = [1, 2, 3, 4]\n",
    "list2 = [1, 2, 4, 3]\n",
    "print(list1 < list2)"
   ],
   "outputs": [],
   "metadata": {}
  },
  {
   "cell_type": "code",
   "execution_count": null,
   "source": [
    "list1 = ['p', 'y', 't', 'h', 'o', 'n']\n",
    "list2 = ['p', 'y', 't', 'h', 'i', 'n']\n",
    "print(list1 > list2)"
   ],
   "outputs": [],
   "metadata": {}
  },
  {
   "cell_type": "markdown",
   "source": [
    "* String เปรียบเทียบจาก ascii code (ดู ascii code ด้วยฟังก์ชัน `ord(char)`)"
   ],
   "metadata": {}
  },
  {
   "cell_type": "code",
   "execution_count": null,
   "source": [
    "list1 = ['p', 'y', 't', 'h', 'o', 'n']\n",
    "list2 = ['P', 'y', 't', 'h', 'o', 'n']\n",
    "print(list1 < list2)\n",
    "print(ord('p'))\n",
    "print(ord('P'))"
   ],
   "outputs": [],
   "metadata": {}
  },
  {
   "cell_type": "markdown",
   "source": [
    "* List ที่ไม่มีสมาชิกให้เปรียบเทียบในคู่นั้น จะถือว่าน้อยกว่า"
   ],
   "metadata": {}
  },
  {
   "cell_type": "code",
   "execution_count": null,
   "source": [
    "list1 = ['p', 'y', 't', 'h', 'o', 'n']\n",
    "list2 = ['p', 'y', 't']\n",
    "print(list1 > list2)"
   ],
   "outputs": [],
   "metadata": {}
  },
  {
   "cell_type": "markdown",
   "source": [
    "* List ที่มีสมาชิก type ต่างกัน จะเปรียบเทียบกันไม่ได้"
   ],
   "metadata": {}
  },
  {
   "cell_type": "code",
   "execution_count": null,
   "source": [
    "list1 = ['H', 'e', 'l', 'l', 'o']\n",
    "str1 = 'Hello'\n",
    "print(list1 > str1)"
   ],
   "outputs": [],
   "metadata": {}
  },
  {
   "cell_type": "code",
   "execution_count": null,
   "source": [
    "list1 = ['H', 'e', 'l', 'l', 'o']\n",
    "list2 = ['Hello']\n",
    "print(list1 > list2)"
   ],
   "outputs": [],
   "metadata": {}
  },
  {
   "cell_type": "code",
   "execution_count": null,
   "source": [
    "list1 = ['H', 'e', 'l', 'l', 'o']\n",
    "list2 = [15, 16, 21, 33, 0]\n",
    "print(list1 > list2)"
   ],
   "outputs": [],
   "metadata": {}
  },
  {
   "cell_type": "markdown",
   "source": [
    "### 3.2 เปรียบเทียบเท่ากัน (Equality: `==`, `!=`) ###\n",
    "* List 2 List เท่ากัน เมื่อสมาชิกแต่ละ Index เท่ากัน"
   ],
   "metadata": {}
  },
  {
   "cell_type": "code",
   "execution_count": null,
   "source": [
    "list1 = [1, 2, 3, 4]\n",
    "list2 = list(range(1, 5))\n",
    "print(list1 == list2)"
   ],
   "outputs": [],
   "metadata": {}
  },
  {
   "cell_type": "code",
   "execution_count": null,
   "source": [
    "list1 = [3, 5, 7, 11]\n",
    "list2 = [2, 3, 5, 7]\n",
    "print(list1 == list2)"
   ],
   "outputs": [],
   "metadata": {}
  },
  {
   "cell_type": "markdown",
   "source": [
    "* ถ้าจำนวนไม่เท่ากัน List ก็ไม่เท่ากัน"
   ],
   "metadata": {}
  },
  {
   "cell_type": "code",
   "execution_count": null,
   "source": [
    "list1 = [3, 4, 5]\n",
    "list2 = [3, 4, 5, 6]\n",
    "print(list1 == list2)\n",
    "print(list1 != list2)"
   ],
   "outputs": [],
   "metadata": {}
  },
  {
   "cell_type": "markdown",
   "source": [
    "### 3.3 เปรียบเทียบเอกลักษณ์ (Identity: `is`) ###\n",
    "* เปรียบเทียบว่าเป็น Object เดียวกันหรือไม่"
   ],
   "metadata": {}
  },
  {
   "cell_type": "code",
   "execution_count": null,
   "source": [
    "list1 = [1, 2, 3, 4]\n",
    "list2 = list(range(1, 5))\n",
    "print(list1 == list2)\n",
    "print(list1 is list2)\n",
    "print(list1 is [1, 2, 3, 4])"
   ],
   "outputs": [],
   "metadata": {}
  },
  {
   "cell_type": "code",
   "execution_count": null,
   "source": [
    "list1 = [1, 2, 3, 4]\n",
    "list2 = list(range(1, 5))\n",
    "print(list1[1] == list2[1])\n",
    "print(list1[1] is list2[1])\n",
    "print(list1[1] is 2)"
   ],
   "outputs": [],
   "metadata": {}
  },
  {
   "cell_type": "code",
   "execution_count": null,
   "source": [
    "list1 = [1, 2, 3, 4]\n",
    "list2 = list1\n",
    "print(list1 == list2)\n",
    "print(list1 is list2)"
   ],
   "outputs": [],
   "metadata": {}
  },
  {
   "cell_type": "code",
   "execution_count": null,
   "source": [
    "a = \"a\"\n",
    "print(a == 'a')\n",
    "print(a is 'a')\n",
    "b = a\n",
    "print(b is a)"
   ],
   "outputs": [],
   "metadata": {}
  },
  {
   "cell_type": "markdown",
   "source": [
    "# 4. Value Type v.s. Reference Type #\n",
    "\n",
    "### Value Type\n",
    "* คือ ชนิดของข้อมูลที่เก็บค่าของข้อมูล\n",
    "* เช่น int, float, string\n",
    "\n",
    "### Reference Type\n",
    "* คือ ชนิดของข้อมูลที่เก็บ reference ที่อ้างถึงข้อมูล\n",
    "* เช่น List"
   ],
   "metadata": {}
  },
  {
   "cell_type": "markdown",
   "source": [
    "### ตัวอย่าง Value Type ###"
   ],
   "metadata": {}
  },
  {
   "cell_type": "code",
   "execution_count": null,
   "source": [
    "str1 = \"Hello \"\n",
    "str2 = str1                 # assign ค่าจากตัวแปร str1 ให้ ตัวแปร str2\n",
    "print(\"str1:\", str1)\n",
    "print(\"str2:\", str2)\n",
    "print(\"str1 is str2:\", str1 is str2)\n",
    "str2 += \"Python\"\n",
    "print('-' * 20)\n",
    "def append_list(list1, list2):\n",
    "    list1 += list2\n",
    "    return list1\n",
    "\n",
    "\n",
    "ls1 = [1, 2]\n",
    "ls2 = [3, 4]\n",
    "print(\"ls1 before call function:\", ls1)\n",
    "print(\"append list:\", append_list(ls1, ls2))\n",
    "print(\"ls1 after call function:\", ls1)\n",
    "print(\"str1:\", str1)\n",
    "print(\"str2:\", str2)\n",
    "print(\"str1 is str2:\", str1 is str2)"
   ],
   "outputs": [],
   "metadata": {}
  },
  {
   "cell_type": "code",
   "execution_count": null,
   "source": [
    "def append_string(str1, str2):\n",
    "    str1 += str2\n",
    "    return str1\n",
    "\n",
    "\n",
    "s1 = \"Hello \"\n",
    "s2 = \"Python\"\n",
    "print(\"s1 before call function:\", s1)\n",
    "print(\"append string:\", append_string(s1, s2))\n",
    "print(\"s1 after call function:\", s1)"
   ],
   "outputs": [],
   "metadata": {}
  },
  {
   "cell_type": "markdown",
   "source": [
    "### ตัวอย่าง Reference Type ###"
   ],
   "metadata": {}
  },
  {
   "cell_type": "code",
   "execution_count": null,
   "source": [
    "list_a = [1, 2, 3]\n",
    "# assign reference ที่ตัวแปร list_a อ้างถึง ให้ ตัวแปร list_b อ้างถึงได้ด้วย\n",
    "list_b = list_a      \n",
    "print(\"list_a:\", list_a)\n",
    "print(\"list_b:\", list_b)\n",
    "print(\"list_a is list_b:\", list_a is list_b)\n",
    "list_b.append(4)\n",
    "list_b.append(4)\n",
    "list_b.append(4)\n",
    "print('-' * 20)\n",
    "print(\"list_a:\", list_a)\n",
    "print(\"list_b:\", list_b)\n",
    "print(\"list_a is list_b:\", list_a is list_b)"
   ],
   "outputs": [],
   "metadata": {
    "scrolled": true
   }
  },
  {
   "cell_type": "code",
   "execution_count": null,
   "source": [
    "def append_list(list1, list2):\n",
    "    list1 += list2\n",
    "    return list1\n",
    "\n",
    "\n",
    "ls1 = [1, 2]\n",
    "ls2 = [3, 4]\n",
    "print(\"ls1 before call function:\", ls1)\n",
    "print(\"append list:\", append_list(ls1, ls2))\n",
    "print(\"ls1 after call function:\", ls1)"
   ],
   "outputs": [],
   "metadata": {}
  },
  {
   "cell_type": "markdown",
   "source": [
    "# 5. List ซ้อน List (Matrix) #"
   ],
   "metadata": {}
  },
  {
   "cell_type": "code",
   "execution_count": null,
   "source": [
    "ls = [ [1,2,3] , [4,5,6] , [7,8,9] ]\n",
    "print(ls[0])\n",
    "print(ls[1][2])"
   ],
   "outputs": [],
   "metadata": {}
  },
  {
   "cell_type": "code",
   "execution_count": null,
   "source": [
    "# แต่ละแถวมีสมาชิกไม่เท่ากันก็ได้\n",
    "ls = [ [1,2,3] , [4,5] , [7,8,9] ]\n",
    "print(ls[0])\n",
    "print(ls[1])"
   ],
   "outputs": [],
   "metadata": {}
  },
  {
   "cell_type": "code",
   "execution_count": null,
   "source": [
    "# แสดงข้อมูลแบบ Matrix\n",
    "ls = [ [1,2,3] , [4,5,6] , [7,8,9] ]\n",
    "for i in ls:\n",
    "    for j in i:\n",
    "        print(j, end=' ')\n",
    "    print('')"
   ],
   "outputs": [],
   "metadata": {}
  },
  {
   "cell_type": "code",
   "execution_count": null,
   "source": [
    "ls = [ [1,2,3] , [4,5] , [7,8,9] ]\n",
    "for i in ls:\n",
    "    for j in i:\n",
    "        print(j, end=' ')\n",
    "    print('')"
   ],
   "outputs": [],
   "metadata": {}
  },
  {
   "cell_type": "markdown",
   "source": [
    "# 6. List and String #"
   ],
   "metadata": {}
  },
  {
   "cell_type": "markdown",
   "source": [
    "### 6.1 แยก String เป็น List ###\n",
    "`string.split(delimeter)`\n",
    "\n",
    "* แบ่ง String เป็น String ย่อย (ในรูปของ List) โดยแบ่งตาม delimeter\n",
    "* default delimeter คือ space (' ')"
   ],
   "metadata": {}
  },
  {
   "cell_type": "code",
   "execution_count": null,
   "source": [
    "str1 = \"Trust me, I am programmer\"\n",
    "split_strings = str1.split()\n",
    "print(split_strings)\n",
    "print(str1)"
   ],
   "outputs": [],
   "metadata": {}
  },
  {
   "cell_type": "code",
   "execution_count": null,
   "source": [
    "str1 = \"Trust me, I am programmer\"\n",
    "split_strings = str1.split(',')\n",
    "print(split_strings)"
   ],
   "outputs": [],
   "metadata": {}
  },
  {
   "cell_type": "code",
   "execution_count": null,
   "source": [
    "header = \"Number,Name,Score\"\n",
    "data = \"1,Johny,8\"\n",
    "print(header.split(','))\n",
    "print(data.split(','))"
   ],
   "outputs": [],
   "metadata": {}
  },
  {
   "cell_type": "code",
   "execution_count": null,
   "source": [
    "ip = '192.168.137.24'\n",
    "print(ip.split('.'))"
   ],
   "outputs": [],
   "metadata": {}
  },
  {
   "cell_type": "code",
   "execution_count": null,
   "source": [
    "tsv = \"Tab\tSeparate\tValue\"\n",
    "print(tsv.split('\\t'))"
   ],
   "outputs": [],
   "metadata": {}
  },
  {
   "cell_type": "markdown",
   "source": [
    "### 6.2 เชื่อมข้อมูลใน List ให้เป็น String ###\n",
    "`string.join(list)`"
   ],
   "metadata": {}
  },
  {
   "cell_type": "code",
   "execution_count": null,
   "source": [
    "seq = [\"cs\", \"is\", \"computer\", \"science\"]\n",
    "print(\"-\".join(seq))"
   ],
   "outputs": [],
   "metadata": {}
  },
  {
   "cell_type": "code",
   "execution_count": null,
   "source": [
    "seq = (\"cs\", \"is\", \"computer\", \"science\")\n",
    "print(\"-*-\".join(seq))"
   ],
   "outputs": [],
   "metadata": {}
  },
  {
   "cell_type": "code",
   "execution_count": null,
   "source": [
    "seq = (\"cs\", \"is\", \"computer\", \"science\")\n",
    "print(\"\".join(seq))"
   ],
   "outputs": [],
   "metadata": {}
  }
 ],
 "metadata": {
  "kernelspec": {
   "display_name": "Python 3",
   "language": "python",
   "name": "python3"
  },
  "language_info": {
   "codemirror_mode": {
    "name": "ipython",
    "version": 3
   },
   "file_extension": ".py",
   "mimetype": "text/x-python",
   "name": "python",
   "nbconvert_exporter": "python",
   "pygments_lexer": "ipython3",
   "version": "3.7.6"
  }
 },
 "nbformat": 4,
 "nbformat_minor": 4
}