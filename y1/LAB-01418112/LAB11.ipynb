{
 "cells": [
  {
   "cell_type": "code",
   "execution_count": 2,
   "source": [
    "word = input()\n",
    "expo = \"\"\n",
    "\n",
    "for i in word:\n",
    "    if i not in \"aeiouAEIOU\":\n",
    "        expo += i\n",
    "\n",
    "print(expo)"
   ],
   "outputs": [
    {
     "output_type": "stream",
     "name": "stdout",
     "text": [
      "n fn dy\n"
     ]
    }
   ],
   "metadata": {}
  },
  {
   "cell_type": "code",
   "execution_count": 7,
   "source": [
    "target = input()\n",
    "guess = input()\n",
    "round = 6\n",
    "mark = 0\n",
    "used = []\n",
    "\n",
    "if target:\n",
    "    while guess != \"0\" and round > 0:\n",
    "        if guess in target and guess not in used:\n",
    "            mark += target.count(guess)\n",
    "            used.append(guess)\n",
    "        else:\n",
    "            round -= 1\n",
    "        guess = input()\n",
    "    print(\"{}/{}\".format(mark, len(target)))"
   ],
   "outputs": [
    {
     "output_type": "stream",
     "name": "stdout",
     "text": [
      "4/17\n"
     ]
    }
   ],
   "metadata": {}
  },
  {
   "cell_type": "code",
   "execution_count": 1,
   "source": [
    "def isVowel(c):\n",
    "    if c in \"aeiou\":\n",
    "        return True\n",
    "\n",
    "def decrypt(encrypted):\n",
    "    if len(encrypted) < 3:\n",
    "        return encrypted\n",
    "    if isVowel(encrypted[0]) and encrypted[0] == encrypted[2] and encrypted[1] == \"p\":\n",
    "        return encrypted[0] + decrypt(encrypted[3:])\n",
    "    else:\n",
    "        return encrypted[0] + decrypt(encrypted[1:])\n",
    "\n",
    "encrypted = input()\n",
    "print(decrypt(encrypted))"
   ],
   "outputs": [
    {
     "output_type": "stream",
     "name": "stdout",
     "text": [
      "copm\n"
     ]
    }
   ],
   "metadata": {}
  }
 ],
 "metadata": {
  "orig_nbformat": 4,
  "language_info": {
   "name": "python",
   "version": "3.8.9",
   "mimetype": "text/x-python",
   "codemirror_mode": {
    "name": "ipython",
    "version": 3
   },
   "pygments_lexer": "ipython3",
   "nbconvert_exporter": "python",
   "file_extension": ".py"
  },
  "kernelspec": {
   "name": "python3",
   "display_name": "Python 3.8.9 64-bit"
  },
  "interpreter": {
   "hash": "31f2aee4e71d21fbe5cf8b01ff0e069b9275f58929596ceb00d14d90e3e16cd6"
  }
 },
 "nbformat": 4,
 "nbformat_minor": 2
}