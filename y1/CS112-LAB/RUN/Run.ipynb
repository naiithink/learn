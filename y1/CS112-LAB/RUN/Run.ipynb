{
 "cells": [
  {
   "cell_type": "code",
   "execution_count": null,
   "source": [
    "\"\"\"\n",
    "import ctypes\n",
    "s = \"Hi!\"\n",
    "p = hex(id(s[0]))\n",
    "ctypes.cast(p, ctypes.py_object).value\n",
    "\"\"\"\n",
    "int(0x7fc6901dd8f0)"
   ],
   "outputs": [],
   "metadata": {}
  },
  {
   "cell_type": "code",
   "execution_count": null,
   "source": [
    "def accum_sum(l):\n",
    "\n",
    "    total = 0\n",
    "    for i in range(count):\n",
    "        total += l[i]\n",
    "        print(total)\n",
    "\n",
    "l = []\n",
    "while True:\n",
    "    number = int(input(\"Enter a number (0 to end): \"))\n",
    "    if number == 0:\n",
    "        break\n",
    "    if number > 0 and number < 1000:\n",
    "        l.append(number)\n",
    "    else:\n",
    "        print(\"Number is out of range.\")\n",
    "\n",
    "count = len(l)\n",
    "print(\"Original list:\")\n",
    "print(l)\n",
    "print(\"Accumulative Sum:\")\n",
    "print(accum_sum(l))"
   ],
   "outputs": [],
   "metadata": {}
  },
  {
   "cell_type": "code",
   "execution_count": null,
   "source": [
    "a = \"ก\"\n",
    "b = \"กา\"\n",
    "c = \"กะ\"\n",
    "d = \"กับ\"\n",
    "print(a, id(a[0]))\n",
    "print(b, id(b[0]), id(b[1]))\n",
    "print(c, id(c[0]), id(c[1]))\n",
    "print(d, id(d[0]), id(d[1]), id(d[2]))"
   ],
   "outputs": [],
   "metadata": {}
  },
  {
   "cell_type": "code",
   "execution_count": 6,
   "source": [
    "s = \"\"\n",
    "c = \"D,E,F#,G,A,B,C#,D\"\n",
    "lists = []\n",
    "\n",
    "for i in c:\n",
    "    if i != \",\":\n",
    "        s += i\n",
    "    else:\n",
    "        lists.append(s)\n",
    "        s = \"\"\n",
    "\n",
    "print(lists)"
   ],
   "outputs": [
    {
     "output_type": "stream",
     "name": "stdout",
     "text": [
      "['D', 'E', 'F#', 'G', 'A', 'B', 'C#']\n"
     ]
    }
   ],
   "metadata": {}
  },
  {
   "cell_type": "code",
   "execution_count": null,
   "source": [
    "import math\n",
    "def find_sd(l):\n",
    "    x_bar = sum(l) / len(l)\n",
    "    for i in range(len(l)):\n",
    "        l[i] = l[i] - x_bar\n",
    "    for i in range(len(l)):\n",
    "        l[i] = l[i] ** 2\n",
    "    sd = math.sqrt(sum(l) / (len(l) - 1))\n",
    "    return sd\n",
    "\n",
    "def find_average(l):\n",
    "    return sum(l) / len(l)\n",
    "\n",
    "scores = []\n",
    "\n",
    "while True:\n",
    "    score = float(input(\"Enter score: \"))\n",
    "    if score == -1:\n",
    "        break\n",
    "    elif score < 0 or score > 100:\n",
    "        print(\"Score is out of range.\")\n",
    "    else:\n",
    "        scores.append(score)\n",
    "\n",
    "print(\"Maximum score is {:.2f}.\".format(max(scores)))\n",
    "print(\"Minimum score is {:.2f}.\".format(min(scores)))\n",
    "print(\"Average score is {:.2f}.\".format(find_average(scores)))\n",
    "print(\"Standard deviation is {:.2f}.\".format(find_sd(scores)))"
   ],
   "outputs": [],
   "metadata": {}
  },
  {
   "cell_type": "code",
   "execution_count": null,
   "source": [
    "import math\n",
    "\n",
    "def find_sd(l):\n",
    "    x_bar = sum(l) / len(l)\n",
    "    for i in range(len(l)):\n",
    "        l[i] = l[i] - x_bar\n",
    "    for i in range(len(l)):\n",
    "        l[i] = l[i] ** 2\n",
    "    sd = math.sqrt(sum(l) / (len(l) - 1))\n",
    "    return sd\n",
    "\n",
    "def find_average(l):\n",
    "    return sum(l) / len(l)\n",
    "\n",
    "scores = []\n",
    "\n",
    "while True:\n",
    "    score = float(input(\"Enter score: \"))\n",
    "    if score == -1:\n",
    "        if scores:\n",
    "    print(\"Maximum score is {:.2f}.\".format(max(scores)))\n",
    "    print(\"Minimum score is {:.2f}.\".format(min(scores)))\n",
    "    print(\"Average score is {:.2f}.\".format(find_average(scores)))\n",
    "    print(\"Standard deviation is {:.2f}.\".format(find_sd(scores)))\n",
    "        break\n",
    "    elif score < 0 or score > 100:\n",
    "        print(\"Score is out of range.\")\n",
    "    else:\n",
    "        scores.append(score)\n",
    "\n"
   ],
   "outputs": [],
   "metadata": {}
  },
  {
   "cell_type": "code",
   "execution_count": 1,
   "source": [
    "import tkinter as tk\n",
    "\n",
    "class Application(tk.Frame):\n",
    "    def __init__(self, master=None):\n",
    "        super().__init__(master)\n",
    "        self.master = master\n",
    "        self.pack()\n",
    "        self.create_widgets()\n",
    "\n",
    "    def create_widgets(self):\n",
    "        self.hi_there = tk.Button(self)\n",
    "        self.hi_there[\"text\"] = \"Hello World\\n(click me)\"\n",
    "        self.hi_there[\"command\"] = self.say_hi\n",
    "        self.hi_there.pack(side=\"top\")\n",
    "\n",
    "        self.quit = tk.Button(self, text=\"QUIT\", fg=\"red\",\n",
    "                              command=self.master.destroy)\n",
    "        self.quit.pack(side=\"bottom\")\n",
    "\n",
    "    def say_hi(self):\n",
    "        print(\"hi there, everyone!\")\n",
    "\n",
    "root = tk.Tk()\n",
    "app = Application(master=root)\n",
    "app.mainloop()"
   ],
   "outputs": [],
   "metadata": {}
  }
 ],
 "metadata": {
  "orig_nbformat": 4,
  "language_info": {
   "name": "python",
   "version": "3.8.9",
   "mimetype": "text/x-python",
   "codemirror_mode": {
    "name": "ipython",
    "version": 3
   },
   "pygments_lexer": "ipython3",
   "nbconvert_exporter": "python",
   "file_extension": ".py"
  },
  "kernelspec": {
   "name": "python3",
   "display_name": "Python 3.8.9 64-bit"
  },
  "interpreter": {
   "hash": "31f2aee4e71d21fbe5cf8b01ff0e069b9275f58929596ceb00d14d90e3e16cd6"
  }
 },
 "nbformat": 4,
 "nbformat_minor": 2
}