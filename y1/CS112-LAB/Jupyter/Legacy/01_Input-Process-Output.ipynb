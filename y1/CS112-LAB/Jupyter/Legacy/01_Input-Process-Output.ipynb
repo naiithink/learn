{
  "nbformat": 4,
  "nbformat_minor": 2,
  "metadata": {
    "kernelspec": {
      "name": "python3",
      "display_name": "Python 3.9.6 64-bit"
    },
    "language_info": {
      "codemirror_mode": {
        "name": "ipython",
        "version": 3
      },
      "file_extension": ".py",
      "mimetype": "text/x-python",
      "name": "python",
      "nbconvert_exporter": "python",
      "pygments_lexer": "ipython3",
      "version": "3.9.6"
    },
    "colab": {
      "name": "Copy of 01-input-process-output.ipynb",
      "provenance": []
    },
    "interpreter": {
      "hash": "aee8b7b246df8f9039afb4144a1f6fd8d2ca17a180786b69acc140d282b71a49"
    }
  },
  "cells": [
    {
      "cell_type": "markdown",
      "source": [
        "# Input > Process > Output #"
      ],
      "metadata": {
        "collapsed": true,
        "id": "j8IZL8I2o4TP"
      }
    },
    {
      "cell_type": "markdown",
      "source": [
        "แบ่งโปรแกรมออกเป็น 3 ส่วน\n",
        "1. Input - ส่วนข้อมูลเข้าสู่โปรแกรม\n",
        "2. Process - ส่วนวิเคราะห์การทำงาน\n",
        "3. Output - ส่วนแสดงผลลัพธ์ของการทำงาน\n",
        "\n",
        "แต่ละส่วนมีการทำงานต่อเนื่องกัน"
      ],
      "metadata": {
        "id": "w2iQIy8ho4TQ"
      }
    },
    {
      "cell_type": "code",
      "execution_count": null,
      "source": [
        "# input\n",
        "\n",
        "\n",
        "# process\n",
        "\n",
        "\n",
        "# output\n",
        "\n"
      ],
      "outputs": [],
      "metadata": {
        "collapsed": true,
        "id": "V_Z463_lo4TR"
      }
    },
    {
      "cell_type": "markdown",
      "source": [
        "> ในการเขียนโปรแกรม หากไม่ต้องการให้ประมวลผลคำสั่งบรรทัดใด ให้บรรทัดนั้นเป็น Comment<br>\n",
        "> Comment ในแต่ละภาษาโปรแกรม จะมีรูปแบบต่างกัน <br>\n",
        "> สำหรับภาษา Python จะใช้เครื่องหมาย `#` นำหน้าบรรทัดนั้น"
      ],
      "metadata": {
        "id": "jnUCN-T5o4TS"
      }
    },
    {
      "cell_type": "code",
      "execution_count": null,
      "source": [
        "# ตัวอย่างโปรแกรม แนะนำตัวเอง\n",
        "\n",
        "# input\n",
        "name = input(\"Enter your name: \")\n",
        "age = int(input(\"Enter your age: \"))\n",
        "\n",
        "# process\n",
        "result = \"Hello, my name is \" + name + \". I am \" + str(age) + \" years old.\"\n",
        "\n",
        "# output\n",
        "print(result)"
      ],
      "outputs": [],
      "metadata": {
        "id": "tALRZT7ho4TS"
      }
    },
    {
      "cell_type": "markdown",
      "source": [
        "-----------------\n",
        "\n",
        "-----------------"
      ],
      "metadata": {
        "id": "2C1Jx4zSo4TT"
      }
    },
    {
      "cell_type": "markdown",
      "source": [
        "# ส่วนข้อมูลเข้าสู่โปรแกรม (Input) #\n",
        "โจทย์ส่วนใหญ่ในวิชานี้ จะรับข้อมูลนำเข้าจากหน้าจอผ่านคำสั่ง `input()` <br>\n",
        "และเก็บค่าของข้อมูลที่รับเข้ามาใส่ตัวแปร\n",
        "\n",
        "### ตัวอย่าง ###\n",
        "```python\n",
        "name = input(\"Enter your name: \")\n",
        "```\n",
        "`name` คือ ตัวแปร ที่เก็บค่าของข้อมูลที่รับมาผ่านคำสั่ง `input()` <br>\n",
        "`input(\"Enter your name: \")` คือ คำสั่ง ที่รับค่าที่ผู้ใช้พิมพ์ผ่านหน้าจอ"
      ],
      "metadata": {
        "id": "_3zpRRr-o4TT"
      }
    },
    {
      "cell_type": "markdown",
      "source": [
        "---------"
      ],
      "metadata": {
        "id": "uD9OrE4Do4TT"
      }
    },
    {
      "cell_type": "markdown",
      "source": [
        "## ชนิดของข้อมูล (Data Type) ##\n",
        "ชนิดข้อมูลพื้นฐานในภาษา Python ที่จะแนะนำให้รู้จักในคาบเรียนนี้คือ\n",
        "1. str (String) อยู่ใน single qoutes (`''`) หรือ double qoutes (`\"\"`) เช่น `'418112'`\n",
        "2. int (Integer) เช่น `418112`\n",
        "3. float (Floating Point) เช่น `418.112`\n",
        "\n",
        "> ข้อมูลนำเข้าที่ได้จากคำสั่ง `input()` มี data type เป็น str"
      ],
      "metadata": {
        "collapsed": true,
        "id": "QSV__C1So4TU"
      }
    },
    {
      "cell_type": "markdown",
      "source": [
        "## คำสั่งแปลงชนิดข้อมูล ##\n",
        "1. คำสั่ง `int()` แปลงข้อมูล type float หรือ type str ที่มีข้อความในรูปจำนวนเต็ม ให้เป็น int เพื่อนำไปคำนวณทางคณิตศาสตร์"
      ],
      "metadata": {
        "id": "ccnKkarNo4TV"
      }
    },
    {
      "cell_type": "code",
      "execution_count": null,
      "source": [
        "# ใช้คำสั่ง int() แปลงข้อมูลจาก float เป็น int\n",
        "height = 179.54\n",
        "print( height )\n",
        "print( int(height) )\n",
        "print( int(height) / 2 )\n",
        "print( int( int(height) / 2 ) )"
      ],
      "outputs": [],
      "metadata": {
        "id": "4IDtqW5Fo4TV"
      }
    },
    {
      "cell_type": "code",
      "execution_count": null,
      "source": [
        "# ใช้คำสั่ง int() แปลงข้อมูลจาก str เป็น int\n",
        "\n",
        "age = '18'\n",
        "print( int(age) * 2 )\n",
        "\n",
        "# ถ้าไม่ใช้คำสั่ง int()\n",
        "print( age * 2 )"
      ],
      "outputs": [],
      "metadata": {
        "id": "cFm96rq6o4TW"
      }
    },
    {
      "cell_type": "code",
      "execution_count": null,
      "source": [
        "# ถ้า str ไม่อยู่ในรูปของจำนวนเต็ม\n",
        "height = '181.56'\n",
        "print( int(height) ) # error"
      ],
      "outputs": [],
      "metadata": {
        "id": "FvcP4RWEo4TX"
      }
    },
    {
      "cell_type": "markdown",
      "source": [
        "2\\. คำสั่ง `float()` แปลงข้อมูล type int หรือ type str ที่มีข้อความในรูปจำนวนจริง ให้เป็น float เพื่อนำไปคำนวณทางคณิตศาสตร์"
      ],
      "metadata": {
        "id": "v8XNCvrIo4TX"
      }
    },
    {
      "cell_type": "code",
      "execution_count": null,
      "source": [
        "# ใช้คำสั่ง float() แปลงข้อมูลจาก int เป็น float\n",
        "score = 20\n",
        "print( float(score) )\n",
        "print( float(score) / 4 )"
      ],
      "outputs": [],
      "metadata": {
        "id": "XjuOrwJoo4TX"
      }
    },
    {
      "cell_type": "code",
      "execution_count": null,
      "source": [
        "# ใช้คำสั่ง float() แปลงข้อมูลจาก str เป็น float\n",
        "score = '20.54'\n",
        "print( float(score) )\n",
        "print( float(score) / 4 )"
      ],
      "outputs": [],
      "metadata": {
        "id": "95q6GpaQo4TX"
      }
    },
    {
      "cell_type": "code",
      "execution_count": null,
      "source": [
        "# ถ้า str ไม่อยู่ในรูปของจำนวนจริง\n",
        "grade = 'B+'\n",
        "print( float(grade) ) # error"
      ],
      "outputs": [],
      "metadata": {
        "id": "9a8JpAENo4TY"
      }
    },
    {
      "cell_type": "markdown",
      "source": [
        "3\\. คำสั่ง `str()` แปลงข้อมูล type int หรือ type float เป็น type str"
      ],
      "metadata": {
        "id": "AuGSoUleo4TY"
      }
    },
    {
      "cell_type": "code",
      "execution_count": null,
      "source": [
        "# ใช้คำสั่ง str() แปลงข้อมูลจาก int หรือ float เป็น str\n",
        "age = 20\n",
        "score = 94.27\n",
        "print( \"I am \" + str(age) + \" years old, and I got \" + str(score) + \" scores.\" )"
      ],
      "outputs": [],
      "metadata": {
        "id": "DONtuRX9o4TY"
      }
    },
    {
      "cell_type": "markdown",
      "source": [
        "### คำสั่งตรวจสอบชนิดข้อมูล ###\n",
        "\n",
        "`type(x)` คืนค่า (return) ชนิดข้อมูลของ x"
      ],
      "metadata": {
        "id": "tGQKpbpDo4TY"
      }
    },
    {
      "cell_type": "code",
      "execution_count": null,
      "source": [
        "print( type(0) )\n",
        "print( type(0.5) )\n",
        "print( type('-0.5') )"
      ],
      "outputs": [],
      "metadata": {
        "id": "i68fEFkwo4TY"
      }
    },
    {
      "cell_type": "code",
      "execution_count": null,
      "source": [
        "x = -15\n",
        "print( type(x) )\n",
        "x = print()\n",
        "print( type(x) )"
      ],
      "outputs": [],
      "metadata": {
        "id": "qDcbDiF2o4TZ"
      }
    },
    {
      "cell_type": "markdown",
      "source": [
        "> ตัวแปรในภาษา Python (และบางภาษาเช่น JavaScript, PHP) สามารถเปลี่ยนชนิดของข้อมูลที่เก็บไว้ \n",
        ">\n",
        "> แต่ในอีกหลายภาษา (เช่น C, Java) จะเปลี่ยนชนิดของข้อมูลที่ตัวแปรเก็บไว้ไม่ได้"
      ],
      "metadata": {
        "id": "su7TfTyso4TZ"
      }
    },
    {
      "cell_type": "markdown",
      "source": [
        "-------------\n",
        "\n",
        "-------------"
      ],
      "metadata": {
        "id": "IYBxgd_Ao4TZ"
      }
    },
    {
      "cell_type": "markdown",
      "source": [
        "# ส่วนวิเคราะห์การทำงาน (Process) #\n",
        "1. การกำหนด (assign) ค่าให้ตัวแปร\n",
        "2. การดำเนินการของจำนวน (int, float)\n",
        "3. การดำเนินการของ str เบื้องต้น"
      ],
      "metadata": {
        "id": "L2jdJBfYo4TZ"
      }
    },
    {
      "cell_type": "markdown",
      "source": [
        "### 1. การกำหนด (assign) ค่าให้ตัวแปร ###\n",
        "> ใช้เครื่องหมาย `=` ในการกำหนดค่าให้ตัวแปร โดยตัวแปรที่จะใช้เก็บค่าอยู่ทางด้านซ้ายของเครื่องหมาย `=`\n",
        "เช่น\n",
        "```python\n",
        "a = 30\n",
        "a = a + 1\n",
        "doubleA = a * 2\n",
        "cubeA = a ** 3\n",
        "```"
      ],
      "metadata": {
        "id": "qPEfZ0Rso4Ta"
      }
    },
    {
      "cell_type": "markdown",
      "source": [
        "### 2. การดำเนินการของจำนวน (int, float) ###\n",
        "\n",
        "2.1 Arithmetic Operators\n",
        "\n",
        "| การดำเนินการ | ตัวดำเนินการ (Operator) | ตัวอย่าง |\n",
        "|-----------|-----------|-----------|\n",
        "| การบวก | `+` | `11.25 + 5 + 15.14`|\n",
        "| การลบ | `-` | `100 - 7.5` |\n",
        "| การคูณ | `*` | `2 * 3.14 * 1`|\n",
        "| ยกกำลัง | `**` | `4 ** 12.5` |\n",
        "| การหาร |\n",
        "| การหารจำนวนจริง | `/` | `22 / 13` <br> `22.15 / 13` |\n",
        "| การหารไม่เอาเศษ | `//` | `22 // 13` <br> `22.15 // 13` |\n",
        "| การหารเอาเศษ (modulo) | `%` | `22 % 13` <br> `22.15 % 13` |\n",
        "\n",
        "2.2 Functions\n",
        "\n",
        "| Function | คำอธิบาย | ตัวอย่าง | ผลการใช้ฟังก์ชัน\n",
        "|-----------|-----------|-----------|-----|\n",
        "| `round(x)` | คืนค่า (return) จำนวนเต็มที่ใกล้จำนวนจริง `x` ที่สุด | `round(11.25)` | `11` |\n",
        "| `abs(x)` | คืนค่า (return) ค่าสัมบูรณ์ของจำนวนจริง `x` | `abs(-15)` | `15` |\n",
        "| `pow(x, y)` | คืนค่า (return) ค่า $ x ^ y $ | `pow(2, 10)` | `1024` | "
      ],
      "metadata": {
        "id": "1mJ46u04o4Ta"
      }
    },
    {
      "cell_type": "markdown",
      "source": [
        "### 3. การดำเนินการของ str เบื้องต้น ###\n",
        "3.1 str กับ str\n",
        "\n",
        "| การดำเนินการ | เครื่องหมาย | ตัวอย่าง |\n",
        "|-----------|-----------|-----------|\n",
        "| การต่อ str (concatenate) | `+` | `'We ' + 'love ' + 'Python'`|\n",
        "\n",
        "3.2 str กับ int\n",
        "\n",
        "| การดำเนินการ | เครื่องหมาย | ตัวอย่าง |\n",
        "|-----------|-----------|-----------|\n",
        "| การต่อ str ซ้ำหลายรอบ | `*` | `'un' * 3` <br> `5 * \"A\"` |\n"
      ],
      "metadata": {
        "id": "bT4Ej-cHo4Ta"
      }
    },
    {
      "cell_type": "markdown",
      "source": [
        "------\n",
        "\n",
        "------"
      ],
      "metadata": {
        "id": "AQM25DvFo4Ta"
      }
    },
    {
      "cell_type": "markdown",
      "source": [
        "# ส่วนแสดงผลการทำงาน (Output) #\n",
        "คำสั่ง `print()` ใช้แสดงข้อมูลออกทางจอภาพ\n",
        "> จบการแสดงผลด้วยคำสั่ง `print()` 1 ครั้ง จะขึ้นบรรทัดใหม่ 1 ที"
      ],
      "metadata": {
        "id": "gZLsDBjpo4Ta"
      }
    },
    {
      "cell_type": "code",
      "execution_count": null,
      "source": [
        "# ตัวอย่างการใช้คำสั่ง print()\n",
        "print( 1 + 1 )\n",
        "print(2560)"
      ],
      "outputs": [],
      "metadata": {
        "id": "WX_WPntRo4Ta"
      }
    },
    {
      "cell_type": "code",
      "execution_count": null,
      "source": [
        "# เครื่องหมาย + ใช้ระหว่างจำนวนด้วยกัน หรือระหว่าง String ด้วยกันเท่านั้น\n",
        "# ถ้าใช้ระหว่างจำนวนกับ String จะเกิด error\n",
        "\n",
        "print( \"Welcome to \" + 2017)\n",
        "\n",
        "# แก้ไขอย่างไร?"
      ],
      "outputs": [],
      "metadata": {
        "scrolled": true,
        "id": "h1jiEVSso4Tb"
      }
    },
    {
      "cell_type": "code",
      "execution_count": null,
      "source": [
        "## ส่ง data type ต่างกัน ด้วย parameter ต่างกัน\n",
        "\n",
        "print( \"Welcome to \", 2017) # สังเกตเครื่องหมาย ,\n",
        "\n",
        "name = input(\"Enter your name: \")\n",
        "age = int(input(\"Enter your age: \"))\n",
        "\n",
        "print( \"I am\", name, \"and I am\", age, \"years old.\")\n",
        "print( \"I am \" + name + \" and I am \" + str(age) + \" years old.\")"
      ],
      "outputs": [],
      "metadata": {
        "id": "kgEj5-QGo4Tb"
      }
    },
    {
      "cell_type": "markdown",
      "source": [
        "> การวิเคราะห์และแสดงผลอาจรวมเป็นส่วนเดียวกันได้"
      ],
      "metadata": {
        "id": "TkuPqhggo4Tb"
      }
    },
    {
      "cell_type": "markdown",
      "source": [
        "หากไม่ต้องการให้ขึ้นบรรทัดใหม่หลังคำสั่ง `print()` ให้ส่ง parameter `end` ไปด้วย"
      ],
      "metadata": {
        "id": "Og3EMD3To4Tb"
      }
    },
    {
      "cell_type": "code",
      "execution_count": null,
      "source": [
        "print(\"I am\", end=' ')\n",
        "print(name, end='.\\n')\n",
        "print(\"I am \", end='')\n",
        "print(age, end=' ')\n",
        "print(\"years old.\")"
      ],
      "outputs": [],
      "metadata": {
        "id": "Da3379uzo4Tb"
      }
    },
    {
      "cell_type": "markdown",
      "source": [
        "------\n",
        "\n",
        "------"
      ],
      "metadata": {
        "id": "Z5tyTRAio4Tb"
      }
    },
    {
      "cell_type": "markdown",
      "source": [
        "## 🔬 ห้องทดลอง ##\n",
        "\n",
        "ให้ลองทดสอบข้อมูลกับ operators โดยสังเกตว่า ชนิดของข้อมูลใดบ้าง ที่ดำเนินการได้กับ operator ใดบ้าง และได้ผลลัพธ์เป็นข้อมูลชนิดใด"
      ],
      "metadata": {
        "id": "G5pDzcf9o4Tb"
      }
    },
    {
      "cell_type": "markdown",
      "source": [
        "------\n",
        "\n",
        "------"
      ],
      "metadata": {
        "id": "Nh9kElmeo4Tb"
      }
    },
    {
      "cell_type": "markdown",
      "source": [
        "## ตัวอย่างโปรแกรม ##"
      ],
      "metadata": {
        "id": "PyU0QCM0o4Tb"
      }
    },
    {
      "cell_type": "markdown",
      "source": [
        "📃 1\\. วัตถุชิ้นหนึ่ง เคลื่อนที่จากสภาพหยุดนิ่งด้วยความเร่ง `a` ${m/s^2}$ เป็นเวลา `t` วินาที<br>\n",
        "เขียนโปรแกรมเพื่อรับความเร่ง และเวลา จากนั้นคำนวณระยะที่วัตถุเคลื่อนที่ไปได้<br>\n",
        "สูตรคำนวณ $ S = ut + \\frac{1}{2} at^2 $"
      ],
      "metadata": {
        "id": "YyYuesQgo4Tb"
      }
    },
    {
      "cell_type": "code",
      "execution_count": null,
      "source": [
        "# Input\n",
        "a = float(input(\"Enter acceleration: \"))\n",
        "t = float(input(\"Enter time: \"))\n",
        "\n",
        "# Process\n",
        "s = (1/2) * a * (t**2)\n",
        "\n",
        "# Output\n",
        "print(\"Distance:\", s)"
      ],
      "outputs": [],
      "metadata": {
        "collapsed": true,
        "id": "WoVj2S1qo4Tb"
      }
    },
    {
      "cell_type": "markdown",
      "source": [
        "📃 2\\. เขียนโปรแกรมเพื่อคำนวณพื้นที่สามเหลี่ยม เมื่อรับความยาวฐาน และส่วนสูงของสามเหลี่ยม เป็นจำนวนเต็ม"
      ],
      "metadata": {
        "id": "hz4v5Gtso4Tc"
      }
    },
    {
      "cell_type": "code",
      "execution_count": null,
      "source": [
        "# Input\n",
        "base = int(input(\"Enter base: \"))\n",
        "height = int(input(\"Enter height: \"))\n",
        "\n",
        "# Process\n",
        "area = (1/2) * base * height\n",
        "\n",
        "#Output\n",
        "print(\"Triangle area is\", area)"
      ],
      "outputs": [],
      "metadata": {
        "collapsed": true,
        "id": "FI1BTj3Qo4Tc"
      }
    },
    {
      "cell_type": "markdown",
      "source": [
        "📃 3\\. เขียนโปรแกรมเพื่อรับจำนวนเต็ม ซึ่งเป็นความยาวมีหน่วยเป็นนิ้ว จากนั้น หาว่าความยาวนั้นเท่ากับกี่ฟุต กี่นิ้ว"
      ],
      "metadata": {
        "id": "ZKFQHsCZo4Tc"
      }
    },
    {
      "cell_type": "code",
      "execution_count": null,
      "source": [
        "# Input\n",
        "length = int(input(\"Enter length in inch\"))\n",
        "\n",
        "# Process\n",
        "feet = length // 12\n",
        "inch = length % 12\n",
        "\n",
        "# Output\n",
        "print(\"It is\", feet, \"feet,\", inch, \"inch.\")"
      ],
      "outputs": [],
      "metadata": {
        "collapsed": true,
        "id": "xnU99TdNo4Tc"
      }
    },
    {
      "cell_type": "markdown",
      "source": [
        "## _(Your Turn)_ 🌱 ##\n",
        "\n",
        "📃 เขียนโปรแกรมเพื่อแปลงหน่วยองศาเซลเซียส เป็นหน่วยองศาฟาเรนไฮต์<br>\n",
        "โดยรับจำนวนจริง (ทศนิยม) 1 จำนวน ซึ่งเป็น อุณหภูมิในหน่วยองศาเซลเซียส<br>\n",
        "สูตรคำนวณ $ \\frac{C}{5} = \\frac{F-32}{9} $\n",
        "\n",
        "   `C` คือ อุณหภูมิหน่วย celsius<br>\n",
        "   `F` คือ อุณหภูมิหน่วย fahrenheit\n",
        "\n",
        "ตัวอย่างโปรแกรม\n",
        "\n",
        "> Enter Celsius: 30.5<br>\n",
        "> 30.5 Celsius is 86.9 Fahrenheit\n",
        "\n"
      ],
      "metadata": {
        "id": "4NOJU8Voo4Tc"
      }
    },
    {
      "cell_type": "code",
      "execution_count": null,
      "source": [
        "# Your Code here\n",
        "\n",
        "\n",
        "\n",
        "\n",
        "\n",
        "\n",
        "\n",
        "\n",
        "\n",
        "\n",
        "\n",
        "\n",
        "\n",
        "\n",
        "\n",
        "\n",
        "\n"
      ],
      "outputs": [],
      "metadata": {
        "collapsed": true,
        "id": "YGJuENfYo4Tc"
      }
    },
    {
      "cell_type": "markdown",
      "source": [
        "# 🤔 คำถามชวนคิด #"
      ],
      "metadata": {
        "id": "v7rTW0c1o4Te"
      }
    },
    {
      "cell_type": "markdown",
      "source": [
        "💭 ตัวแปรในคณิตศาสตร์ กับตัวแปรในการเขียนโปรแกรม เหมือนหรือต่างกันอย่างไร"
      ],
      "metadata": {
        "id": "7XPLFR8wo4Te"
      }
    },
    {
      "cell_type": "markdown",
      "source": [
        "💭 การตั้งชื่อตัวแปรที่เหมาะสมเป็นอย่างไร ทำไมจึงต้องตั้งชื่อตัวแปรให้เหมาะสม"
      ],
      "metadata": {
        "id": "2NXFeENfo4Te"
      }
    },
    {
      "cell_type": "markdown",
      "source": [
        "💭 ในการเขียนโปรแกรมใดโปรแกรมหนึ่ง เมื่อใดบ้างที่จะต้องสร้างตัวแปร"
      ],
      "metadata": {
        "id": "QrKlFiyyo4Te"
      }
    },
    {
      "cell_type": "markdown",
      "source": [
        "💭 ทำไมจึงแบ่งการเขียนโปรแกรมเป็น 3 ส่วน คือ Input > Process > Output"
      ],
      "metadata": {
        "id": "JdnexiVIo4Te"
      }
    }
  ]
}