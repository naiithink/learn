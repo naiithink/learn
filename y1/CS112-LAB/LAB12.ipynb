{
 "cells": [
  {
   "cell_type": "code",
   "execution_count": 1,
   "source": [
    "s = \" helloworld\"\n",
    "print(\"end with =\", len(s) - 1)\n",
    "print(s.find(\"\"))\n",
    "print(s.rfind(\"\"))"
   ],
   "outputs": [
    {
     "output_type": "stream",
     "name": "stdout",
     "text": [
      "end with = 10\n",
      "0\n",
      "11\n"
     ]
    }
   ],
   "metadata": {}
  },
  {
   "cell_type": "code",
   "execution_count": null,
   "source": [
    "list = []\n",
    "while True:\n",
    "    string = input()\n",
    "    if not string:\n",
    "        break\n",
    "    list.append(string)\n",
    "print(max(list))"
   ],
   "outputs": [
    {
     "output_type": "stream",
     "name": "stdout",
     "text": [
      "k\n"
     ]
    }
   ],
   "metadata": {}
  },
  {
   "cell_type": "code",
   "execution_count": null,
   "source": [
    "list = []\n",
    "while True:\n",
    "    string = input()\n",
    "    if not string:\n",
    "        break\n",
    "    list += string\n",
    "most = max(list)\n",
    "print(len(most))"
   ],
   "outputs": [
    {
     "output_type": "stream",
     "name": "stdout",
     "text": [
      "1\n"
     ]
    }
   ],
   "metadata": {}
  },
  {
   "cell_type": "code",
   "execution_count": null,
   "source": [
    "most = \"\"\n",
    "while True:\n",
    "    string = input()\n",
    "    if not string:\n",
    "        break\n",
    "    if len(string) > len(most):\n",
    "        most = string\n",
    "print(len(most))"
   ],
   "outputs": [
    {
     "output_type": "stream",
     "name": "stdout",
     "text": [
      "2\n"
     ]
    }
   ],
   "metadata": {}
  },
  {
   "cell_type": "code",
   "execution_count": null,
   "source": [
    "char = input(), int(input())\n",
    "print(chr(ord(char[0]) + char[1]))"
   ],
   "outputs": [
    {
     "output_type": "stream",
     "name": "stdout",
     "text": [
      "b\n"
     ]
    }
   ],
   "metadata": {}
  },
  {
   "cell_type": "code",
   "execution_count": null,
   "source": [
    "out, shift = \"\", False\n",
    "\n",
    "while True:\n",
    "    string = list(input())\n",
    "    if not string:\n",
    "        break\n",
    "    if not shift:\n",
    "        out += max(string)\n",
    "    elif shift:\n",
    "        out += min(string)\n",
    "    shift = not shift\n",
    "\n",
    "print(out)"
   ],
   "outputs": [
    {
     "output_type": "stream",
     "name": "stdout",
     "text": [
      "z4XD\n"
     ]
    }
   ],
   "metadata": {}
  },
  {
   "cell_type": "code",
   "execution_count": null,
   "source": [
    "string, lower, upper = input(), 0, 0\n",
    "for i in string:\n",
    "    if i.islower():\n",
    "        lower += 1\n",
    "    else:\n",
    "        upper += 1\n",
    "print(lower, upper, sep=\"\\n\")"
   ],
   "outputs": [
    {
     "output_type": "stream",
     "name": "stdout",
     "text": [
      "3\n",
      "1\n"
     ]
    }
   ],
   "metadata": {}
  },
  {
   "cell_type": "code",
   "execution_count": null,
   "source": [
    "string = input()\n",
    "print(string.swapcase())"
   ],
   "outputs": [
    {
     "output_type": "stream",
     "name": "stdout",
     "text": [
      "hELlO\n"
     ]
    }
   ],
   "metadata": {}
  },
  {
   "cell_type": "code",
   "execution_count": null,
   "source": [
    "phrase, pop, push = input(), input(), input()\n",
    "print(phrase.index(pop[0]), phrase.count(pop), phrase.replace(pop, push), sep=\"\\n\")"
   ],
   "outputs": [
    {
     "output_type": "stream",
     "name": "stdout",
     "text": [
      "5\n",
      "2\n",
      "Hey, COMe on get my COMputer.\n"
     ]
    }
   ],
   "metadata": {}
  },
  {
   "cell_type": "markdown",
   "source": [
    "## PB01 ##\n",
    "\n",
    "![PB01](https://sn3302files.storage.live.com/y4m31Wd17Jo1XDr4uAyKlaxeaGEO_u8u79m75tmSPhXgfMx79Ox68xw55jeeFj9zYI6HI9UvJ505DtdFyxILy2SYG6dsZ5eTcBEvKWrOJetPYpDhEhg9bJyy7MyuV5Wmp6vH0lKfCig3P5tc8xgl74Z94d35PsucLqpvlrkZwdHedy5P7jxN-y_l10FeRPLSSAU?width=1106&height=554&cropmode=none)"
   ],
   "metadata": {}
  },
  {
   "cell_type": "code",
   "execution_count": null,
   "source": [
    "# Groupwork\n",
    "s = input().lower()\n",
    "for i in s:\n",
    "    if i == \"a\":\n",
    "        print(\"A\", end=\"\")\n",
    "    elif i == \"e\":\n",
    "        print(\"E\", end=\"\")\n",
    "    elif i == \"i\":\n",
    "        print(\"I\", end=\"\")\n",
    "    elif i == \"o\":\n",
    "        print(\"O\", end=\"\")\n",
    "    elif i == \"u\":\n",
    "        print(\"U\", end=\"\")\n",
    "    else:\n",
    "        print(i, end=\"\")"
   ],
   "outputs": [],
   "metadata": {}
  },
  {
   "cell_type": "markdown",
   "source": [
    "## PB02 ##\n",
    "\n",
    "![PB02](https://sn3302files.storage.live.com/y4mPu1VI2U7UIvYZ6beI6NMpnjdqLnRqyQlDUZCoEMpAGYxR0l3O9PM3LdiyUhzMa1CDs-ILYi1V4Oc0EuGdb0SMcGQnnvNQ2-2g6XXsi2KUqUg1lXQjrptEdL1L7spHiuERkcR-qDaHZWJiX9Jh3jc2FqT2Ukeq1SxIPG_L_Y3TrXz4JlwA3m7grstRls2aZHx?width=1106&height=638&cropmode=none)\n"
   ],
   "metadata": {}
  },
  {
   "cell_type": "code",
   "execution_count": null,
   "source": [
    "data, out, clct = list(input()), \"\", \"\"\n",
    "data += \",\"\n",
    "for i in data:\n",
    "    for j in i:\n",
    "        if j != \",\":\n",
    "            clct += j\n",
    "            continue\n",
    "        out += \"\\\"%s\\\",\" % clct.strip(\" \")\n",
    "        clct = \"\"\n",
    "\n",
    "print(out[:-1])"
   ],
   "outputs": [],
   "metadata": {}
  },
  {
   "cell_type": "markdown",
   "source": [
    "## PB03 ##\n",
    "\n",
    "![PB03](https://sn3302files.storage.live.com/y4mbsf13MNn4SUPtrOnS62dMkEa0Zfal1Sd-FKCQibtFvXNPJMydZTpyuDB80FmCafJ7CHm5z-G-i16NyFtDmx71SiBe3FjNI5KPgLm-awljojW7S-LKkliyJdomaRNd-YCbp4wAzKEY148WI5B5JA8uSvPhJjL__qCrbvmJmflS2YeOUFDmTNcWXaLRgZIvjvD?width=1262&height=916&cropmode=none)"
   ],
   "metadata": {}
  },
  {
   "cell_type": "code",
   "execution_count": 1,
   "source": [
    "list, bggs = [], 0\n",
    "while True:\n",
    "    line = input()\n",
    "    if line == \"-1\":\n",
    "        break\n",
    "    brk = \"\"\n",
    "    for i in line:\n",
    "        if i != \"=\":\n",
    "            brk += i\n",
    "            continue\n",
    "        list.append([brk.strip(), line[line.index(\"=\") + 1:].strip()])\n",
    "        if len((brk.strip())) > bggs:\n",
    "            bggs = len((brk.strip()))\n",
    "        break\n",
    "\n",
    "for i in list:\n",
    "    print(\"{:>{}} = {}\".format(i[0], bggs, i[1]))"
   ],
   "outputs": [
    {
     "output_type": "stream",
     "name": "stdout",
     "text": [
      "              x = abseqwd =dasdasasd\n",
      "asdasdasfqwdasd = asdqawdxascasda  =asd\n"
     ]
    }
   ],
   "metadata": {}
  },
  {
   "cell_type": "markdown",
   "source": [
    "## PB04 ##\n",
    "\n",
    "![PB04](https://sn3302files.storage.live.com/y4mnjjI7SYJlS2nvgUf_TmxbxPcn1Ih0OQ5ojom9fsfWEjNiCWnYS3KyyPKdemoMW582vyvHouRasY4PgpJVfncj3SceYg60Srj21_YCLos7vvjnpCrIdGs-7ALmdcEDlDz5ecRSmxoXxdckrFeZNRSk4LVC2mUl1y5NMFrEUcaeEQliwloiVfe-n22itvNV484?width=1262&height=1116&cropmode=none)"
   ],
   "metadata": {}
  },
  {
   "cell_type": "code",
   "execution_count": 1,
   "source": [
    "tovalidate, name, extn, phase, include = input(), \"\", \"\", 0, \".\"\n",
    "\n",
    "if tovalidate:\n",
    "    for i in tovalidate[::-1]:\n",
    "        if tovalidate.count(\".\"):\n",
    "            if not phase and i != \".\":\n",
    "                if i in \"\\/*:|\\\"<> \":\n",
    "                    i = \"_\"\n",
    "                extn += i\n",
    "            elif not phase:\n",
    "                phase += 1\n",
    "                continue\n",
    "        else:\n",
    "            include = \"\"\n",
    "            phase += 1\n",
    "        if phase:\n",
    "            if i in \".\\/*:|\\\"<> \":\n",
    "                i = \"_\"\n",
    "            name += i\n",
    "\n",
    "    name = name[::-1]; extn = extn[::-1]\n",
    "    if len(name) > 15:\n",
    "        name = name[:15]\n",
    "    if len(extn) > 3:\n",
    "        extn = extn[:3]\n",
    "    print(\"%s%s%s\" % (name, include, extn))"
   ],
   "outputs": [
    {
     "output_type": "stream",
     "name": "stdout",
     "text": [
      "Is_this_too_dif\n"
     ]
    }
   ],
   "metadata": {}
  },
  {
   "cell_type": "markdown",
   "source": [
    "## PB05 ##\n",
    "\n",
    "![PB05](https://sn3302files.storage.live.com/y4mKHDQYw4IpexYQJfaypJ41VZGGAn7Fh7WPvWqfkR5lbbAb_x0S-mXj_BLQiebkuu07QeHKYoMbnJbaY_MSK3AaFjmZP7QDbh32smsaqB3SyVa4xwZ1VaacjNhAL_TXcpDd2eesNAc8nNSuzilMkwuh0sWIrfE8A3mLpn87gKhSKxVg9nQ8n3Q9ikKmMCQNpSw?width=1262&height=1494&cropmode=none)"
   ],
   "metadata": {}
  },
  {
   "cell_type": "code",
   "execution_count": 43,
   "source": [
    "target = input()\n",
    "\n",
    "while True:\n",
    "    guess = input()\n",
    "    if guess == \"0\":\n",
    "        break\n",
    "    target = target.replace(guess, guess.upper())\n",
    "for i in target:\n",
    "    if i.islower():\n",
    "        target = target.replace(i, \"-\")\n",
    "\n",
    "print(target.lower())"
   ],
   "outputs": [
    {
     "output_type": "stream",
     "name": "stdout",
     "text": [
      "t-e-o---e--t--o--\n"
     ]
    }
   ],
   "metadata": {}
  },
  {
   "cell_type": "markdown",
   "source": [
    "## PB06 ##\n",
    "\n",
    "![PB06](https://sn3302files.storage.live.com/y4mHnccDiwPRR8Qi9y7JSEWS9hhWDs9A2rlE1sG-UPVaW-y5N_8HXDtkBYgEgWH8L8oBChN85T9dleYwUIgyKG6YSpJJPg0wA71KSKdKr7sKn9yw35TzN6XMykLUoS7qP2ad99YWgWstXtdou10VSwhVMVGZwZIkuSIFXcj26rZ4n_U12Ne3msPRJ3GHL6ylbTC?width=1262&height=1122&cropmode=none)"
   ],
   "metadata": {}
  },
  {
   "cell_type": "code",
   "execution_count": 55,
   "source": [
    "def checksep(number):\n",
    "        if len(number) < 8:\n",
    "            return True\n",
    "        if number[0] == \",\":\n",
    "            if number[4] == \".\":\n",
    "                return True\n",
    "            elif number[4] == number[0]:\n",
    "                return checksep(number[4:])\n",
    "            else:\n",
    "                return False\n",
    "        else:\n",
    "            return False\n",
    "\n",
    "def checkif(number):\n",
    "    result = True; n = 0\n",
    "    for i in \"0123456789\":\n",
    "        n += number.count(i)\n",
    "    if n < len(number):\n",
    "        return False\n",
    "    product = checksep(number)\n",
    "    return product\n",
    "\n",
    "number = input()\n",
    "number = number.replace(\",\", \"\")\n",
    "print(checksep(number))"
   ],
   "outputs": [
    {
     "output_type": "stream",
     "name": "stdout",
     "text": [
      "True\n"
     ]
    }
   ],
   "metadata": {}
  },
  {
   "cell_type": "markdown",
   "source": [
    "## PB07 ##\n",
    "\n",
    "![PB07](https://sn3302files.storage.live.com/y4mM-ooNQCy0ayY8NQlhVndiWr7oNUXH-RVE2gRnK0OHJt9IAkycIKG6ESXTOsc52A61eVIEBUkhGSS9kcrP3hvD0ijqRFLz_rXqNzIxfaD_wd3GQ-AW6Db7SRwM4u9nE_cpwiaCawdUb14Qo-QsvqGTpXWQM0lOePmTAsv8ska4Z4m-WKIRIV-dIY2Cr3DQ-Iz?width=1262&height=654&cropmode=none)"
   ],
   "metadata": {}
  },
  {
   "cell_type": "code",
   "execution_count": 13,
   "source": [
    "# 07\n",
    "s, shift, c = input().lower(), 0, \"\"\n",
    "for i in s:\n",
    "    if not shift and i in \"-_=.$\":\n",
    "        shift = 1\n",
    "        continue\n",
    "    elif not shift and ord(i) in range(97, 123):\n",
    "        c += i\n",
    "        continue\n",
    "    if shift and i:\n",
    "        c += i.upper()\n",
    "        shift = 0\n",
    "\n",
    "print(c)"
   ],
   "outputs": [
    {
     "output_type": "stream",
     "name": "stdout",
     "text": [
      "\n"
     ]
    }
   ],
   "metadata": {}
  }
 ],
 "metadata": {
  "orig_nbformat": 4,
  "language_info": {
   "name": "python",
   "version": "3.9.7",
   "mimetype": "text/x-python",
   "codemirror_mode": {
    "name": "ipython",
    "version": 3
   },
   "pygments_lexer": "ipython3",
   "nbconvert_exporter": "python",
   "file_extension": ".py"
  },
  "kernelspec": {
   "name": "python3",
   "display_name": "Python 3.9.7 64-bit"
  },
  "interpreter": {
   "hash": "b8bdd4e700647ba2b08c59e5df8b7da1dcf50a218bcd4c1bcd9b3dc92e8788e5"
  }
 },
 "nbformat": 4,
 "nbformat_minor": 2
}