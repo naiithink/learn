{
 "cells": [
  {
   "cell_type": "markdown",
   "metadata": {},
   "source": [
    "```c\n",
    "int *p;\n",
    "```\n",
    "\n",
    "the expression `*p` is an `int`\n",
    "\n",
    "```c\n",
    "int **q;\n",
    "```\n",
    "\n",
    "the expression `*q` is an `int *`\n",
    "\n",
    "```c\n",
    "int *&r;\n",
    "```\n",
    "\n"
   ]
  },
  {
   "cell_type": "code",
   "execution_count": null,
   "metadata": {},
   "outputs": [],
   "source": []
  }
 ],
 "metadata": {
  "language_info": {
   "name": "python"
  },
  "orig_nbformat": 4
 },
 "nbformat": 4,
 "nbformat_minor": 2
}
