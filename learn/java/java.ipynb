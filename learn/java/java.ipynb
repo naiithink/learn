{
 "cells": [
  {
   "cell_type": "markdown",
   "metadata": {},
   "source": [
    "# Java\n",
    "\n",
    "## Executaion Phases\n",
    "\n",
    "1. Writing\n",
    "2. Compiltaion – `javac` included in Java Development Kit (JDK)\n",
    "3. Running –  Java Virtual Machine (JVM)\n",
    "\n",
    "```\n",
    "/ Source Code /     >     Compilation     >     / Byte Code /     >     JVM     >     / Machine Code /\n",
    "\n",
    "  .java                                           .class\n",
    "\n",
    "| --------------------------------------------------------- | -------------------------------------- |\n",
    "  Platform Independent                                        Platform Dependent\n",
    "```\n",
    "\n",
    "## Terms\n",
    "\n",
    "| Term | Definition |\n",
    "| :--- | :---       |\n",
    "| JVM  | Java Virtual Machine |\n",
    "| "
   ]
  }
 ],
 "metadata": {
  "language_info": {
   "name": "python"
  },
  "orig_nbformat": 4
 },
 "nbformat": 4,
 "nbformat_minor": 2
}
