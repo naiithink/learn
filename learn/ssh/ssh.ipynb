{
 "cells": [
  {
   "cell_type": "markdown",
   "metadata": {},
   "source": [
    "# **SSH**\n",
    "\n",
    "Secure Shell\n",
    "\n",
    "---\n",
    "\n",
    "2022-03-24\n",
    "\n",
    "**Reference**\n",
    "\n",
    "- [How Secure Shell Works (SSH) - Computerphile](https://youtu.be/ORcvSkgdA58)"
   ]
  },
  {
   "cell_type": "markdown",
   "metadata": {},
   "source": [
    "# The Packet\n",
    "\n",
    "```\n",
    "  * +-----------------------------+\n",
    "  * | *** Packet Length           |\n",
    "  * +=============================+\n",
    "  * | %%% Padding Amount          | ## E\n",
    "  * +-----------------------------+ ##  N\n",
    "  * |                             | ##   C\n",
    "  * | Payload                     | ##    R\n",
    "  * |                             | ##     Y\n",
    "  * +-----------------------------+ ##      P\n",
    "% * | Padding                     | ##       T E D\n",
    "  * +=============================+\n",
    "  * | Message Authentication Code |\n",
    "  * +-----------------------------+\n",
    "```\n",
    "\n",
    "**Encryption Algorithm**\n",
    "\n",
    "- Selected by the server and the client (established at the beginning), vary from connection to connection.<br />\n",
    "- Can offer many and can choose the one that is perhaps best for that connection.\n",
    "\n",
    "**Receiving The Packet**\n",
    "\n",
    "```\n",
    "Decrypt the packet  ->  Decompress the payload  ->  Extract the data, (sort of) stitch it back together.\n",
    "```"
   ]
  },
  {
   "cell_type": "markdown",
   "metadata": {},
   "source": [
    "# Procedure\n",
    "\n",
    "- **TCP connection (This is NOT the connection to the remote machine)**\n",
    "\n",
    "    ```\n",
    "          ##PACKET##      ##PACKET##           ##PACKET##       : (flowing packets) Packets those have been encrypted\n",
    "                                                                                    by the SSH protocol.\n",
    "    $1  ====================== TCP ======================  $2   : TCP connection\n",
    "    ```\n",
    "- **Open a series of channels to send the data over (for multiplexing).**<br>\n",
    "    You could have more than one channel.\n",
    "    ```\n",
    "        --------------------- Shell ---------------------       : (channel)         Shell connection,\n",
    "                                                                                    being represented by a connection\n",
    "                                                                                    through the SSH packets.\n",
    "    $1  ====================== TCP ======================  $2   : TCP connection\n",
    "    ```"
   ]
  }
 ],
 "metadata": {
  "kernelspec": {
   "display_name": "Python 3 (ipykernel)",
   "language": "python",
   "name": "python3"
  },
  "language_info": {
   "codemirror_mode": {
    "name": "ipython",
    "version": 3
   },
   "file_extension": ".py",
   "mimetype": "text/x-python",
   "name": "python",
   "nbconvert_exporter": "python",
   "pygments_lexer": "ipython3",
   "version": "3.9.10"
  }
 },
 "nbformat": 4,
 "nbformat_minor": 4
}
