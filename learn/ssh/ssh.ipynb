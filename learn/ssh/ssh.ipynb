{
 "cells": [
  {
   "cell_type": "markdown",
   "metadata": {},
   "source": [
    "# **SSH**\n",
    "\n",
    "Secure Shell\n",
    "\n",
    "---\n",
    "\n",
    "2022-03-24\n",
    "\n",
    "**Reference**\n",
    "\n",
    "- [How Secure Shell Works (SSH) - Computerphile](https://youtu.be/ORcvSkgdA58)"
   ]
  },
  {
   "cell_type": "markdown",
   "metadata": {},
   "source": [
    "# The Packet\n",
    "\n",
    "```\n",
    "  * +-----------------------------+\n",
    "  * | *** Packet Length           |\n",
    "  * +=============================+\n",
    "  * | %%% Padding Amount          | ## E\n",
    "  * +-----------------------------+ ##  N\n",
    "  * |                             | ##   C\n",
    "  * | Payload                     | ##    R\n",
    "  * |                             | ##     Y\n",
    "  * +-----------------------------+ ##      P\n",
    "% * | Padding                     | ##       T E D\n",
    "  * +=============================+\n",
    "  * | Message Authentication Code |\n",
    "  * +-----------------------------+\n",
    "```\n",
    "\n",
    "**Encryption Algorithm**\n",
    "\n",
    "- Selected by the server and the client (established at the beginning), vary from connection to connection.<br />\n",
    "- Can offer many and can choose the one that is perhaps best for that connection.\n",
    "\n",
    "**Receiving The Packet**\n",
    "\n",
    "```\n",
    "Decrypt the packet  ->  Decompress the payload  ->  Extract the data, (sort of) stitch it back together.\n",
    "```"
   ]
  },
  {
   "cell_type": "markdown",
   "metadata": {},
   "source": [
    "# Procedure\n",
    "\n",
    "- TCP connection (This is NOT the connection to the remote machine)\n",
    "\n",
    "    ```\n",
    "         ##PACKET##           ##PACKET##              ##PACKET##           : flowing packets, encrypted by the SSH protocol\n",
    "    $1  =========================== TCP ===========================  $2    : TCP connection\n",
    "    ```\n",
    "- Open a series of channels to send the data over. (for multiplexing)\n",
    "\n",
    "    ```\n",
    "        -------------------------- Shell --------------------------        : (channel[s]*) Shell connection,\n",
    "                                                                                       being represented by a connection\n",
    "                                                                                       through the SSH packets.\n",
    "    $1  =========================== TCP ===========================  $2    :\n",
    "    ```"
   ]
  }
 ],
 "metadata": {
  "language_info": {
   "name": "python"
  },
  "orig_nbformat": 4
 },
 "nbformat": 4,
 "nbformat_minor": 2
}
