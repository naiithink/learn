{
 "cells": [
  {
   "cell_type": "code",
   "execution_count": null,
   "metadata": {},
   "outputs": [],
   "source": [
    "import numpy as np\n",
    "import matplotlib as mpl\n",
    "import matplotlib.pyplot as plt"
   ]
  },
  {
   "cell_type": "markdown",
   "metadata": {},
   "source": [
    "# **Probability**\n",
    "\n",
    "2022-03-10"
   ]
  },
  {
   "cell_type": "markdown",
   "metadata": {},
   "source": [
    "# Counting\n",
    "\n",
    "## Multiplication Rule\n",
    "\n",
    "---\n",
    "\n",
    "> ### **Theorem 1.4.1 (Multiplication Rule)**\n",
    ">>\n",
    ">> Consider a compound experiment consisting of 2 sub-experiments, Experiment A and Experiment B.<br>\n",
    ">> Suppose that Experiment A has $a$ possible outcomes, and for each of those outcomes Experiment B has $b$ outcomes.<br>\n",
    ">> Then the compound experiment has $ab$ possible outcomes.\n",
    "\n",
    "<img alt=\"1_multiplicationrule\" src=\"1_multiplicationrule.png\" height=\"220px\">\n",
    "\n",
    "Tree diagram illustrating the multiplication rule.<br>\n",
    "If Experiment A has $3$ possible outcomes and Experiment B has $4$ possible outcomes,<br>\n",
    "then overall there are $3 \\cdot 4 = 12$ possible outcomes.\n",
    "\n",
    "> #### **Example 1.4.3 (Ice Cream Cones)**\n",
    ">> \n",
    ">> <img alt=\"1_icecream\" src=\"1_icecream.png\" height=\"220px\">\n",
    ">> \n",
    ">> Tree diagram for choosing an ice cream cone.<br>\n",
    ">> Regardless of whether the type of cone or the flavor is chosen first, there are $2 \\cdot 3 = 3 \\cdot 2 = 6$ possibilities.\n",
    ">> \n",
    ">> By the multiplication rule, there are $2 \\cdot 3 = 6$ possibilities.<br>\n",
    ">> This is a very simple example, but is worth thinking through in detail as a foundation<br>\n",
    ">> for thinking about and visualizing more complicated examples. Soon we will encounter examples<br>\n",
    ">> where drawing the tree in a legible size would take up more space than exists in the known universe,<br>\n",
    ">> yet where conceptually we can still think in terms of the ice cream example.\n",
    ">> \n",
    ">> Note that:\n",
    ">> 1. It doesn't matter whether you choose the type of cone first (\"I'd like a waffle cone with chocolate ice cream\")<br>\n",
    ">> or the flavor first (\"I'd like chocolate ice cream on a waffle cone\"). Either way, there are $2 \\cdot 3 = 3 \\cdot 2 = 6$ possibilities.\n",
    ">> 2. It doesn't matter whether the same flavors are available on a cake cone as on a waffle cone.<br>\n",
    ">> What matters is that there are exactly 3 flavor choices for each cone choice. If for some strange reason<br>\n",
    ">> it were forbidden to have chocolate ice cream on a waffle cone, with no substitute flavor available<br>\n",
    ">> (aside from vanilla and strawberry), there would be $3 + 2 = 5$ possibilities and the multiplication rule wouldn't apply.<br>\n",
    ">> In larger examples, such complications could make counting the number of possibilities vastly more difficult."
   ]
  }
 ],
 "metadata": {
  "interpreter": {
   "hash": "aee8b7b246df8f9039afb4144a1f6fd8d2ca17a180786b69acc140d282b71a49"
  },
  "kernelspec": {
   "display_name": "Python 3 (ipykernel)",
   "language": "python",
   "name": "python3"
  },
  "language_info": {
   "codemirror_mode": {
    "name": "ipython",
    "version": 3
   },
   "file_extension": ".py",
   "mimetype": "text/x-python",
   "name": "python",
   "nbconvert_exporter": "python",
   "pygments_lexer": "ipython3",
   "version": "3.10.2"
  }
 },
 "nbformat": 4,
 "nbformat_minor": 4
}
