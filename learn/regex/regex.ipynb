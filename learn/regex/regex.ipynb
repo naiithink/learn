{
 "cells": [
  {
   "cell_type": "code",
   "execution_count": 1,
   "metadata": {},
   "outputs": [],
   "source": [
    "import re"
   ]
  },
  {
   "cell_type": "code",
   "execution_count": 24,
   "metadata": {},
   "outputs": [
    {
     "name": "stdout",
     "output_type": "stream",
     "text": [
      "['\\n', '\\n', ' ', ' ', '.', '.']\n"
     ]
    }
   ],
   "source": [
    "string = r\"\"\"char\n",
    "chars\n",
    "charsss\n",
    "char \n",
    "char s\n",
    "char.\n",
    "chars.\n",
    "\"\"\"\n",
    "\n",
    "p = re.compile('char[s]?(\\s|\\.|\\r\\n|\\r|\\n)')\n",
    "print(p.findall(string))"
   ]
  },
  {
   "cell_type": "code",
   "execution_count": null,
   "metadata": {},
   "outputs": [],
   "source": [
    "hello = r\"\"\"\n",
    "#include <stdio.h>\n",
    "\n",
    "int main(void)\n",
    "{\n",
    "    printf(\"hello, world\\n\");\n",
    "    return 0;\n",
    "}\n",
    "\"\"\"\n",
    "\n",
    "match = re.match(\"/main*/\", hello)\n",
    "\n",
    "if match:\n",
    "    print(match.string)"
   ]
  }
 ],
 "metadata": {
  "interpreter": {
   "hash": "aee8b7b246df8f9039afb4144a1f6fd8d2ca17a180786b69acc140d282b71a49"
  },
  "kernelspec": {
   "display_name": "Python 3.10.4 64-bit",
   "language": "python",
   "name": "python3"
  },
  "language_info": {
   "codemirror_mode": {
    "name": "ipython",
    "version": 3
   },
   "file_extension": ".py",
   "mimetype": "text/x-python",
   "name": "python",
   "nbconvert_exporter": "python",
   "pygments_lexer": "ipython3",
   "version": "3.10.4"
  },
  "orig_nbformat": 4
 },
 "nbformat": 4,
 "nbformat_minor": 2
}
