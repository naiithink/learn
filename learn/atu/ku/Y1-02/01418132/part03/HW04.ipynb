{
 "cells": [
  {
   "cell_type": "markdown",
   "id": "4de60f46-f766-41b4-aa12-79039a53af65",
   "metadata": {},
   "source": [
    "# Assignment IV, Counting\n",
    "\n",
    "01418132 — Fundamentals of Computing\n",
    "\n",
    "**พศวัต ถิ่นกาญจน์วัฒนา**<br>\n",
    "รหัสประจำตัวนิสิต 6410451199<br>\n",
    "หมู่เรียน 200\n",
    "\n",
    "---"
   ]
  },
  {
   "cell_type": "markdown",
   "id": "93b14367-bddc-4ea6-8952-304181075473",
   "metadata": {},
   "source": [
    "#### 1. จงหาจำนวนวิธีทั้งหมดในการชนะ 3 เกมจากทั้งหมด 5 เกม ระหว่างผู้เล่น 2 คน คือ T1 และ T2 และอยากทราบว่าผู้เล่นทั้ง 2 คนจะสามารถชนะเกมได้ทีมละกี่เกม (อาจใช้ Tree diagram)"
   ]
  },
  {
   "cell_type": "markdown",
   "id": "898452c0-21cd-4a84-94a9-92b9b3ae37b4",
   "metadata": {},
   "source": [
    "#### 2. จงหาจำนวนวิธีทั้งหมดในการจัดที่นั่งให้คน 4 คนในโต๊ะกลม โดยการจัดที่นั่งที่คนด้านซ้ายและขวาเป็นคนเดิมถือว่าเป็นการจัดที่นั่งซ้ำ"
   ]
  }
 ],
 "metadata": {
  "kernelspec": {
   "display_name": "Python 3 (ipykernel)",
   "language": "python",
   "name": "python3"
  },
  "language_info": {
   "codemirror_mode": {
    "name": "ipython",
    "version": 3
   },
   "file_extension": ".py",
   "mimetype": "text/x-python",
   "name": "python",
   "nbconvert_exporter": "python",
   "pygments_lexer": "ipython3",
   "version": "3.10.2"
  }
 },
 "nbformat": 4,
 "nbformat_minor": 5
}
