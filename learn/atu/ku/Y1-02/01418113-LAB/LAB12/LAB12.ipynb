{
 "cells": [
  {
   "cell_type": "markdown",
   "metadata": {},
   "source": [
    "# **LAB12**\n",
    "\n",
    "01418113-LAB"
   ]
  }
 ],
 "metadata": {
  "language_info": {
   "name": "cpp"
  },
  "orig_nbformat": 4
 },
 "nbformat": 4,
 "nbformat_minor": 2
}
