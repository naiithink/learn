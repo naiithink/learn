{
 "cells": [
  {
   "cell_type": "markdown",
   "metadata": {},
   "source": [
    "# LAB12\n",
    "\n",
    "01418113-LAB"
   ]
  },
  {
   "cell_type": "markdown",
   "metadata": {},
   "source": [
    "# UML\n",
    "\n",
    "| Student |\n",
    "| :------ |\n",
    "| `- firstname: string`<br>`- lastname: string`<br>`- id: string`<br>`- score double` |\n",
    "| `+ addScore(score): void`<br>`+ changeName(first, last): void`<br>`+ getName(): string`<br>`+ getScore(): double`<br>`+ calculateGrade(): string` |\n"
   ]
  },
  {
   "cell_type": "code",
   "execution_count": null,
   "metadata": {},
   "outputs": [],
   "source": []
  }
 ],
 "metadata": {
  "language_info": {
   "name": "cpp"
  },
  "orig_nbformat": 4
 },
 "nbformat": 4,
 "nbformat_minor": 2
}
