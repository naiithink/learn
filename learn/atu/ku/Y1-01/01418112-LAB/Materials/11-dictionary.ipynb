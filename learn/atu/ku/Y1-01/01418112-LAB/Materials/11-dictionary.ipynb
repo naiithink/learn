{
  "cells": [
    {
      "cell_type": "markdown",
      "metadata": {
        "id": "RyxDjFCm9d7e"
      },
      "source": [
        "# **Dictionary**\n",
        "- เป็น Data Structure ที่ใช้สำหรับเก็บข้อมูลในรูปแบบ key:value pairs\n",
        "- แต่ละคู่ของ key:value จะคั่นด้วยเครื่องหมาย ,"
      ]
    },
    {
      "cell_type": "markdown",
      "metadata": {
        "id": "US1cc9B_-X6P"
      },
      "source": [
        "# **1. การประกาศ Dictionary**"
      ]
    },
    {
      "cell_type": "markdown",
      "metadata": {
        "id": "BmgQQpu99a__"
      },
      "source": [
        "ใช้เครื่องหมาย {} ในการกำหนด dictionary\n"
      ]
    },
    {
      "cell_type": "code",
      "execution_count": null,
      "metadata": {
        "id": "J_zh7iQQ-9l0"
      },
      "outputs": [],
      "source": [
        "dic = {}\n",
        "print(dic)"
      ]
    },
    {
      "cell_type": "code",
      "execution_count": null,
      "metadata": {
        "id": "_FWOzs4GBYCL"
      },
      "outputs": [],
      "source": [
        "dic = {\n",
        "    'first' : 1,\n",
        "    'Second' : 2,\n",
        "    'third' : 3\n",
        "}\n",
        "print(dic)"
      ]
    },
    {
      "cell_type": "code",
      "execution_count": null,
      "metadata": {
        "id": "zPtqX0fdBf9Q"
      },
      "outputs": [],
      "source": [
        "data = 20\n",
        "dic = {\n",
        "    1 : \"1\",\n",
        "    \"second\" : 2,\n",
        "    'third' : data\n",
        "}\n",
        "print(dic)"
      ]
    },
    {
      "cell_type": "markdown",
      "metadata": {
        "id": "WELur1F5EAvp"
      },
      "source": [
        "#### ไม่สามารถกำหนด key ที่ตรงกันได้ ถ้ากำหนด key ที่ซ้ำกันมา จะใช้ค่าจาก key ตัวท้ายสุดเท่านั้น"
      ]
    },
    {
      "cell_type": "code",
      "execution_count": null,
      "metadata": {
        "id": "uPBUIoshD82J"
      },
      "outputs": [],
      "source": [
        "dic = {\n",
        "    'first' : 1,\n",
        "    'first' : '1',\n",
        "    'first' : 'first',\n",
        "    'second' : 2\n",
        "}\n",
        "print(dic)"
      ]
    },
    {
      "cell_type": "markdown",
      "metadata": {
        "id": "QHewa6uLyx7l"
      },
      "source": [
        "## Method fromkeys(keys, value) จะทำการสร้าง Dictionary จาก tuple ของ keys โดยจะกำหนด value ของทุกๆ key ตาม value"
      ]
    },
    {
      "cell_type": "code",
      "execution_count": null,
      "metadata": {
        "id": "3ex3JHwfzK5n"
      },
      "outputs": [],
      "source": [
        "keys = ('key1', 'key2', 'key3', 'key4')\n",
        "value = 'default value'\n",
        "myDic = dict.fromkeys(keys, value)\n",
        "print(myDic)"
      ]
    },
    {
      "cell_type": "markdown",
      "metadata": {
        "id": "faqZ2tb8ztLm"
      },
      "source": [
        "#### ถ้าไม่ใส่ value จะได้ค่า default value เป็น None"
      ]
    },
    {
      "cell_type": "code",
      "execution_count": null,
      "metadata": {
        "id": "KGMurlUhzn6D"
      },
      "outputs": [],
      "source": [
        "keys = ('key1', 'key2', 'key3', 'key4')\n",
        "myDic = dict.fromkeys(keys)\n",
        "print(myDic)"
      ]
    },
    {
      "cell_type": "markdown",
      "metadata": {
        "id": "3cllTECy-ng7"
      },
      "source": [
        "# **2. การเข้าถึงข้อมูลใน Dictionary**\n",
        "เข้าถึงข้อมูลใน dictionary ด้วยการ access ด้วยการระบุ key ใน `[]` จะได้ value มา\n"
      ]
    },
    {
      "cell_type": "code",
      "execution_count": null,
      "metadata": {
        "id": "8NHizcVOGxvw"
      },
      "outputs": [],
      "source": [
        "john = {\n",
        "    'name' : 'john smith',\n",
        "    'tel' : '0123456789',\n",
        "    'age' : 30\n",
        "}\n",
        "print(john['name'], john['tel'], john['age'])"
      ]
    },
    {
      "cell_type": "markdown",
      "metadata": {
        "id": "hm8jlHIGwOvA"
      },
      "source": [
        "## Method get(key) จะคืนค่า value ของ key นั้น"
      ]
    },
    {
      "cell_type": "code",
      "execution_count": null,
      "metadata": {
        "id": "fG-Nht3MwY54"
      },
      "outputs": [],
      "source": [
        "john = {\n",
        "    'name' : 'john smith',\n",
        "    'tel' : '0123456789',\n",
        "    'age' : 30\n",
        "}\n",
        "print(john.get('tel'))"
      ]
    },
    {
      "cell_type": "markdown",
      "metadata": {
        "id": "9oGw-qr_Hntt"
      },
      "source": [
        "## ไม่สามารถเข้าถึง key ที่ไม่มีอยู่ได้"
      ]
    },
    {
      "cell_type": "code",
      "execution_count": null,
      "metadata": {
        "id": "pDi2ziM0Hew6"
      },
      "outputs": [],
      "source": [
        "john = {\n",
        "    'name' : 'john smith',\n",
        "    'tel' : '0123456789',\n",
        "    'age' : 30\n",
        "}\n",
        "print(john['last'])"
      ]
    },
    {
      "cell_type": "code",
      "execution_count": null,
      "metadata": {
        "id": "ivJOKfIYwgn8"
      },
      "outputs": [],
      "source": [
        "john = {\n",
        "    'name' : 'john smith',\n",
        "    'tel' : '0123456789',\n",
        "    'age' : 30\n",
        "}\n",
        "print(john.get('last'))"
      ]
    },
    {
      "cell_type": "markdown",
      "metadata": {
        "id": "JIrhZxfX-0bS"
      },
      "source": [
        "# **3. การเพิ่มข้อมูลเข้าไปใน Dictionary** \n"
      ]
    },
    {
      "cell_type": "code",
      "execution_count": null,
      "metadata": {
        "id": "z7ppqP7u--BK"
      },
      "outputs": [],
      "source": [
        "john = {}\n",
        "john['firstname'] = 'john'\n",
        "john['lastname'] = 'smith'\n",
        "john['age'] = 30\n",
        "print(john)"
      ]
    },
    {
      "cell_type": "code",
      "execution_count": null,
      "metadata": {
        "id": "7eBUCmPj--h4"
      },
      "outputs": [],
      "source": [
        "cs112 = {\n",
        "    'id' : \"01418112\",\n",
        "    'name' : \"Fundamental Programming Concept\"\n",
        "}\n",
        "cs112['dept'] = \"Computer Science\"\n",
        "print(cs112)"
      ]
    },
    {
      "cell_type": "markdown",
      "metadata": {
        "id": "rq1ZhGFx-pFo"
      },
      "source": [
        "# **4. การแก้ไขข้อมูลใน Dictionary**\n"
      ]
    },
    {
      "cell_type": "code",
      "execution_count": null,
      "metadata": {
        "id": "eRA7-XuL-_Bt"
      },
      "outputs": [],
      "source": [
        "cs112 = {\n",
        "    'id': '418112', \n",
        "    'name': 'Fun Pro Concept',\n",
        "    'dept': 'Com Sci'\n",
        "}\n",
        "print(cs112)"
      ]
    },
    {
      "cell_type": "code",
      "execution_count": null,
      "metadata": {
        "id": "KX0QwtnYfHng"
      },
      "outputs": [],
      "source": [
        "cs112['name'] = \"Fundamental Programming Concept\"\n",
        "cs112['dept'] = 'Computer Science'\n",
        "print(cs112)"
      ]
    },
    {
      "cell_type": "markdown",
      "metadata": {
        "id": "rWytnniYgJ82"
      },
      "source": [
        "## สามารถใช้ method update({key:value}) ในการแก้ไขข้อมูลได้"
      ]
    },
    {
      "cell_type": "code",
      "execution_count": null,
      "metadata": {
        "id": "GpQtS0P0gGEv"
      },
      "outputs": [],
      "source": [
        "cs112.update({'id':'01418112'})\n",
        "print(cs112)"
      ]
    },
    {
      "cell_type": "markdown",
      "metadata": {
        "id": "CFWvLZDYgjgK"
      },
      "source": [
        "#### ถ้าไม่มี key ที่ตรงกันจะเป็นการเพิ่มข้อมูลเข้าไปใน Dictionary\n"
      ]
    },
    {
      "cell_type": "code",
      "execution_count": null,
      "metadata": {
        "id": "buFtawN4f2it"
      },
      "outputs": [],
      "source": [
        "cs112.update({'Faculty':'Science'})\n",
        "print(cs112)"
      ]
    },
    {
      "cell_type": "markdown",
      "metadata": {
        "id": "JxVZ4vWA-t6l"
      },
      "source": [
        "# **5. การลบข้อมูลใน Dictionary**\n"
      ]
    },
    {
      "cell_type": "markdown",
      "metadata": {
        "id": "cWsv84ADh2tY"
      },
      "source": [
        "## Method pop(key) จะทำการลบข้อมูล key:value ออกจาก Dictionary พร้อมทั้ง return value ออกมาด้วย"
      ]
    },
    {
      "cell_type": "code",
      "execution_count": null,
      "metadata": {
        "id": "TshcuE2t-_oW"
      },
      "outputs": [],
      "source": [
        "cs112 = {'id': '01418112', 'name': 'Fundamental Programming Concept', 'dept': 'Computer Science', 'Faculty': 'Science'}\n",
        "cs112.pop('Faculty')\n",
        "print(cs112)"
      ]
    },
    {
      "cell_type": "code",
      "execution_count": null,
      "metadata": {
        "id": "P25NBfbOjmWP"
      },
      "outputs": [],
      "source": [
        "cs112 = {'id': '01418112', 'name': 'Fundamental Programming Concept', 'dept': 'Computer Science', 'Faculty': 'Science'}\n",
        "faculty = cs112.pop('Faculty')\n",
        "print(cs112)\n",
        "print(faculty)"
      ]
    },
    {
      "cell_type": "markdown",
      "metadata": {
        "id": "ozLcPjFwiNOu"
      },
      "source": [
        "#### ระวัง ถ้า pop key ที่ไม่มีใน dictionary จะเกิด error"
      ]
    },
    {
      "cell_type": "code",
      "execution_count": null,
      "metadata": {
        "id": "q9-EKmOEiXR4"
      },
      "outputs": [],
      "source": [
        "cs112.pop('test')"
      ]
    },
    {
      "cell_type": "markdown",
      "metadata": {
        "id": "WXVKYA8Nir6v"
      },
      "source": [
        "#### ระวัง pop ต้อง passing parameter 1 ตัวเสมอ"
      ]
    },
    {
      "cell_type": "code",
      "execution_count": null,
      "metadata": {
        "id": "CmmSZAPdi3Oz"
      },
      "outputs": [],
      "source": [
        "cs112.pop()"
      ]
    },
    {
      "cell_type": "markdown",
      "metadata": {
        "id": "Ezw0vcA2i9D5"
      },
      "source": [
        "## Method popitem() จะลบ key:value ตัวสุดท้ายออก พร้อมทั้ง return tuple ของ (key, value) ออกมา\n",
        "* ถ้า Python version น้อยกว่า 3.7 จะเป็นการสุ่มลบ"
      ]
    },
    {
      "cell_type": "code",
      "execution_count": null,
      "metadata": {
        "id": "dgNe87ULjR_3"
      },
      "outputs": [],
      "source": [
        "cs112 = {'id': '01418112', 'name': 'Fundamental Programming Concept', 'dept': 'Computer Science', 'Faculty': 'Science'}\n",
        "cs112.popitem()\n",
        "print(cs112)"
      ]
    },
    {
      "cell_type": "code",
      "execution_count": null,
      "metadata": {
        "id": "KdPn7b5qkKlL"
      },
      "outputs": [],
      "source": [
        "cs112 = {'id': '01418112', 'name': 'Fundamental Programming Concept', 'dept': 'Computer Science', 'Faculty': 'Science'}\n",
        "faculty = cs112.popitem()\n",
        "print(cs112)\n",
        "print(faculty)\n"
      ]
    },
    {
      "cell_type": "code",
      "execution_count": null,
      "metadata": {
        "id": "kFjff5cNi7aW"
      },
      "outputs": [],
      "source": [
        "cs112 = {'id': '01418112', 'name': 'Fundamental Programming Concept', 'dept': 'Computer Science', 'Faculty': 'Science'}\n",
        "faculty = cs112.popitem()\n",
        "key, value = cs112.popitem()\n",
        "print(key)\n",
        "print(value)"
      ]
    },
    {
      "cell_type": "markdown",
      "metadata": {
        "id": "927W6TmRkmBu"
      },
      "source": [
        "## Method clear() จะทำการลบ key:value ทั้งหมดใน Dictionary ออก"
      ]
    },
    {
      "cell_type": "code",
      "execution_count": null,
      "metadata": {
        "id": "VdaoXNvVkuM0"
      },
      "outputs": [],
      "source": [
        "cs112 = {'id': '01418112', 'name': 'Fundamental Programming Concept', 'dept': 'Computer Science', 'Faculty': 'Science'}\n",
        "cs112.clear()\n",
        "print(cs112)"
      ]
    },
    {
      "cell_type": "markdown",
      "metadata": {
        "id": "JG-aTAen-8aQ"
      },
      "source": [
        "# **6. Loop**"
      ]
    },
    {
      "cell_type": "code",
      "execution_count": null,
      "metadata": {
        "id": "KtCP8oow_SUL"
      },
      "outputs": [],
      "source": [
        "cs112 = {'id': '01418112', 'name': 'Fundamental Programming Concept', 'dept': 'Computer Science', 'Faculty': 'Science'}\n",
        "for i in cs112:\n",
        "  print(\"i in loop is key of dictionary : \",i)"
      ]
    },
    {
      "cell_type": "code",
      "execution_count": null,
      "metadata": {
        "id": "0VqlokFya3kc"
      },
      "outputs": [],
      "source": [
        "cs112 = {'id': '01418112', 'name': 'Fundamental Programming Concept', 'dept': 'Computer Science', 'Faculty': 'Science'}\n",
        "for i in cs112:\n",
        "  print(\"cs112[\\\"{}\\\"] = {}\".format(i, cs112[i]))"
      ]
    },
    {
      "cell_type": "markdown",
      "metadata": {
        "id": "QyCHllVrb3qR"
      },
      "source": [
        "## Method values() จะคืนค่า dict_values ของ value ทั้งหมดใน Dictionary"
      ]
    },
    {
      "cell_type": "code",
      "execution_count": null,
      "metadata": {
        "id": "Iun0-HZFdY30"
      },
      "outputs": [],
      "source": [
        "cs112 = {'id': '01418112', 'name': 'Fundamental Programming Concept', 'dept': 'Computer Science', 'Faculty': 'Science'}\n",
        "cs112.values()"
      ]
    },
    {
      "cell_type": "code",
      "execution_count": null,
      "metadata": {
        "id": "o_DlQvPlcWAK"
      },
      "outputs": [],
      "source": [
        "cs112 = {'id': '01418112', 'name': 'Fundamental Programming Concept', 'dept': 'Computer Science', 'Faculty': 'Science'}\n",
        "for i in cs112.values():\n",
        "  print(i)"
      ]
    },
    {
      "cell_type": "code",
      "execution_count": null,
      "metadata": {
        "id": "o5meHmw0cIGl"
      },
      "outputs": [],
      "source": [
        "cs112 = {'id': '01418112', 'name': 'Fundamental Programming Concept', 'dept': 'Computer Science', 'Faculty': 'Science'}\n",
        "values = cs112.values()\n",
        "for i in values:\n",
        "  print(i)"
      ]
    },
    {
      "cell_type": "markdown",
      "metadata": {
        "id": "SBKpYMFZcHJg"
      },
      "source": [
        "## Method keys() จะคืนค่า dict_key ของ key ทั้งหมดใน Dictionary"
      ]
    },
    {
      "cell_type": "code",
      "execution_count": null,
      "metadata": {
        "id": "GAnR30ryc5aO"
      },
      "outputs": [],
      "source": [
        "cs112 = {'id': '01418112', 'name': 'Fundamental Programming Concept', 'dept': 'Computer Science', 'Faculty': 'Science'}\n",
        "cs112.keys()"
      ]
    },
    {
      "cell_type": "code",
      "execution_count": null,
      "metadata": {
        "id": "7C67tgbpdDfx"
      },
      "outputs": [],
      "source": [
        "cs112 = {'id': '01418112', 'name': 'Fundamental Programming Concept', 'dept': 'Computer Science', 'Faculty': 'Science'}\n",
        "print(cs112.keys())"
      ]
    },
    {
      "cell_type": "code",
      "execution_count": null,
      "metadata": {
        "id": "BjZVyFgNcioz"
      },
      "outputs": [],
      "source": [
        "cs112 = {'id': '01418112', 'name': 'Fundamental Programming Concept', 'dept': 'Computer Science', 'Faculty': 'Science'}\n",
        "for i in cs112.keys():\n",
        "  print(i, \"=\", cs112[i])"
      ]
    },
    {
      "cell_type": "markdown",
      "metadata": {
        "id": "OV0QB6T1g3ZV"
      },
      "source": [
        "## Method items() จะคืนค่า dict_item ที่เป็นคู่ของ tuple (key, value) ทั้งหมดของ Dictionary"
      ]
    },
    {
      "cell_type": "code",
      "execution_count": null,
      "metadata": {
        "id": "WhNLd2EzoThE"
      },
      "outputs": [],
      "source": [
        "cs112 = {'id': '01418112', 'name': 'Fundamental Programming Concept', 'dept': 'Computer Science', 'Faculty': 'Science'}\n",
        "print(cs112.items())"
      ]
    },
    {
      "cell_type": "code",
      "execution_count": null,
      "metadata": {
        "id": "Gbuh18D0op1q"
      },
      "outputs": [],
      "source": [
        "for k, v in cs112.items():\n",
        "  print(\"key =\", k, \"value =\", v)"
      ]
    },
    {
      "cell_type": "markdown",
      "metadata": {
        "id": "OQ7IZG0q_PlI"
      },
      "source": [
        "# **6. Nested Dictionary**"
      ]
    },
    {
      "cell_type": "code",
      "execution_count": null,
      "metadata": {
        "id": "w6jGMqqn_Hsd"
      },
      "outputs": [],
      "source": [
        "ls = [1, 2, 3, 4, 5]\n",
        "data = 5\n",
        "dic = {\n",
        "    \"list\" : ls,\n",
        "    \"data\" : data\n",
        "}\n",
        "print(dic)"
      ]
    },
    {
      "cell_type": "code",
      "execution_count": null,
      "metadata": {
        "id": "Vn2m2tdud-4b"
      },
      "outputs": [],
      "source": [
        "for i in dic['list']:\n",
        "  print(i)"
      ]
    },
    {
      "cell_type": "code",
      "execution_count": null,
      "metadata": {
        "colab": {
          "base_uri": "https://localhost:8080/"
        },
        "id": "uPnoOBSaeS6j",
        "outputId": "4a1fedf2-444d-42b1-a2ef-d06e365aa9a4"
      },
      "outputs": [
        {
          "name": "stdout",
          "output_type": "stream",
          "text": [
            "Enter id: 1\n",
            "Enter name: qq\n",
            "Enter id: 2\n",
            "Enter name: ww\n",
            "Enter id: 3\n",
            "Enter name: ee\n",
            "Enter id: 4\n",
            "Enter name: rr\n",
            "Enter id: 5\n",
            "Enter name: tt\n",
            "[{'id': '1', 'name': 'qq'}, {'id': '2', 'name': 'ww'}, {'id': '3', 'name': 'ee'}, {'id': '4', 'name': 'rr'}, {'id': '5', 'name': 'tt'}]\n",
            "student[0]['name'] qq\n"
          ]
        }
      ],
      "source": [
        "students = []\n",
        "for i in range(5):\n",
        "  id = input(\"Enter id: \")\n",
        "  name = input(\"Enter name: \")\n",
        "  student = {\n",
        "      'id' : id,\n",
        "      'name' : name\n",
        "  }\n",
        "  students.append(student)\n",
        "print(students)\n",
        "print(\"student[0]['name']\", \"=\", students[0]['name'])"
      ]
    },
    {
      "cell_type": "code",
      "execution_count": null,
      "metadata": {
        "colab": {
          "base_uri": "https://localhost:8080/"
        },
        "id": "zdGVm3Zme-b3",
        "outputId": "2e5cfe52-6c16-45dd-ef9b-851af5911b1f"
      },
      "outputs": [
        {
          "name": "stdout",
          "output_type": "stream",
          "text": [
            "{'name': 'kong', 'address': {'city': 'Bangkok', 'country': 'Thailand'}, 'age': 20}\n",
            "student['address']['country'] = Thailand\n"
          ]
        }
      ],
      "source": [
        "student = {\n",
        "    'name' : 'kong',\n",
        "    'address' : {\n",
        "        'city' : 'Bangkok',\n",
        "        'country' : 'Thailand'\n",
        "    },\n",
        "    'age' : 20\n",
        "}\n",
        "print(student)\n",
        "print(\"student['address']['country'] =\", student['address']['country'])"
      ]
    },
    {
      "cell_type": "markdown",
      "metadata": {
        "id": "6jItAK0b-Eai"
      },
      "source": [
        "# **7. Function**"
      ]
    },
    {
      "cell_type": "markdown",
      "metadata": {
        "id": "yIzZ6zzE-Ink"
      },
      "source": [
        "## **size** len()\n",
        "คืนค่าจำนวนสมาชิกทั้งหมดใน Dictionary\n"
      ]
    },
    {
      "cell_type": "code",
      "execution_count": null,
      "metadata": {
        "colab": {
          "base_uri": "https://localhost:8080/"
        },
        "id": "enw0qe_v_SB_",
        "outputId": "9da7c195-a3c3-4d44-eda4-54e5c32f23f3"
      },
      "outputs": [
        {
          "name": "stdout",
          "output_type": "stream",
          "text": [
            "3\n"
          ]
        }
      ],
      "source": [
        "john = {\n",
        "    \"first\" : \"John\",\n",
        "    \"last\" : \"smith\",\n",
        "    \"age\" : 30\n",
        "}\n",
        "\n",
        "print(len(john))"
      ]
    }
  ],
  "metadata": {
    "colab": {
      "collapsed_sections": [
        "QyCHllVrb3qR",
        "SBKpYMFZcHJg",
        "OV0QB6T1g3ZV"
      ],
      "name": "11-dictionary.ipynb",
      "provenance": []
    },
    "kernelspec": {
      "display_name": "Python 3",
      "name": "python3"
    },
    "language_info": {
      "name": "python"
    }
  },
  "nbformat": 4,
  "nbformat_minor": 0
}
