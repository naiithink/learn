{
 "cells": [
  {
   "cell_type": "markdown",
   "metadata": {},
   "source": [
    "# Lambda"
   ]
  },
  {
   "cell_type": "markdown",
   "metadata": {},
   "source": [
    "Checkout the error:"
   ]
  },
  {
   "cell_type": "code",
   "execution_count": 1,
   "metadata": {},
   "outputs": [
    {
     "ename": "TypeError",
     "evalue": "'<' not supported between instances of 'dict' and 'dict'",
     "output_type": "error",
     "traceback": [
      "\u001b[0;31m---------------------------------------------------------------------------\u001b[0m",
      "\u001b[0;31mTypeError\u001b[0m                                 Traceback (most recent call last)",
      "\u001b[1;32m/Users/naiithink/projects/private/learn/python/lambda.ipynb Cell 2'\u001b[0m in \u001b[0;36m<cell line: 7>\u001b[0;34m()\u001b[0m\n\u001b[1;32m      <a href='vscode-notebook-cell:/Users/naiithink/projects/private/learn/python/lambda.ipynb#ch0000000?line=0'>1</a>\u001b[0m people \u001b[39m=\u001b[39m [\n\u001b[1;32m      <a href='vscode-notebook-cell:/Users/naiithink/projects/private/learn/python/lambda.ipynb#ch0000000?line=1'>2</a>\u001b[0m     {\u001b[39m\"\u001b[39m\u001b[39mname\u001b[39m\u001b[39m\"\u001b[39m: \u001b[39m\"\u001b[39m\u001b[39mHarry\u001b[39m\u001b[39m\"\u001b[39m, \u001b[39m\"\u001b[39m\u001b[39mhouse\u001b[39m\u001b[39m\"\u001b[39m: \u001b[39m\"\u001b[39m\u001b[39mGryffindor\u001b[39m\u001b[39m\"\u001b[39m},\n\u001b[1;32m      <a href='vscode-notebook-cell:/Users/naiithink/projects/private/learn/python/lambda.ipynb#ch0000000?line=2'>3</a>\u001b[0m     {\u001b[39m\"\u001b[39m\u001b[39mname\u001b[39m\u001b[39m\"\u001b[39m: \u001b[39m\"\u001b[39m\u001b[39mCho\u001b[39m\u001b[39m\"\u001b[39m, \u001b[39m\"\u001b[39m\u001b[39mhouse\u001b[39m\u001b[39m\"\u001b[39m: \u001b[39m\"\u001b[39m\u001b[39mRavenclaw\u001b[39m\u001b[39m\"\u001b[39m},\n\u001b[1;32m      <a href='vscode-notebook-cell:/Users/naiithink/projects/private/learn/python/lambda.ipynb#ch0000000?line=3'>4</a>\u001b[0m     {\u001b[39m\"\u001b[39m\u001b[39mname\u001b[39m\u001b[39m\"\u001b[39m: \u001b[39m\"\u001b[39m\u001b[39mDraco\u001b[39m\u001b[39m\"\u001b[39m, \u001b[39m\"\u001b[39m\u001b[39mhouse\u001b[39m\u001b[39m\"\u001b[39m: \u001b[39m\"\u001b[39m\u001b[39mSlytherin\u001b[39m\u001b[39m\"\u001b[39m}\n\u001b[1;32m      <a href='vscode-notebook-cell:/Users/naiithink/projects/private/learn/python/lambda.ipynb#ch0000000?line=4'>5</a>\u001b[0m ]\n\u001b[0;32m----> <a href='vscode-notebook-cell:/Users/naiithink/projects/private/learn/python/lambda.ipynb#ch0000000?line=6'>7</a>\u001b[0m people\u001b[39m.\u001b[39;49msort()\n\u001b[1;32m      <a href='vscode-notebook-cell:/Users/naiithink/projects/private/learn/python/lambda.ipynb#ch0000000?line=8'>9</a>\u001b[0m \u001b[39mprint\u001b[39m(people)\n",
      "\u001b[0;31mTypeError\u001b[0m: '<' not supported between instances of 'dict' and 'dict'"
     ]
    }
   ],
   "source": [
    "people = [\n",
    "    {\"name\": \"Harry\", \"house\": \"Gryffindor\"},\n",
    "    {\"name\": \"Cho\", \"house\": \"Ravenclaw\"},\n",
    "    {\"name\": \"Draco\", \"house\": \"Slytherin\"}\n",
    "]\n",
    "\n",
    "people.sort()\n",
    "\n",
    "print(people)"
   ]
  },
  {
   "cell_type": "code",
   "execution_count": 4,
   "metadata": {},
   "outputs": [
    {
     "name": "stdout",
     "output_type": "stream",
     "text": [
      "[{'name': 'Cho', 'house': 'Ravenclaw'}, {'name': 'Draco', 'house': 'Slytherin'}, {'name': 'Harry', 'house': 'Gryffindor'}]\n",
      "[{'name': 'Harry', 'house': 'Gryffindor'}, {'name': 'Cho', 'house': 'Ravenclaw'}, {'name': 'Draco', 'house': 'Slytherin'}]\n"
     ]
    }
   ],
   "source": [
    "people = [\n",
    "    {\"name\": \"Harry\", \"house\": \"Gryffindor\"},\n",
    "    {\"name\": \"Cho\", \"house\": \"Ravenclaw\"},\n",
    "    {\"name\": \"Draco\", \"house\": \"Slytherin\"}\n",
    "]\n",
    "\n",
    "# `f()` tells `.sort()` how to sort\n",
    "def f(person):\n",
    "    return person[\"name\"]\n",
    "\n",
    "# The way to sort them is by running the `f` function ::= key=f\n",
    "people.sort(key=f)\n",
    "\n",
    "print(people)\n",
    "\n",
    "#####\n",
    "\n",
    "def f(person):\n",
    "    return person[\"house\"]\n",
    "\n",
    "people.sort(key=f)\n",
    "\n",
    "print(people)"
   ]
  },
  {
   "cell_type": "markdown",
   "metadata": {},
   "source": [
    "Using `lambda`"
   ]
  },
  {
   "cell_type": "code",
   "execution_count": 5,
   "metadata": {},
   "outputs": [
    {
     "name": "stdout",
     "output_type": "stream",
     "text": [
      "[{'name': 'Cho', 'house': 'Ravenclaw'}, {'name': 'Draco', 'house': 'Slytherin'}, {'name': 'Harry', 'house': 'Gryffindor'}]\n"
     ]
    }
   ],
   "source": [
    "people = [\n",
    "    {\"name\": \"Harry\", \"house\": \"Gryffindor\"},\n",
    "    {\"name\": \"Cho\", \"house\": \"Ravenclaw\"},\n",
    "    {\"name\": \"Draco\", \"house\": \"Slytherin\"}\n",
    "]\n",
    "\n",
    "# Takes `person` as input, then return `person[\"name\"]` as output.\n",
    "people.sort(key=lambda person: person[\"name\"])\n",
    "\n",
    "print(people)"
   ]
  }
 ],
 "metadata": {
  "interpreter": {
   "hash": "aee8b7b246df8f9039afb4144a1f6fd8d2ca17a180786b69acc140d282b71a49"
  },
  "kernelspec": {
   "display_name": "Python 3.10.3 64-bit",
   "language": "python",
   "name": "python3"
  },
  "language_info": {
   "codemirror_mode": {
    "name": "ipython",
    "version": 3
   },
   "file_extension": ".py",
   "mimetype": "text/x-python",
   "name": "python",
   "nbconvert_exporter": "python",
   "pygments_lexer": "ipython3",
   "version": "3.10.3"
  },
  "orig_nbformat": 4
 },
 "nbformat": 4,
 "nbformat_minor": 2
}
