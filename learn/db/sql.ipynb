{
    "cells": [
        {
            "cell_type": "markdown",
            "metadata": {},
            "source": [
                "# SQL\n",
                "\n",
                "A database language\n",
                "\n",
                "- Database: we store data in table\n",
                "\n",
                "## DB Management Systems\n",
                "\n",
                "- MySQL --> separatable\n",
                "- PostgreSQL --> separatable\n",
                "- SQLite --> store in a file\n",
                "- ..."
            ]
        },
        {
            "cell_type": "markdown",
            "metadata": {},
            "source": [
                "### SQLite Types\n",
                "\n",
                "```\n",
                "TEXT                string\n",
                "NUMERIC             number-like, e.g., boolean, date\n",
                "INTEGER             integer (signed)\n",
                "REAL                floating-point\n",
                "BLOB                Binary Large OBject, pure binary, e.g., files, images\n",
                "```"
            ]
        },
        {
            "cell_type": "markdown",
            "metadata": {},
            "source": [
                "### MySQL Types\n",
                "\n",
                "```\n",
                "CHAR(size)          fixed-length char\n",
                "VARCHAR(size)       length up to size, variable-length char\n",
                "SMALLINT            like short int\n",
                "INT                 like int\n",
                "BIGINT              like long\n",
                "FLOAT               like float\n",
                "DOUBLE              like double\n",
                "...\n",
                "```"
            ]
        },
        {
            "cell_type": "markdown",
            "metadata": {},
            "source": [
                "## Creating a Table\n",
                "\n",
                "```sql\n",
                "CREATE TABLE <table_name> (\n",
                "    <column_name> <TYPE> PRIMARY KEY <cue>,\n",
                "    <column_name> <TYPE> [additional constraint],\n",
                "    <column_name> <TYPE> [additional constraint],\n",
                "    <column_name> <TYPE> [additional constraint]\n",
                ");\n",
                "```\n",
                "\n",
                "> ### Flights\n",
                "> \n",
                "> | origin    | destination   | duration  |\n",
                "> | :----:    | :---------:   | :------:  |\n",
                "> | New York  | London        | 415       |\n",
                "> | Shanghai  | Paris         | 760       |\n",
                "> | Istanbul  | Tokyo         | 700       |\n",
                "> | New York  | Paris         | 435       |\n",
                "> | Moscow    | Paris         | 245       |\n",
                "> | Lima      | New York      | 455       |\n",
                "> \n",
                "> ```sql\n",
                "> CREATE TABLE flights (\n",
                ">     id INTEGER PRIMARY KEY AUTOINCREMENT,\n",
                ">     origin TEXT NOT NULL,\n",
                ">     destination TEXT NOT NULL,\n",
                ">     duration INTEGER NOT NULL\n",
                "> );\n",
                "> ```\n",
                "\n",
                "### Constraints\n",
                "\n",
                "```\n",
                "CHECK               Check if a value obeys a certain condition, e.g., if a number falls within a certain range\n",
                "DEFAULT             Assigns default value\n",
                "NOT NULL            Not NULL\n",
                "PRIMARY KEY         The PRIMARY KEY\n",
                "UNIQUE              No duplicates in the same column\n",
                "...\n",
                "```\n"
            ]
        },
        {
            "cell_type": "markdown",
            "metadata": {},
            "source": [
                "## Inserting Data\n",
                "\n",
                "```sql\n",
                "INSERT\n",
                "```\n",
                "\n",
                "> ## Flights\n",
                "> \n",
                "> ```sql\n",
                "> INSERT INTO flights\n",
                ">     (origin, destination, duration)\n",
                ">     VALUES (\"New York\", \"London\", 415);\n",
                "> ```\n",
                "> \n",
                "> Takes the `flights` table then insert some values.\n"
            ]
        },
        {
            "cell_type": "markdown",
            "metadata": {},
            "source": [
                "## Retrieving Data\n",
                "\n",
                "```\n",
                "SELECT\n",
                "```\n",
                "\n",
                "> ### Flights\n",
                "> \n",
                "> #### Columns\n",
                "> \n",
                "> ```sql\n",
                "> SELECT * FROM flights;\n",
                "> ```\n",
                "> \n",
                "> Selects all (`*`) the data in `flights`\n",
                "> \n",
                "> | id      | origin    | destination   | duration  |\n",
                "> | :---:   | :----:    | :---------:   | :------:  |\n",
                "> | 1       | New York  | London        | 415       |\n",
                "> | 2       | Shanghai  | Paris         | 760       |\n",
                "> | 3       | Istanbul  | Tokyo         | 700       |\n",
                "> | 4       | New York  | Paris         | 435       |\n",
                "> | 5       | Moscow    | Paris         | 245       |\n",
                "> | 6       | Lima      | New York      | 455       |\n",
                "> \n",
                "> - - -\n",
                "> \n",
                "> ```sql\n",
                "> SELECT origin, destination FROM flights;\n",
                "> ```\n",
                "> \n",
                "> Selects only `origin` and `destination` columns in `flights`\n",
                "> \n",
                "> |         | origin    | destination   |           |\n",
                "> | :---:   | :----:    | :---------:   | :------:  |\n",
                "> |         | New York  | London        |           |\n",
                "> |         | Shanghai  | Paris         |           |\n",
                "> |         | Istanbul  | Tokyo         |           |\n",
                "> |         | New York  | Paris         |           |\n",
                "> |         | Moscow    | Paris         |           |\n",
                "> |         | Lima      | New York      |           |\n",
                "> \n",
                "> -----\n",
                "> \n",
                "> #### Rows\n",
                "> \n",
                "> ```sql\n",
                "> SELECT * FROM flights WHERE id = 3;\n",
                "> ```\n",
                "> \n",
                "> | id      | origin    | destination   | duration  |\n",
                "> | :---:   | :----:    | :---------:   | :------:  |\n",
                "> |         |           |               |           |\n",
                "> |         |           |               |           |\n",
                "> | 3       | Istanbul  | Tokyo         | 700       |\n",
                "> |         |           |               |           |\n",
                "> |         |           |               |           |\n",
                "> |         |           |               |           |\n",
                "> \n",
                "> - - -\n",
                "> \n",
                "> ```sql\n",
                "> SELECT * FROM flights WHERE origin = \"New York\";\n",
                "> ```\n",
                "> \n",
                "> | id      | origin    | destination   | duration  |\n",
                "> | :---:   | :----:    | :---------:   | :------:  |\n",
                "> | 1       | New York  | London        | 415       |\n",
                "> |         |           |               |           |\n",
                "> |         |           |               |           |\n",
                "> | 4       | New York  | Paris         | 435       |\n",
                "> |         |           |               |           |\n",
                "> |         |           |               |           |\n"
            ]
        },
        {
            "cell_type": "code",
            "execution_count": null,
            "metadata": {
                "vscode": {
                    "languageId": "sql"
                }
            },
            "outputs": [],
            "source": [
                "CREATE TABLE flights (\n",
                "    id INTEGER PRIMARY KEY AUTOINCREMENT,\n",
                "    origin TEXT NOT NULL,\n",
                "    destination TEXT NOT NULL,\n",
                "    duration INTEGER NOT NULL\n",
                ");"
            ]
        },
        {
            "cell_type": "code",
            "execution_count": null,
            "metadata": {
                "vscode": {
                    "languageId": "sql"
                }
            },
            "outputs": [],
            "source": [
                "INSERT INTO flights (origin, destination, duration) VALUES (\"New York\", \"London\", 415);\n",
                "INSERT INTO flights (origin, destination, duration) VALUES (\"Shanghai\", \"Paris\", 760);\n",
                "INSERT INTO flights (origin, destination, duration) VALUES (\"Istanbul\", \"Tokyo\", 700);\n",
                "INSERT INTO flights (origin, destination, duration) VALUES (\"New York\", \"Paris\", 435);\n",
                "INSERT INTO flights (origin, destination, duration) VALUES (\"Moscow\", \"Paris\", 245);\n",
                "INSERT INTO flights (origin, destination, duration) VALUES (\"Lima\", \"New York\", 455);"
            ]
        },
        {
            "cell_type": "code",
            "execution_count": null,
            "metadata": {
                "vscode": {
                    "languageId": "sql"
                }
            },
            "outputs": [],
            "source": [
                ".tables\n",
                "\n",
                ".mode columns\n",
                ".headers yes"
            ]
        },
        {
            "cell_type": "markdown",
            "metadata": {},
            "source": [
                "### Boolean"
            ]
        },
        {
            "cell_type": "code",
            "execution_count": null,
            "metadata": {
                "vscode": {
                    "languageId": "sql"
                }
            },
            "outputs": [],
            "source": [
                "SELECT * FROM flights WHERE duration > 500;\n",
                "\n",
                "SELECT * FROM flights WHERE duration > 500\n",
                "        AND destination = \"Paris\";\n",
                "\n",
                "SELECT * FROM flights WHERE duration > 500\n",
                "        OR destination = \"Paris\";\n",
                "\n",
                "SELECT * FROM flights WHERE origin IN (\"New York\", \"Lima\");"
            ]
        },
        {
            "cell_type": "markdown",
            "metadata": {},
            "source": [
                "### Patterns"
            ]
        },
        {
            "cell_type": "code",
            "execution_count": null,
            "metadata": {
                "vscode": {
                    "languageId": "sql"
                }
            },
            "outputs": [],
            "source": [
                "SELECT * FROM flights WHERE origin LIKE \"%a%\";"
            ]
        },
        {
            "cell_type": "markdown",
            "metadata": {},
            "source": [
                "### Functions\n",
                "\n",
                "```\n",
                "AVERAGE\n",
                "COUNT\n",
                "MAX\n",
                "MIN\n",
                "SUM\n",
                "...\n",
                "```"
            ]
        },
        {
            "cell_type": "markdown",
            "metadata": {},
            "source": [
                "## Updating Data\n",
                "\n",
                "```\n",
                "UPDATE\n",
                "```\n",
                "\n",
                "> ### Flights\n",
                "> \n",
                "> ```sql\n",
                "> UPDATE flights\n",
                ">     SET duration = 430\n",
                ">     WHERE origin = \"New York\"\n",
                ">     AND destination = \"London\";\n",
                "> ```"
            ]
        },
        {
            "cell_type": "markdown",
            "metadata": {},
            "source": [
                "## Deleting Data\n",
                "\n",
                "```\n",
                "DELETE\n",
                "```\n",
                "\n",
                "> ### Flights\n",
                "> \n",
                "> ```sql\n",
                "> DELETE FROM flights WHERE destination = \"Tokyo\";\n",
                "> ```\n"
            ]
        },
        {
            "cell_type": "markdown",
            "metadata": {},
            "source": [
                "## Other Clauses\n",
                "\n",
                "```\n",
                "LIMIT\n",
                "ORDER BY\n",
                "GROUP BY\n",
                "HAVING\n",
                "...\n",
                "```\n"
            ]
        }
    ],
    "metadata": {
        "kernelspec": {
            "display_name": "Python 3.8.9 64-bit",
            "language": "python",
            "name": "python3"
        },
        "language_info": {
            "name": "python",
            "version": "3.8.9"
        },
        "orig_nbformat": 4,
        "vscode": {
            "interpreter": {
                "hash": "31f2aee4e71d21fbe5cf8b01ff0e069b9275f58929596ceb00d14d90e3e16cd6"
            }
        }
    },
    "nbformat": 4,
    "nbformat_minor": 2
}
