{
 "cells": [
  {
   "cell_type": "markdown",
   "metadata": {},
   "source": [
    "# $\\LaTeX{}$: Things You Need to Know (1)\n",
    "\n",
    "**Notes:**\n",
    "\n",
    "- Some of $\\LaTeX{}$ syntax might not be rendered correctly with $\\KaTeX$.  \n",
    "    Notice `%#OUTPUT WARN` at the very top of the cell.\n",
    "\n",
    "**Terms**\n",
    "\n",
    "| Term | Definition |\n",
    "| :--- | :--------- |\n",
    "| 'char' &verbar; 'chars' | 'character' &verbar; 'characters', respectively |\n",
    "| 'dir' &verbar; 'dirs' | 'directory' &verbar; 'directories', respectively |\n",
    "| 'TOC' | table of contents |\n",
    "\n",
    "**References:**\n",
    "\n",
    "- [Tobias Oetiker, et al., The Not So Short Introduction to $\\LaTeX2\\varepsilon$](<https://ctan.org/pkg/lshort-english?lang=en> \"A (Not So) Short Introduction to LaTeX2ε\")"
   ]
  },
  {
   "cell_type": "code",
   "execution_count": null,
   "metadata": {},
   "outputs": [],
   "source": [
    "%xmode minimal"
   ]
  },
  {
   "cell_type": "markdown",
   "metadata": {},
   "source": [
    "## Publishing Something\n",
    "\n",
    "```\n",
    "manuscript           manuscript\n",
    "----------    -->    ----------    -->    Typesetter\n",
    "Authors              Book\n",
    "                     Designer\n",
    "\n",
    "\\________/           \\________/           \\________/\n",
    "  |                    |                    |\n",
    "  You                  LaTeX                TeX\n",
    "```"
   ]
  },
  {
   "cell_type": "markdown",
   "metadata": {},
   "source": [
    "## 1. $\\LaTeX{}$ Input Files\n",
    "\n",
    "The input for $\\LaTeX{}$ is **a plain text file** which contains:\n",
    "- Text of the document\n",
    "- $\\LaTeX{}$ commands"
   ]
  },
  {
   "cell_type": "markdown",
   "metadata": {},
   "source": [
    "### 1.1 Spaces\n",
    "\n",
    "- \"Whitespace\" chars — blank or tab — are treated uniformly as \"space\".  \n",
    "    _Several consecutive_ whitespace chars are treated as _one_ space.\n",
    "- Whitespace at the start of a line is generally ignored.\n",
    "- A single line break is treated as \"whitespace\"."
   ]
  },
  {
   "cell_type": "code",
   "execution_count": null,
   "metadata": {
    "vscode": {
     "languageId": "latex"
    }
   },
   "outputs": [],
   "source": [
    "%%latex\n",
    "\n",
    "hello,    world  \n",
    "    hello, world  \n",
    "hello, world\n",
    "\n",
    "An empty line starts a new paragraph.\n",
    "\n",
    "\n",
    "\n",
    "Several empty lines are treated the same as one empty line."
   ]
  },
  {
   "cell_type": "markdown",
   "metadata": {},
   "source": [
    "### 1.2 Special Characters\n",
    "\n",
    "```\n",
    "# $ % ^ & _ { } ~ \\\n",
    "```\n",
    "\n",
    "These symbols are reserved.  \n",
    "Normally, they are not printed out if entered directly.\n",
    "\n",
    "To use them in a document, precede them with a prefix backslash.\n",
    "\n",
    "> **Note:**  \n",
    "> `\\\\` $\\not\\to$ `\\`  \n",
    ">    - Use the `\\textbackslash` command instead.  \n",
    ">    - `\\\\` is used for line breaking."
   ]
  },
  {
   "cell_type": "code",
   "execution_count": null,
   "metadata": {
    "vscode": {
     "languageId": "latex"
    }
   },
   "outputs": [],
   "source": [
    "%%latex\n",
    "%#OUTPUT WARN\n",
    "\n",
    "\\# \\$ \\% \\^ \\& \\_ \\{ \\} \\~{}\n",
    "\\textbackslash"
   ]
  },
  {
   "cell_type": "markdown",
   "metadata": {},
   "source": [
    "### 1.3 $\\LaTeX{}$ Commands\n",
    "\n",
    "$\\LaTeX{}$ commands are case sensitive, and take one of the following formats:\n",
    "\n",
    "- Start with a backslash `\\` and then have a name consisting of letters only.  \n",
    "    Command names are terminated by a space, a number or any other 'non-letter'.\n",
    "- They consist of a backslash and exactly one non-letter.\n",
    "- Many commands exist in a 'starred variant' where a star in appended to the command name.  \n",
    "\n",
    "        \\chapter*{}\n",
    "\n",
    "$\\LaTeX{}$ ignores whitespace after commands.  \n",
    "To get a space after a command, either:\n",
    "- put an empty parameter `{}` (to stop $\\LaTeX{}$ from eating up all the whitespace after the command) and a blank \n",
    "- or a special space command after the command name."
   ]
  },
  {
   "cell_type": "code",
   "execution_count": null,
   "metadata": {
    "vscode": {
     "languageId": "latex"
    }
   },
   "outputs": [],
   "source": [
    "%%latex\n",
    "%#OUTPUT WARN\n",
    "\n",
    "New \\TeX users may miss whitespaces  \n",
    "after a command. % renders wrong  \n",
    "Experienced \\TeX{} users are  \n",
    "\\TeX perts, and know how to use  \n",
    "whitespaces. % renders correct"
   ]
  },
  {
   "cell_type": "markdown",
   "metadata": {},
   "source": [
    "#### Command Parameter\n",
    "\n",
    "```\n",
    "\\command[optional parameter]{parameter}\n",
    "```"
   ]
  },
  {
   "cell_type": "code",
   "execution_count": null,
   "metadata": {
    "vscode": {
     "languageId": "latex"
    }
   },
   "outputs": [],
   "source": [
    "%%latex\n",
    "%#OUTPUT WARN\n",
    "\n",
    "You can \\textls{lean} on me!"
   ]
  },
  {
   "cell_type": "markdown",
   "metadata": {},
   "source": [
    "#### Newline\n",
    "\n",
    "```\n",
    "\\newline\n",
    "```"
   ]
  },
  {
   "cell_type": "code",
   "execution_count": null,
   "metadata": {
    "vscode": {
     "languageId": "latex"
    }
   },
   "outputs": [],
   "source": [
    "%%latex\n",
    "%#OUTPUT WARN\n",
    "\n",
    "Please, start a new line right here! \\newline Thank you!"
   ]
  },
  {
   "cell_type": "markdown",
   "metadata": {},
   "source": [
    "### 1.4 Comments\n",
    "\n",
    "When $\\LaTeX{}$ encounters a `%` char while processing an input file,  \n",
    "it ignores the rest og the present line, the line break,  \n",
    "and all whitespace the beginning of the next line."
   ]
  },
  {
   "cell_type": "code",
   "execution_count": null,
   "metadata": {
    "vscode": {
     "languageId": "latex"
    }
   },
   "outputs": [],
   "source": [
    "%%latex\n",
    "%# OUTPUT WARN\n",
    "\n",
    "This is an % eiei\n",
    "% Better: instructive <----\n",
    "example: Supercal%\n",
    "              ifragilist%\n",
    "    icevpialidocious"
   ]
  },
  {
   "cell_type": "markdown",
   "metadata": {},
   "source": [
    "#### Long Comments\n",
    "\n",
    "The `comment` environment provided by the `verbatim` package can also be used.\n",
    "\n",
    "> **Note:**  \n",
    "> This won't work inside complex environments, like math for example."
   ]
  },
  {
   "cell_type": "code",
   "execution_count": null,
   "metadata": {
    "vscode": {
     "languageId": "latex"
    }
   },
   "outputs": [],
   "source": [
    "%%latex\n",
    "%#OUTPUT WARN\n",
    "\n",
    "\\usepackage{verbatim}\n",
    "\n",
    "This is another\n",
    "\\begin{comment}\n",
    "rather stupid,\n",
    "but helpful\n",
    "\\end{comment}\n",
    "example for embedding\n",
    "comments in your document."
   ]
  },
  {
   "cell_type": "markdown",
   "metadata": {},
   "source": [
    "## 2. Input File Structure\n",
    "\n",
    "```\n",
    "--------------------+--------------------\n",
    "                    | \\documentclass{...}\n",
    "Preamble            | \\usepackage{...}\n",
    "                    | ...\n",
    "--------------------+--------------------\n",
    "                    | \\begin{document}\n",
    "Body                | ...\n",
    "                    | \\end{document}\n",
    "--------------------+--------------------\n",
    "            LaTeX-ignored area\n",
    "```\n",
    "\n",
    "### Preamble Area\n",
    "\n",
    "Every input file must start with the command\n",
    "\n",
    "```latex\n",
    "\\documentclass{...}\n",
    "```\n",
    "\n",
    "- Specifies the sort of a document.\n",
    "\n",
    "After that, add commands to influence the style of the while document,  \n",
    "or load packages that add new features to the $\\LaTeX{}$ system.\n",
    "\n",
    "```latex\n",
    "\\usepackage{...}\n",
    "```\n",
    "\n",
    "### Body Area\n",
    "\n",
    "Start the body of the text with the command\n",
    "\n",
    "```latex\n",
    "\\begin{document}\n",
    "```\n",
    "\n",
    "To tell $\\LaTeX{}$ to call it a day, at the end of the document, add\n",
    "\n",
    "```latex\n",
    "\\end{document}\n",
    "```\n",
    "\n",
    "Everything follows this command will be ignored by $\\LaTeX{}$.\n",
    "\n",
    "> **A Minimal $\\LaTeX{}$ File**  \n",
    "> doc: `examples/fig1.1/MinimalLaTeXFile.tex`  \n",
    ">> ```latex\n",
    ">> \\documentclass{article}\n",
    ">> \\begin{document}\n",
    ">> Small is beautiful.\n",
    ">> \\end{document}\n",
    ">> ```"
   ]
  },
  {
   "cell_type": "markdown",
   "metadata": {},
   "source": [
    "## 3. A Typical Command Line Session\n",
    "\n",
    "> **Note:**  \n",
    "> This description assumes that a working $\\LaTeX{}$ installation already sits on your computer.\n",
    "\n",
    "1. Edit/Create your $\\LaTeX{}$ input file. This file must be plain ASCII text.  \n",
    "    When picking a name for your file, make sure it bears the extension `.tex`\n",
    "1. Open a shell, `cd` to the dir where your input is located and run $\\LaTeX{}$ on your input file.  \n",
    "    If successful you will end up with a `.pdf` file.  \n",
    "    - It may be necessary to run $\\LaTeX{}$ several times to get the TOC and all internal references right.\n",
    "    - When your input file has a bug, $\\LaTeX{}$ will tell you about it and stop processing your input file.  \n",
    "        Type `ctrl-D` to get back to the command line.  \n",
    "    ```\n",
    "    xelatex foo.tex\n",
    "    ```\n",
    "\n",
    "> **Example of a Realistic Journal Article.**  \n",
    "> doc: `examples/fig1.2/JournalArticle.tex`  \n",
    ">> ```latex\n",
    ">> \\documentclass[a4paper,11pt]{article}\n",
    ">> % define the title\n",
    ">> \\author{H.~Partl}\n",
    ">> \\title{Minimalism}\n",
    ">> \\begin{document}\n",
    ">> % generates the title\n",
    ">> \\maketitle\n",
    ">> % insert the table of contents\n",
    ">> \\tableofcontents\n",
    ">> \\section{Some Interesting Words}\n",
    ">> Well, and here begins my lovely article.\n",
    ">> \\section{Good Bye World}\n",
    ">> \\ldots{} and here it ends.\n",
    ">> \\end{document}\n",
    ">> ```"
   ]
  },
  {
   "cell_type": "markdown",
   "metadata": {},
   "source": [
    "## 4. The Layout of the Document"
   ]
  },
  {
   "cell_type": "markdown",
   "metadata": {},
   "source": [
    "### 4.1 Document Classes\n",
    "\n",
    "```latex\n",
    "\\documentclass[options]{class}\n",
    "```\n",
    "\n",
    "- _`class`_ specifies the type of document to be created.\n",
    "- _`options`_ customizes the behavior of the document class.\n",
    "\n",
    "#### 4.1.1 Classes Explained in This Introduction\n",
    "\n",
    "| Class | Details |\n",
    "| :---- | :------ |\n",
    "| `article` | for articles in scientific journals, presentations, short reports, program documentation, invitations, ... |\n",
    "| `proc` | a class for proceedings based on the article class. |\n",
    "| `minimal` | is as small as it can get. It only sets a page size and a base font.<br />It is mainly used for debugging purposes. |\n",
    "| `report` | for longer reports containing several chapters, small books, PhD theses, ... |\n",
    "| `book` | for real books |\n",
    "| `slides` | for slides.  The class uses big sans serif letters. You might want to consider using the `Beamer` class instead. |\n",
    "\n",
    "The $\\LaTeX{}2\\varepsilon{}$ distribution provides additional classes for other documents, including `letters` and `slides`.\n",
    "\n",
    "#### 4.1.2 Common Options for the Standard Document Classes\n",
    "\n",
    "| Option | Details |\n",
    "| :----- | :------ |\n",
    "| `10pt, 11pt, 12pt` | Sets the size of the main font in the document. If no option is specified, 10pt is assumed. |\n",
    "| `a4paper, letterpaper, ...` | Defines the paper size. The default size is `letterpaper`.<br />Besides that, `a5paper`, `b5paper`, `executivepaper`, and `legalpaper` can be specified. |\n",
    "| `fleqn` — flush left equations | Typesets displayed formulae left-aligned instead of centred. |\n",
    "| `leqno` — left equation numbers | Places the numbering of formulae on the left hand side instead of the right. |\n",
    "| `titlepage, notitlepage` | Specifies whether a new page should be started after the document title or not.<br />The `article` class does not start a new page by default, while `report` and `book` do. |\n",
    "| `onecolumn, twocolumn` | Instructs $\\LaTeX{}$ to typeset the document in one column or two columns. |\n",
    "| `twoside, oneside` | Specifies whether double or single sided output should be generated.<br />The classes `article` and `report` are single sided and the `book` class is double sided by default.<br />**Note that** this option concerns the style of the document only.<br />The option `twoside` does not tell the printer you use that it should actually make a two-sided printout. |\n",
    "| `landscape` | Changes the layout of the document to print in landscape mode. |\n",
    "| `openright, openany` | Makes chapters begin either only on right hand pages or on the next page available.<br />This does not work with the `article` class, as it does not know about chapters.<br />The `report` class by default starts chapters on the next page available<br />and the `book` class starts them on right hand pages. |\n",
    "\n",
    "**Example**\n",
    "\n",
    "```latex\n",
    "\\documentclass[11pt,twoside,a4paper]{article}\n",
    "```\n",
    "\n",
    "This command instructs $\\LaTeX{}$ to typeset the document as an $article$ with a base font size of $eleven~points$,  \n",
    "and to produce a layout suitable for $double~sided$ printing on $A4~paper$."
   ]
  },
  {
   "cell_type": "markdown",
   "metadata": {},
   "source": [
    "### 4.2 Packages\n",
    "\n",
    "Packages enhance the capabilities of $\\LaTeX{}$.\n",
    "\n",
    "```latex\n",
    "\\usepackage[options]{package}\n",
    "```\n",
    "\n",
    "- _`package`_ is the name of the package.\n",
    "- _`options`_ is a list of keywords that trigger special features in the package.\n",
    "\n",
    "#### 4.2.1 Some of the Packages Distributed with $\\LaTeX{}$\n",
    "\n",
    "| Package | Descriptions |\n",
    "| :------ | :----------- |\n",
    "| `doc`   | Allows the documentation of $\\LaTeX{}$ programs.<br />Described in `doc.dtx`[^a] and in $The~\\LaTeX{}~Companion$[^2]. |\n",
    "| `exscale` | Provides scaled versions of the math extension font.<br />Described in `ltexscale.dtx`. |\n",
    "| `fontenc` | Specifies which font encoding $\\LaTeX{}$ should use.<br />Described in `ltoutenc.dtx`. |\n",
    "| `ifthen` | Provides commands of the form<br />'if..then do..otherwise do..'<br />Described in `ifthen.dtx` and $The~\\LaTeX{}~Companion$[^2]. |\n",
    "| `latexsym` | To access the $\\LaTeX{}$ symbol font, you should use the `latexsym` package.<br />Described in `latexsym.dtx` and in $The~\\LaTeX{}$~Companion$[^2].<br />The commands defined by the `latexsym` package are:<br />`\\mho` $\\mho$<br />`\\Join` $\\Join$<br />`\\Box` $\\Box$<br />`\\Diamond` $\\Diamond$<br />`\\leadsto`$\\leadsto$<br />`\\sqsubset` $\\sqsubset$<br />`\\sqsupset` $\\sqsupset$<br />`\\lhd` $\\lhd$<br />`\\unlhd` $\\unlhd$<br />`\\rhd` $\\rhd$<br />`\\unrhd` $\\unrhd$|\n",
    "| `makeidx` | Provides commands for producing indexes.<br />Described in section 4.2 and in $The~\\LaTeX{}~Companion$[^2]. |\n",
    "| `syntonly` | Processes a document without typesetting it. |\n",
    "| `inputenc` | Allows the specification of an input encoding such as ASCII, ISO Latin-1, ISO Latin-2,<br />437/850 IBM code pages, Apple Mac- intosh, Next, ANSI-Windows or user-defined one.<br />Described in `inputenc.dtx`.\n",
    "\n",
    "Others are provided separately.\n",
    "\n",
    "> You may find more information on the packages installed at your site in your $Local~Guide$[^1].  \n",
    "> The prime source for information about $\\LaTeX{}$ packages is $The~\\LaTeX~Companion$[^2].  \n",
    "> It contains descriptions on hundreds of packages, along with information of how to write your own extensions to $\\LaTeX{}2\\varepsilon{}$.\n",
    "\n",
    "Modern $\\TeX$ distributions come with a large number of packages preinstalled.  \n",
    "If you are working on a Unix system, use the command `texdoc` for accessing package documentation.\n",
    "\n",
    "----\n",
    "\n",
    "[^a]: This file should be installed on your system,  \n",
    "    and you should be able to get a `dvi` file by typing `latex doc.dtx` in any directory  \n",
    "    where you have write permission. The same is true for all the other files mentioned in this table."
   ]
  },
  {
   "cell_type": "markdown",
   "metadata": {},
   "source": [
    "### 4.3 Page Styles\n",
    "\n",
    "$\\LaTeX{}$ supports three predefined header/footer combinations — so-called page $styles$.\n",
    "\n",
    "```latex\n",
    "\\pagestyle{style}\n",
    "```\n",
    "\n",
    "It is possible to change the page style of the current page.\n",
    "\n",
    "```latex\n",
    "\\thispagestyle{style}\n",
    "```\n",
    "\n",
    "- _`style`_ defines which page style to be used.\n",
    "\n",
    "#### 4.3.1 The Predefined Page Styles of $\\LaTeX{}$\n",
    "\n",
    "| Style | Definitions |\n",
    "| :---- | :---------- |\n",
    "| `plain` | prints the page numbers on the bottom of the page, in the middle of the footer.<br />This is the default page style. |\n",
    "| `headings` | prints the current chapter heading and the page number in the header on each page,<br />while the footer remains empty. |\n",
    "| `empty` | sets both the header and the footer to be empty. |"
   ]
  },
  {
   "cell_type": "markdown",
   "metadata": {},
   "source": [
    "## 5. Files You Might Encounter\n",
    "\n",
    "When working with $\\LaTeX{}$ you will soon find yourself in a maze of files with various extensions and probably no clue.  \n",
    "The following list explains the various file types you might encounter when working with $\\TeX$.\n",
    "\n",
    "> **Note:**  \n",
    "> This table does not claim to be a complete list of extensions.\n",
    "\n",
    "| Extension | Description |\n",
    "| :-------- | :---------- |\n",
    "| `.tex` | $\\LaTeX{}$ or $\\TeX{}$ input file.<br />Can be compiled with `latex`. |\n",
    "| `.sty` | $\\LaTeX{}$ Macro package.<br />Load this into your $\\LaTeX{}$ document using the `\\usepackage` command. |\n",
    "| `.dtx` | Documented $\\TeX{}$. This is the main distribution format for $\\LaTeX{}$ style files.<br />If you process a `.dtx` file you get documented macro code of the $\\LaTeX{}$ package contained in the `.dtx` file. |\n",
    "| `.ins` | The installer for the files contained in the matching `.dtx` file.<br />If you download a $\\LaTeX{}$ package from the net, you will normally get a `.dtx` and a `.ins` file.<br />Run $\\LaTeX{}$ on the `.ins` file to unpack the `.dtx` file. |\n",
    "| `.cls` | Class files define what your document looks like.<br />They are selected with the `\\documentclass` command. |\n",
    "| `.fd` | Font description file telling $\\LaTeX{}$ about new fonts. |\n",
    "\n",
    "The following files are generated when you run $\\LaTeX{}$ on your input file:\n",
    "\n",
    "| Extension | Description |\n",
    "| :-------- | :---------- |\n",
    "| `.dvi` | Device Independent File.<br />This is the main result of a classical $\\LaTeX{}$ compile run.<br />Look at its content with a DVI previewer program or send it to a printer with `dvips` or a similar application.<br />If you are using pdf $\\LaTeX{}$ then you should not see any of these files. |\n",
    "| `.log` | Gives a detailed account of what happened during the last compiler run. |\n",
    "| `.toc` | Stores all your section headers.<br />It gets read in for the next compiler run and is used to produce the table of contents. |\n",
    "| `.lof` | This is like `.toc` but for the list of figures. |\n",
    "| `.lot` | And again the same for the list of tables. |\n",
    "| `.aux` | Another file that transports information from one compiler run to the next.<br />Among other things, the `.aux` file is used to store information associated with cross-references. |\n",
    "| `.idx` | If your document contains an index. $\\LaTeX{}$ stores all the words that go into the index in this file.<br />Process this file with `makeindex`. |\n",
    "| `.ind` | The processed `.idx` file, ready for inclusion into your document on the next compile cycle. |\n",
    "| `.ilg` | Logfile telling what `makeindex` did. |"
   ]
  },
  {
   "cell_type": "markdown",
   "metadata": {},
   "source": [
    "## 6. Big Projects\n",
    "\n",
    "### 6.1 Splitting the Input File\n",
    "\n",
    "There are two commands for splitting the input file into several parts.\n",
    "\n",
    "#### 6.1.1 In the Document Body\n",
    "\n",
    "```latex\n",
    "\\include{filename}\n",
    "```\n",
    "\n",
    "- Use this command in the document body to insert the contents of another file named `filename.tex`.\n",
    "\n",
    "> **Note:**  \n",
    "> $\\LaTeX{}$ will start a new page before processing the material input from `filename.tex`.\n",
    "\n",
    "#### 6.1.2 In the Preamble\n",
    "\n",
    "```latex\n",
    "\\includeonly{filename,filename,...}\n",
    "```\n",
    "\n",
    "- Instructs $\\LaTeX{}$ to only input some of the `\\include`d files.\n",
    "- After this command is executed in the preamble of the document,  \n",
    "    only `\\include` commands for the filenames that are listed in the argument of the `\\includeonly` command will be executed.\n",
    "\n",
    "The `\\include` command starts typesetting the included text on a new page.  \n",
    "This is helpful when you use `\\includeonly`, because the page breaks will not move, even when some include files are omitted.  \n",
    "\n",
    "### 6.2 Injecting Directly\n",
    "\n",
    "```latex\n",
    "\\input{filename}\n",
    "```\n",
    "\n",
    "### 6.3 Syntax Checking\n",
    "\n",
    "```latex\n",
    "\\usepackage{syntonly}\n",
    "\\syntaxonly\n",
    "```\n",
    "\n",
    "This makes $\\LaTeX{}$ skim through your document only checking for proper syntax and usage of the commands, but doesn’t produce any (pdf) output.\n",
    "\n",
    "> As $\\LaTeX{}$ runs faster in this mode you may save yourself valuable time.\n",
    "\n",
    "When you want to produce pages, just comment out the second line."
   ]
  },
  {
   "cell_type": "markdown",
   "metadata": {},
   "source": [
    "----\n",
    "----\n",
    "\n",
    "## Footer\n",
    "\n",
    "| | |\n",
    "| :--- | :--- |\n",
    "| [^1]: | Each $\\LaTeX{}$ installation should provide a so-called $\\LaTeX{}$ Local Guide,<br />which explains the things that are special to the local system.<br />It should be contained in a file called `local.tex`.<br />Unfortunately, some lazy sysops do not provide such a document.<br />In this case, go and ask your local $\\LaTeX{}$ guru for help. |\n",
    "| [^2]: | Frank Mittelbach, Michel Goossens, Johannes Braams, David Carlisle,<br />Chris Rowley. The LATEX Companion, (2nd Edition). Addison-Wesley,<br />Reading, Massachusetts, 2004, ISBN 0-201-36299-6. |"
   ]
  }
 ],
 "metadata": {
  "interpreter": {
   "hash": "aee8b7b246df8f9039afb4144a1f6fd8d2ca17a180786b69acc140d282b71a49"
  },
  "kernelspec": {
   "display_name": "Python 3 (ipykernel)",
   "language": "python",
   "name": "python3"
  },
  "language_info": {
   "codemirror_mode": {
    "name": "ipython",
    "version": 3
   },
   "file_extension": ".py",
   "mimetype": "text/x-python",
   "name": "python",
   "nbconvert_exporter": "python",
   "pygments_lexer": "ipython3",
   "version": "3.10.4"
  }
 },
 "nbformat": 4,
 "nbformat_minor": 4
}
