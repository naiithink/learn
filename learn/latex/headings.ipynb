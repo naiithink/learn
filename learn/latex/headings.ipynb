{
 "cells": [
  {
   "cell_type": "markdown",
   "metadata": {},
   "source": [
    "# Headings"
   ]
  },
  {
   "cell_type": "markdown",
   "metadata": {},
   "source": [
    "## # Number\n",
    "\n",
    "- `\\thepage`\n",
    "- `\\thechapter`\n",
    "- `\\thesection`\n",
    "\n",
    "----\n",
    "\n",
    "- `\\chaptername`  \n",
    "    the word `'Chapter'` in English or its equivalent in the current language.\n",
    "\n",
    "----\n",
    "\n",
    "- `\\leftmark`  \n",
    "    the **current** top-level structure `name` and `number` in UPPERCASE.  \n",
    "    e.g., `'Chapter'` for `report` and `book`, `'Section'` for `article`\n",
    "\n",
    "- `\\rightmark`  \n",
    "    the **current** ___next___ top-level structure `name` and `number` in UPPERCASE.  \n",
    "    e.g., `'Section'` for `report` and `book`, `'Subsection'` for `article`"
   ]
  }
 ],
 "metadata": {
  "interpreter": {
   "hash": "aee8b7b246df8f9039afb4144a1f6fd8d2ca17a180786b69acc140d282b71a49"
  },
  "kernelspec": {
   "display_name": "Python 3.10.4 64-bit",
   "language": "python",
   "name": "python3"
  },
  "language_info": {
   "name": "python",
   "version": "3.10.4"
  },
  "orig_nbformat": 4
 },
 "nbformat": 4,
 "nbformat_minor": 2
}
