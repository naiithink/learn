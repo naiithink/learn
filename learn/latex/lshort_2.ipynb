{
 "cells": [
  {
   "cell_type": "markdown",
   "metadata": {},
   "source": [
    "# $\\LaTeX{}$: Typesetting Text (2)\n",
    "\n",
    "**Notes:**\n",
    "\n",
    "- Some of $\\LaTeX{}$ syntax might not be rendered correctly with $\\KaTeX$.  \n",
    "    Notice `%#OUTPUT WARN` at the very top of the cell.\n",
    "\n",
    "**Terms**\n",
    "\n",
    "| Term | Definition |\n",
    "| :--- | :--------- |\n",
    "| 'char' &verbar; 'chars' | 'character' &verbar; 'characters', respectively |\n",
    "| 'dir' &verbar; 'dirs' | 'directory' &verbar; 'directories', respectively |\n",
    "| 'TOC' | table of contents |\n",
    "\n",
    "**References:**\n",
    "\n",
    "- [Tobias Oetiker, et al., The Not So Short Introduction to $\\LaTeX2\\varepsilon$](<https://ctan.org/pkg/lshort-english?lang=en> \"A (Not So) Short Introduction to LaTeX2ε\")"
   ]
  },
  {
   "cell_type": "code",
   "execution_count": null,
   "metadata": {},
   "outputs": [],
   "source": [
    "%xmode minimal"
   ]
  },
  {
   "cell_type": "markdown",
   "metadata": {},
   "source": [
    "After reading the previous chapter, you should know about the basic stuff of which a $\\LaTeX{}2\\varepsilon$ document is made.  \n",
    "In this chapter will fill in the remaining structure you will need to know in order to produce real world material."
   ]
  },
  {
   "cell_type": "markdown",
   "metadata": {},
   "source": [
    "## 1. The Structure of Text and Language\n",
    "\n",
    "\n",
    "The main point of writing a text, is to convey ideas, information, or knowl- edge to the reader.  \n",
    "The reader will understand the text better if these ideas are well-structured,  \n",
    "and will see and feel this structure much better if the typographical form reflects the logical and semantic structure of the content.\n",
    "\n",
    "$\\LaTeX{}$ is different from other typesetting systems in that you just have to tell it the logical and semantic structure of a text.  \n",
    "It then derives the typographical form of the text according to the “rules” given in the document class file and in various style files."
   ]
  }
 ],
 "metadata": {
  "language_info": {
   "name": "python"
  },
  "orig_nbformat": 4
 },
 "nbformat": 4,
 "nbformat_minor": 2
}
