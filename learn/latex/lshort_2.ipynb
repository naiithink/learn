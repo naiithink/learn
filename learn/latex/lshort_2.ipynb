{
 "cells": [
  {
   "cell_type": "markdown",
   "metadata": {},
   "source": [
    "# $\\LaTeX{}$: Typesetting Text (2)\n",
    "\n",
    "**Notes:**\n",
    "\n",
    "- Some of $\\LaTeX{}$ syntax might not be rendered correctly with $\\KaTeX$.  \n",
    "    Notice `%#OUTPUT WARN` at the very top of the cell.\n",
    "\n",
    "**Terms**\n",
    "\n",
    "| Term | Definition |\n",
    "| :--- | :--------- |\n",
    "| 'char' &verbar; 'chars' | 'character' &verbar; 'characters', respectively |\n",
    "| 'dir' &verbar; 'dirs' | 'directory' &verbar; 'directories', respectively |\n",
    "| 'TOC' | table of contents |\n",
    "\n",
    "**References:**\n",
    "\n",
    "- [Tobias Oetiker, et al., The Not So Short Introduction to $\\LaTeX2\\varepsilon$](<https://ctan.org/pkg/lshort-english?lang=en> \"A (Not So) Short Introduction to LaTeX2ε\")"
   ]
  },
  {
   "cell_type": "code",
   "execution_count": null,
   "metadata": {},
   "outputs": [],
   "source": [
    "%xmode minimal"
   ]
  },
  {
   "cell_type": "markdown",
   "metadata": {},
   "source": []
  }
 ],
 "metadata": {
  "language_info": {
   "name": "python"
  },
  "orig_nbformat": 4
 },
 "nbformat": 4,
 "nbformat_minor": 2
}
