{
 "cells": [
  {
   "cell_type": "markdown",
   "metadata": {},
   "source": [
    "# $\\LaTeX{}$\n",
    "\n",
    "**Notes:**\n",
    "- Some of $\\LaTeX{}$ syntax might not be rendered correctly with iPython.  \n",
    "    Cells with `%#OUTPUT WARN`.\n",
    "\n",
    "**References:**\n",
    "- [Tobias Oetiker, et al., The Not So Short Introduction to $\\LaTeX2\\varepsilon$](<https://ctan.org/pkg/lshort-english?lang=en> \"A (Not So) Short Introduction to LaTeX2ε\")"
   ]
  },
  {
   "cell_type": "code",
   "execution_count": 1,
   "metadata": {},
   "outputs": [
    {
     "name": "stdout",
     "output_type": "stream",
     "text": [
      "Exception reporting mode: Minimal\n"
     ]
    }
   ],
   "source": [
    "%xmode minimal"
   ]
  },
  {
   "cell_type": "markdown",
   "metadata": {},
   "source": [
    "## Publishing Something\n",
    "\n",
    "\n",
    "```\n",
    "manuscript           manuscript\n",
    "----------    -->    ----------    -->    Typesetter\n",
    "Authors              Book\n",
    "                     Designer\n",
    "\n",
    "                     \\________/           \\________/\n",
    "                       |                    |\n",
    "                       LaTeX                TeX\n",
    "```"
   ]
  },
  {
   "cell_type": "markdown",
   "metadata": {},
   "source": [
    "## $\\LaTeX{}$ Input Files\n",
    "\n",
    "The input for $\\LaTeX{}$ is **a plain text file** which contains:\n",
    "- Text of the document\n",
    "- $\\LaTeX{}$ commands"
   ]
  },
  {
   "cell_type": "markdown",
   "metadata": {},
   "source": [
    "### Spaces\n",
    "\n",
    "- \"Whitespace\" characters — blank or tab — are treated uniformly as \"space\".  \n",
    "    _Several consecutive_ whitespace chars are treated as _one_ space.\n",
    "- Whitespace at the start of a line is generally ignored.\n",
    "- A single line break is treated as \"whitespace\"."
   ]
  },
  {
   "cell_type": "code",
   "execution_count": 2,
   "metadata": {
    "vscode": {
     "languageId": "latex"
    }
   },
   "outputs": [
    {
     "data": {
      "text/latex": [
       "\n",
       "hello,    world  \n",
       "    hello, world  \n",
       "hello, world\n",
       "\n",
       "An empty line starts a new paragraph.\n",
       "\n",
       "\n",
       "\n",
       "Several empty lines are treated the same as one empty line.\n"
      ],
      "text/plain": [
       "<IPython.core.display.Latex object>"
      ]
     },
     "metadata": {},
     "output_type": "display_data"
    }
   ],
   "source": [
    "%%latex\n",
    "\n",
    "hello,    world  \n",
    "    hello, world  \n",
    "hello, world\n",
    "\n",
    "An empty line starts a new paragraph.\n",
    "\n",
    "\n",
    "\n",
    "Several empty lines are treated the same as one empty line."
   ]
  },
  {
   "cell_type": "markdown",
   "metadata": {},
   "source": [
    "### Special Characters\n",
    "\n",
    "```\n",
    "# $ % ^ & _ { } ~ \\\n",
    "```\n",
    "\n",
    "These symbols are reserved.  \n",
    "Normally, they are not printed out if entered directly.\n",
    "\n",
    "To use them in a document, precede them with a prefix backslash."
   ]
  },
  {
   "cell_type": "code",
   "execution_count": 3,
   "metadata": {
    "vscode": {
     "languageId": "latex"
    }
   },
   "outputs": [
    {
     "data": {
      "text/latex": [
       "%#OUTPUT WARN\n",
       "\n",
       "\\# \\$ \\% \\^ \\& \\_ \\{ \\} \\~{}\n",
       "\\textbackslash\n"
      ],
      "text/plain": [
       "<IPython.core.display.Latex object>"
      ]
     },
     "metadata": {},
     "output_type": "display_data"
    }
   ],
   "source": [
    "%%latex\n",
    "%#OUTPUT WARN\n",
    "\n",
    "\\# \\$ \\% \\^ \\& \\_ \\{ \\} \\~{}\n",
    "\\textbackslash"
   ]
  },
  {
   "cell_type": "markdown",
   "metadata": {},
   "source": [
    "Note:\n",
    "1. `\\\\` $\\not\\to$ `\\`  \n",
    "    - Use the `\\textbackslash` command instead.  \n",
    "    - `\\\\` is used for line breaking."
   ]
  },
  {
   "cell_type": "markdown",
   "metadata": {},
   "source": [
    "### $\\LaTeX{}$ Commands\n",
    "\n",
    "$\\LaTeX{}$ commands are case sensitive, and take one of the following formats:\n",
    "\n",
    "- Start with a backslash `\\` and then have a name consisting of letters only.  \n",
    "    Command names are terminated by a space, a number or any other 'non-letter'.\n",
    "- They consist of a backslash and exactly one non-letter.\n",
    "- Many commands exist in a 'starred variant' where a star in appended to the command name.  \n",
    "\n",
    "        \\chapter*{}\n",
    "\n",
    "$\\LaTeX{}$ ignores whitespace after commands.  \n",
    "To get a space after a command, either:\n",
    "- put an empty parameter `{}` (to stop $\\LaTeX{}$ from eating up all the whitespace after the command) and a blank \n",
    "- or a special space command after the command name."
   ]
  },
  {
   "cell_type": "code",
   "execution_count": 4,
   "metadata": {
    "vscode": {
     "languageId": "latex"
    }
   },
   "outputs": [
    {
     "data": {
      "text/latex": [
       "%#OUTPUT WARN\n",
       "\n",
       "New \\TeX users may miss whitespaces  \n",
       "after a command. % renders wrong  \n",
       "Experienced \\TeX{} users are  \n",
       "\\TeX perts, and know how to use  \n",
       "whitespaces. % renders correct\n"
      ],
      "text/plain": [
       "<IPython.core.display.Latex object>"
      ]
     },
     "metadata": {},
     "output_type": "display_data"
    }
   ],
   "source": [
    "%%latex\n",
    "%#OUTPUT WARN\n",
    "\n",
    "New \\TeX users may miss whitespaces  \n",
    "after a command. % renders wrong  \n",
    "Experienced \\TeX{} users are  \n",
    "\\TeX perts, and know how to use  \n",
    "whitespaces. % renders correct"
   ]
  },
  {
   "cell_type": "markdown",
   "metadata": {},
   "source": [
    "#### Parameters\n",
    "\n",
    "```\n",
    "\\command[optional_patameter]{parameter}\n",
    "```"
   ]
  }
 ],
 "metadata": {
  "interpreter": {
   "hash": "aee8b7b246df8f9039afb4144a1f6fd8d2ca17a180786b69acc140d282b71a49"
  },
  "kernelspec": {
   "display_name": "Python 3.10.4 64-bit",
   "language": "python",
   "name": "python3"
  },
  "language_info": {
   "codemirror_mode": {
    "name": "ipython",
    "version": 3
   },
   "file_extension": ".py",
   "mimetype": "text/x-python",
   "name": "python",
   "nbconvert_exporter": "python",
   "pygments_lexer": "ipython3",
   "version": "3.10.4"
  },
  "orig_nbformat": 4
 },
 "nbformat": 4,
 "nbformat_minor": 2
}
