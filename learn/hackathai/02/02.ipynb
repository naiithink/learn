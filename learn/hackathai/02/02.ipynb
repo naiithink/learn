{
 "cells": [
  {
   "cell_type": "markdown",
   "metadata": {},
   "source": [
    "# 02"
   ]
  },
  {
   "cell_type": "markdown",
   "metadata": {},
   "source": [
    "## Variable\n",
    "\n",
    "```\n",
    "[type] [identifier] `=` [value]\n",
    "```\n",
    "\n",
    "### Var Types\n",
    "\n",
    "----\n",
    "\n",
    "```\n",
    "var - redeclarable\n",
    "\n",
    "let - \n",
    "\n",
    "const age = 20\n",
    "```\n",
    "\n",
    "### Var Identifier\n",
    "\n",
    "----\n",
    "\n",
    "- Only `letters, digits, underscores, and $`\n",
    "- Begin with `letters, underscores, and $` not `digits`\n",
    "- Case-sensitive\n",
    "- Reserved words"
   ]
  },
  {
   "cell_type": "code",
   "execution_count": null,
   "metadata": {},
   "outputs": [],
   "source": [
    "var a = 1\n"
   ]
  }
 ],
 "metadata": {
  "interpreter": {
   "hash": "aee8b7b246df8f9039afb4144a1f6fd8d2ca17a180786b69acc140d282b71a49"
  },
  "kernelspec": {
   "display_name": "Python 3.10.1 64-bit",
   "language": "python",
   "name": "python3"
  },
  "language_info": {
   "name": "python",
   "version": "3.10.1"
  },
  "orig_nbformat": 4
 },
 "nbformat": 4,
 "nbformat_minor": 2
}
