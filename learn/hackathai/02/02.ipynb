{
 "cells": [
  {
   "cell_type": "markdown",
   "metadata": {},
   "source": [
    "# 02"
   ]
  },
  {
   "cell_type": "markdown",
   "metadata": {},
   "source": [
    "## Variable\n",
    "\n",
    "```\n",
    "[type] [identifier] `=` [value]\n",
    "```"
   ]
  },
  {
   "cell_type": "markdown",
   "metadata": {},
   "source": [
    "### console.*\n",
    "\n",
    "----\n",
    "\n",
    "```js\n",
    "console.log()\n",
    "\n",
    "console.error()\n",
    "\n",
    "console.warn()\n",
    "```"
   ]
  },
  {
   "cell_type": "code",
   "execution_count": 1,
   "metadata": {},
   "outputs": [
    {
     "name": "stdout",
     "output_type": "stream",
     "text": [
      "foo\n"
     ]
    },
    {
     "name": "stderr",
     "output_type": "stream",
     "text": [
      "foo\n",
      "foo\n"
     ]
    }
   ],
   "source": [
    "console.log(\"foo\")\n",
    "\n",
    "console.error(\"foo\")\n",
    "\n",
    "console.warn(\"foo\")"
   ]
  },
  {
   "cell_type": "markdown",
   "metadata": {},
   "source": [
    "### Var Identifier\n",
    "\n",
    "----\n",
    "\n",
    "- Only `letters, digits, underscores, and $`\n",
    "- Begin with `letters, underscores, and $` not `digits`\n",
    "- Case-sensitive\n",
    "- Reserved words"
   ]
  },
  {
   "cell_type": "code",
   "execution_count": 2,
   "metadata": {},
   "outputs": [
    {
     "name": "stdout",
     "output_type": "stream",
     "text": [
      "\u001b[33m0\u001b[39m\n",
      "\u001b[33m1\u001b[39m\n",
      "\u001b[33m2\u001b[39m\n"
     ]
    }
   ],
   "source": [
    "var foo = 0\n",
    "console.log(foo)\n",
    "\n",
    "var _bar = 1\n",
    "console.log(_bar)\n",
    "\n",
    "var $baz = 2\n",
    "console.log($baz)"
   ]
  },
  {
   "cell_type": "code",
   "execution_count": 3,
   "metadata": {},
   "outputs": [
    {
     "name": "stderr",
     "output_type": "stream",
     "text": [
      "1:5 - Variable declaration expected.\n",
      "1:6 - ';' expected.\n",
      "1:6 - An identifier or keyword cannot immediately follow a numeric literal.\n",
      "1:6 - Cannot find name 'foobar'.\n"
     ]
    }
   ],
   "source": [
    "var 9foobar = 0\n",
    "\n",
    "console.log($baz)"
   ]
  },
  {
   "cell_type": "markdown",
   "metadata": {},
   "source": [
    "### Var Types\n",
    "\n",
    "----\n",
    "\n",
    "```\n",
    "var - redeclarable\n",
    "\n",
    "let - one-time declaration\n",
    "\n",
    "const - one-time assignment\n",
    "```"
   ]
  },
  {
   "cell_type": "code",
   "execution_count": 4,
   "metadata": {},
   "outputs": [
    {
     "name": "stdout",
     "output_type": "stream",
     "text": [
      "\u001b[33m1\u001b[39m\n",
      "\u001b[33m0\u001b[39m\n"
     ]
    }
   ],
   "source": [
    "var foo = 1\n",
    "console.log(foo)\n",
    "\n",
    "var foo = 0\n",
    "console.log(foo)"
   ]
  },
  {
   "cell_type": "code",
   "execution_count": 5,
   "metadata": {},
   "outputs": [
    {
     "name": "stderr",
     "output_type": "stream",
     "text": [
      "1:5 - Cannot redeclare block-scoped variable 'foo'.\n",
      "4:5 - Cannot redeclare block-scoped variable 'foo'.\n"
     ]
    }
   ],
   "source": [
    "let foo = 1\n",
    "console.log(foo)\n",
    "\n",
    "let foo = 0\n",
    "console.log(foo)"
   ]
  },
  {
   "cell_type": "code",
   "execution_count": 6,
   "metadata": {},
   "outputs": [
    {
     "name": "stderr",
     "output_type": "stream",
     "text": [
      "3:1 - Cannot assign to 'foo' because it is a constant.\n"
     ]
    }
   ],
   "source": [
    "const foo = 1\n",
    "\n",
    "foo = 0\n",
    "\n",
    "console.log(foo)"
   ]
  }
 ],
 "metadata": {
  "interpreter": {
   "hash": "aee8b7b246df8f9039afb4144a1f6fd8d2ca17a180786b69acc140d282b71a49"
  },
  "kernelspec": {
   "display_name": "JavaScript",
   "language": "javascript",
   "name": "jslab"
  },
  "language_info": {
   "file_extension": ".js",
   "mimetype": "text/javascript",
   "name": "javascript",
   "version": ""
  },
  "orig_nbformat": 4
 },
 "nbformat": 4,
 "nbformat_minor": 2
}
