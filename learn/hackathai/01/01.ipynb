{
 "cells": [
  {
   "cell_type": "markdown",
   "metadata": {},
   "source": [
    "# 01 &#x2012; MERN Stack"
   ]
  },
  {
   "cell_type": "markdown",
   "metadata": {},
   "source": [
    "## MERN Stack\n",
    "\n",
    "**M** ongoDB - Document database **NoSQL database**<br>\n",
    "**E** xpress(.js) - Node.js web framework **back-end**<br>\n",
    "**R** eact(.js) - a client-side JavaScript library **front-end**<br>\n",
    "**N** ode(.js) - a JavaScript web server<br>\n",
    "\n",
    "All-open-source\n",
    "\n",
    "**Project partition**\n",
    "\n",
    "- Back-end - mobile app\n",
    "- Front-end - native Android, iOS app"
   ]
  }
 ],
 "metadata": {
  "interpreter": {
   "hash": "aee8b7b246df8f9039afb4144a1f6fd8d2ca17a180786b69acc140d282b71a49"
  },
  "kernelspec": {
   "display_name": "Python 3.10.1 64-bit",
   "language": "python",
   "name": "python3"
  },
  "language_info": {
   "name": "python",
   "version": "3.10.1"
  },
  "orig_nbformat": 4
 },
 "nbformat": 4,
 "nbformat_minor": 2
}
