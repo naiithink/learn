{
 "cells": [
  {
   "cell_type": "code",
   "execution_count": null,
   "metadata": {},
   "outputs": [],
   "source": [
    "import os\n",
    "\n",
    "PWD = os.getcwd()"
   ]
  },
  {
   "cell_type": "code",
   "execution_count": null,
   "metadata": {},
   "outputs": [],
   "source": [
    "SRCDIR = os.path.join(PWD, \"src\")\n",
    "SRCFILE = str()\n",
    "\n",
    "code = r\"\"\"\n",
    "#include <stdio.h>\n",
    "\n",
    "int main(void)\n",
    "{\n",
    "    printf(\"hello, world\\n\");\n",
    "    return 0;\n",
    "}\n",
    "\"\"\"\n",
    "\n",
    "try:\n",
    "    os.mkdir(SRCDIR)\n",
    "except FileExistsError:\n",
    "    pass\n",
    "finally:\n",
    "    SRCFILE = os.path.join(SRCDIR, \"hello.c\")\n",
    "\n",
    "with open(SRCFILE, \"w\") as source:\n",
    "    written = source.write(code)\n",
    "\n",
    "print(written)\n",
    "\n",
    "%store SRCDIR\n",
    "%store SRCFILE"
   ]
  },
  {
   "cell_type": "code",
   "execution_count": null,
   "metadata": {},
   "outputs": [],
   "source": [
    "%%sh\n",
    "%store -r SRCFILE\n",
    "\n",
    "pwd"
   ]
  }
 ],
 "metadata": {
  "interpreter": {
   "hash": "aee8b7b246df8f9039afb4144a1f6fd8d2ca17a180786b69acc140d282b71a49"
  },
  "kernelspec": {
   "display_name": "Python 3.10.3 64-bit",
   "language": "python",
   "name": "python3"
  },
  "language_info": {
   "codemirror_mode": {
    "name": "ipython",
    "version": 3
   },
   "file_extension": ".py",
   "mimetype": "text/x-python",
   "name": "python",
   "nbconvert_exporter": "python",
   "pygments_lexer": "ipython3",
   "version": "3.10.3"
  },
  "orig_nbformat": 4
 },
 "nbformat": 4,
 "nbformat_minor": 2
}
