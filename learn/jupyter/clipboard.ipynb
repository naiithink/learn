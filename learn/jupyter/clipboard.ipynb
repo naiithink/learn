{
    "cells": [
        {
            "cell_type": "code",
            "execution_count": null,
            "metadata": {},
            "outputs": [],
            "source": [
                "# from IPython.core import display\n",
                "from IPython.lib import clipboard\n",
                "from IPython.display import display, HTML, Javascript\n",
                "\n",
                "foo = clipboard.osx_clipboard_get()\n",
                "\n",
                "script = \"\"\"\n",
                "<script type=\"text/javascript\">\n",
                "    // var kernel = IPython.notebook.kernel;\n",
                "    // var data = kernel.execute(\"data\" + \"=\" + \"foo\");\n",
                "\n",
                "    document.getElementById(\"demo\").innerHTML = Jupyter.notebook.kernel.execute(\"foo\");\n",
                "    function myFunction() {\n",
                "        var copyText = document.getElementById(\"myInput\");\n",
                "\n",
                "        copyText.select();\n",
                "        copyText.setSelectRange(0, 99);\n",
                "\n",
                "        navigator.clipboard.writeText(copyText.value);\n",
                "    }\n",
                "</script>\n",
                "\"\"\"\n",
                "\n",
                "src = \"\"\"\n",
                "<h1>hello</h1>\n",
                "<input type=\"text\" value=\"hello, world..\" id=\"myInput\" />\n",
                "<button onclick=\"myFunction()\">Copy text</button>\n",
                "<div id=\"demo\"></div>\n",
                "\"\"\"\n",
                "\n",
                "display(HTML(src + script))\n",
                "\n",
                "# <script type=\"text/javascript\">\n",
                "#     document.getElementById(\"demo\").innerHTML = clipboard.osx_clipboard_get();\n",
                "#     function myFunction() {\n",
                "#         var copyText = document.getElementById(\"myInput\");\n",
                "# \n",
                "#         copyText.select();\n",
                "#         copyText.setSelectRange(0, 99);\n",
                "# \n",
                "#         navigator.clipboard.writeText(copyText.value);\n",
                "#     }\n",
                "# </script>"
            ]
        },
        {
            "cell_type": "code",
            "execution_count": null,
            "metadata": {},
            "outputs": [],
            "source": [
                "from IPython.display import display, HTML\n",
                "\n",
                "zoo = 0\n",
                "\n",
                "run = \"\"\"\n",
                "<script type=\"text/javascript\">\n",
                "    var run = IPython.core.macro.Macro(\"zoo\" + \"=\" + \"int(3000)\");\n",
                "    run;\n",
                "</script>\n",
                "\"\"\"\n",
                "\n",
                "src = \"\"\"\n",
                "<h1>Run!</h1>\n",
                "\"\"\"\n",
                "\n",
                "display(HTML(src + run))\n",
                "print(zoo)"
            ]
        },
        {
            "cell_type": "code",
            "execution_count": 1,
            "metadata": {},
            "outputs": [
                {
                    "data": {
                        "text/plain": [
                            "{'__name__': '__main__',\n",
                            " '__doc__': 'Automatically created module for IPython interactive environment',\n",
                            " '__package__': None,\n",
                            " '__loader__': None,\n",
                            " '__spec__': None,\n",
                            " '__builtin__': <module 'builtins' (built-in)>,\n",
                            " '__builtins__': <module 'builtins' (built-in)>,\n",
                            " '_ih': ['', 'globals()'],\n",
                            " '_oh': {},\n",
                            " '_dh': [PosixPath('/Users/naiithink/projects/private/learn/jupyter')],\n",
                            " 'In': ['', 'globals()'],\n",
                            " 'Out': {},\n",
                            " 'get_ipython': <bound method InteractiveShell.get_ipython of <ipykernel.zmqshell.ZMQInteractiveShell object at 0x106125300>>,\n",
                            " 'exit': <IPython.core.autocall.ZMQExitAutocall at 0x106126560>,\n",
                            " 'quit': <IPython.core.autocall.ZMQExitAutocall at 0x106126560>,\n",
                            " '_': '',\n",
                            " '__': '',\n",
                            " '___': '',\n",
                            " 'sys': <module 'sys' (built-in)>,\n",
                            " 'site': <module 'site' from '/Library/Frameworks/Python.framework/Versions/3.10/lib/python3.10/site.py'>,\n",
                            " 'os': <module 'os' from '/Library/Frameworks/Python.framework/Versions/3.10/lib/python3.10/os.py'>,\n",
                            " '__vsc_ipynb_file__': '/Users/naiithink/projects/private/learn/jupyter/clipboard.ipynb',\n",
                            " '_i': '',\n",
                            " '_ii': '',\n",
                            " '_iii': '',\n",
                            " '_i1': 'globals()'}"
                        ]
                    },
                    "execution_count": 1,
                    "metadata": {},
                    "output_type": "execute_result"
                }
            ],
            "source": [
                "globals()"
            ]
        }
    ],
    "metadata": {
        "interpreter": {
            "hash": "aee8b7b246df8f9039afb4144a1f6fd8d2ca17a180786b69acc140d282b71a49"
        },
        "kernelspec": {
            "display_name": "Python 3.10.3 64-bit",
            "language": "python",
            "name": "python3"
        },
        "language_info": {
            "codemirror_mode": {
                "name": "ipython",
                "version": 3
            },
            "file_extension": ".py",
            "mimetype": "text/x-python",
            "name": "python",
            "nbconvert_exporter": "python",
            "pygments_lexer": "ipython3",
            "version": "3.10.3"
        },
        "orig_nbformat": 4
    },
    "nbformat": 4,
    "nbformat_minor": 2
}
