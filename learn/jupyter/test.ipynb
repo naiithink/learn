{
 "cells": [
  {
   "cell_type": "code",
   "execution_count": 1,
   "metadata": {},
   "outputs": [],
   "source": [
    "from __future__ import print_function, with_statement\n",
    "from IPython.display import display, HTML, Javascript"
   ]
  },
  {
   "cell_type": "code",
   "execution_count": 2,
   "metadata": {},
   "outputs": [
    {
     "data": {
      "text/html": [
       "\n",
       "<h1>01 คอมพิวเตอร์ทำงาน</h1>\n",
       "จงเขียนโปรแกรมเพื่อแสดงผลเวลาที่เครื่องคอมพิวเตอร์ทำงานในรูปของจำนวนวัน ชั่วโมง และนาที ตามลำดับ (ไม่ต้องคำนึง)<br />\n",
       "เมื่อตัวแปร <code>computer_time</code> เก็บค่าจำนวนนาทีที่เครื่องคอมพิวเตอร์ทำงาน<br />\n",
       "<br />\n",
       "<b>ตัวอย่างผลลัพธ์เมื่อ <code>computer_time</code> มีค่า 785</b><br />\n",
       "<code>\n",
       "It is 0 days 13 hours and 5 minutes.\n",
       "</code>\n",
       "<br />\n",
       "อธิบาย: คอมพิวเตอร์ทำงาน 785 นาที เท่ากับ 0 วัน 13 ชั่วโมง 5 นาที<br />\n",
       "<br />\n",
       "<b>ตัวอย่างผลลัพธ์เมื่อ <code>computer_time</code> มีค่า 1678</b><br />\n",
       "<code>\n",
       "It is 1 days 3 hours and 58 minutes.\n",
       "</code>\n",
       "<br />\n",
       "อธิบาย: คอมพิวเตอร์ทำงาน 1678 นาที เท่ากับ 1 วัน 3 ชั่วโมง 58 นาที<br />\n",
       "\n",
       "<div class=\"highlight\">\n",
       "<pre>\n",
       "#include<stdio.h>\n",
       "void main() {\n",
       "    int computer_time = 785;  // ในโปรแกรมตรวจอาจเปลี่ยนค่าของตัวแปรนี้ แต่นิสิตไม่ต้องเปลี่ยนค่าของตัวแปรนี้\n",
       "<textarea id=\"q01_a01_01\" rows=\"7\" cols=\"97\">\n",
       "Your code here...\n",
       "</textarea>\n",
       "}\n",
       "</pre>\n",
       "</div>\n",
       "<input type=\"button\" onclick=\"submit()\" value=\"Submit\" />\n",
       "\n",
       "<p id=\"gotten\"></p>\n",
       "\n",
       "<script type=\"text/javascript\">\n",
       "    function submit() {\n",
       "        var q01_a01_01 = document.getElementById(\"q01_a01_01\").value;\n",
       "        if (q01_a01_01) {\n",
       "            document.getElementById(\"gotten\").innerHTML = q01_a01_01;\n",
       "        } else {\n",
       "            document.getElementById(\"gotten\").innerHTML = \"Something went wrong.\";\n",
       "        }\n",
       "        IPython.notebook.kernel.execute(\"print(foo)\");\n",
       "    }\n",
       "</script>\n"
      ],
      "text/plain": [
       "<IPython.core.display.HTML object>"
      ]
     },
     "metadata": {},
     "output_type": "display_data"
    }
   ],
   "source": [
    "foo = \"foo\"\n",
    "\n",
    "script = \"\"\"\n",
    "<script type=\"text/javascript\">\n",
    "    function submit() {\n",
    "        var q01_a01_01 = document.getElementById(\"q01_a01_01\").value;\n",
    "        if (q01_a01_01) {\n",
    "            document.getElementById(\"gotten\").innerHTML = q01_a01_01;\n",
    "        } else {\n",
    "            document.getElementById(\"gotten\").innerHTML = \"Something went wrong.\";\n",
    "        }\n",
    "        IPython.notebook.kernel.execute(\"print(foo)\");\n",
    "    }\n",
    "</script>\n",
    "\"\"\"\n",
    "\n",
    "src = \"\"\"\n",
    "<h1>01 คอมพิวเตอร์ทำงาน</h1>\n",
    "จงเขียนโปรแกรมเพื่อแสดงผลเวลาที่เครื่องคอมพิวเตอร์ทำงานในรูปของจำนวนวัน ชั่วโมง และนาที ตามลำดับ (ไม่ต้องคำนึง)<br />\n",
    "เมื่อตัวแปร <code>computer_time</code> เก็บค่าจำนวนนาทีที่เครื่องคอมพิวเตอร์ทำงาน<br />\n",
    "<br />\n",
    "<b>ตัวอย่างผลลัพธ์เมื่อ <code>computer_time</code> มีค่า 785</b><br />\n",
    "<code>\n",
    "It is 0 days 13 hours and 5 minutes.\n",
    "</code>\n",
    "<br />\n",
    "อธิบาย: คอมพิวเตอร์ทำงาน 785 นาที เท่ากับ 0 วัน 13 ชั่วโมง 5 นาที<br />\n",
    "<br />\n",
    "<b>ตัวอย่างผลลัพธ์เมื่อ <code>computer_time</code> มีค่า 1678</b><br />\n",
    "<code>\n",
    "It is 1 days 3 hours and 58 minutes.\n",
    "</code>\n",
    "<br />\n",
    "อธิบาย: คอมพิวเตอร์ทำงาน 1678 นาที เท่ากับ 1 วัน 3 ชั่วโมง 58 นาที<br />\n",
    "\"\"\"\n",
    "\n",
    "code = \"\"\"\n",
    "<div class=\"highlight\">\n",
    "<pre>\n",
    "#include<stdio.h>\n",
    "void main() {\n",
    "    int computer_time = 785;  // ในโปรแกรมตรวจอาจเปลี่ยนค่าของตัวแปรนี้ แต่นิสิตไม่ต้องเปลี่ยนค่าของตัวแปรนี้\n",
    "<textarea id=\"q01_a01_01\" rows=\"7\" cols=\"97\">\n",
    "Your code here...\n",
    "</textarea>\n",
    "}\n",
    "</pre>\n",
    "</div>\n",
    "<input type=\"button\" onclick=\"submit()\" value=\"Submit\" />\n",
    "\"\"\"\n",
    "\n",
    "got = \"\"\"\n",
    "<p id=\"gotten\"></p>\n",
    "\"\"\"\n",
    "\n",
    "display(HTML(src + code + got + script))"
   ]
  }
 ],
 "metadata": {
  "interpreter": {
   "hash": "aee8b7b246df8f9039afb4144a1f6fd8d2ca17a180786b69acc140d282b71a49"
  },
  "kernelspec": {
   "display_name": "Python 3 (ipykernel)",
   "language": "python",
   "name": "python3"
  },
  "language_info": {
   "codemirror_mode": {
    "name": "ipython",
    "version": 3
   },
   "file_extension": ".py",
   "mimetype": "text/x-python",
   "name": "python",
   "nbconvert_exporter": "python",
   "pygments_lexer": "ipython3",
   "version": "3.9.10"
  }
 },
 "nbformat": 4,
 "nbformat_minor": 4
}
