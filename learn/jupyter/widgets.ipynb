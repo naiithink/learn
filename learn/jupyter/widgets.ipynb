{
 "cells": [
  {
   "cell_type": "code",
   "execution_count": 13,
   "metadata": {},
   "outputs": [],
   "source": [
    "# import ipywidgets as widgets\n",
    "from ipywidgets import widgets\n",
    "from ipywidgets import interact"
   ]
  },
  {
   "cell_type": "code",
   "execution_count": 16,
   "metadata": {},
   "outputs": [
    {
     "ename": "AttributeError",
     "evalue": "'Textarea' object has no attribute 'on_submit'",
     "output_type": "error",
     "traceback": [
      "\u001b[0;31m---------------------------------------------------------------------------\u001b[0m",
      "\u001b[0;31mAttributeError\u001b[0m                            Traceback (most recent call last)",
      "\u001b[1;32m/Users/naiithink/projects/private/learn/jupyter/widgets.ipynb Cell 2'\u001b[0m in \u001b[0;36m<cell line: 8>\u001b[0;34m()\u001b[0m\n\u001b[1;32m      <a href='vscode-notebook-cell:/Users/naiithink/projects/private/learn/jupyter/widgets.ipynb#ch0000004?line=0'>1</a>\u001b[0m output \u001b[39m=\u001b[39m ()\n\u001b[1;32m      <a href='vscode-notebook-cell:/Users/naiithink/projects/private/learn/jupyter/widgets.ipynb#ch0000004?line=1'>2</a>\u001b[0m \u001b[39minput\u001b[39m \u001b[39m=\u001b[39m widgets\u001b[39m.\u001b[39mTextarea(\n\u001b[1;32m      <a href='vscode-notebook-cell:/Users/naiithink/projects/private/learn/jupyter/widgets.ipynb#ch0000004?line=2'>3</a>\u001b[0m     placeholder\u001b[39m=\u001b[39m\u001b[39m\"\u001b[39m\u001b[39mType something...\u001b[39m\u001b[39m\"\u001b[39m,\n\u001b[1;32m      <a href='vscode-notebook-cell:/Users/naiithink/projects/private/learn/jupyter/widgets.ipynb#ch0000004?line=3'>4</a>\u001b[0m     description\u001b[39m=\u001b[39m\u001b[39m\"\u001b[39m\u001b[39mInput: \u001b[39m\u001b[39m\"\u001b[39m,\n\u001b[1;32m      <a href='vscode-notebook-cell:/Users/naiithink/projects/private/learn/jupyter/widgets.ipynb#ch0000004?line=4'>5</a>\u001b[0m     disabled\u001b[39m=\u001b[39m\u001b[39mFalse\u001b[39;00m\n\u001b[1;32m      <a href='vscode-notebook-cell:/Users/naiithink/projects/private/learn/jupyter/widgets.ipynb#ch0000004?line=5'>6</a>\u001b[0m )\n\u001b[0;32m----> <a href='vscode-notebook-cell:/Users/naiithink/projects/private/learn/jupyter/widgets.ipynb#ch0000004?line=7'>8</a>\u001b[0m \u001b[39minput\u001b[39;49m\u001b[39m.\u001b[39;49mon_submit(output \u001b[39m=\u001b[39m \u001b[39minput\u001b[39m\u001b[39m.\u001b[39mvalue)\n",
      "\u001b[0;31mAttributeError\u001b[0m: 'Textarea' object has no attribute 'on_submit'"
     ]
    }
   ],
   "source": [
    "output = ()\n",
    "input = widgets.Textarea(\n",
    "    placeholder=\"Type something...\",\n",
    "    description=\"Input: \",\n",
    "    disabled=False\n",
    ")\n",
    "\n",
    "input.on_submit(output = input.value)\n"
   ]
  },
  {
   "cell_type": "code",
   "execution_count": 12,
   "metadata": {},
   "outputs": [
    {
     "name": "stdout",
     "output_type": "stream",
     "text": [
      "Textarea(value='', description='Input: ', placeholder='Type something...')\n"
     ]
    }
   ],
   "source": [
    "input = \"\"\n",
    "input = widgets.Textarea(\n",
    "    value=\"\",\n",
    "    placeholder=\"Type something...\",\n",
    "    description=\"Input: \",\n",
    "    disabled=False\n",
    ")\n",
    "print(input)"
   ]
  },
  {
   "cell_type": "code",
   "execution_count": 8,
   "metadata": {},
   "outputs": [],
   "source": [
    "widgets.Textarea(\n",
    "    value='Hello World',\n",
    "    placeholder='Type something',\n",
    "    description='String:',\n",
    "    disabled=False\n",
    ")"
   ]
  }
 ],
 "metadata": {
  "interpreter": {
   "hash": "aee8b7b246df8f9039afb4144a1f6fd8d2ca17a180786b69acc140d282b71a49"
  },
  "kernelspec": {
   "display_name": "Python 3.10.3 64-bit",
   "language": "python",
   "name": "python3"
  },
  "language_info": {
   "codemirror_mode": {
    "name": "ipython",
    "version": 3
   },
   "file_extension": ".py",
   "mimetype": "text/x-python",
   "name": "python",
   "nbconvert_exporter": "python",
   "pygments_lexer": "ipython3",
   "version": "3.10.3"
  },
  "orig_nbformat": 4
 },
 "nbformat": 4,
 "nbformat_minor": 2
}
