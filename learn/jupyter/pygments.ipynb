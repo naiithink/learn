{
 "cells": [
  {
   "cell_type": "code",
   "execution_count": null,
   "metadata": {},
   "outputs": [],
   "source": [
    "from IPython.display import display, Code, HTML\n",
    "from pygments.styles import get_style_by_name\n",
    "from pygments import highlight\n",
    "from pygments.lexers import CLexer\n",
    "from pygments.formatters import HtmlFormatter\n",
    "import ipywidgets as widgets\n",
    "from ipywidgets import interact"
   ]
  }
 ],
 "metadata": {
  "language_info": {
   "name": "python"
  },
  "orig_nbformat": 4
 },
 "nbformat": 4,
 "nbformat_minor": 2
}
