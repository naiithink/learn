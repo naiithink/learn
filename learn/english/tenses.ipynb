{
 "cells": [
  {
   "cell_type": "markdown",
   "metadata": {},
   "source": [
    "# Tenses"
   ]
  },
  {
   "cell_type": "markdown",
   "metadata": {},
   "source": [
    "|         | Simple | Progressive | Perfect | Perfect Progressive |\n",
    "| :------ | :----: | :---------: | :-----: | :-----------------: |\n",
    "| present | v. / v. + s |\n",
    "| past    |\n",
    "| future  |"
   ]
  },
  {
   "cell_type": "code",
   "execution_count": null,
   "metadata": {},
   "outputs": [],
   "source": [
    "class Tenses:\n",
    "    def __init__(self):\n",
    "        "
   ]
  },
  {
   "cell_type": "code",
   "execution_count": null,
   "metadata": {},
   "outputs": [],
   "source": [
    "subject = str()\n",
    "verb = str()\n",
    "object = str()\n",
    "\n",
    "sentence = [subject, verb, object]\n",
    "\n",
    "tenses = {\n",
    "    \"present\": \"verb\",\n",
    "    \"past\": [\"verb\",]\n",
    "    \"future\": [\"will\", \"verb\"]\n",
    "}"
   ]
  }
 ],
 "metadata": {
  "interpreter": {
   "hash": "aee8b7b246df8f9039afb4144a1f6fd8d2ca17a180786b69acc140d282b71a49"
  },
  "kernelspec": {
   "display_name": "Python 3.10.4 64-bit",
   "language": "python",
   "name": "python3"
  },
  "language_info": {
   "name": "python",
   "version": "3.10.4"
  },
  "orig_nbformat": 4
 },
 "nbformat": 4,
 "nbformat_minor": 2
}
