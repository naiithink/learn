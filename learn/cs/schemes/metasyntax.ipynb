{
 "cells": [
  {
   "cell_type": "markdown",
   "metadata": {},
   "source": [
    "# Metasyntax\n",
    "\n",
    "Describes the allowable structure and composition of phrases and sentences of a metalanguage,<br />\n",
    "which is used to describe either a natural language or a computer programming language."
   ]
  },
  {
   "cell_type": "markdown",
   "metadata": {},
   "source": [
    "## Elements\n",
    "\n",
    "### Terminals\n",
    "\n",
    "A stand-alone syntactic structure. Terminals could be denoted by double quoting the name of the terminals.\n",
    "\n",
    "e.g., `\"else\"`, `\"if\"`, `\"then\"`, `\"while\"`\n",
    "\n",
    "### Nonterminals\n",
    "\n",
    "A symbolic representation defining a set of allowable syntactic structures that is composed of a subset of elements.<br />\n",
    "Nonterminals could be denoted by angle bracketing the name of the nonterminals.\n",
    "\n",
    "e.g., `<char>`, `<int>`, `<boolean>`\n",
    "\n",
    "### Metasymbol\n",
    "\n",
    "A symbolic representation denoting syntactic information.\n",
    "\n",
    "e.g., `:=`, `|`, `{}`, `()`, `[]`, `*`"
   ]
  }
 ],
 "metadata": {
  "language_info": {
   "name": "python"
  },
  "orig_nbformat": 4
 },
 "nbformat": 4,
 "nbformat_minor": 2
}
