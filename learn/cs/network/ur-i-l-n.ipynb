{
 "cells": [
  {
   "cell_type": "markdown",
   "metadata": {},
   "source": [
    "# `UR[I|L|N]$`"
   ]
  },
  {
   "cell_type": "markdown",
   "metadata": {},
   "source": [
    "## URI\n",
    "\n",
    "**U**niform **R**esource **I**dentifier\n",
    "\n",
    "### Generic Syntax\n",
    "\n",
    "```\n",
    "URI         =   scheme \":\" hier-part [ \"?\" query ] [ \"#\" fragment ]\n",
    "\n",
    "hier-part   =   \"//\" authority path-abempty\n",
    "            /   path-absolute\n",
    "            /   path-rootless\n",
    "            /   path-empty\n",
    "\n",
    "abempty     :   ab solute | empty\n",
    "```\n",
    "\n",
    "> Example\n",
    ">> \n",
    ">> ```\n",
    ">>     foo://example.com:8042/over/there?name=ferret#nose\n",
    ">>     \\_/   \\______________/ \\________/ \\_________/ \\__/\n",
    ">>      |            |            |           |        |\n",
    ">>   scheme      authority       path       query   fragment\n",
    ">>      |   ______________________|_\n",
    ">>     / \\ /                        \\\n",
    ">>     urn:example:animal:ferret:nose\n",
    ">> ```\n",
    "\n",
    "#### Authority\n",
    "\n",
    "```\n",
    "authority     =   [ userinfo \"@\" ] host [ \":\" port ]\n",
    "```\n",
    "\n",
    "> ##### User Info\n",
    "> \n",
    "> ```\n",
    "> userinfo      =   *( unreserved / pct-encoded / sub-delims / \":\" )\n",
    "> ```\n",
    "> \n",
    "> ##### Host\n",
    "> \n",
    "> Identified by an\n",
    "> \n",
    "> - **IP**: literal encapsulated within square brackets\n",
    "> - **IPv4**: in dotted-decimal form\n",
    "> - **Registered name**\n",
    "> \n",
    "> ```\n",
    "> host          =   IP-literal / IPv4address / reg-name\n",
    "> ```\n",
    "> "
   ]
  }
 ],
 "metadata": {
  "language_info": {
   "name": "python"
  },
  "orig_nbformat": 4
 },
 "nbformat": 4,
 "nbformat_minor": 2
}
