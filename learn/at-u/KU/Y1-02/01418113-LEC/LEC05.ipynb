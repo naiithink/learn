{
 "cells": [
  {
   "cell_type": "markdown",
   "metadata": {},
   "source": [
    "# LEC05\n",
    "\n",
    "- C Compiler: One-pass compiler\n",
    "- Function declaration\n",
    "- C STDLIB path in Unix\n",
    "    - `/usr/lib*`\n",
    "    - `*.so`\n",
    "- math.h\n",
    "- Recursion"
   ]
  },
  {
   "cell_type": "markdown",
   "metadata": {},
   "source": [
    "## Quiz05\n",
    "\n",
    "- Function Prototype\n",
    "- Call by ต่าง ๆ\n",
    "- การนิยามหรือสร้างฟังก์ชัน\n",
    "- การส่งกลับค่าของฟังก์ชัน\n",
    "- ฟังก์ชันเรียกซ้ำ (Function Recursion)\n",
    "- การส่งผ่านค่าพารามิเตอร์ไปยังฟังก์ชัน\n",
    "- ค่านิยามของ NULL\n",
    "- Stack Frames\n",
    "- ไลบรารีฟังก์ชันทางคณิตศาสตร์"
   ]
  },
  {
   "cell_type": "code",
   "execution_count": 1,
   "metadata": {},
   "outputs": [
    {
     "name": "stdout",
     "output_type": "stream",
     "text": [
      "1\n"
     ]
    }
   ],
   "source": [
    "#include <stdio.h>\n",
    "\n",
    "int addOne(int number)\n",
    "{\n",
    "    int res;\n",
    "    res = number + 1;\n",
    "    return res;\n",
    "}\n",
    "\n",
    "int main(void)\n",
    "{\n",
    "    int printout;\n",
    "    \n",
    "    printout = addOne(0);\n",
    "    printf(\"%i\\n\", printout);\n",
    "\n",
    "    return 0;\n",
    "}"
   ]
  },
  {
   "cell_type": "code",
   "execution_count": 2,
   "metadata": {},
   "outputs": [
    {
     "name": "stdout",
     "output_type": "stream",
     "text": [
      "1\n"
     ]
    }
   ],
   "source": [
    "#include <stdio.h>\n",
    "\n",
    "int addOne(int number);\n",
    "\n",
    "int main(void)\n",
    "{\n",
    "    int printout;\n",
    "    \n",
    "    printout = addOne(0);\n",
    "    printf(\"%i\\n\", printout);\n",
    "\n",
    "    return 0;\n",
    "}\n",
    "\n",
    "int addOne(int number)\n",
    "{\n",
    "    int res;\n",
    "    res = number + 1;\n",
    "    return res;\n",
    "}"
   ]
  },
  {
   "cell_type": "markdown",
   "metadata": {},
   "source": [
    "## Function\n",
    "\n",
    "### Header\n",
    "\n",
    "`int foo()` &#x2012; unlimited args<br>\n",
    "`int foo(void)` &#x2012; no args"
   ]
  },
  {
   "cell_type": "markdown",
   "metadata": {},
   "source": [
    "## Compilation\n",
    "\n",
    "![C-Compilation-Procedure_C-How-to-Program-(7th-Edition)](https://sn3302files.storage.live.com/y4mRt9jgHJwG0OdelesSaBWGsRC5vSEm0zIjn638urG1KM5x7g74qjckPJcwDXYCqkIwP_IR0aoupdsD9GAo6oszm1Q2V29IUUFmCEYax6RnZSX2i-Sm7gEWChMuh-WcIdhvlyOF7xINV87wr-K2hR-LY4CkGlC6wbJL047lukCl61XOnHcJdG5_TDM8D3RTK7q?width=763&height=1217&cropmode=none)\n",
    "\n",
    "Source: [2021 01418113 Lecture Google Site](https://sites.google.com/ku.th/01418113/%E0%B9%82%E0%B8%99%E0%B8%95/%E0%B8%A3%E0%B8%9B%E0%B8%A5%E0%B8%B3%E0%B8%94%E0%B8%9A%E0%B8%82%E0%B8%99%E0%B8%95%E0%B8%AD%E0%B8%99%E0%B8%81%E0%B8%B2%E0%B8%A3%E0%B8%84%E0%B8%AD%E0%B8%A1%E0%B9%84%E0%B8%9E%E0%B8%A5%E0%B9%82%E0%B8%9B%E0%B8%A3%E0%B9%81%E0%B8%81%E0%B8%A3%E0%B8%A1?authuser=0)"
   ]
  },
  {
   "cell_type": "markdown",
   "metadata": {},
   "source": []
  }
 ],
 "metadata": {
  "kernelspec": {
   "display_name": "C",
   "language": "c",
   "name": "c"
  },
  "language_info": {
   "file_extension": ".c",
   "mimetype": "text/plain",
   "name": "c"
  },
  "orig_nbformat": 4
 },
 "nbformat": 4,
 "nbformat_minor": 2
}
