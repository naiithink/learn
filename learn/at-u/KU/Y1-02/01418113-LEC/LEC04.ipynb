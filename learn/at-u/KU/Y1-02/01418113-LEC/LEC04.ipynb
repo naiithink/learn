{
 "cells": [
  {
   "cell_type": "markdown",
   "metadata": {},
   "source": [
    "# Control Flow"
   ]
  },
  {
   "cell_type": "markdown",
   "metadata": {},
   "source": [
    "## Quiz03\n",
    "\n",
    "1. nested if: how does the compiler work, switcher, loops\n",
    "2. break, continue"
   ]
  },
  {
   "cell_type": "code",
   "execution_count": 1,
   "metadata": {},
   "outputs": [
    {
     "name": "stdout",
     "output_type": "stream",
     "text": [
      "||\n"
     ]
    }
   ],
   "source": [
    "#include <stdio.h>\n",
    "\n",
    "int main(void)\n",
    "{\n",
    "    char s[50];\n",
    "    int i;\n",
    "\n",
    "    for (i = 0; (s[i] = getchar()) == '\\n';)\n",
    "    {\n",
    "        s[i] = getchar();\n",
    "        if (s[i] == '\\n')\n",
    "        {\n",
    "            break;\n",
    "        }\n",
    "        i++;\n",
    "    }\n",
    "    s[i] = 0;\n",
    "    printf(\"|%s|\\n\", s);\n",
    "\n",
    "    return 0;\n",
    "}"
   ]
  }
 ],
 "metadata": {
  "kernelspec": {
   "display_name": "C",
   "language": "c",
   "name": "c"
  },
  "language_info": {
   "file_extension": ".c",
   "mimetype": "text/plain",
   "name": "c"
  },
  "orig_nbformat": 4
 },
 "nbformat": 4,
 "nbformat_minor": 2
}
