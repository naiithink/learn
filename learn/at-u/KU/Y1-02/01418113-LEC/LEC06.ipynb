{
 "cells": [
  {
   "cell_type": "code",
   "execution_count": 1,
   "metadata": {},
   "outputs": [
    {
     "name": "stdout",
     "output_type": "stream",
     "text": [
      "hello, world\n"
     ]
    }
   ],
   "source": [
    "#include <stdio.h>\n",
    "\n",
    "int main(void)\n",
    "{\n",
    "    printf(\"hello, world\\n\");\n",
    "\n",
    "    return 0;\n",
    "}"
   ]
  },
  {
   "cell_type": "markdown",
   "metadata": {},
   "source": [
    "## Storage Classes\n",
    "\n",
    "```\n",
    "<storage_class> <var_type> <var_name> `;`\n",
    "```\n",
    "\n",
    "DEFAULT: `auto`\n",
    "\n",
    "- `auto`\n",
    "- `extern`\n",
    "- `static`\n",
    "- `register`\n",
    "\n",
    "![Storage-Classes-In-C](https://media.geeksforgeeks.org/wp-content/cdn-uploads/Storage-Classes-In-C.png)"
   ]
  }
 ],
 "metadata": {
  "kernelspec": {
   "display_name": "C",
   "language": "c",
   "name": "c"
  },
  "language_info": {
   "file_extension": ".c",
   "mimetype": "text/plain",
   "name": "c"
  }
 },
 "nbformat": 4,
 "nbformat_minor": 4
}
