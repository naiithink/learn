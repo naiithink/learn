{
 "cells": [
  {
   "cell_type": "markdown",
   "metadata": {},
   "source": [
    "## Quiz02\n",
    "\n",
    "1. Variable nomenclature\n",
    "2. \n",
    "3. Const\n",
    "4. Var declaration\n",
    "5. Function - getchar(), putchar()\n",
    "6. Comparator symbols\n",
    "7. Arithmatic proposition\n",
    "8. Logical proposition\n",
    "9. var++, ++var"
   ]
  },
  {
   "cell_type": "code",
   "execution_count": null,
   "metadata": {},
   "outputs": [],
   "source": [
    "#include <stdio.h>\n",
    "\n",
    "int main(void)\n",
    "{\n",
    "\tprintf(\"hello, world\");\n",
    "\tputs(\"potsawat\");\t\t\t\t// put string\n",
    "\tputs(\"thinkanwatthana\");\t\t\t// put string\n",
    "\tprintf(\"abc\\n\");\n",
    "\tprintf(\"def\");\n",
    "}"
   ]
  },
  {
   "cell_type": "code",
   "execution_count": null,
   "metadata": {},
   "outputs": [],
   "source": [
    "#include <stdio.h>\n",
    "\n",
    "int main(void)\n",
    "{\n",
    "\tprintf(\"eiei\\n\");\n",
    "\treturn 1;\n",
    "}\n"
   ]
  },
  {
   "cell_type": "code",
   "execution_count": null,
   "metadata": {},
   "outputs": [],
   "source": [
    "#include <stdio.h>\n",
    "\n",
    "int main(void)\n",
    "{\n",
    "\tint ch;\n",
    "\t\n",
    "\tprintf(กรุณาใส่ข้อมูล: \");\n",
    "\tfflush(stdout);\n",
    "\tch = getchar();\n",
    "\tprintf(\"อักขระที่รับเข้ามาเป็น %c\\n\", ch), ch;\n",
    "}\n"
   ]
  },
  {
   "cell_type": "code",
   "execution_count": null,
   "metadata": {},
   "outputs": [],
   "source": [
    "#include <stdio.h>\n",
    "#include <unistd.h>\n",
    "\n",
    "int main(void)\n",
    "{\n",
    "\tint x;\n",
    "\t\n",
    "\tfor (x = 0; x < 10; x++)\n",
    "\t{\n",
    "\t\tprintf(\"x = %d\\n\", x);\n",
    "\t\tsleep(1);\n",
    "\t}\n",
    "}\n"
   ]
  },
  {
   "cell_type": "code",
   "execution_count": null,
   "metadata": {},
   "outputs": [],
   "source": [
    "#include <stdio.h>\n",
    "\n",
    "int main(void)\n",
    "{\n",
    "    char a = '\\0';\n",
    "    int pa = &a;\n",
    "    char *b = \"\";\n",
    "    void *c = NULL;\n",
    "    if (pa == c)\n",
    "    {\n",
    "        printf(\"equivalent\\n\");\n",
    "    }\n",
    "    else\n",
    "    {\n",
    "        printf(\"not equivalent\\n\");\n",
    "    }\n",
    "    printf(\"%lu\\n\", sizeof(a));\n",
    "    printf(\"%lu\\n\", sizeof(b));\n",
    "    printf(\"hello%sworld\\n\", \"\");\n",
    "    printf(\"%lu\\n\", sizeof(void));\n",
    "    printf(\"%lu\\n\", sizeof(a));\n",
    "}"
   ]
  }
 ],
 "metadata": {
  "kernelspec": {
   "display_name": "C",
   "language": "c",
   "name": "c"
  },
  "language_info": {
   "name": "c"
  },
  "orig_nbformat": 4
 },
 "nbformat": 4,
 "nbformat_minor": 2
}
