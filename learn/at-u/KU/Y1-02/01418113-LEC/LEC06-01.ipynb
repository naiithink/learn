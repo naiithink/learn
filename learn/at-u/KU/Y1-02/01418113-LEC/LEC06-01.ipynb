{
 "cells": [
  {
   "cell_type": "markdown",
   "metadata": {},
   "source": [
    "# Array\n",
    "\n",
    "## Declaration\n",
    "\n",
    "```\n",
    "<var_type> <var_name> `[` <var_size> `]` [= `{` [indexm0 [, index 1 [, ... [, index (varsize - 1)]]]] `}`] `;`\n",
    "```\n",
    "\n",
    "> Each value must have the same type as its array."
   ]
  },
  {
   "cell_type": "code",
   "execution_count": 1,
   "metadata": {},
   "outputs": [
    {
     "name": "stdout",
     "output_type": "stream",
     "text": [
      "10\n"
     ]
    }
   ],
   "source": [
    "#include <stdio.h>\n",
    "\n",
    "int main(void)\n",
    "{\n",
    "    int score1 = 2;\n",
    "    int score2 = 3;\n",
    "    int score3 = 5;\n",
    "\n",
    "    printf(\"%i\\n\", score1 + score2 + score3);\n",
    "\n",
    "    return 0;\n",
    "}"
   ]
  },
  {
   "cell_type": "code",
   "execution_count": 14,
   "metadata": {},
   "outputs": [
    {
     "name": "stdout",
     "output_type": "stream",
     "text": [
      "10\n"
     ]
    }
   ],
   "source": [
    "#include <stdio.h>\n",
    "\n",
    "int main(void)\n",
    "{\n",
    "    int score[3] = {2, 3, 5};\n",
    "    int res = 0;\n",
    "\n",
    "    for (int i = 0; i < 3; i++)\n",
    "    {\n",
    "        res += score[i];\n",
    "    }\n",
    "\n",
    "    printf(\"%i\\n\", res);\n",
    "\n",
    "    return 0;\n",
    "}"
   ]
  },
  {
   "cell_type": "markdown",
   "metadata": {},
   "source": [
    "## Guidelines\n",
    "\n",
    "- Size of an array at the declaration should be a constant -- `#define`, `(const int)` directives."
   ]
  },
  {
   "cell_type": "code",
   "execution_count": 1,
   "metadata": {},
   "outputs": [
    {
     "name": "stdout",
     "output_type": "stream",
     "text": [
      "10\n"
     ]
    }
   ],
   "source": [
    "#include <stdio.h>\n",
    "\n",
    "#define SCORE_ARRAY_SIZE 3\n",
    "\n",
    "int main(void)\n",
    "{\n",
    "    int score[SCORE_ARRAY_SIZE] = {2, 3, 5};\n",
    "    int res = 0;\n",
    "\n",
    "    for (int i = 0; i < SCORE_ARRAY_SIZE; i++)\n",
    "    {\n",
    "        res += score[i];\n",
    "    }\n",
    "\n",
    "    printf(\"%i\\n\", res);\n",
    "\n",
    "    return 0;\n",
    "}"
   ]
  },
  {
   "cell_type": "code",
   "execution_count": null,
   "metadata": {},
   "outputs": [],
   "source": [
    "#include <stdio.h>\n",
    "    \n",
    "const int SCORE_ARRAY_SIZE = 3;\n",
    "\n",
    "int main(void)\n",
    "{\n",
    "    int score[SCORE_ARRAY_SIZE] = {2, 3, 5};\n",
    "    int res = 0;\n",
    "\n",
    "    for (int i = 0; i < SCORE_ARRAY_SIZE; i++)\n",
    "    {\n",
    "        res += score[i];\n",
    "    }\n",
    "\n",
    "    printf(\"%i\\n\", res);\n",
    "\n",
    "    return 0;\n",
    "}"
   ]
  }
 ],
 "metadata": {
  "kernelspec": {
   "display_name": "C",
   "language": "c",
   "name": "c"
  },
  "language_info": {
   "codemirror_mode": "shell",
   "file_extension": ".sh",
   "mimetype": "text/x-sh",
   "name": "c"
  },
  "orig_nbformat": 4
 },
 "nbformat": 4,
 "nbformat_minor": 2
}
