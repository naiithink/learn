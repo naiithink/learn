{
 "cells": [
  {
   "cell_type": "code",
   "execution_count": null,
   "metadata": {},
   "outputs": [],
   "source": [
    "#include <stdio.h>\n",
    "#include <unistd.h>\n",
    "\n",
    "int main(void)\n",
    "{\n",
    "\tint x;\n",
    "\t\n",
    "\tfor (x = 0; x < 10; x++)\n",
    "\t{\n",
    "\t\tprintf(\"x = %d\\n\", x);\n",
    "\t\tsleep(1);\n",
    "\t}\n",
    "}\n"
   ]
  }
 ],
 "metadata": {
  "kernelspec": {
   "display_name": "C",
   "language": "c",
   "name": "c"
  },
  "language_info": {
   "name": "c"
  },
  "orig_nbformat": 4
 },
 "nbformat": 4,
 "nbformat_minor": 2
}
