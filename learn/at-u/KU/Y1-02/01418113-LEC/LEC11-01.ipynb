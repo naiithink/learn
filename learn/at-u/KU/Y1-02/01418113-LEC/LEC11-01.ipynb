{
 "cells": [
  {
   "cell_type": "markdown",
   "metadata": {},
   "source": [
    "# LEC11-01 Intro to C++\n",
    "\n",
    "01418113-LEC, 2022-02-15"
   ]
  }
 ],
 "metadata": {
  "language_info": {
   "name": "python"
  },
  "orig_nbformat": 4
 },
 "nbformat": 4,
 "nbformat_minor": 2
}
