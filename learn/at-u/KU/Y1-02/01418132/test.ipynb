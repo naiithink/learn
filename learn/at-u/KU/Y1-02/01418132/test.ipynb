{
 "cells": [
  {
   "cell_type": "code",
   "execution_count": 1,
   "metadata": {},
   "outputs": [
    {
     "name": "stdout",
     "output_type": "stream",
     "text": [
      "Rule added to database.\n",
      "Rule added to database.\n",
      "Rule added to database.\n",
      "Rule added to database.\n",
      "Rule added to database.\n",
      "Rule added to database.\n",
      "Rule added to database.\n",
      "Rule added to database.\n",
      "Rule added to database.\n"
     ]
    }
   ],
   "source": [
    "child(stephanie).\n",
    "child(thad).\n",
    "mother_child(trude, sally).\n",
    "\n",
    "father_child(tom, sally).\n",
    "father_child(tom, erica).\n",
    "father_child(mike, tom).\n",
    "\n",
    "sibling(X, Y)      :- parent_child(Z, X), parent_child(Z, Y).\n",
    "\n",
    "parent_child(X, Y) :- father_child(X, Y).\n",
    "parent_child(X, Y) :- mother_child(X, Y)."
   ]
  },
  {
   "cell_type": "code",
   "execution_count": 6,
   "metadata": {},
   "outputs": [
    {
     "name": "stdout",
     "output_type": "stream",
     "text": [
      "Use '%continue' for more results.\n"
     ]
    },
    {
     "data": {
      "text/plain": [
       "{'NAME': stephanie}"
      ]
     },
     "execution_count": 6,
     "metadata": {},
     "output_type": "execute_result"
    }
   ],
   "source": [
    "child(NAME)?"
   ]
  }
 ],
 "metadata": {
  "kernelspec": {
   "display_name": "Calysto Prolog",
   "language": "prolog",
   "name": "calysto_prolog"
  },
  "language_info": {
   "codemirror_mode": {
    "name": "prolog"
   },
   "mimetype": "text/x-prolog",
   "name": "prolog",
   "pygments_lexer": "prolog"
  },
  "orig_nbformat": 4
 },
 "nbformat": 4,
 "nbformat_minor": 2
}
