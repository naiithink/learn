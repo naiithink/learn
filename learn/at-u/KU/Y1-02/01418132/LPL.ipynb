{
 "cells": [
  {
   "cell_type": "markdown",
   "metadata": {},
   "source": [
    "<style>\n",
    "    table {\n",
    "        align: \"right\";\n",
    "    }\n",
    "\n",
    "    th, tr {\n",
    "        text-align: \"left\";\n",
    "        vertical-align: \"top\";\n",
    "    }\n",
    "\n",
    "    .terms {\n",
    "        text-align: \"left\";\n",
    "        vertical-align: \"top\";\n",
    "    }\n",
    "</style>"
   ]
  },
  {
   "cell_type": "markdown",
   "metadata": {},
   "source": [
    "# **Language, Proof and Logic**\n",
    "\n",
    "***\"The Valid Reasoning\"***"
   ]
  },
  {
   "cell_type": "markdown",
   "metadata": {},
   "source": [
    "## **Terms**\n",
    "\n",
    "<table align=\"left\">\n",
    "<tr>\n",
    "    <th align=\"left\">Term</th>\n",
    "    <th align=\"left\">Definitions</th>\n",
    "</tr>\n",
    "<tr>\n",
    "    <td>FOL</td>\n",
    "    <td>First Order Language – F.O.L</td>\n",
    "</tr>\n",
    "<tr>\n",
    "    <td>ภาษาคน</td>\n",
    "    <td>natural language</td>\n",
    "</tr>\n",
    "</table>"
   ]
  },
  {
   "cell_type": "markdown",
   "metadata": {},
   "source": [
    "## **ลองดูนี่**\n",
    "\n",
    "**This is a valid piece of reasoning.**\n",
    "\n",
    "```\n",
    "premise:        | All men are mortal.\n",
    "premise:        | Socrates is a man.\n",
    "                |-\n",
    "conclusion:     | Socrates is mortal.\n",
    "```\n",
    "\n",
    "***If the premises are true,<br>\n",
    "the conclusion must be true***<br>\n",
    "but no prediction is made if the premises happen to be false,<br>\n",
    "all or some of the premises happen to be false."
   ]
  },
  {
   "cell_type": "markdown",
   "metadata": {},
   "source": [
    "## **Let's Try**\n",
    "\n",
    "**ลองอ่านประโยคนี้ดู**\n",
    "\n",
    "```\n",
    "Socrates is credited as being one of the founders of Western philosophy.\n",
    "```\n",
    "\n",
    "### คิดว่าเราจะสื่อประโยคนี้ในภาษาหลักที่เราพูดได้ **อย่างไรบ้าง**\n",
    "\n",
    "เช่น ในภาษาอังกฤษ\n",
    "\n",
    "```\n",
    "- One of the founders of Western philosophy is believed to be Socrates;\n",
    "\n",
    "- The credit for the founding of Western philosophy belongs, in part, to Socrates;\n",
    "\n",
    "- Socrates is included among the founders of Western philosophy.\n",
    "```"
   ]
  },
  {
   "cell_type": "markdown",
   "metadata": {},
   "source": [
    "## **First Order Logic – F.O.L**\n",
    "\n",
    "***F.O.L*** คือ model ของ natural language – simplified version of natural language – เพื่อความง่ายในการทำความเข้าใจประโยคที่ซับซ้อน<br>\n",
    "***F.O.L*** คือ general perpose artificial language\n",
    "\n",
    "### **เครื่องบินจำลอง**\n",
    "\n",
    "----\n",
    "\n",
    "สมมติว่าเรามีเครื่องบินจำลองลำหนึ่ง<br>\n",
    "เครื่องบินจำลองลำนี้คือการเวอร์ชันที่ simplified ของเครื่องบินลำจริง\n",
    "\n",
    "<img alt=\"01_ModelAirplane\" src=\"https://sn3302files.storage.live.com/y4m1IWGynWhfiMxvahmrD0vswXGs8tyYkwijHdc9CIZDV6Fgxbnrfk9ybxFafyGYXZFqaYS5WBKl0vEkVsYo2NegCBkqAWk9p1NSi7td6saqhCmm57cQHzypltydkjlTvBw4hMbhWYwk3Ay-5bRu6N93dKpdDGUM3V2F3fwMbCRDzAUdXJYOJEPm3BsokT18PL2?width=3517&height=3517&cropmode=none\" width=\"200\"><br>\n",
    "*Photo by Andrea Piacquadio from Pexels*\n",
    "\n",
    "**เราสามารถศึกษาอะไรจากเครื่องบินจำลองลำนี้ได้บ้าง**\n",
    "\n",
    "- เครื่องบินมีสองปีก\n",
    "- เครื่องบินมีหาง\n",
    "- เครื่องบินมีหน้าต่าง\n",
    "\n",
    "และถ้าเครื่องบินจำลองลำนี้ถูกประดิษฐ์ขึ้นอย่างเป็นสัดส่วนกับเครื่องบินลำจริง\n",
    "\n",
    "- ขนาดของเครื่องบินลำจริง (จากการคำนวณ)\n",
    "\n",
    "**มีอะไรที่เราอาจไม่สามารถศึกษาได้บ้าง**\n",
    "\n",
    "- เครื่องบินลำจริงมันบินอย่างไร (อาจไม่ได้ประดิษฐ์โดยคำนึงถึง Aerodynamics)\n",
    "- อุณหภูมิในห้องโดยสาร\n",
    "- รสชาติของเครื่องดื่มที่มีการเสิร์ฟ\n",
    "- ความกว้างขวางของที่นั่ง\n",
    "\n",
    "**และถ้าเราจะศึกษาเรื่องเหล่านี้ เราคงต้องไปนั่งเครื่องบินลำจริง หรือใช้เครื่องบินจำลองที่จำลองได้สมจริงกว่านี้**\n",
    "\n",
    "### **FOL มีลักษณะที่คล้าย ๆ กับเครื่องบินจำลอง**\n",
    "\n",
    "----\n",
    "\n",
    "- FOL สามารถใช้เป็นสิ่งที่สะท้อนภาษาคน ในบางมุมมอง ได้อย่างตรงไปตรงมา\n",
    "- แต่ก็มีบางมุมมองที่ FOL ได้แค่อนุมาน (อาจไม่ได้ตรงไปตรงมา)\n",
    "- และ FOL อาจไม่มีการพูดถึงบางมุมมองเลย\n",
    "\n",
    "**ดังนั้น ตอนที่เราใช้ FOL เราต้องตระหนักอยู่เสมอว่ามันสามารถใช้สะท้อนอะไรได้ (Strength) และอะไรไม่ได้ (Limitation)**"
   ]
  },
  {
   "cell_type": "markdown",
   "metadata": {},
   "source": [
    "## **บนโลกนี้ไม่ได้มีเครื่องบินจำลองแค่แบบเดียว**\n",
    "\n",
    "<img alt=\"02_Aisle\" src=\"https://sn3302files.storage.live.com/y4mUK0gLICGsCF6a03PzIXrOp_znxDGa1tR5XK9Avg9OvhYcDocAdwtNyj2mHU-N_vahQLBxxdin3nMabmdBPZf-4mX19n-eJgoxk4CDSl-OqMhT35VLItq0Wv4xCpVqoofU3GYX7QWZn6Dmo6c7jsqK0R9dW9vZO-R07bm_DXwpDEqFeKNAKjFR3SNH-AtfUIw?width=5760&height=3840&cropmode=none\" width=\"300\"><br>\n",
    "*Photo by Kelly L from Pexels*\n",
    "\n",
    "**บนโลกนี้ไม่ได้มีการจำลองเครื่องบินแค่แบบที่เล็กกระทัดรัด<br>\n",
    "แต่ก็มีการจำลองแบบที่เราสามารถเข้าไปลองนั่ง ลองดูความโอ่โถ่งของห้องโดยสารได้<br>\n",
    "และแบบจำลองนี้ก็อาจไม่จำเป็นต้องมีปีก เพราะต้องการจำลองแค่ห้องโดยสาร** – และก็อาจไม่มีการเสิร์ฟเครื่องดื่มในนั้นด้วยนะ\n",
    "\n",
    "**FOL** ก็มีลักษณะคล้ายกับเครื่องบินจำลองทั้งหลายนี่แหละ<br>\n",
    "คือเราสามารถปรับแต่งมันเพื่อให้สะท้อนภาษาคนหลาย ๆ มุมมองมากขึ้นได้<br>\n",
    "แต่การปรับแต่งนี่ก็ทำให้มันมีความซับซ้อนมากยิ่งขึ้นไปอีก\n",
    "\n",
    "**FOL** มันง่ายต่อความเข้าใจ แต่อย่าลืมว่ามันอาจไม่ใช่มุมมองที่เป็นจริงทั้งหมดนะ"
   ]
  }
 ],
 "metadata": {
  "interpreter": {
   "hash": "aee8b7b246df8f9039afb4144a1f6fd8d2ca17a180786b69acc140d282b71a49"
  },
  "kernelspec": {
   "display_name": "Calysto Prolog",
   "language": "prolog",
   "name": "calysto_prolog"
  },
  "language_info": {
   "name": "prolog",
   "version": "3.10.1"
  },
  "orig_nbformat": 4
 },
 "nbformat": 4,
 "nbformat_minor": 2
}
