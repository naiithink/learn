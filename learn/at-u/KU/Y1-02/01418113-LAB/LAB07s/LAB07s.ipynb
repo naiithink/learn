{
 "cells": [
  {
   "cell_type": "markdown",
   "metadata": {},
   "source": [
    "# LAB07\n",
    "\n",
    "01418113-LAB, 2022-02-??"
   ]
  },
  {
   "cell_type": "markdown",
   "metadata": {},
   "source": [
    "## 01 นับสระในสายอักขระ \n",
    "\n",
    "**นับสระในสายอักขระ**\n",
    "\n",
    "เขียนโปรแกรมภาษาซี รับ string เข้ามาหนึ่ง string ด้วย scanf() แล้วแสดงสระที่มีทั้งหมดใน string ดังกล่าวออกมา พร้อมกับแสดงจำนวนตัวอักขระที่เป็นสระด้วย ดังตัวอย่าง\n",
    "\n",
    "**ตัวอย่างผลลัพธ์ที่ 1**\n",
    "\n",
    "```\n",
    "String (without a space): $ hello\n",
    "e o \n",
    "This string contains 2 vowels.\n",
    "```\n",
    "\n",
    "**ตัวอย่างผลลัพธ์ที่ 2**\n",
    "\n",
    "```\n",
    "String (without a space): $ string\n",
    "i \n",
    "This string contains 1 vowel.\n",
    "```\n",
    "\n",
    "**ตัวอย่างผลลัพธ์ที่ 3**\n",
    "\n",
    "```\n",
    "String (without a space): $ zzzZZ!\n",
    "\n",
    "This string contains 0 vowel.\n",
    "```\n",
    "\n",
    "```c\n",
    "#include <stdio.h>\n",
    "\n",
    "int main() {\n",
    "\n",
    "}\n",
    "```"
   ]
  }
 ],
 "metadata": {
  "language_info": {
   "name": "python"
  },
  "orig_nbformat": 4
 },
 "nbformat": 4,
 "nbformat_minor": 2
}
