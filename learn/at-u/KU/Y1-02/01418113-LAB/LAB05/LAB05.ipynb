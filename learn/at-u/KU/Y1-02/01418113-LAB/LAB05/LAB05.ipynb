{
 "cells": [
  {
   "cell_type": "markdown",
   "metadata": {},
   "source": []
  },
  {
   "cell_type": "code",
   "execution_count": 7,
   "metadata": {},
   "outputs": [
    {
     "name": "stdout",
     "output_type": "stream",
     "text": [
      "32765, 2053387264\n"
     ]
    }
   ],
   "source": [
    "#include <stdio.h>\n",
    "\n",
    "int main(void)\n",
    "{\n",
    "    int a[] = {};\n",
    "\n",
    "    printf(\"%i, %i\\n\", a[0], a[1]);\n",
    "\n",
    "    return 0;\n",
    "}"
   ]
  },
  {
   "cell_type": "code",
   "execution_count": 35,
   "metadata": {},
   "outputs": [
    {
     "name": "stderr",
     "output_type": "stream",
     "text": [
      "/tmp/tmp2awjl0vs.c: In function ‘main’:\n",
      "/tmp/tmp2awjl0vs.c:5:19: warning: initialization of ‘long int *’ from ‘long int’ makes pointer from integer without a cast [-Wint-conversion]\n",
      "    5 |     long int *p = 0x142352342;\n",
      "      |                   ^~~~~~~~~~~\n",
      "/tmp/tmp2awjl0vs.c:7:18: warning: format ‘%s’ expects argument of type ‘char *’, but argument 3 has type ‘long int *’ [-Wformat=]\n",
      "    7 |     printf(\"%p, %s\\n\", &p, p);\n",
      "      |                 ~^         ~\n",
      "      |                  |         |\n",
      "      |                  char *    long int *\n",
      "      |                 %ln\n",
      "[C kernel] Executable exited with code -11"
     ]
    }
   ],
   "source": [
    "#include <stdio.h>\n",
    "\n",
    "int main(void)\n",
    "{\n",
    "    long int *p = 0x142352342;\n",
    "\n",
    "    printf(\"%p, %s\\n\", &p, p);\n",
    "\n",
    "    return 0;\n",
    "}"
   ]
  }
 ],
 "metadata": {
  "kernelspec": {
   "display_name": "C",
   "language": "c",
   "name": "c"
  },
  "language_info": {
   "file_extension": ".c",
   "mimetype": "text/plain",
   "name": "c"
  },
  "orig_nbformat": 4
 },
 "nbformat": 4,
 "nbformat_minor": 2
}
