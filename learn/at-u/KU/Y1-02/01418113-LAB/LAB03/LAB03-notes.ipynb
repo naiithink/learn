{
 "cells": [
  {
   "cell_type": "markdown",
   "metadata": {},
   "source": [
    "## Custom Functions\n",
    "\n",
    "```\n",
    "[return_type] [func_name] `(` [ [void] | [[param_type] param_array] [ `,` [[param_type] param_array] ] `)` `{` [instrunctions] `}`\n",
    "\n",
    "```\n",
    "\n",
    "### Prototype\n",
    "\n",
    "---\n",
    "\n",
    "```c\n",
    "// Directives\n",
    "\n",
    "[func_declaration] `;`\n",
    "\n",
    "[return_type_of_main] main([param_of_main]);\n",
    "```\n",
    "\n",
    "---"
   ]
  },
  {
   "cell_type": "code",
   "execution_count": null,
   "metadata": {},
   "outputs": [],
   "source": []
  }
 ],
 "metadata": {
  "language_info": {
   "name": "python"
  },
  "orig_nbformat": 4
 },
 "nbformat": 4,
 "nbformat_minor": 2
}
