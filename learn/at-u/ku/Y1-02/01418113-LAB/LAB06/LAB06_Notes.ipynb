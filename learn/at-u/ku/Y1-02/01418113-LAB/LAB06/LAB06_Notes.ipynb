{
 "cells": [
  {
   "cell_type": "markdown",
   "metadata": {},
   "source": [
    "# LAB07"
   ]
  },
  {
   "cell_type": "markdown",
   "metadata": {},
   "source": [
    "## Function Argument: Pass-by-reference\n",
    "\n",
    "**func def:**\n",
    "\n",
    "```c\n",
    "void\n",
    "foo ([<var_type> <`*`><var>])\n",
    "{[instructions]}\n",
    "```\n",
    "\n",
    "**func call:**\n",
    "\n",
    "```c\n",
    "foo ([<&><var>]);\n",
    "```"
   ]
  },
  {
   "cell_type": "code",
   "execution_count": 1,
   "metadata": {},
   "outputs": [
    {
     "name": "stdout",
     "output_type": "stream",
     "text": [
      "123\n",
      "-123\n"
     ]
    }
   ],
   "source": [
    "#include <stdio.h>\n",
    "\n",
    "\n",
    "/* func def */\n",
    "void foo (int *p)\n",
    "{\n",
    "    *p *= -1;\n",
    "}\n",
    "\n",
    "int main (void)\n",
    "{\n",
    "    int n = 123;\n",
    "\n",
    "    printf (\"%d\\n\", n);\n",
    "\n",
    "    /* func call */\n",
    "    foo (&n);\n",
    "    \n",
    "    printf (\"%d\\n\", n);\n",
    "\n",
    "    return 0;\n",
    "}"
   ]
  }
 ],
 "metadata": {
  "kernelspec": {
   "display_name": "C",
   "language": "c",
   "name": "c"
  },
  "language_info": {
   "file_extension": ".c",
   "mimetype": "text/plain",
   "name": "c"
  },
  "orig_nbformat": 4
 },
 "nbformat": 4,
 "nbformat_minor": 2
}
