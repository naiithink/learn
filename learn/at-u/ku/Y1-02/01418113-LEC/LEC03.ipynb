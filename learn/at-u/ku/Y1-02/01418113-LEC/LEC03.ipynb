{
 "cells": [
  {
   "cell_type": "markdown",
   "metadata": {},
   "source": []
  },
  {
   "cell_type": "code",
   "execution_count": null,
   "metadata": {},
   "outputs": [],
   "source": [
    "#include <stdio.h>\n",
    "\n",
    "int main(void)\n",
    "{\n",
    "    // void a;\n",
    "    char b = '\\0';\n",
    "    char *str = \"123\\0\";\n",
    "    char *str1 = \"123\";\n",
    "    char str2[4] = {'1', '2', '3'}; // , '\\0'};\n",
    "\n",
    "    printf(\"char size: %i\\n\", sizeof(char));\n",
    "    // printf(\"\\\\0 size: %i\\n\", sizeof(b));\n",
    "    printf(\"hello\\n\");\n",
    "    // printf(\"\\0\");\n",
    "    printf(\"void size: %i\\n\", sizeof(void));\n",
    "    printf(\"size of \\\"123\\\\0\\\": %i\\n\", str);\n",
    "    printf(\"size of \\\"123\\\": %i\\n\", str1);\n",
    "    printf(\"int: %i\\n\", sizeof(int));\n",
    "    printf(\"%s\\n\", *str2);\n",
    "    \n",
    "    /*\n",
    "    if (a == b)\n",
    "        printf(\"eq\\n\");\n",
    "    else\n",
    "        printf(\"!eq\\n\");\n",
    "    */\n",
    "}"
   ]
  },
  {
   "cell_type": "code",
   "execution_count": null,
   "metadata": {},
   "outputs": [],
   "source": [
    "#include <stdio.h>\n",
    "\n",
    "int main(void)\n",
    "{\n",
    "    char a = '1';\n",
    "    char b = '2';\n",
    "    char c = '3';\n",
    "    char H = '\\0';\n",
    "\n",
    "    int *p = &a;\n",
    "    char v = *p;\n",
    "    // int *pn = p;\n",
    "\n",
    "    int i = 0;\n",
    "    while (v != '\\0')\n",
    "    {\n",
    "        printf(\"%c\", *&a);\n",
    "        p++;\n",
    "        v = *p;\n",
    "    }\n",
    "    printf(\"\\n\");\n",
    "}"
   ]
  },
  {
   "cell_type": "code",
   "execution_count": null,
   "metadata": {},
   "outputs": [],
   "source": [
    "#include <stdio.h>\n",
    "\n",
    "int main(void)\n",
    "{\n",
    "    // char *str0 = \"\";\n",
    "    putchar(('\\0', 'a', 'b'));\n",
    "    printf(\"\\n\");\n",
    "    printf(\"void size: %i\\n\", sizeof(void));\n",
    "    printf(\"char size: %i\\n\", sizeof(char));\n",
    "\n",
    "    char *str0 = \"123\";\n",
    "    printf(\"%s\\n\", str0);\n",
    "    printf(\"str0 size: %i\\n\", sizeof(str0));\n",
    "    char *str1 = \"123\\0\";\n",
    "    printf(\"%s\\n\", str1);\n",
    "    printf(\"str1 size: %i\\n\", sizeof(str1));\n",
    "    char *str2 = \"\\0\\\\123\";\n",
    "    printf(\"%s\\n\", str2);\n",
    "    printf(\"str1 size: %i\\n\", sizeof(str2));\n",
    "}"
   ]
  },
  {
   "cell_type": "code",
   "execution_count": null,
   "metadata": {},
   "outputs": [],
   "source": [
    "#include <stdio.h>\n",
    "\n",
    "int main(void)\n",
    "{\n",
    "    int b = 0;\n",
    "    if (!b)\n",
    "        printf(\"true\\n\");\n",
    "    else\n",
    "        printf(\"false\\n\");\n",
    "}"
   ]
  },
  {
   "cell_type": "code",
   "execution_count": null,
   "metadata": {},
   "outputs": [],
   "source": [
    "#include <stdio.h>\n",
    "\n",
    "int main(void)\n",
    "{\n",
    "    void *p;\n",
    "    char a = 'a';\n",
    "    printf(\"p size: %i\\n\", sizeof(*p));\n",
    "    printf(\"p: %c\\n\", p);\n",
    "    printf(\"a size: %i\\n\", sizeof(a));\n",
    "    printf(\"a: %c\\n\", a);\n",
    "\n",
    "    char v = *p;\n",
    "\n",
    "    if (v == '\\0')\n",
    "        printf(\"eq\\n\");\n",
    "    else\n",
    "        printf(\"!eq\\n\");\n",
    "}"
   ]
  },
  {
   "cell_type": "code",
   "execution_count": null,
   "metadata": {},
   "outputs": [],
   "source": [
    "#include <stdio.h>\n",
    "\n",
    "void main(void)\n",
    "{\n",
    "    puts(\"hello, world\");\n",
    "}"
   ]
  }
 ],
 "metadata": {
  "kernelspec": {
   "display_name": "C",
   "language": "c",
   "name": "c"
  },
  "language_info": {
   "name": "c"
  },
  "orig_nbformat": 4
 },
 "nbformat": 4,
 "nbformat_minor": 2
}
