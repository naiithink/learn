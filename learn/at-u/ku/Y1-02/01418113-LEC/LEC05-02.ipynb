{
 "cells": [
  {
   "cell_type": "markdown",
   "metadata": {},
   "source": [
    "# LEC06\n",
    "\n",
    "## Hilights\n",
    "\n",
    "- Storing vars: 4 classes, 2 durations\n",
    "- Object code\n",
    "- Makefile\n",
    "- Custom lib\n",
    "    - `ar` command\n",
    "- `*rand*()` in `stdlib.h`"
   ]
  },
  {
   "cell_type": "code",
   "execution_count": 1,
   "metadata": {},
   "outputs": [
    {
     "name": "stdout",
     "output_type": "stream",
     "text": [
      "hello, world\n"
     ]
    }
   ],
   "source": [
    "#include <stdio.h>\n",
    "\n",
    "int main(void)\n",
    "{\n",
    "    printf(\"hello, world\\n\");\n",
    "\n",
    "    return 0;\n",
    "}"
   ]
  },
  {
   "cell_type": "markdown",
   "metadata": {},
   "source": [
    "## Storing Vars\n",
    "\n",
    "### 4 classes\n",
    "\n",
    "----\n",
    "\n",
    "```\n",
    "<storage_class> <var_type> <var_name> `;`\n",
    "```\n",
    "\n",
    "DEFAULT: `auto`\n",
    "\n",
    "### `auto`\n",
    "\n",
    "Generally, only accessible within the block/function they have been declared<br>\n",
    "and not outside them (which defines their scope).<br>\n",
    "However, they can be accessed outside their scope as well using the concept of pointers.\n",
    "\n",
    "### `extern` &#x2012; a global var\n",
    "\n",
    "`\"This var will be declared 'anywhere else' in the nearly future, I promise.\"`<br>\n",
    "\n",
    "### `static`\n",
    "\n",
    "Preserve the var value even they are outside of their scope.\n",
    "\n",
    "### `register`\n",
    "\n",
    "> We cannot obtain the address of a register variable using pointers.\n",
    "\n",
    "Store the var inside register instead of memory.<br>\n",
    "\n",
    "![Storage-Classes-In-C](https://media.geeksforgeeks.org/wp-content/cdn-uploads/Storage-Classes-In-C.png)\n",
    "\n",
    "### 2 Durations\n",
    "\n",
    "----\n",
    "\n",
    "- `static` &#x2012; its storage size and address are determined at compile time.\n",
    "- `automatic` &#x2012; local variables are stored in a run-time stack.\n",
    "\n",
    "_one more type_\n",
    "\n",
    "- `dynamic` &#x2012; A local variable declared at block scope can have a dynamic storage duration if its storage is allocated by calling an allocation function, such as malloc() in C or the operator new in C++.<br>\n",
    "Dynamic memory allocation allows a user to manage memory very economically."
   ]
  },
  {
   "cell_type": "markdown",
   "metadata": {},
   "source": [
    "## Makefile\n",
    "\n"
   ]
  },
  {
   "cell_type": "markdown",
   "metadata": {},
   "source": [
    "## Custom Library\n",
    "\n",
    "### Archive file\n",
    "\n",
    "----\n",
    "\n",
    "```bash\n",
    "`ar` [option] archive \n",
    "```\n",
    "\n",
    "### Dynamic linked library\n",
    "\n",
    "----\n",
    "\n",
    "**Platform-specific file name extension**\n",
    "\n",
    "|Platform|Extension|\n",
    "|:-|:-|\n",
    "|darwin|`.dylib`|\n",
    "|linux|`.so`|\n",
    "|win32|`.dll`|"
   ]
  },
  {
   "cell_type": "markdown",
   "metadata": {},
   "source": [
    "## `*rand*()`\n",
    "\n",
    "> These interfaces are obsoleted by arc4random(3).\n",
    "\n",
    "### `rand(void)`\n",
    "\n",
    "----\n",
    "\n",
    "**Synopsis**\n",
    "\n",
    "```\n",
    "int\n",
    "rand(void);\n",
    "```\n",
    "\n",
    "**Description**\n",
    "\n",
    "The `rand()` function computes a sequence of `pseudo-random integers` in the range of `0` to `RAND_MAX` (as defined by the header file `<stdlib.h>`).\n",
    "\n",
    "### `srand(unsigned seed)`\n",
    "\n",
    "----\n",
    "\n",
    "**Synopsis**\n",
    "\n",
    "```\n",
    "void\n",
    "srand(unsigned seed);\n",
    "```\n",
    "\n",
    "**Description**\n",
    "\n",
    "The `srand()` function sets its argument seed as the seed for a new sequence of `pseudo-random numbers` to be returned by `rand()`.  These sequences are repeatable by calling `srand()` with the same seed value.\n",
    "\n",
    "man rand\n",
    "\n",
    "```\n",
    "RAND(3)                                                                         Library Functions Manual                                                                        RAND(3)\n",
    "\n",
    "NAME\n",
    "     rand, rand_r, srand, sranddev – bad random number generator\n",
    "\n",
    "LIBRARY\n",
    "     Standard C Library (libc, -lc)\n",
    "\n",
    "SYNOPSIS\n",
    "     #include <stdlib.h>\n",
    "\n",
    "     int\n",
    "     rand(void);\n",
    "\n",
    "     int\n",
    "     rand_r(unsigned *seed);\n",
    "\n",
    "     void\n",
    "     srand(unsigned seed);\n",
    "\n",
    "     void\n",
    "     sranddev(void);\n",
    "\n",
    "DESCRIPTION\n",
    "     These interfaces are obsoleted by arc4random(3).\n",
    "\n",
    "     The rand() function computes a sequence of pseudo-random integers in the range of 0 to RAND_MAX (as defined by the header file <stdlib.h>).\n",
    "\n",
    "     The srand() function sets its argument seed as the seed for a new sequence of pseudo-random numbers to be returned by rand().  These sequences are repeatable by calling srand()\n",
    "     with the same seed value.\n",
    "\n",
    "     If no seed value is provided, the functions are automatically seeded with a value of 1.\n",
    "\n",
    "     The sranddev() function initializes a seed, using the random(4) random number device which returns good random numbers.  However, the rand() function still remains unsuitable for\n",
    "     cryptographic use.\n",
    "\n",
    "     The rand_r() function provides the same functionality as rand().  A pointer to the context value seed must be supplied by the caller.\n",
    "\n",
    "SEE ALSO\n",
    "     arc4random(3), random(3), random(4)\n",
    "\n",
    "STANDARDS\n",
    "     The rand() and srand() functions conform to ISO/IEC 9899:1990 (“ISO C90”).\n",
    "\n",
    "     The rand_r() function is as proposed in the POSIX.4a Draft #6 document.\n",
    "\n",
    "macOS 12.1                                                                            May 25, 1999                                                                           macOS 12.1\n",
    "```"
   ]
  },
  {
   "cell_type": "code",
   "execution_count": 12,
   "metadata": {},
   "outputs": [
    {
     "name": "stdout",
     "output_type": "stream",
     "text": [
      "RAND_MAX: 2147483647\n",
      "0: 1804289383\n",
      "1: 846930886\n",
      "2: 1681692777\n",
      "3: 1714636915\n",
      "4: 1957747793\n",
      "5: 424238335\n",
      "6: 719885386\n",
      "7: 1649760492\n",
      "8: 596516649\n",
      "9: 1189641421\n"
     ]
    }
   ],
   "source": [
    "#include <stdio.h>\n",
    "#include <stdlib.h>\n",
    "\n",
    "int main(void)\n",
    "{\n",
    "    printf(\"RAND_MAX: %i\\n\", RAND_MAX);\n",
    "\n",
    "    for (int i = 0; i < 10; i++)\n",
    "        printf(\"%i: %i\\n\", i, rand());\n",
    "\n",
    "    return 0;\n",
    "}"
   ]
  },
  {
   "cell_type": "markdown",
   "metadata": {},
   "source": [
    "## `rand(void)`\n",
    "\n",
    "### Synopsis\n",
    "\n",
    "```\n",
    "int\n",
    "rand(void);\n",
    "```\n",
    "\n",
    "### Description\n",
    "\n",
    "**These interfaces are obsoleted by arc4random(3).**<br>\n",
    "The rand() function computes a sequence of pseudo-random integers in the range of 0 to RAND_MAX (as defined by the header file <stdlib.h>)."
   ]
  },
  {
   "cell_type": "code",
   "execution_count": null,
   "metadata": {},
   "outputs": [
    {
     "name": "stdout",
     "output_type": "stream",
     "text": [
      "RAND_MAX: 2147483647\n",
      "0: 1804289383\n",
      "1: 846930886\n",
      "2: 1681692777\n",
      "3: 1714636915\n",
      "4: 1957747793\n",
      "5: 424238335\n",
      "6: 719885386\n",
      "7: 1649760492\n",
      "8: 596516649\n",
      "9: 1189641421\n"
     ]
    }
   ],
   "source": [
    "#include <stdio.h>\n",
    "#include <stdlib.h>\n",
    "\n",
    "int main(void)\n",
    "{\n",
    "    printf(\"RAND_MAX: %i\\n\", RAND_MAX);\n",
    "\n",
    "    for (int i = 0; i < 10; i++)\n",
    "        printf(\"%i: %i\\n\", i, rand());\n",
    "\n",
    "    return 0;\n",
    "}"
   ]
  }
 ],
 "metadata": {
  "interpreter": {
   "hash": "aee8b7b246df8f9039afb4144a1f6fd8d2ca17a180786b69acc140d282b71a49"
  },
  "kernelspec": {
   "display_name": "C",
   "language": "c",
   "name": "c"
  },
  "language_info": {
   "file_extension": ".c",
   "mimetype": "text/plain",
   "name": "c"
  }
 },
 "nbformat": 4,
 "nbformat_minor": 4
}
