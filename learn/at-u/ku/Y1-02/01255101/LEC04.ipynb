{
 "cells": [
  {
   "cell_type": "markdown",
   "metadata": {},
   "source": [
    "## Wind\n",
    "\n",
    "Anemometer\n",
    "\n",
    "- แบบถ้วย\n",
    "- Ultrasonic\n",
    "\n",
    "Scales\n",
    "\n",
    "- \n",
    "\n",
    "ชื่อลม - its origin\n",
    "\n",
    "Prevailing winds - ประจำปี\n",
    "\n",
    "Periodic winds - ประจำเวลา\n",
    "\n",
    "- ลมภูเขา-หุบเขา\n",
    "- ลมทะเล - Sea breeze\n",
    "    - DAY\n",
    "- ลมบก - Land breeze\n",
    "    - NIGHT\n",
    "\n",
    "Monsoon - ประจำฤดู (มรสุม)\n",
    "\n",
    "- South-west: Rainy (May -- Oct)\n",
    "- North-east: Winter (Oct -- Feb)\n",
    "\n",
    "#### Tropical storms\n",
    "\n",
    "T > 26.5 C\n",
    "\n",
    "#### Wind velocity\n",
    "\n",
    "Typhoon > Tropical Storm > Depression\n",
    "\n",
    "#### Local Winds\n",
    "\n",
    "- Hericane: Atlantic, East-Pacific\n",
    "- Typhoon: West-Pacific                     // Siam\n",
    "- Cyclone: Indian, Bengoe                   // Siam\n",
    "\n",
    "#### Nomeclature\n",
    "\n"
   ]
  },
  {
   "cell_type": "markdown",
   "metadata": {},
   "source": [
    "# Land\n",
    "\n",
    "- Seismograph\n",
    "- **After-chock**\n",
    "\n",
    "## Earthquake\n",
    "\n",
    "- Natural phe\n",
    "- \n",
    "\n",
    "## Measuement\n",
    "\n",
    "- Intensity scale\n",
    "\n",
    "- Magnitude scale\n",
    "\n",
    "## 7 รอยต่อ\n",
    "\n",
    "## Ring of Fire\n",
    "\n",
    "- 425 ลูก, 75% active"
   ]
  }
 ],
 "metadata": {
  "language_info": {
   "name": "python"
  },
  "orig_nbformat": 4
 },
 "nbformat": 4,
 "nbformat_minor": 2
}
