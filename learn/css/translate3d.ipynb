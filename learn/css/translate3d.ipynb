{
    "cells": [
        {
            "cell_type": "markdown",
            "metadata": {},
            "source": [
                "# The `translate3d()` Function\n",
                "\n",
                "2022-06-07  \n",
                "ตรงไหนผิดเม้นบอกข้างใต้ Gist ได้นะครับ ;D\n",
                "\n",
                "TL;DR\n",
                "\n",
                "> `translate()` รองรับ 2D translation  \n",
                "> ถ้าอยากทำแบบ 3D สามารถใช้ `translate3d()` หรือวิธีอื่น ๆ แทนได้ครับ"
            ]
        },
        {
            "cell_type": "markdown",
            "metadata": {},
            "source": [
                "Contents\n",
                "\n",
                "- [transform](#transform)\n",
                "- [translate](#translate)\n",
                "\n",
                "References\n",
                "\n",
                "1. [transform](https://developer.mozilla.org/en-US/docs/Web/CSS/transform)\n",
                "1. [translate()](https://developer.mozilla.org/en-US/docs/Web/CSS/transform-function/translate)\n",
                "1. [translate3d()](https://developer.mozilla.org/en-US/docs/Web/CSS/transform-function/translate3d)"
            ]
        },
        {
            "cell_type": "markdown",
            "metadata": {},
            "source": [
                "## transform\n",
                "\n",
                "`transform` คือ [CSS property](https://developer.mozilla.org/en-US/docs/Web/CSS/Syntax#:~:text=The-,property,-which%20is%20an) ที่ทำให้เรา หมุน (rotate), ปรับอัตราส่วน (scale), บิดรูปทรง (skew),  \n",
                "หรือเปลี่ยน position ของ element ที่รองรับการ transform – _transformable_ – ได้\n",
                "\n",
                "___transformable elements___: ทุก elements ที่ใช้ [CSS box model concept](https://developer.mozilla.org/en-US/docs/Web/CSS/CSS_Box_Model/Introduction_to_the_CSS_box_model) ยกเว้น:  \n",
                "\n",
                "- [non-replaced inline boxes](https://developer.mozilla.org/en-US/docs/Web/CSS/Visual_formatting_model#inline-level_elements_and_inline_boxes)\n",
                "- [table-column boxes](https://developer.mozilla.org/en-US/docs/Web/HTML/Element/col)\n",
                "- [table-column-group boxes](https://developer.mozilla.org/en-US/docs/Web/HTML/Element/colgroup)\n",
                "\n",
                "### Syntax\n",
                "\n",
                "```\n",
                "transform: <none> | <transform-function>+\n",
                "```"
            ]
        },
        {
            "cell_type": "code",
            "execution_count": 1,
            "metadata": {
                "vscode": {
                    "languageId": "html"
                }
            },
            "outputs": [
                {
                    "data": {
                        "text/html": [
                            "<style>\n",
                            "    .box {\n",
                            "        border: solid red;\n",
                            "        width: 60px;\n",
                            "        height: 60px;\n",
                            "        margin: 30px;\n",
                            "    }\n",
                            "\n",
                            "    .rotated {\n",
                            "        border: solid yellow;\n",
                            "        transform: rotate(20deg);\n",
                            "    }\n",
                            "</style>\n",
                            "\n",
                            "<div class=\"box\">wow</div>\n",
                            "<div class=\"box rotated\">whoa</div>\n"
                        ],
                        "text/plain": [
                            "<IPython.core.display.HTML object>"
                        ]
                    },
                    "metadata": {},
                    "output_type": "display_data"
                }
            ],
            "source": [
                "%%html\n",
                "<style>\n",
                "    .box {\n",
                "        border: solid red;\n",
                "        width: 60px;\n",
                "        height: 60px;\n",
                "        margin: 30px;\n",
                "    }\n",
                "\n",
                "    .rotated {\n",
                "        border: solid yellow;\n",
                "        transform: rotate(20deg);\n",
                "    }\n",
                "</style>\n",
                "\n",
                "<div class=\"box\">wow</div>\n",
                "<div class=\"box rotated\">whoa</div>"
            ]
        },
        {
            "cell_type": "markdown",
            "metadata": {},
            "source": [
                "## translate\n",
                "\n",
                "`translate()` คือ [CSS function](https://developer.mozilla.org/en-US/docs/Web/CSS/CSS_Functions) ที่ช่วยให้เราเปลี่ยน position ของ element ได้"
            ]
        }
    ],
    "metadata": {
        "interpreter": {
            "hash": "aee8b7b246df8f9039afb4144a1f6fd8d2ca17a180786b69acc140d282b71a49"
        },
        "kernelspec": {
            "display_name": "Python 3.10.4 64-bit",
            "language": "python",
            "name": "python3"
        },
        "language_info": {
            "codemirror_mode": {
                "name": "ipython",
                "version": 3
            },
            "file_extension": ".py",
            "mimetype": "text/x-python",
            "name": "python",
            "nbconvert_exporter": "python",
            "pygments_lexer": "ipython3",
            "version": "3.10.4"
        },
        "orig_nbformat": 4
    },
    "nbformat": 4,
    "nbformat_minor": 2
}