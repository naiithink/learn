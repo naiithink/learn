{
 "cells": [
  {
   "cell_type": "markdown",
   "metadata": {},
   "source": [
    "# Design Patterns\n",
    "\n",
    "Solving common problems in object-oriented design.\n",
    "\n",
    "A (sort of) **Pre-made Blueprint**<br />\n",
    "A toolkit of **tried and tested solutions** to common problem in software design.<br />\n",
    "A **common language** for more efficient collaboration\n",
    "\n",
    "Ref:\n",
    "\n",
    "- [refactoring.guru](https://refactoring.guru/design-patterns/)\n",
    "\n",
    "Book:\n",
    "\n",
    "- [A Pattern Language: Towns, Buildings, Construction](https://refactoring.guru/pattern-language-book)\n",
    "- [Design Patterns: Elements of Reusable Object-Oriented Software](https://refactoring.guru/gof-book)\n",
    "\n",
    "See also:\n",
    "\n",
    "- Gang of Four (GoF), The authors of the Design Patterns Book\n",
    "\n",
    "----"
   ]
  },
  {
   "cell_type": "markdown",
   "metadata": {},
   "source": [
    "## Algorithm vs Design Patterns\n",
    "\n",
    "> **Cook Book** vs **Blueprint**\n",
    "\n",
    "_Algorithm_\n",
    "\n",
    "- well defined set of actions\n",
    "\n",
    "_Design Patterns_\n",
    "\n",
    "- more (to algorithm) high-level description of a solution"
   ]
  },
  {
   "cell_type": "markdown",
   "metadata": {},
   "source": [
    "## The Description of a Pattern\n",
    "\n",
    "- **Intent** of the pattern briefly describes both the problem and the solution.\n",
    "- **Motivation** further explains the problem and the solution the pattern makes possible.\n",
    "- **Structure** of classes shows each part of the pattern and how they are related.\n",
    "- **Code example** in one of the popular programming languages makes it easier to grasp the idea behind the pattern.\n",
    "\n",
    "Some pattern catalogs list other useful details, such as applicability of the pattern, implementation steps and relations with other patterns."
   ]
  },
  {
   "cell_type": "markdown",
   "metadata": {},
   "source": [
    "## Classification of Patterns\n",
    "\n",
    "Design patterns **differ** by their...\n",
    "\n",
    "- complexity\n",
    "- level of detail\n",
    "- scale of applicability to the entire system being designed\n",
    "\n",
    "_idiom_\n",
    "\n",
    "- low-level pattern\n",
    "- usually apply only to a single programming language\n",
    "\n",
    "_architectural pattern_\n",
    "\n",
    "- universal and high-level pattern\n",
    "- can be implemented in virtually any language\n",
    "- [unlike other patterns] can be used to design the architecture of an entire application\n",
    "\n",
    "### The Three Main Groups of Patterns to be Discuessed\n",
    "\n",
    "All patterns can be categorized by their _intent_, or purpose.\n",
    "\n",
    "#### Creational patterns\n",
    "\n",
    "object creation mechanism that increase flexibility abd reuse of existing code\n",
    "\n",
    "#### Structural patterns\n",
    "\n",
    "explaining how to assemble objects and classes into larger structures (while keeping these structures felxible and efficient)\n",
    "\n",
    "#### Behavioral patterns\n",
    "\n",
    "taking care of effective communication and the assignment of responsibilities between objects"
   ]
  }
 ],
 "metadata": {
  "kernelspec": {
   "display_name": "Python 3 (ipykernel)",
   "language": "python",
   "name": "python3"
  },
  "language_info": {
   "codemirror_mode": {
    "name": "ipython",
    "version": 3
   },
   "file_extension": ".py",
   "mimetype": "text/x-python",
   "name": "python",
   "nbconvert_exporter": "python",
   "pygments_lexer": "ipython3",
   "version": "3.9.12"
  }
 },
 "nbformat": 4,
 "nbformat_minor": 4
}
