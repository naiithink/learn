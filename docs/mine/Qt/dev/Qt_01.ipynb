{
 "cells": [
  {
   "cell_type": "markdown",
   "metadata": {},
   "source": [
    "# Qt 01\n",
    "\n",
    "2022-04-10"
   ]
  },
  {
   "cell_type": "markdown",
   "metadata": {},
   "source": [
    "## The IDE\n",
    "\n",
    "Qt has its own IDE, The Qt Creator.\n",
    "\n",
    "There are both commercial and open source license, we will be focusing on the **open source** one.\n",
    "\n",
    "### Download and Install the Tool\n",
    "\n",
    "1. Go grab the tool from [qt.io](https://www.qt.io/download-open-source).\n",
    "2. Launch the installer and follow the on-screen steps (may require a Qt Account).\n",
    "    > Please note that the installer has a time limit, immediately press retry if any downloading issue occurs.\n",
    "3. Voila! we are ready to go."
   ]
  },
  {
   "cell_type": "markdown",
   "metadata": {},
   "source": [
    "## Classes\n",
    "\n",
    "![Beginner-Class-Hierarchy.jpg](https://qt-wiki-uploads.s3.amazonaws.com/images/4/4c/Beginner-Class-Hierarchy.jpg)"
   ]
  },
  {
   "cell_type": "markdown",
   "metadata": {},
   "source": [
    "## The Boilerplate\n",
    "\n"
   ]
  }
 ],
 "metadata": {
  "interpreter": {
   "hash": "aee8b7b246df8f9039afb4144a1f6fd8d2ca17a180786b69acc140d282b71a49"
  },
  "kernelspec": {
   "display_name": "Python 3.10.4 64-bit",
   "language": "python",
   "name": "python3"
  },
  "language_info": {
   "name": "python",
   "version": "3.10.4"
  },
  "orig_nbformat": 4
 },
 "nbformat": 4,
 "nbformat_minor": 2
}
