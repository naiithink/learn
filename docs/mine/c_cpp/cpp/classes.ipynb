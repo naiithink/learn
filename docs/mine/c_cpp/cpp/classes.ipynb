{
 "cells": [
  {
   "cell_type": "markdown",
   "metadata": {},
   "source": [
    "# **CPP: Classes**"
   ]
  },
  {
   "cell_type": "markdown",
   "metadata": {},
   "source": [
    "# Declaration\n",
    "\n",
    "```cpp\n",
    "class <Class_name>\n",
    "{\n",
    "    [access_specifier<:>]               // private | public | protected\n",
    "\n",
    "    [data_members<;>]                   // variables\n",
    "\n",
    "    [member_functions()<;>]             // methods\n",
    "};\n",
    "```"
   ]
  },
  {
   "cell_type": "code",
   "execution_count": 1,
   "metadata": {},
   "outputs": [],
   "source": [
    "#include <iostream>\n",
    "\n",
    "using namespace std;"
   ]
  },
  {
   "cell_type": "code",
   "execution_count": 2,
   "metadata": {},
   "outputs": [],
   "source": [
    "class Flight\n",
    "{\n",
    "    private:\n",
    "        int capacity;\n",
    "        int passenger_count;\n",
    "        struct Passenger\n",
    "        {\n",
    "            int id;\n",
    "            string name;\n",
    "        }\n",
    "        *passenger;\n",
    "    \n",
    "    public:\n",
    "        Flight(const int capacity)\n",
    "        {\n",
    "            this->capacity = capacity;\n",
    "            struct Passenger temp[capacity];\n",
    "            this->passenger = &temp[0];\n",
    "        }\n",
    "\n",
    "        int add_passenger(const string name)\n",
    "        {\n",
    "            int exit_status = -1;\n",
    "\n",
    "            if (open_seats())\n",
    "            {\n",
    "                this->passenger[passenger_count].id = passenger_count;\n",
    "                this->passenger[passenger_count].name = name;\n",
    "\n",
    "                this->passenger_count++;\n",
    "\n",
    "                exit_status = 1;\n",
    "            }\n",
    "            else\n",
    "            {\n",
    "                exit_status = 0;\n",
    "            }\n",
    "\n",
    "            return exit_status;\n",
    "        }\n",
    "\n",
    "        int open_seats(void)\n",
    "        {\n",
    "            return this->capacity - this->passenger_count;\n",
    "        }\n",
    "};"
   ]
  },
  {
   "cell_type": "code",
   "execution_count": 3,
   "metadata": {},
   "outputs": [],
   "source": [
    "const int person_count = 4;\n",
    "Flight flight(3);\n",
    "string people[person_count] = { \"Harry\", \"Ron\", \"Hermione\", \"Ginny\" };\n",
    "\n",
    "for (int i = 0, is_succeed = -1; i < person_count; i++)\n",
    "{\n",
    "    is_succeed = flight.add_passenger(people[i]);\n",
    "    switch (is_succeed)\n",
    "    {\n",
    "        case 1:\n",
    "            cout << \"done.\" << endl;\n",
    "            break;\n",
    "        case 0:\n",
    "            cout << \"failed.\" << endl;\n",
    "            break;\n",
    "        case -1:\n",
    "            cout << \"class: n/a\" << endl;\n",
    "            break;\n",
    "        default:\n",
    "            cout << \"main: n/a\" << endl;\n",
    "    }\n",
    "}"
   ]
  },
  {
   "cell_type": "code",
   "execution_count": 1,
   "metadata": {},
   "outputs": [
    {
     "name": "stderr",
     "output_type": "stream",
     "text": [
      "\u001b[1minput_line_8:2:13: \u001b[0m\u001b[0;1;31merror: \u001b[0m\u001b[1mexpected ';' at end of declaration\u001b[0m\n",
      " int n = EOF\n",
      "\u001b[0;1;32m            ^\n",
      "\u001b[0m\u001b[0;32m            ;\n",
      "\u001b[0m"
     ]
    },
    {
     "ename": "Interpreter Error",
     "evalue": "",
     "output_type": "error",
     "traceback": [
      "Interpreter Error: "
     ]
    }
   ],
   "source": [
    "#include <iostream>\n",
    "#include <cstdio>\n",
    "\n",
    "int n = EOF\n",
    "\n",
    "char *s;\n",
    "scanf(\"%s\", s);\n",
    "printf(\"%s\\n\", s);"
   ]
  }
 ],
 "metadata": {
  "kernelspec": {
   "display_name": "C++17",
   "language": "C++17",
   "name": "xcpp17"
  },
  "language_info": {
   "codemirror_mode": "text/x-c++src",
   "file_extension": ".cpp",
   "mimetype": "text/x-c++src",
   "name": "c++",
   "version": "17"
  },
  "orig_nbformat": 4
 },
 "nbformat": 4,
 "nbformat_minor": 2
}
