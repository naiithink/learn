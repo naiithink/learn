{
 "cells": [
  {
   "cell_type": "markdown",
   "metadata": {},
   "source": [
    "# Pointers\n",
    "\n",
    "มึนกะ pointer อะดิ ลองอ่านสมุดนี้ดู\n",
    "\n",
    "- คืออะไร?\n",
    "- ใช้ทำอะไร\n",
    "- ดู ๆ ไปเหอะ ขกพิม&nbsp;&nbsp;&nbsp;อิๆ"
   ]
  },
  {
   "cell_type": "markdown",
   "metadata": {},
   "source": [
    "## คืออะไร?\n",
    "\n",
    "ตัวแปร (ต่อไปจะขอย่อเป็น `var`) ต่าง ๆ ที่เราใช้ในการเขียนโปรแกรมภาษาซี<br>\n",
    "ไม่ว่าจะด้วยการประกาศแบบนี้ `int i = 1;` หรือด้วย `malloc()`<br>\n",
    "ข้อมูลตัวแปรเหล่านั้นจะถูกเอาไปเก็บบน `memory` (AKA *`RAM`*)\n",
    "\n",
    "**ทีนี้มาดูว่ามันเก็บบน Memory ยังไง**<br>\n"
   ]
  }
 ],
 "metadata": {
  "interpreter": {
   "hash": "aee8b7b246df8f9039afb4144a1f6fd8d2ca17a180786b69acc140d282b71a49"
  },
  "kernelspec": {
   "display_name": "Python 3 (ipykernel)",
   "language": "python",
   "name": "python3"
  },
  "language_info": {
   "codemirror_mode": {
    "name": "ipython",
    "version": 3
   },
   "file_extension": ".py",
   "mimetype": "text/x-python",
   "name": "python",
   "nbconvert_exporter": "python",
   "pygments_lexer": "ipython3",
   "version": "3.8.10"
  }
 },
 "nbformat": 4,
 "nbformat_minor": 4
}
