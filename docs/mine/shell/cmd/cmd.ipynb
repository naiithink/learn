{
 "cells": [
  {
   "cell_type": "markdown",
   "metadata": {},
   "source": [
    "# Command Prompt Basics\n",
    "\n",
    "`/shell/cmd`\n",
    "\n",
    "Sources:\n",
    "- [docs.microsoft.com](https://docs.microsoft.com/en-us/windows-server/opbuildpdf/administration/windows-commands/toc.pdf?branch=live)\n",
    "\n",
    "Frame of Reference:\n",
    "- OS: Microsoft Windows 11 Pro, 64-bit\n",
    "\n",
    "See Also:\n",
    "- [cmd-scripting](/shell/scripting/cmd)"
   ]
  },
  {
   "cell_type": "markdown",
   "metadata": {},
   "source": [
    "## Command-line Syntax Key\n",
    "\n",
    "| Notation             | Description          |\n",
    "| :------------------- | :------------------- |\n",
    "| Plain text           | Items you must type as shown.  |\n",
    "| `<` Text inside angle brackets `>` | Placeholder for which you must supply a value. |\n",
    "| `[` Text inside square brackets `]` | Optional items. |\n",
    "| `{` Text inside braces `}` | Set of required items. You must choose one. |\n",
    "| Vertical bar (`\\|`)  | Separator for mutually exclusive items. You must choose one. |\n",
    "| Ellipsis (`...`) | Items that can be repeated and used multiple times. |"
   ]
  },
  {
   "cell_type": "markdown",
   "metadata": {},
   "source": [
    "### For Those Who Familiar with Bash\n",
    "\n",
    "| Bash                 | CMD                  | Description          |\n",
    "| :------------------- | :------------------- | :------------------- |\n",
    "| `pwd`                | `cd` (no args.) or `cd ,` | Print name of current/working directory. |\n",
    "| `ls`                 | `dir`                | List directory contents. |\n",
    "| `cd [dir]`           | `cd [dir]` or `chdir [dir]` | Change working directory. |\n",
    "| `cd /`               | `cd /` or `cd \\` | Change working directory to root. |\n",
    "| `export [[ENV][=VAL]]` | `set [[ENV][=VAL]]` | Set an environment variable. |\n",
    "| `echo $[ENV]` | `echo %[VAR]%` | Print value of giving environment. |"
   ]
  },
  {
   "cell_type": "markdown",
   "metadata": {},
   "source": [
    "### Some of Bash Default Environment Variables\n",
    "\n",
    "| Bash                 | CMD                  | Description          |\n",
    "| :------------------- | :------------------- | :------------------- |\n",
    "| `HOME`               | `-`                  | Home directory path. |\n",
    "| `PWD`                | `CD`                 | Current/Working directory. |\n",
    "| `OLDPWD`             | `CD`                 | Current/Working directory. |"
   ]
  },
  {
   "cell_type": "markdown",
   "metadata": {},
   "source": []
  }
 ],
 "metadata": {
  "language_info": {
   "name": "python"
  },
  "orig_nbformat": 4
 },
 "nbformat": 4,
 "nbformat_minor": 2
}
