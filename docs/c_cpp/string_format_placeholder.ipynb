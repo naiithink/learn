{
 "cells": [
  {
   "cell_type": "markdown",
   "metadata": {},
   "source": [
    "# String Format Placeholder\n",
    "\n",
    "`printf(\"%5$s\", eiei);`"
   ]
  },
  {
   "cell_type": "markdown",
   "metadata": {},
   "source": [
    "%\\[[parameter](#parameter-field)\\]\\[[flags](flags-field)\\][width][.precision][length]type\n",
    "\n",
    "## Parameter Field\n",
    "\n",
    "```\n",
    "n$\n",
    "```\n",
    "\n",
    "```\n",
    ">>> printf(\"%2$d %2$#x; %1$d %1$#x\",16,17)\n",
    "17 0x11; 16 0x10\n",
    "```\n",
    "\n",
    "## Flags Field\n",
    "\n",
    "| Character | Description |\n",
    "| :-------- | :---------- |\n",
    "| `-`       | Left-align the output |\n",
    "| `+`       | Prepend a numeric sign |\n",
    "| ` ` (space) | Prepend a space for positive signed-number types<br>`>>> printf(\"% d\\n\", 1);`<br>&#x2334;`1`<br>`>>> printf(\"% d\\n\", -1);`<br>`-1`|\n",
    "| `0`       |  |\n",
    "\n",
    "```\n",
    "\n",
    "```"
   ]
  }
 ],
 "metadata": {
  "language_info": {
   "name": "python"
  },
  "orig_nbformat": 4
 },
 "nbformat": 4,
 "nbformat_minor": 2
}
