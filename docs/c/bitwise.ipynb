{
 "cells": [
  {
   "cell_type": "markdown",
   "metadata": {},
   "source": [
    "# Bitwise Operations\n",
    "\n",
    "`/docs/c/bitwise`"
   ]
  },
  {
   "cell_type": "markdown",
   "metadata": {},
   "source": [
    "## `&` &#x2012; AND\n",
    "\n",
    "```py\n",
    "while (i):\n",
    "    print(bool(bit[i] and bit[j]))\n",
    "```\n",
    "\n",
    "---\n",
    "\n",
    "```\n",
    "5 & 15\n",
    "\n",
    " 5 :    0 1 0 1\n",
    "15 :    1 1 1 1\n",
    "---------------\n",
    " & :    0 1 0 1\n",
    "```"
   ]
  },
  {
   "cell_type": "markdown",
   "metadata": {},
   "source": [
    "## `|` &#x2012; OR\n",
    "\n",
    "```py\n",
    "while (i):\n",
    "    print(bool(bit[i] or bit[j]))\n",
    "```\n",
    "\n",
    "---\n",
    "\n",
    "```\n",
    "5 | 15\n",
    "\n",
    " 5 :    0 1 0 1\n",
    "15 :    1 1 1 1\n",
    "---------------\n",
    " | :    1 1 1 1\n",
    "```"
   ]
  },
  {
   "cell_type": "markdown",
   "metadata": {},
   "source": []
  }
 ],
 "metadata": {
  "language_info": {
   "name": "python"
  },
  "orig_nbformat": 4
 },
 "nbformat": 4,
 "nbformat_minor": 2
}
