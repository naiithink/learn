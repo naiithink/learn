{
 "cells": [
  {
   "cell_type": "markdown",
   "id": "6d00c29e-f546-4246-bb6c-2554577ab4c9",
   "metadata": {},
   "source": [
    "# The Array of Characters"
   ]
  },
  {
   "cell_type": "markdown",
   "id": "281bf97c",
   "metadata": {},
   "source": [
    "ใน C เราไม่มี `String` type แต่เราก็ประดิษฐ์ขึ้นมาได้จากการเอา `Character` มาต่อกันเป็นสาย ๆ (เลยเรียกว่า `String` ไงล่ะ)"
   ]
  },
  {
   "cell_type": "code",
   "execution_count": 1,
   "id": "4c4a289c-6118-4153-bec7-84d7619b017f",
   "metadata": {},
   "outputs": [
    {
     "name": "stdout",
     "output_type": "stream",
     "text": [
      "hello"
     ]
    }
   ],
   "source": [
    "// C\n",
    "\n",
    "#include <stdio.h>\n",
    "\n",
    "int main(void)\n",
    "{\n",
    "    char c0 = 'h';\n",
    "    char c1 = 'e';\n",
    "    char c2 = 'l';\n",
    "    char c3 = 'l';\n",
    "    char c4 = 'o';\n",
    "\n",
    "    printf(\"%c%c%c%c%c\", c0, c1, c2, c3, c4);\n",
    "\n",
    "    return 0;\n",
    "}"
   ]
  },
  {
   "cell_type": "markdown",
   "id": "ebf6559f",
   "metadata": {},
   "source": [
    "แล้วถ้าเราอยากจะทำแบบนี้ล่ะ?"
   ]
  },
  {
   "cell_type": "code",
   "execution_count": 1,
   "id": "d01e9cbb",
   "metadata": {},
   "outputs": [
    {
     "name": "stdout",
     "output_type": "stream",
     "text": [
      "hello\n"
     ]
    }
   ],
   "source": [
    "# Python\n",
    "\n",
    "c = \"hello\"\n",
    "print(c)"
   ]
  },
  {
   "cell_type": "markdown",
   "id": "4f738ec0",
   "metadata": {},
   "source": []
  }
 ],
 "metadata": {
  "kernelspec": {
   "display_name": "Bash",
   "language": "bash",
   "name": "bash"
  },
  "language_info": {
   "codemirror_mode": {
    "name": "ipython",
    "version": 3
   },
   "file_extension": ".py",
   "mimetype": "text/x-python",
   "name": "bash",
   "nbconvert_exporter": "python",
   "pygments_lexer": "ipython3",
   "version": "3.8.10"
  }
 },
 "nbformat": 4,
 "nbformat_minor": 5
}
