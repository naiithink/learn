{
 "cells": [
  {
   "cell_type": "markdown",
   "id": "6d00c29e-f546-4246-bb6c-2554577ab4c9",
   "metadata": {},
   "source": [
    "# The Array of Characters"
   ]
  },
  {
   "cell_type": "markdown",
   "id": "281bf97c",
   "metadata": {},
   "source": [
    "ใน C เราไม่มี `String` type แต่เราก็ประดิษฐ์ขึ้นมาได้จากการเอา `Character` มาต่อกันเป็นสาย ๆ (เลยเรียกว่า `String` ไงล่ะ)"
   ]
  },
  {
   "cell_type": "code",
   "execution_count": 1,
   "id": "4c4a289c-6118-4153-bec7-84d7619b017f",
   "metadata": {},
   "outputs": [
    {
     "name": "stdout",
     "output_type": "stream",
     "text": [
      "hello"
     ]
    }
   ],
   "source": [
    "// C\n",
    "\n",
    "#include <stdio.h>\n",
    "\n",
    "int main(void)\n",
    "{\n",
    "    char c0 = 'h';\n",
    "    char c1 = 'e';\n",
    "    char c2 = 'l';\n",
    "    char c3 = 'l';\n",
    "    char c4 = 'o';\n",
    "\n",
    "    printf(\"%c%c%c%c%c\", c0, c1, c2, c3, c4);\n",
    "\n",
    "    return 0;\n",
    "}"
   ]
  },
  {
   "cell_type": "markdown",
   "id": "ebf6559f",
   "metadata": {},
   "source": [
    "แล้วถ้าเราอยากจะทำแบบนี้ล่ะ?"
   ]
  },
  {
   "cell_type": "code",
   "execution_count": 1,
   "id": "d01e9cbb",
   "metadata": {},
   "outputs": [
    {
     "name": "stdout",
     "output_type": "stream",
     "text": [
      "hello\n"
     ]
    }
   ],
   "source": [
    "# Python\n",
    "\n",
    "c = \"hello\"\n",
    "print(c)"
   ]
  },
  {
   "cell_type": "markdown",
   "id": "57321623",
   "metadata": {},
   "source": [
    "ลองนึกภาพ"
   ]
  },
  {
   "cell_type": "code",
   "execution_count": 3,
   "id": "b2df7a37",
   "metadata": {},
   "outputs": [
    {
     "name": "stdout",
     "output_type": "stream",
     "text": [
      "hello\n"
     ]
    }
   ],
   "source": [
    "// C\n",
    "\n",
    "#include <stdio.h>\n",
    "\n",
    "int main(void)\n",
    "{\n",
    "    char c[5];\n",
    "    \n",
    "    c[0] = 'h';\n",
    "    c[1] = 'e';\n",
    "    c[2] = 'l';\n",
    "    c[3] = 'l';\n",
    "    c[4] = 'o';\n",
    "\n",
    "    for (int i = 0; i < 5; i++)\n",
    "    {\n",
    "        printf(\"%c\", c[i]);\n",
    "    }\n",
    "    printf(\"\\n\");\n",
    "\n",
    "    return 0;\n",
    "}"
   ]
  },
  {
   "cell_type": "markdown",
   "id": "a9d90e70",
   "metadata": {},
   "source": [
    "เห็นว่าเรา print สิ่งที่มีลักษณะคล้าย ๆ กับ string ออกมาได้จากการไล่ print char ทีละตัว (สังเกตว่าแต่ละตัวต้องอยู่ติดกัน ไม่งั้น print ไม่ออก)<br>\n",
    "แต่วิธีนี้ก็ยังต้องถึกทนพอสมควร<br>\n",
    "แล้วใน C จะมีวิธีที่จะ print array ของ character โดยไม่ต้อง loop เองอะป่าว?"
   ]
  },
  {
   "cell_type": "markdown",
   "id": "7033a532",
   "metadata": {},
   "source": [
    "มีดิ ลองดูข้างล่างนี้"
   ]
  },
  {
   "cell_type": "code",
   "execution_count": 2,
   "id": "3f7fe932",
   "metadata": {},
   "outputs": [
    {
     "name": "stdout",
     "output_type": "stream",
     "text": [
      "hello"
     ]
    }
   ],
   "source": [
    "// C\n",
    "\n",
    "#include <stdio.h>\n",
    "\n",
    "int main(void)\n",
    "{\n",
    "    char *c = \"hello\";\n",
    "\n",
    "    printf(\"%s\", c);\n",
    "\n",
    "    return 0;\n",
    "}"
   ]
  },
  {
   "cell_type": "markdown",
   "id": "61b58964",
   "metadata": {},
   "source": [
    "## Dereferencing\n",
    "\n",
    "เครื่องหมาย `*` ใน C นอกจากจะทำหน้าที่เป็น arithmatic operator แล้ว<br>\n",
    "ยังทำหน้าที่อื่นได้อีก และหนึ่งในอีกหลายหน้าที่ของมันคือการ `dereference`"
   ]
  },
  {
   "cell_type": "markdown",
   "id": "5f84a006",
   "metadata": {},
   "source": [
    "ใน C เวลาที่เรา declare ตัวแปร มันจะเอาค่าไปเก็บบน memory ถูกต้องมะ (ถูก)<br>\n",
    "แล้วบน memory อะ"
   ]
  },
  {
   "cell_type": "markdown",
   "id": "b422d818",
   "metadata": {},
   "source": []
  }
 ],
 "metadata": {
  "kernelspec": {
   "display_name": "C",
   "language": "c",
   "name": "c"
  },
  "language_info": {
   "file_extension": ".c",
   "mimetype": "text/plain",
   "name": "c"
  }
 },
 "nbformat": 4,
 "nbformat_minor": 5
}
