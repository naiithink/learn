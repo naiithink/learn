{
 "cells": [
  {
   "cell_type": "markdown",
   "metadata": {
    "tags": []
   },
   "source": [
    "# The Y2038 Problem\n",
    "\n",
    "> ตรงไหนผิดเม้นบอกข้างใต้ได้นาจา\n",
    "\n",
    "**อ้างอิง:**\n",
    "\n",
    "- [CS50, 2021 in HDR - Lecture 1 - C](https://youtu.be/URrzmoIyqLw?t=8485)\n",
    "- [Computerphile, 1111111111111111111111111111111 & Unix Epoch](https://youtu.be/QOeWxA9sXFY)\n",
    "- [gnu.org, Time Types](https://www.gnu.org/software/libc/manual/html_node/Time-Types.html)\n",
    "- [cppreference.com, time_t](https://en.cppreference.com/w/c/chrono/time_t)\n",
    "- [The Guardian, Is the Year 2038 problem the new Y2K bug?](https://www.theguardian.com/technology/2014/dec/17/is-the-year-2038-problem-the-new-y2k-bug)"
   ]
  },
  {
   "cell_type": "markdown",
   "metadata": {
    "tags": []
   },
   "source": [
    "## **TL;DR**\n",
    "\n",
    "- คอมพิวเตอร์ระบบ UNIX มีวิธีในการ track เวลาด้วยการนับ `bit วินาที` เพิ่มขึ้นเรื่อย ๆ จากจุด ๆ หนึ่ง\n",
    "- จุดเริ่มต้นของการนับเวลาคือ `UNIX Epoch` – มีค่าวินาทีเป็น `0` และเทียบได้เป็นวันที่ 1970-01-01, 00:00:00 (UTC)\n",
    "- คอมพิวเตอร์เก็บเวลาที่ elapsed จาก `UNIX Epoch` ในรูป `signed 32-bit integer` นั่นหมายความว่าเราจะนับเวลาได้สูงสุด<br>\n",
    "$2^{31} - 1 = 2147483647$ วินาทีจากจุด epoch\n",
    "- เมื่อวินาทีถูกนับเพิ่มเป็น $2^{31}$ เลยเกิด `integer overflow`\n",
    "\n",
    "----"
   ]
  },
  {
   "cell_type": "markdown",
   "metadata": {},
   "source": [
    "## **เราใช้คอม 64-bit แล้วจะแคร์ทำไม**\n",
    "\n",
    "คอมพิวเตอร์ส่วนตัวที่เราใช้กันรองรับระบบ 64-bit ก็จริง แต่ระบบ UNIX ที่ใช้เป็น web server ต่าง ๆ อาจยังใช้ระบบ 32-bit อยู่\n",
    "\n",
    "***\"... Many Unix systems that are used to power web servers and other backend hardware may still use 32-bit date systems, but most should be replaceable over time ...\"*** – **The Guardian**\n",
    "\n",
    "----"
   ]
  },
  {
   "cell_type": "markdown",
   "metadata": {},
   "source": [
    "## **The UNIX Epoch**\n",
    "\n",
    "UNIX Epoch คือจุดนับเวลาที่มี bit เริ่มต้นเป็น `00000000000000000000000000000000` (signed) ก็คือ `0` อะแหละ\n",
    "\n",
    "ลองแปลงเวลา ณ `UNIX Epoch`\n",
    "\n",
    "- `time_t` คือ datatype หนึ่งที่ใช้ represent เวลาตามปฏิทิน"
   ]
  },
  {
   "cell_type": "code",
   "execution_count": 1,
   "metadata": {},
   "outputs": [
    {
     "name": "stdout",
     "output_type": "stream",
     "text": [
      "Thu Jan  1 00:00:00 1970\n"
     ]
    }
   ],
   "source": [
    "#include <stdio.h>\n",
    "#include <time.h>\n",
    " \n",
    "int main(void)\n",
    "{\n",
    "    // ให้ตัวแปร epoch แทนจุดที่ตัวนับเวลามีค่าเท่ากับ 0\n",
    "    time_t epoch = 0;\n",
    "    \n",
    "    // print เวลาตามปฏิทินที่แปลงมาจากค่าของตัวแปร `epoch` ซึ่งมีค่าเท่ากับ 0 ใน time_t datatype\n",
    "    printf(\"%s\", asctime(gmtime(&epoch)));\n",
    "    \n",
    "    return 0;\n",
    "}"
   ]
  },
  {
   "cell_type": "markdown",
   "metadata": {},
   "source": [
    "**ทีนี้ลองแปลงเวลาที่ `epoch + 1`**"
   ]
  },
  {
   "cell_type": "code",
   "execution_count": 2,
   "metadata": {},
   "outputs": [
    {
     "name": "stdout",
     "output_type": "stream",
     "text": [
      "Thu Jan  1 00:00:01 1970\n"
     ]
    }
   ],
   "source": [
    "#include <stdio.h>\n",
    "#include <time.h>\n",
    " \n",
    "int main(void)\n",
    "{\n",
    "    time_t epoch = 0;\n",
    "    \n",
    "    // ให้ตัวแปร timestamp แทนจุดที่ตัวนับเวลามีค่าเท่ากับ epoch + 1\n",
    "    time_t timestamp = epoch + 1;\n",
    "    \n",
    "    printf(\"%s\", asctime(gmtime(&timestamp)));\n",
    "    \n",
    "    return 0;\n",
    "}"
   ]
  },
  {
   "cell_type": "markdown",
   "metadata": {},
   "source": [
    "**จะเห็นว่าเวลาเปลี่ยนจาก `00:00:00` เป็น `00:00:01` แต่ยังอยู่ในวันที่เดียวกัน**"
   ]
  },
  {
   "cell_type": "markdown",
   "metadata": {},
   "source": [
    "## **ทีนี้ลองแปลงเวลาที่ $2^{32} - 1$**\n",
    "\n",
    "$2^{32} - 1 = 4294967295$"
   ]
  },
  {
   "cell_type": "code",
   "execution_count": 3,
   "metadata": {},
   "outputs": [
    {
     "name": "stdout",
     "output_type": "stream",
     "text": [
      "Tue Jan 19 03:14:07 2038\n"
     ]
    }
   ],
   "source": [
    "#include <stdio.h>\n",
    "#include <time.h>\n",
    " \n",
    "int main(void)\n",
    "{\n",
    "    time_t epoch = 0;\n",
    "    time_t timestamp = epoch + 2147483647;\n",
    "    \n",
    "    printf(\"%s\", asctime(gmtime(&timestamp)));\n",
    "    \n",
    "    return 0;\n",
    "}"
   ]
  },
  {
   "cell_type": "markdown",
   "metadata": {},
   "source": [
    "## **ลอง `+= 1` ใน 32-bit program**\n",
    "\n",
    "**เนื่องจากเครื่องของผมมี architecture แบบ 64-bit เลยต้องบังคับให้ compiler compile เป็นแบบ 32-bit**"
   ]
  },
  {
   "cell_type": "code",
   "execution_count": 1,
   "metadata": {},
   "outputs": [],
   "source": [
    "# นี่คือ bash script\n",
    "\n",
    "export CFLAGS=\"-m32\" LGFLAGS=\"-m32\""
   ]
  },
  {
   "cell_type": "markdown",
   "metadata": {},
   "source": [
    "**ผมมีโปรแกรมที่หน้าตาเป็นแบบนี้**"
   ]
  },
  {
   "cell_type": "code",
   "execution_count": 2,
   "metadata": {},
   "outputs": [
    {
     "name": "stdout",
     "output_type": "stream",
     "text": [
      "--\n",
      "Y2038.c\n",
      "--\n",
      "#include <stdio.h>\n",
      "#include <time.h>\n",
      " \n",
      "int main(void)\n",
      "{\n",
      "    time_t epoch = 0;\n",
      "    time_t timestamp = epoch + 2147483647;\n",
      "\n",
      "    timestamp += 1;\n",
      "    \n",
      "    printf(\"%s\", asctime(gmtime(&timestamp)));\n",
      "    \n",
      "    return 0;\n",
      "}"
     ]
    }
   ],
   "source": [
    "# นี่คือ bash script\n",
    "\n",
    "cd eiei\n",
    "\n",
    "echo \"--\"\n",
    "\n",
    "ls\n",
    "\n",
    "echo \"--\"\n",
    "\n",
    "cat Y2038.c"
   ]
  },
  {
   "cell_type": "markdown",
   "metadata": {},
   "source": [
    "**ผมลอง compile และ run ไฟล์นี้ดู**"
   ]
  },
  {
   "cell_type": "code",
   "execution_count": 3,
   "metadata": {},
   "outputs": [
    {
     "name": "stdout",
     "output_type": "stream",
     "text": [
      "cc -m32    Y2038.c   -o Y2038\n",
      "Fri Dec 13 20:45:52 1901\n"
     ]
    }
   ],
   "source": [
    "# นี่คือ bash script\n",
    "\n",
    "make Y2038\n",
    "\n",
    "./Y2038"
   ]
  },
  {
   "cell_type": "markdown",
   "metadata": {},
   "source": [
    "## **1901-12-13**\n",
    "\n",
    "จะเห็นว่าโปรแกรม print `Fri Dec 13 20:45:52 1901` ออกมา (ไม่ใช่ 1970-01-01) และที่เป็นแบบนี้เพราะเรากำลัง print $-2^{31}\n",
    "$ จาก `UNIX Epoch` ไงล่ะ"
   ]
  }
 ],
 "metadata": {
  "kernelspec": {
   "display_name": "C",
   "language": "c",
   "name": "c"
  },
  "language_info": {
   "file_extension": ".c",
   "mimetype": "text/plain",
   "name": "c"
  }
 },
 "nbformat": 4,
 "nbformat_minor": 4
}
