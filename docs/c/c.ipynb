{
 "cells": [
  {
   "cell_type": "markdown",
   "metadata": {},
   "source": [
    "# C\n",
    "\n",
    "ภาษา C เป็นภาษาที่ทำให้เราติดต่อกับ Hardware ได้อย่างใกล้ชิด"
   ]
  },
  {
   "cell_type": "code",
   "execution_count": 1,
   "metadata": {},
   "outputs": [
    {
     "name": "stdout",
     "output_type": "stream",
     "text": [
      "hello.c\n",
      "\u001b[0m\u001b[01;32mhello.bin\u001b[0m\n"
     ]
    }
   ],
   "source": [
    "# ignore me\n",
    "# เซลล์นี้ข้ามได้ข้ามไป\n",
    "\n",
    "export HOME=/mnt/Git/private/docs/c/demo/\n",
    "cd\n",
    "ls *.c\n",
    "gcc hello.c -o hello.bin\n",
    "ls *.bin"
   ]
  },
  {
   "cell_type": "markdown",
   "metadata": {},
   "source": [
    "### เรื่องของ Program\n",
    "\n",
    "ปกติแล้ว เวลาเรา Run Program ในคอมพิวเตอร์<br>\n",
    "Program จะมีการส่งค่า exit status เมื่อทำงานเสร็จเพื่อที่จะบอกกับ OS ว่ามันทำงานสมบูรณ์รึป่าว<br>\n",
    "ซึ่งใน Unix รหัสที่ใช้แทน `EXIT_SUCCESS` หรือทำงานเสร็จสมบูรณ์คือ `0` (ใน Windows PowerShell จะเป็น `True` / `False`)"
   ]
  },
  {
   "cell_type": "markdown",
   "metadata": {},
   "source": [
    "ตอนนี้เรามีไฟล์โปรแกรมอยู่ไฟล์นึง ชื่อว่า `hello.bin`"
   ]
  },
  {
   "cell_type": "code",
   "execution_count": 2,
   "metadata": {},
   "outputs": [
    {
     "name": "stdout",
     "output_type": "stream",
     "text": [
      "\u001b[0m\u001b[01;32mhello.bin\u001b[0m  hello.c\n"
     ]
    }
   ],
   "source": [
    "ls"
   ]
  },
  {
   "cell_type": "markdown",
   "metadata": {},
   "source": [
    "เราจะลอง run `hello.bin` ดู"
   ]
  },
  {
   "cell_type": "code",
   "execution_count": 3,
   "metadata": {},
   "outputs": [
    {
     "name": "stdout",
     "output_type": "stream",
     "text": [
      "hello, world\n"
     ]
    }
   ],
   "source": [
    "./hello.bin"
   ]
  },
  {
   "cell_type": "markdown",
   "metadata": {},
   "source": [
    "ทีนี้เราจะลองเช็ค exit status ดู"
   ]
  },
  {
   "cell_type": "code",
   "execution_count": 4,
   "metadata": {},
   "outputs": [
    {
     "name": "stdout",
     "output_type": "stream",
     "text": [
      "0\n"
     ]
    }
   ],
   "source": [
    "echo $?"
   ]
  },
  {
   "cell_type": "markdown",
   "metadata": {},
   "source": [
    "หรือมัดรวมกันเป็น"
   ]
  },
  {
   "cell_type": "code",
   "execution_count": 5,
   "metadata": {},
   "outputs": [
    {
     "name": "stdout",
     "output_type": "stream",
     "text": [
      "\u001b[0m\u001b[01;32mhello.bin\u001b[0m  hello.c\n",
      "hello, world\n",
      "0\n"
     ]
    }
   ],
   "source": [
    "ls                          # list directory contents\n",
    "./hello.bin                 # in the current directory, go into a file named \"hello.bin\"\n",
    "echo $?                     # print exit status from the last run process"
   ]
  },
  {
   "cell_type": "markdown",
   "metadata": {},
   "source": [
    "----"
   ]
  },
  {
   "cell_type": "markdown",
   "metadata": {},
   "source": [
    "### นี่คือไฟล์ต้นฉบับของ `hello.bin` (มันชื่อว่า `hello.c`)"
   ]
  },
  {
   "cell_type": "code",
   "execution_count": 1,
   "metadata": {},
   "outputs": [
    {
     "name": "stdout",
     "output_type": "stream",
     "text": [
      "hello, world\n"
     ]
    }
   ],
   "source": [
    "#include <stdio.h>\n",
    "\n",
    "int main(void) {\n",
    "    \n",
    "    printf(\"hello, world\\n\");\n",
    "    return 0;\n",
    "}"
   ]
  },
  {
   "cell_type": "markdown",
   "metadata": {},
   "source": [
    "ลองสังเกตส่วนประกอบต่าง ๆ ดูสิ"
   ]
  },
  {
   "cell_type": "markdown",
   "metadata": {},
   "source": [
    "```c\n",
    "#include <stdio.h>\n",
    "```\n",
    "----\n",
    "```c\n",
    "int main(void) {\n",
    "```\n",
    "---\n",
    "```c\n",
    "    printf(\"hello, world\\n\");\n",
    "    return 0;\n",
    "}\n",
    "```"
   ]
  },
  {
   "cell_type": "markdown",
   "metadata": {},
   "source": [
    "#### **ส่วนแรก**\n",
    "\n",
    "----\n",
    "\n",
    "```c\n",
    "#include <headerfile.h>\n",
    "```\n",
    "\n",
    "เอาไว้ `Copy` Components ต่าง ๆ (functions, type definitions, ...) จากไฟล์ต้นฉบับที่เราใส่เข้าไปใน `< ... >` หลัง `#include`<br>\n",
    "ทำให้เราสามารถทำนู่นนี่นั่นได้ยังไงล่ะ ไม่งั้นไฟล์นี้ก็เหมือนไฟล์เปล่าที่มีนามสกุล `.c` ต่อท้ายแค่นั้นเอง หึ ๆ<br>\n",
    "ไฟล์ต้นฉบับเราเรียกว่า `header file` มีนามสกุล `.h`"
   ]
  },
  {
   "cell_type": "markdown",
   "metadata": {},
   "source": [
    "#### **ส่วนต่อไป**\n",
    "\n",
    "----\n",
    "\n",
    "```c\n",
    "int main(void) {\n",
    "```\n",
    "\n",
    "มันคือส่วนที่เราบอกว่า `exit status` ของโปรแกรมมีประเภทข้อมูลแบบไหน<br>\n",
    "ในที่นี้ เราให้เป็น `integer`<br>\n",
    "<br>\n",
    "`main(void)` คือชื่อฟังก์ชัน ซึ่งในไฟล์ต้นฉบับภาษา C จะต้องมี `main` ฟังก์ชันเสมอ<br>\n",
    "โดยที่คำว่า `main` เป็นสิ่งที่เรียกว่า **Pre-defined macro** &#x2014; เดี๋ยวอธิบายต่อไป"
   ]
  },
  {
   "cell_type": "markdown",
   "metadata": {},
   "source": [
    "#### **ส่วนสำคัญอีกส่วน**\n",
    "\n",
    "----\n",
    "\n",
    "```c\n",
    "    printf(\"hello, world\\n\");\n",
    "    return 0;\n",
    "}\n",
    "```\n",
    "\n",
    "ส่วนนี้ก็คือพื้นที่ที่เราจะสร้างสรรค์โปรแกรมของเราไงล่ะ<br>\n",
    "<br>\n",
    "<u>สังเกต</u><br>\n",
    "\n",
    "```c\n",
    "return 0;\n",
    "```\n",
    "\n",
    "ก็คือค่าที่เราจะส่งกลับไปให้ OS ไงล่ะ<br>\n",
    "อยากให้เป็น `1` ก็เปลี่ยนจาก `0` เป็น `1`<br>\n",
    "แต่อย่างที่บอก `0` หมายถึง `EXIT_SUCCESS` ถ้าไม่ใช่ก็จะเป็น `EXIT_FAILURE` นะ"
   ]
  },
  {
   "cell_type": "markdown",
   "metadata": {},
   "source": [
    "ลองเปลี่ยนจาก `return 0` เป็น `return 1`<br>\n",
    "เราจะสร้างไฟล์ที่ชื่อว่า `.hello_failure.c` โดยข้างในไฟล์นั้นมี source code:"
   ]
  },
  {
   "cell_type": "code",
   "execution_count": null,
   "metadata": {},
   "outputs": [],
   "source": [
    "#include <stdio.h>\n",
    "\n",
    "int main(void) {\n",
    "\n",
    "    printf(\"hello, world\\n\");\n",
    "    return 1;\n",
    "}"
   ]
  },
  {
   "cell_type": "markdown",
   "metadata": {},
   "source": [
    "#### มา เริ่ม"
   ]
  },
  {
   "cell_type": "code",
   "execution_count": 6,
   "metadata": {},
   "outputs": [
    {
     "name": "stdout",
     "output_type": "stream",
     "text": [
      "\u001b[1msource:\u001b[0m\n",
      "#include <stdio.h>\n",
      "\n",
      "int main(void) {\n",
      "\n",
      "    printf(\"hello, world\\n\");\n",
      "    return 1;\n",
      "}\n",
      "----\n",
      "\u001b[1moutput:\u001b[0m\n",
      "hello, world\n",
      "----\n",
      "\n",
      "exit status: 1\n"
     ]
    }
   ],
   "source": [
    "echo \\\n",
    "\"#include <stdio.h>\n",
    "\n",
    "int main(void) {\n",
    "\n",
    "    printf(\\\"hello, world\\n\\\");\n",
    "    return 1;\n",
    "}\" > \".hello_failed.c\"\n",
    "\n",
    "echo -e \"\\033[1msource:\\033[0m\"\n",
    "cat .hello_failed.c\n",
    "\n",
    "gcc .hello_failed.c -o .hello_failed.bin\n",
    "\n",
    "echo \"----\"\n",
    "echo -e \"\\033[1moutput:\\033[0m\"\n",
    "./.hello_failed.bin\n",
    "EXIT_STATUS=$?\n",
    "\n",
    "echo $'----\\n'\n",
    "echo \"exit status: $EXIT_STATUS\""
   ]
  },
  {
   "cell_type": "markdown",
   "metadata": {},
   "source": [
    "#### ทีนี้ลองใช้ `EXIT_FAILURE` จาก `stdlib.h`"
   ]
  },
  {
   "cell_type": "code",
   "execution_count": 7,
   "metadata": {},
   "outputs": [
    {
     "name": "stdout",
     "output_type": "stream",
     "text": [
      "\u001b[1msource:\u001b[0m\n",
      "#include <stdio.h>\n",
      "#include <stdlib.h>\n",
      "\n",
      "int main(void) {\n",
      "\n",
      "    printf(\"hello, world\\n\");\n",
      "    return EXIT_FAILURE;\n",
      "}\n",
      "----\n",
      "\u001b[1moutput:\u001b[0m\n",
      "hello, world\n",
      "----\n",
      "\n",
      "exit status: 1\n"
     ]
    }
   ],
   "source": [
    "echo \\\n",
    "\"#include <stdio.h>\n",
    "#include <stdlib.h>\n",
    "\n",
    "int main(void) {\n",
    "\n",
    "    printf(\\\"hello, world\\n\\\");\n",
    "    return EXIT_FAILURE;\n",
    "}\" > \".hello_failed.c\"\n",
    "\n",
    "echo -e \"\\033[1msource:\\033[0m\"\n",
    "cat .hello_failed.c\n",
    "\n",
    "gcc .hello_failed.c -o .hello_failed.bin\n",
    "\n",
    "echo \"----\"\n",
    "echo -e \"\\033[1moutput:\\033[0m\"\n",
    "./.hello_failed.bin\n",
    "EXIT_STATUS=$?\n",
    "\n",
    "echo $'----\\n'\n",
    "echo \"exit status: $EXIT_STATUS\""
   ]
  },
  {
   "cell_type": "markdown",
   "metadata": {},
   "source": [
    "#### แล้วถ้า `EXIT_SUCCESS` ล่ะ?"
   ]
  },
  {
   "cell_type": "code",
   "execution_count": 8,
   "metadata": {},
   "outputs": [
    {
     "name": "stdout",
     "output_type": "stream",
     "text": [
      "\u001b[1msource:\u001b[0m\n",
      "#include <stdio.h>\n",
      "#include <stdlib.h>\n",
      "\n",
      "int main(void) {\n",
      "\n",
      "    printf(\"hello, world\\n\");\n",
      "    return EXIT_SUCCESS;\n",
      "}\n",
      "----\n",
      "\u001b[1moutput:\u001b[0m\n",
      "hello, world\n",
      "----\n",
      "\n",
      "exit status: 0\n"
     ]
    }
   ],
   "source": [
    "echo \\\n",
    "\"#include <stdio.h>\n",
    "#include <stdlib.h>\n",
    "\n",
    "int main(void) {\n",
    "\n",
    "    printf(\\\"hello, world\\n\\\");\n",
    "    return EXIT_SUCCESS;\n",
    "}\" > \".hello_succeeded.c\"\n",
    "\n",
    "echo -e \"\\033[1msource:\\033[0m\"\n",
    "cat .hello_succeeded.c\n",
    "\n",
    "gcc .hello_succeeded.c -o .hello_succeeded.bin\n",
    "\n",
    "echo \"----\"\n",
    "echo -e \"\\033[1moutput:\\033[0m\"\n",
    "./.hello_succeeded.bin\n",
    "EXIT_STATUS=$?\n",
    "\n",
    "echo $'----\\n'\n",
    "echo \"exit status: $EXIT_STATUS\""
   ]
  },
  {
   "cell_type": "markdown",
   "metadata": {},
   "source": [
    "**อยากบอก:** เราสามารถซ่อนไฟล์ด้วยการเพิ่ม `.` เข้าไปที่หน้าชื่อไฟล์ได้นะ"
   ]
  },
  {
   "cell_type": "code",
   "execution_count": null,
   "metadata": {},
   "outputs": [],
   "source": [
    "ls"
   ]
  },
  {
   "cell_type": "code",
   "execution_count": null,
   "metadata": {},
   "outputs": [],
   "source": [
    "ls -a"
   ]
  }
 ],
 "metadata": {
  "kernelspec": {
   "display_name": "C",
   "language": "c",
   "name": "c"
  },
  "language_info": {
   "file_extension": ".c",
   "mimetype": "text/plain",
   "name": "c"
  }
 },
 "nbformat": 4,
 "nbformat_minor": 4
}
