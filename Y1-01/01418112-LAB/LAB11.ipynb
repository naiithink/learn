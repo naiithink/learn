{
 "cells": [
  {
   "cell_type": "code",
   "execution_count": 2,
   "source": [
    "word = input()\n",
    "expo = \"\"\n",
    "\n",
    "for i in word:\n",
    "    if i not in \"aeiouAEIOU\":\n",
    "        expo += i\n",
    "\n",
    "print(expo)"
   ],
   "outputs": [
    {
     "output_type": "stream",
     "name": "stdout",
     "text": [
      "n fn dy\n"
     ]
    }
   ],
   "metadata": {}
  },
  {
   "cell_type": "code",
   "execution_count": 7,
   "source": [
    "target = input()\n",
    "guess = input()\n",
    "round = 6\n",
    "mark = 0\n",
    "used = []\n",
    "\n",
    "if target:\n",
    "    while guess != \"0\" and round > 0:\n",
    "        if guess in target and guess not in used:\n",
    "            mark += target.count(guess)\n",
    "            used.append(guess)\n",
    "        else:\n",
    "            round -= 1\n",
    "        guess = input()\n",
    "    print(\"{}/{}\".format(mark, len(target)))"
   ],
   "outputs": [
    {
     "output_type": "stream",
     "name": "stdout",
     "text": [
      "4/17\n"
     ]
    }
   ],
   "metadata": {}
  },
  {
   "cell_type": "code",
   "execution_count": 1,
   "source": [
    "def isVowel(c):\n",
    "    if c in \"aeiou\":\n",
    "        return True\n",
    "\n",
    "def decrypt(encrypted):\n",
    "    if len(encrypted) < 3:\n",
    "        return encrypted\n",
    "    elif isVowel(encrypted[0]) and encrypted[0] == encrypted[2] and encrypted[1] == \"p\":\n",
    "        return encrypted[0] + decrypt(encrypted[3:])\n",
    "    else:\n",
    "        return encrypted[0] + decrypt(encrypted[1:])\n",
    "\n",
    "encrypted = input()\n",
    "print(decrypt(encrypted))"
   ],
   "outputs": [
    {
     "output_type": "stream",
     "name": "stdout",
     "text": [
      "bas je dosadna ova kemija\n"
     ]
    }
   ],
   "metadata": {}
  },
  {
   "cell_type": "code",
   "execution_count": 3,
   "source": [
    "rss = input()\n",
    "cri = input()\n",
    "\n",
    "scr = 0\n",
    "symb = \"PCS-X\"\n",
    "used = \"\"\n",
    "\n",
    "if len(rss) and rss[0] == \"[\" and rss[-1] == \"]\" and rss != \"[]\":\n",
    "    for i in cri:\n",
    "        if i not in used and i in symb:\n",
    "            scr += rss.count(i)\n",
    "            used += i\n",
    "    css = len(rss) - 2\n",
    "    mks = scr * 100 / css\n",
    "else:\n",
    "    mks = 0\n",
    "\n",
    "print(\"%d\\n%.2f\" % (scr, mks))"
   ],
   "outputs": [
    {
     "output_type": "stream",
     "name": "stdout",
     "text": [
      "0\n",
      "0.00\n"
     ]
    }
   ],
   "metadata": {}
  },
  {
   "cell_type": "code",
   "execution_count": 8,
   "source": [
    "elab = input()\n",
    "check = input()\n",
    "\n",
    "if elab:\n",
    "    total = 0\n",
    "    for i in elab:\n",
    "        if i in check:\n",
    "            total += 1\n",
    "    percent = total/(len(elab) - 2) *100\n",
    "else:\n",
    "    total = 0\n",
    "    percent = 0\n",
    "\n",
    "print(total)\n",
    "print('{:.2f}'.format(percent))"
   ],
   "outputs": [
    {
     "output_type": "stream",
     "name": "stdout",
     "text": [
      "3\n",
      "75.00\n"
     ]
    }
   ],
   "metadata": {}
  },
  {
   "cell_type": "code",
   "execution_count": null,
   "source": [
    "n = \"hello\"\n",
    "print(f\"{n}\")"
   ],
   "outputs": [],
   "metadata": {}
  }
 ],
 "metadata": {
  "orig_nbformat": 4,
  "language_info": {
   "name": "python",
   "version": "3.8.9",
   "mimetype": "text/x-python",
   "codemirror_mode": {
    "name": "ipython",
    "version": 3
   },
   "pygments_lexer": "ipython3",
   "nbconvert_exporter": "python",
   "file_extension": ".py"
  },
  "kernelspec": {
   "name": "python3",
   "display_name": "Python 3.8.9 64-bit"
  },
  "interpreter": {
   "hash": "31f2aee4e71d21fbe5cf8b01ff0e069b9275f58929596ceb00d14d90e3e16cd6"
  }
 },
 "nbformat": 4,
 "nbformat_minor": 2
}