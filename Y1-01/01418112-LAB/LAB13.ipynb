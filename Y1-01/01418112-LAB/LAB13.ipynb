{
 "cells": [
  {
   "cell_type": "code",
   "execution_count": 28,
   "source": [
    "def namelist(names):\n",
    "    product = \"\"\n",
    "    if names:\n",
    "        name = len(names) - 1\n",
    "        indx = 0\n",
    "        brk = False\n",
    "        j = 0\n",
    "        for i in names:\n",
    "            sep = [\", \", \" & \"]; product += i\n",
    "            if not brk:\n",
    "                if indx == name - 1:\n",
    "                    j += 1\n",
    "                product += sep[j]\n",
    "                if sep[j] == \" & \":\n",
    "                    brk = True\n",
    "            indx += 1\n",
    "    return product\n",
    "\n",
    "print( namelist(['Bart', 'Viola', 'Peter', 'Nostel']) )"
   ],
   "outputs": [
    {
     "output_type": "stream",
     "name": "stdout",
     "text": [
      "Bart, Viola, Peter & Nostel\n"
     ]
    }
   ],
   "metadata": {}
  }
 ],
 "metadata": {
  "orig_nbformat": 4,
  "language_info": {
   "name": "python",
   "version": "3.9.7",
   "mimetype": "text/x-python",
   "codemirror_mode": {
    "name": "ipython",
    "version": 3
   },
   "pygments_lexer": "ipython3",
   "nbconvert_exporter": "python",
   "file_extension": ".py"
  },
  "kernelspec": {
   "name": "python3",
   "display_name": "Python 3.9.7 64-bit"
  },
  "interpreter": {
   "hash": "7812ea015bdcee6f23a998adcdd2ef97c151c0c241b7b7070987d9313e41299d"
  }
 },
 "nbformat": 4,
 "nbformat_minor": 2
}