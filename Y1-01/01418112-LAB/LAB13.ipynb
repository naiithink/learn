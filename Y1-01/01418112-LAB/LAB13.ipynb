{
 "cells": [
  {
   "cell_type": "code",
<<<<<<< HEAD
   "execution_count": 28,
=======
<<<<<<< HEAD
   "execution_count": null,
   "metadata": {},
   "outputs": [],
   "source": []
  }
 ],
 "metadata": {
  "interpreter": {
   "hash": "8b8334dab9339717f727a1deaf837b322d7a41c20d15cc86be99a8e69ceec8ce"
  },
  "kernelspec": {
   "display_name": "Python 3.8.12 64-bit ('3.8.12': pyenv)",
   "name": "python3"
  },
  "language_info": {
=======
   "execution_count": 9,
>>>>>>> c168d5f9aac5135c257b633cd3ab2fceb2d5752c
   "source": [
    "def namelist(names):\n",
    "    product = \"\"\n",
    "    if names:\n",
    "        name = len(names) - 1\n",
    "        indx = 0\n",
    "        brk = False\n",
    "        j = 0\n",
    "        for i in names:\n",
    "            sep = [\", \", \" & \"]; product += i\n",
    "            if not brk:\n",
    "                if indx == name - 1:\n",
    "                    j += 1\n",
    "                product += sep[j]\n",
    "                if sep[j] == \" & \":\n",
    "                    brk = True\n",
    "            indx += 1\n",
    "    return product\n",
    "\n",
    "print( namelist(['Bart', 'Viola', 'Peter', 'Nostel']) )"
   ],
   "outputs": [
    {
     "output_type": "stream",
     "name": "stdout",
     "text": [
      "Bart, Viola, Peter & Nostel\n"
     ]
    }
   ],
   "metadata": {}
  }
 ],
 "metadata": {
  "orig_nbformat": 4,
  "language_info": {
   "name": "python",
   "version": "3.9.7",
   "mimetype": "text/x-python",
>>>>>>> 86be734b10182fd62d4d9f1eb95524afbaa67e8e
   "codemirror_mode": {
    "name": "ipython",
    "version": 3
   },
<<<<<<< HEAD
   "file_extension": ".py",
   "mimetype": "text/x-python",
   "name": "python",
   "nbconvert_exporter": "python",
   "pygments_lexer": "ipython3",
   "version": "3.8.12"
  },
  "orig_nbformat": 4
 },
 "nbformat": 4,
 "nbformat_minor": 2
}
=======
   "pygments_lexer": "ipython3",
   "nbconvert_exporter": "python",
   "file_extension": ".py"
  },
  "kernelspec": {
   "name": "python3",
   "display_name": "Python 3.9.7 64-bit"
  },
  "interpreter": {
   "hash": "7812ea015bdcee6f23a998adcdd2ef97c151c0c241b7b7070987d9313e41299d"
  }
 },
 "nbformat": 4,
 "nbformat_minor": 2
}
>>>>>>> 86be734b10182fd62d4d9f1eb95524afbaa67e8e
