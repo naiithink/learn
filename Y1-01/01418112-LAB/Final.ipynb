{
 "cells": [
  {
   "cell_type": "markdown",
   "metadata": {},
   "source": [
    "6410451199\n",
    "พศวัต ถิ่นกาญจน์วัฒนา"
   ]
  },
  {
   "cell_type": "markdown",
   "metadata": {},
   "source": [
    "# 01 - Done"
   ]
  },
  {
   "cell_type": "code",
   "execution_count": 37,
   "metadata": {},
   "outputs": [
    {
     "name": "stdout",
     "output_type": "stream",
     "text": [
      "85 89 145 42 20 4 16 37 58 89\n"
     ]
    }
   ],
   "source": [
    "def findSum(number):\n",
    "    product = []\n",
    "    if isinstance(number, list):\n",
    "        product = number\n",
    "        number = number[-1]\n",
    "    else:\n",
    "        product.append(number)\n",
    "    pool = []\n",
    "    for i in number:\n",
    "        pool.append(i)\n",
    "    res = 0\n",
    "    for i in pool:\n",
    "        res += int(i) ** 2\n",
    "    res = str(res)\n",
    "    product.append(res)\n",
    "    if res in product[-2::-1]:\n",
    "        return product\n",
    "    return findSum(product)\n",
    "\n",
    "number = input().strip()\n",
    "print(*findSum(number))"
   ]
  },
  {
   "cell_type": "markdown",
   "metadata": {},
   "source": [
    "# 02 - ~ CCC---C"
   ]
  },
  {
   "cell_type": "code",
   "execution_count": 3,
   "metadata": {},
   "outputs": [
    {
     "name": "stdout",
     "output_type": "stream",
     "text": [
      "mac_OSS_SS_\n"
     ]
    }
   ],
   "source": [
    "def findSnk(word):\n",
    "    word = word.strip()\n",
    "    if len(word) < 2:\n",
    "        return word\n",
    "    if word[0].islower() and word[1].isupper():\n",
    "        return word[0] + \"_\" + word[1] + findSnk(word[2:])\n",
    "    if word[0].isupper() and word[1].isupper():\n",
    "        return word[0] + word[1] + \"_\" + findSnk(word[2:])\n",
    "    else:\n",
    "        return word[0] + findSnk(word[1:])\n",
    "\n",
    "word = input()\n",
    "print(findSnk(word))"
   ]
  },
  {
   "cell_type": "code",
   "execution_count": 112,
   "metadata": {},
   "outputs": [
    {
     "name": "stdout",
     "output_type": "stream",
     "text": [
      "mac_OS\n"
     ]
    }
   ],
   "source": [
    "def findSnk(word):\n",
    "    word = word.strip()\n",
    "    if len(word) < 2:\n",
    "        return word\n",
    "    if word[0].islower() and word[1].isupper():\n",
    "        return word[0] + \"_\" + word[1] + findSnk(word[2:])\n",
    "    if word[0].isupper() and word[1].isupper():\n",
    "        return word[0] + word[1] + \"_\" + findSnk(word[2:])\n",
    "    else:\n",
    "        return word[0] + findSnk(word[1:])\n",
    "\n",
    "def rm_(word):\n",
    "    if len(word) < 3:\n",
    "        return word\n",
    "        \n",
    "\n",
    "word = input()\n",
    "print(findSnk(word))"
   ]
  },
  {
   "cell_type": "markdown",
   "metadata": {},
   "source": [
    "# 03"
   ]
  },
  {
   "cell_type": "code",
   "execution_count": 6,
   "metadata": {},
   "outputs": [
    {
     "name": "stdout",
     "output_type": "stream",
     "text": [
      "[1, 0]\n",
      "[1, 0]\n",
      "[1, 1]\n",
      "[0, 0]\n"
     ]
    }
   ],
   "source": [
    "no = []\n",
    "while True:\n",
    "    card = input().split(\" \")\n",
    "    if card[0] == \"-1\":\n",
    "        break\n",
    "    else:\n",
    "        no.append(card)\n",
    "\n",
    "cards = dict((card, 0) for ls in no for card in ls)\n",
    "\n",
    "for pair in no:\n",
    "    for card in pair:\n",
    "        for number in cards:\n",
    "            if card == number:\n",
    "                cards[number] += 1\n",
    "\n",
    "nos = []\n",
    "for pair in no:\n",
    "    for card in pair:\n",
    "        if cards[card] > 1:\n",
    "            nos.append(0)\n",
    "        elif cards[card] == 1:\n",
    "            nos.append(1)\n",
    "        else:\n",
    "            nos.append(-1)\n",
    "\n",
    "noss = list(enumerate(nos))\n",
    "toPrint = []\n",
    "\n",
    "pair = []\n",
    "for p in noss:\n",
    "        if p[0] % 2:\n",
    "            pair.append(p[1])\n",
    "            toPrint.append(pair)\n",
    "            pair = []\n",
    "        else:\n",
    "            pair.append(p[1])\n",
    "\n",
    "print(*toPrint, sep=\"\\n\")"
   ]
  },
  {
   "cell_type": "markdown",
   "metadata": {},
   "source": [
    "# 04"
   ]
  },
  {
   "cell_type": "code",
   "execution_count": 4,
   "metadata": {},
   "outputs": [
    {
     "name": "stdout",
     "output_type": "stream",
     "text": [
      "16\n"
     ]
    }
   ],
   "source": [
    "num = int(input())\n",
    "table = [input() for i in range(num)]\n",
    "count = input().split()\n",
    "count.reverse()\n",
    "\n",
    "re = 0\n",
    "up = 0\n",
    "for i in table:\n",
    "    up += i.count(\"X\") * int(count[re])\n",
    "    re += 1\n",
    "down = 0\n",
    "for i in range(num):\n",
    "    for j in range(num):\n",
    "        if table[j][i] == \"X\":\n",
    "            down += int(count[i])\n",
    "if down > up:\n",
    "    print(down)\n",
    "else:\n",
    "    print(up)"
   ]
  }
 ],
 "metadata": {
  "interpreter": {
   "hash": "aee8b7b246df8f9039afb4144a1f6fd8d2ca17a180786b69acc140d282b71a49"
  },
  "kernelspec": {
   "display_name": "Python 3.10.0 64-bit",
   "name": "python3"
  },
  "language_info": {
   "codemirror_mode": {
    "name": "ipython",
    "version": 3
   },
   "file_extension": ".py",
   "mimetype": "text/x-python",
   "name": "python",
   "nbconvert_exporter": "python",
   "pygments_lexer": "ipython3",
   "version": "3.10.0"
  },
  "orig_nbformat": 4
 },
 "nbformat": 4,
 "nbformat_minor": 2
}
