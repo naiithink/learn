{
 "cells": [
  {
   "cell_type": "markdown",
   "metadata": {},
   "source": [
    "## 01 Count English Characters"
   ]
  },
  {
   "cell_type": "code",
   "execution_count": null,
   "metadata": {},
   "outputs": [],
   "source": []
  },
  {
   "cell_type": "markdown",
   "metadata": {},
   "source": [
    "## 04 Chemical Formula (version 2)"
   ]
  },
  {
   "cell_type": "code",
   "execution_count": 2,
   "metadata": {},
   "outputs": [],
   "source": [
    "subs, elem = input(), input()\n",
    "pool, char = {}, \"\"\n",
    "\n",
    "for i in subs:\n",
    "    char += i\n",
    "    if i.islower():\n"
   ]
  },
  {
   "cell_type": "code",
   "execution_count": null,
   "metadata": {},
   "outputs": [],
   "source": [
    "def getData(subs, curr):\n",
    "    def getNum(phrase):\n",
    "        number = phrase[0]\n",
    "        for i in phrase[1:]:\n",
    "            if i.isnumeric():\n",
    "                number += i\n",
    "                return number + getNum(phrase[2:])\n",
    "            else:\n",
    "                break\n",
    "        return number\n",
    "        \n",
    "    if len(curr) == len(subs):\n",
    "        dict = {}\n",
    "    if ord(subs[0]) in range(65, 91)):\n",
    "        if (ord(subs[1]) in range(97, 123):\n",
    "            if (ord(subs[1]) in range(0, 10)\n",
    "            return f\"dict['{subs[0] + subs[1]}'] = {}\"\n",
    "        elif (ord(subs[1]) in range(0, 10):\n",
    "            return dict[]\n",
    "    elif (ord(subs[0]) in range(97, 123):\n",
    "        return subs[0]\n",
    "    for i in subs:\n",
    "        char += i\n",
    "        if i.islower():\n",
    "\n",
    "subs, elem = input(), input()\n",
    "pool, char = {}, \"\""
   ]
  },
  {
   "cell_type": "code",
   "execution_count": 37,
   "metadata": {},
   "outputs": [
    {
     "name": "stdout",
     "output_type": "stream",
     "text": [
      "1333w\n"
     ]
    }
   ],
   "source": [
    "def getNum(phrase):\n",
    "    number = phrase[0]\n",
    "    #if phrase[1].isnumeric()}:\n",
    "    for i in phrase[1:]:\n",
    "        if i.isnumeric():\n",
    "            number += i\n",
    "            return number + getNum(phrase[2:])\n",
    "        else:\n",
    "            break\n",
    "    return number\n",
    "\n",
    "print(getNum(\"1333wweee4c\"))"
   ]
  },
  {
   "cell_type": "code",
   "execution_count": null,
   "metadata": {},
   "outputs": [],
   "source": [
    "subs = input()\n",
    "for i in subs:\n",
    "    "
   ]
  },
  {
   "cell_type": "code",
   "execution_count": 42,
   "metadata": {},
   "outputs": [
    {
     "ename": "SyntaxError",
     "evalue": "invalid syntax (957383316.py, line 7)",
     "output_type": "error",
     "traceback": [
      "\u001b[0;36m  File \u001b[0;32m\"/var/folders/y1/gjh2y2395_lb_m446f5sw0b00000gn/T/ipykernel_12251/957383316.py\"\u001b[0;36m, line \u001b[0;32m7\u001b[0m\n\u001b[0;31m    continue i[2:]\u001b[0m\n\u001b[0m             ^\u001b[0m\n\u001b[0;31mSyntaxError\u001b[0m\u001b[0;31m:\u001b[0m invalid syntax\n"
     ]
    }
   ],
   "source": [
    "for i in input():\n",
    "    elem = \"\"; numb = \"\"\n",
    "    if i.isupper():\n",
    "        elem += i\n",
    "        if i[1].isalpha():\n",
    "            elem += i\n",
    "            i = \n",
    "            continue\n",
    "    if i.isnumeric():\n",
    "        numb += i"
   ]
  }
 ],
 "metadata": {
  "interpreter": {
   "hash": "31f2aee4e71d21fbe5cf8b01ff0e069b9275f58929596ceb00d14d90e3e16cd6"
  },
  "kernelspec": {
   "display_name": "Python 3.8.9 64-bit",
   "name": "python3"
  },
  "language_info": {
   "codemirror_mode": {
    "name": "ipython",
    "version": 3
   },
   "file_extension": ".py",
   "mimetype": "text/x-python",
   "name": "python",
   "nbconvert_exporter": "python",
   "pygments_lexer": "ipython3",
   "version": "3.8.9"
  },
  "orig_nbformat": 4
 },
 "nbformat": 4,
 "nbformat_minor": 2
}
