{
 "cells": [
  {
   "cell_type": "markdown",
   "metadata": {},
   "source": [
    "# PHP"
   ]
  },
  {
   "cell_type": "markdown",
   "metadata": {},
   "source": [
    "## Tags\n",
    "\n",
    "1. Normal tags\n",
    "\n",
    "    ```php\n",
    "    <?php echo 'hello, world' ?>\n",
    "    ```\n",
    "2. Short tags\n",
    "\n",
    "    ```php\n",
    "    <?= 'hello, world' ?>   ==   <?php echo 'hello, world' ?>\n",
    "    ```"
   ]
  },
  {
   "cell_type": "code",
   "execution_count": null,
   "metadata": {},
   "outputs": [],
   "source": []
  }
 ],
 "metadata": {
  "language_info": {
   "name": "php"
  },
  "orig_nbformat": 4
 },
 "nbformat": 4,
 "nbformat_minor": 2
}
