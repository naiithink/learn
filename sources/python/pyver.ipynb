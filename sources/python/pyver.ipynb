{
    "cells": [
        {
            "cell_type": "markdown",
            "metadata": {},
            "source": [
                "# pyver\n",
                "\n",
                "```\n",
                "python3 -VV\n",
                "Python 3.10.5 (main, Jun 12 2022, 21:45:42)\n",
                "```"
            ]
        },
        {
            "cell_type": "code",
            "execution_count": null,
            "metadata": {},
            "outputs": [],
            "source": [
                "// from Python-3.10.5/Modules/getbuildinfo.c\n",
                "\n",
                "#include \"Python.h\"\n",
                "\n",
                "#ifndef DONT_HAVE_STDIO_H\n",
                "#include <stdio.h>\n",
                "#endif\n",
                "\n",
                "#ifndef DATE\n",
                "#ifdef __DATE__\n",
                "#define DATE __DATE__\n",
                "#else\n",
                "#define DATE \"xx/xx/xx\"\n",
                "#endif\n",
                "#endif\n",
                "\n",
                "#ifndef TIME\n",
                "#ifdef __TIME__\n",
                "#define TIME __TIME__\n",
                "#else\n",
                "#define TIME \"xx:xx:xx\"\n",
                "#endif\n",
                "#endif\n",
                "\n",
                "/* XXX Only unix build process has been tested */\n",
                "#ifndef GITVERSION\n",
                "#define GITVERSION \"\"\n",
                "#endif\n",
                "#ifndef GITTAG\n",
                "#define GITTAG \"\"\n",
                "#endif\n",
                "#ifndef GITBRANCH\n",
                "#define GITBRANCH \"\"\n",
                "#endif\n",
                "\n",
                "const char *\n",
                "Py_GetBuildInfo(void)\n",
                "{\n",
                "    static char buildinfo[50 + sizeof(GITVERSION) +\n",
                "                          ((sizeof(GITTAG) > sizeof(GITBRANCH)) ?\n",
                "                           sizeof(GITTAG) : sizeof(GITBRANCH))];\n",
                "    const char *revision = _Py_gitversion();\n",
                "    const char *sep = *revision ? \":\" : \"\";\n",
                "    const char *gitid = _Py_gitidentifier();\n",
                "    if (!(*gitid)) {\n",
                "        gitid = \"main\";\n",
                "    }\n",
                "    PyOS_snprintf(buildinfo, sizeof(buildinfo),\n",
                "                  \"%s%s%s, %.20s, %.9s\", gitid, sep, revision,\n",
                "                  DATE, TIME);\n",
                "    return buildinfo;\n",
                "}\n",
                "\n",
                "const char *\n",
                "_Py_gitversion(void)\n",
                "{\n",
                "    return GITVERSION;\n",
                "}\n",
                "\n",
                "const char *\n",
                "_Py_gitidentifier(void)\n",
                "{\n",
                "    const char *gittag, *gitid;\n",
                "    gittag = GITTAG;\n",
                "    if ((*gittag) && strcmp(gittag, \"undefined\") != 0)\n",
                "        gitid = gittag;\n",
                "    else\n",
                "        gitid = GITBRANCH;\n",
                "    return gitid;\n",
                "}\n"
            ]
        },
        {
            "cell_type": "code",
            "execution_count": null,
            "metadata": {},
            "outputs": [],
            "source": [
                "// from Python-3.10.5/Python/getversion.c\n",
                "\n",
                "\n",
                "/* Return the full version string. */\n",
                "\n",
                "#include \"Python.h\"\n",
                "\n",
                "#include \"patchlevel.h\"\n",
                "\n",
                "const char *\n",
                "Py_GetVersion(void)\n",
                "{\n",
                "    static char version[250];\n",
                "    PyOS_snprintf(version, sizeof(version), \"%.80s (%.80s) %.80s\",\n",
                "                  PY_VERSION, Py_GetBuildInfo(), Py_GetCompiler());\n",
                "    return version;\n",
                "}\n"
            ]
        }
    ],
    "metadata": {
        "kernelspec": {
            "display_name": "Python 3.10.5 64-bit",
            "language": "python",
            "name": "python3"
        },
        "language_info": {
            "name": "C"
        },
        "orig_nbformat": 4,
        "vscode": {
            "interpreter": {
                "hash": "aee8b7b246df8f9039afb4144a1f6fd8d2ca17a180786b69acc140d282b71a49"
            }
        }
    },
    "nbformat": 4,
    "nbformat_minor": 2
}
